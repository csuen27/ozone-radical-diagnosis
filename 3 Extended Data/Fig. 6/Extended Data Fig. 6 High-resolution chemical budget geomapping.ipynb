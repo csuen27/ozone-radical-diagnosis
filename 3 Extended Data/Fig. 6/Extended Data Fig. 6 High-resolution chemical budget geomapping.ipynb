{
 "cells": [
  {
   "cell_type": "code",
   "execution_count": 1,
   "id": "1d0ea0e3-283d-4c93-a2fa-412c0e6d7e27",
   "metadata": {},
   "outputs": [],
   "source": [
    "import warnings\n",
    "warnings.filterwarnings(\"ignore\")\n",
    "\n",
    "import pandas as pd\n",
    "import numpy as np\n",
    "import matplotlib.pyplot as plt\n",
    "\n",
    "dataset = pd.read_csv(\"C:/Users/Haitong/OneDrive - National University of Singapore/Documents/Manuscripts/Sun-NG-25/Analysis(win11)/UKESM1-0-LL_2010_2014_0.5deg(ver250308).csv\")"
   ]
  },
  {
   "cell_type": "code",
   "execution_count": 2,
   "id": "d625b9f8-3df9-4c86-a35f-0389521078f7",
   "metadata": {},
   "outputs": [],
   "source": [
    "dataset['month'] = dataset['t']%12\n",
    "dataset['o3prod_mole'] = dataset['o3prod']*6.022*10**17\n",
    "dataset['o3loss_mole'] = dataset['o3loss']*6.022*10**17"
   ]
  },
  {
   "cell_type": "code",
   "execution_count": 3,
   "id": "cd801943-07be-4b00-86f4-90bed405c858",
   "metadata": {},
   "outputs": [],
   "source": [
    "dataset_JJA = dataset[dataset['month']>5][dataset['month']<9]\n",
    "dataset_DJF = dataset[dataset['month']<3]"
   ]
  },
  {
   "cell_type": "code",
   "execution_count": 4,
   "id": "1a402d39-bd73-41e8-8002-6e6b33a5bddc",
   "metadata": {},
   "outputs": [],
   "source": [
    "budget_JJA_map = dataset_JJA.groupby(['loc']).mean()[['longitude','latitude','o3','o3prod','o3loss','o3prod_mole','o3loss_mole']]\n",
    "budget_DJF_map = dataset_DJF.groupby(['loc']).mean()[['longitude','latitude','o3','o3prod','o3loss','o3prod_mole','o3loss_mole']]"
   ]
  },
  {
   "cell_type": "code",
   "execution_count": 5,
   "id": "16f710b9-4e06-41c2-a559-c53ea993ad30",
   "metadata": {},
   "outputs": [
    {
     "data": {
      "text/plain": [
       "2020295.4537468948"
      ]
     },
     "execution_count": 5,
     "metadata": {},
     "output_type": "execute_result"
    }
   ],
   "source": [
    "budget_JJA_map['o3prod_mole'].mean()"
   ]
  },
  {
   "cell_type": "code",
   "execution_count": 6,
   "id": "f7068a0c-082f-4485-8afd-cb7eb2b72ade",
   "metadata": {},
   "outputs": [
    {
     "data": {
      "text/plain": [
       "769127.9007157387"
      ]
     },
     "execution_count": 6,
     "metadata": {},
     "output_type": "execute_result"
    }
   ],
   "source": [
    "budget_JJA_map['o3loss_mole'].mean()"
   ]
  },
  {
   "cell_type": "code",
   "execution_count": 7,
   "id": "11dfd5cd-3dee-46d6-835a-3dbe2c2f4645",
   "metadata": {},
   "outputs": [
    {
     "data": {
      "text/plain": [
       "1055021.1501289927"
      ]
     },
     "execution_count": 7,
     "metadata": {},
     "output_type": "execute_result"
    }
   ],
   "source": [
    "budget_DJF_map['o3prod_mole'].mean()"
   ]
  },
  {
   "cell_type": "code",
   "execution_count": 8,
   "id": "8b739c0e-3fb7-48fa-a745-2960c62c8a6d",
   "metadata": {},
   "outputs": [
    {
     "data": {
      "text/plain": [
       "545843.1978435449"
      ]
     },
     "execution_count": 8,
     "metadata": {},
     "output_type": "execute_result"
    }
   ],
   "source": [
    "budget_DJF_map['o3loss_mole'].mean()"
   ]
  },
  {
   "cell_type": "code",
   "execution_count": 9,
   "id": "1794f78f-7acf-4582-9834-381507dee297",
   "metadata": {},
   "outputs": [],
   "source": [
    "budget_JJA_map.to_csv('Extended Data Figs. 6-7 ozone-chemical-budget-JJA.csv', index=False)\n",
    "budget_DJF_map.to_csv('Extended Data Figs. 6-7 ozone-chemical-budget-DJF.csv', index=False)"
   ]
  }
 ],
 "metadata": {
  "kernelspec": {
   "display_name": "Python 3 (ipykernel)",
   "language": "python",
   "name": "python3"
  },
  "language_info": {
   "codemirror_mode": {
    "name": "ipython",
    "version": 3
   },
   "file_extension": ".py",
   "mimetype": "text/x-python",
   "name": "python",
   "nbconvert_exporter": "python",
   "pygments_lexer": "ipython3",
   "version": "3.12.3"
  }
 },
 "nbformat": 4,
 "nbformat_minor": 5
}
