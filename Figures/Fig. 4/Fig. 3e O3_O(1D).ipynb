{
 "cells": [
  {
   "cell_type": "code",
   "execution_count": 2,
   "id": "2620844b-bc0c-43e0-868c-282d7784332f",
   "metadata": {},
   "outputs": [],
   "source": [
    "import warnings\n",
    "warnings.filterwarnings(\"ignore\")\n",
    "\n",
    "import pandas as pd\n",
    "import numpy as np\n",
    "import matplotlib.pyplot as plt\n",
    "plt.rcParams['font.sans-serif']=['Arial']\n",
    "\n",
    "from sklearn.linear_model import LinearRegression\n",
    "from sklearn.metrics import r2_score\n",
    "from sklearn.metrics import mean_squared_error as MSE"
   ]
  },
  {
   "cell_type": "code",
   "execution_count": 3,
   "id": "95925255-33e2-4f08-8d82-3075c6ecedd2",
   "metadata": {},
   "outputs": [],
   "source": [
    "data = pd.read_csv('/Users/csuen/Desktop/Sun-NG-24/radicals/representative regions/UKESM1-0-LL_2010_2014_representative_regions(ver240113).csv')"
   ]
  },
  {
   "cell_type": "code",
   "execution_count": 4,
   "id": "7547db61-8b64-4b0a-8be5-6a48a42a2a77",
   "metadata": {},
   "outputs": [],
   "source": [
    "data['o3_o1d']    = data['o3_mole']/data['o1d_mole']\n",
    "data['cos_lat']   = np.cos(data['latitude']/180*np.pi)\n",
    "data['ln_o3_o1d'] = np.log(data['o3_o1d'])\n",
    "data = data[data['region']!=\"SGP\"]\n",
    "data = data[data['region']!=\"VAN\"]"
   ]
  },
  {
   "cell_type": "code",
   "execution_count": 5,
   "id": "8517d0af-e3e1-429d-91c2-1e67269d400a",
   "metadata": {},
   "outputs": [],
   "source": [
    "o3_o1d_region_mean = data.groupby(['region']).mean()['o3_o1d']\n",
    "o3_o1d_region_std = data.groupby(['region']).std()['o3_o1d']\n",
    "o3_o1d_region_ct = data.groupby(['region']).count()['o3_o1d']\n",
    "o3_o1d_region_ste = o3_o1d_region_std/np.sqrt(o3_o1d_region_ct/5)\n",
    "\n",
    "cos_lat_region_mean = data.groupby(['region']).mean()['cos_lat']\n",
    "cos_lat_region_std = data.groupby(['region']).std()['cos_lat']\n",
    "cos_lat_region_ct = data.groupby(['region']).count()['cos_lat']\n",
    "cos_lat_region_ste = cos_lat_region_std/np.sqrt(cos_lat_region_ct/5)\n",
    "\n",
    "ln_o3_o1d_region_mean = data.groupby(['region']).mean()['ln_o3_o1d']\n",
    "ln_o3_o1d_region_std = data.groupby(['region']).std()['ln_o3_o1d']\n",
    "ln_o3_o1d_region_ct = data.groupby(['region']).count()['ln_o3_o1d']\n",
    "ln_o3_o1d_region_ste = ln_o3_o1d_region_std/np.sqrt(ln_o3_o1d_region_ct/5)"
   ]
  },
  {
   "cell_type": "code",
   "execution_count": 6,
   "id": "5cc8ced9-2bb8-4d19-ada1-cd3693e12b7b",
   "metadata": {},
   "outputs": [],
   "source": [
    "o1d = pd.DataFrame()\n",
    "o1d['o3_o1d_mean'] = o3_o1d_region_mean\n",
    "o1d['o3_o1d_ste'] = o3_o1d_region_ste\n",
    "o1d['ln_o3_o1d_mean'] = ln_o3_o1d_region_mean\n",
    "o1d['ln_o3_o1d_ste'] = ln_o3_o1d_region_ste\n",
    "o1d['cos_lat_mean'] = cos_lat_region_mean\n",
    "o1d['cos_lat_ste'] = cos_lat_region_ste"
   ]
  },
  {
   "cell_type": "code",
   "execution_count": 9,
   "id": "5e3aebba-bf30-4437-9b3e-65fe06aae4ea",
   "metadata": {},
   "outputs": [
    {
     "name": "stdout",
     "output_type": "stream",
     "text": [
      "[-0.55725273]\n",
      "3.739040240874091\n",
      "0.9306101756541616\n",
      "0.021197396806267383\n"
     ]
    }
   ],
   "source": [
    "mod = LinearRegression()\n",
    "X = o1d[['cos_lat_mean']]\n",
    "y = o1d['ln_o3_o1d_mean']*10**(-1)\n",
    "mod.fit(X,y)\n",
    "print(mod.coef_)\n",
    "print(mod.intercept_)\n",
    "y_pred = mod.predict(X)\n",
    "print(r2_score(y_pred, y))\n",
    "print(np.sqrt(MSE(y_pred, y)))"
   ]
  },
  {
   "cell_type": "code",
   "execution_count": 42,
   "id": "416bf62f-819b-4d4c-86fa-a0d25108ced3",
   "metadata": {},
   "outputs": [
    {
     "name": "stdout",
     "output_type": "stream",
     "text": [
      "[-0.55725273]\n",
      "3.739040240874091\n",
      "0.9306101756541616\n",
      "0.021197396806267383\n"
     ]
    }
   ],
   "source": [
    "mod = LinearRegression()\n",
    "X = o1d[['cos_lat_mean']]\n",
    "y = o1d['ln_o3_o1d_mean']*10**(-1)\n",
    "mod.fit(X,y)\n",
    "print(mod.coef_)\n",
    "print(mod.intercept_)\n",
    "y_pred = mod.predict(X)\n",
    "print(r2_score(y_pred, y))\n",
    "print(np.sqrt(MSE(y_pred, y)))"
   ]
  },
  {
   "cell_type": "code",
   "execution_count": 70,
   "id": "93ac6a50-0995-416e-9012-843bf2707607",
   "metadata": {},
   "outputs": [
    {
     "name": "stdout",
     "output_type": "stream",
     "text": [
      "[-0.55725273]\n",
      "3.739040240874091\n",
      "0.9306101756541616\n",
      "0.021197396806267383\n"
     ]
    }
   ],
   "source": [
    "mod = LinearRegression()\n",
    "X = o1d[['cos_lat_mean']]\n",
    "y = o1d['ln_o3_o1d_mean']*10**(-1)\n",
    "mod.fit(X,y)\n",
    "print(mod.coef_)\n",
    "print(mod.intercept_)\n",
    "y_pred = mod.predict(X)\n",
    "print(r2_score(y_pred, y))\n",
    "print(np.sqrt(MSE(y_pred, y)))"
   ]
  },
  {
   "cell_type": "code",
   "execution_count": 71,
   "id": "f7233a81-b6fb-403d-9ed3-fbbe95cc790b",
   "metadata": {},
   "outputs": [],
   "source": [
    "data_sens = pd.read_csv('Fig. 3b SnSv sensitivities scatter plot.csv')"
   ]
  },
  {
   "cell_type": "code",
   "execution_count": 72,
   "id": "f5e0c9b8-53c7-4984-84fd-588d81ecdd6c",
   "metadata": {},
   "outputs": [
    {
     "data": {
      "image/png": "[encoded data removed]",
      "text/plain": [
       "<Figure size 487.5x300 with 1 Axes>"
      ]
     },
     "metadata": {},
     "output_type": "display_data"
    }
   ],
   "source": [
    "fig, ax = plt.subplots(figsize=(6.5, 4), dpi=75)\n",
    "X = o1d[['cos_lat_mean']]\n",
    "y = o1d['ln_o3_o1d_mean']*10**(-1)\n",
    "size = data_sens['o3_ppb']\n",
    "o3net = data_sens['o3net_mole']\n",
    "\n",
    "x_set = np.arange(0.2,1.3,0.1)\n",
    "y_set = x_set*mod.coef_+mod.intercept_\n",
    "plt.plot(x_set, y_set, linestyle='-.', linewidth=0.5, color=\"black\")\n",
    "\n",
    "plt.scatter(X, y, s=size**1.5, vmin=0, vmax=1.5, c=o3net, cmap=\"viridis\")\n",
    "\n",
    "#plt.colorbar()\n",
    "plt.xlim([0.35,1.05])\n",
    "#plt.ylim([3.1,3.6])\n",
    "#plt.yticks([8,9], fontsize=14)\n",
    "plt.xticks([0.4,0.6,0.8,1.0], fontsize=14)\n",
    "\n",
    "plt.savefig(\"Fig. 3e O3_O(1D)-latitude.pdf\", format=\"pdf\", bbox_inches=\"tight\")"
   ]
  },
  {
   "cell_type": "code",
   "execution_count": null,
   "id": "79f5a12d-7c91-4f9a-98c1-e2bab2549426",
   "metadata": {},
   "outputs": [],
   "source": []
  }
 ],
 "metadata": {
  "kernelspec": {
   "display_name": "Python 3 (ipykernel)",
   "language": "python",
   "name": "python3"
  },
  "language_info": {
   "codemirror_mode": {
    "name": "ipython",
    "version": 3
   },
   "file_extension": ".py",
   "mimetype": "text/x-python",
   "name": "python",
   "nbconvert_exporter": "python",
   "pygments_lexer": "ipython3",
   "version": "3.8.18"
  }
 },
 "nbformat": 4,
 "nbformat_minor": 5
}
