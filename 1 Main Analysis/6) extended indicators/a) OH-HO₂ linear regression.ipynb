{
 "cells": [
  {
   "cell_type": "code",
   "execution_count": null,
   "id": "3612b025-5a28-4f34-aa3d-268adc726939",
   "metadata": {},
   "outputs": [],
   "source": [
    "import warnings\n",
    "warnings.filterwarnings(\"ignore\")\n",
    "\n",
    "import pandas as pd\n",
    "import numpy as np\n",
    "import matplotlib.pyplot as plt\n",
    "plt.rcParams['font.sans-serif']=['Arial']\n",
    "\n",
    "from sklearn.linear_model import LinearRegression\n",
    "from sklearn.metrics import r2_score\n",
    "import statsmodels.api as sm"
   ]
  },
  {
   "cell_type": "code",
   "execution_count": null,
   "id": "2b819e81-8990-41e5-907b-8e7bb0352773",
   "metadata": {},
   "outputs": [],
   "source": [
    "data = pd.read_csv('/Users/csuen/radicals/representative regions/UKESM1-0-LL_2010_2014_representative_regions.csv')"
   ]
  },
  {
   "cell_type": "markdown",
   "id": "9da2604d-bf12-4c45-95f9-cdc81f311ba1",
   "metadata": {},
   "source": [
    "#### Calculate dynamic regression coefficients"
   ]
  },
  {
   "cell_type": "code",
   "execution_count": 6,
   "id": "eda1586f-6147-48ab-911e-58dacd027fed",
   "metadata": {},
   "outputs": [],
   "source": [
    "d_oh_ho2_beta = data.groupby('region').apply(lambda g: sm.OLS(g['oh_mole'], g[['ho2_mole']]).fit().params)\n",
    "d_oh_ho2_ste = data.groupby('region').apply(lambda g: sm.OLS(g['oh_mole'], g[['ho2_mole']]).fit().HC0_se)"
   ]
  },
  {
   "cell_type": "code",
   "execution_count": 7,
   "id": "d5229e9d-d212-4cf6-83ba-3ca786858f52",
   "metadata": {},
   "outputs": [
    {
     "data": {
      "text/html": [
       "<div>\n",
       "<style scoped>\n",
       "    .dataframe tbody tr th:only-of-type {\n",
       "        vertical-align: middle;\n",
       "    }\n",
       "\n",
       "    .dataframe tbody tr th {\n",
       "        vertical-align: top;\n",
       "    }\n",
       "\n",
       "    .dataframe thead th {\n",
       "        text-align: right;\n",
       "    }\n",
       "</style>\n",
       "<table border=\"1\" class=\"dataframe\">\n",
       "  <thead>\n",
       "    <tr style=\"text-align: right;\">\n",
       "      <th></th>\n",
       "      <th>ho2_mole</th>\n",
       "    </tr>\n",
       "    <tr>\n",
       "      <th>region</th>\n",
       "      <th></th>\n",
       "    </tr>\n",
       "  </thead>\n",
       "  <tbody>\n",
       "    <tr>\n",
       "      <th>AUS</th>\n",
       "      <td>0.091431</td>\n",
       "    </tr>\n",
       "    <tr>\n",
       "      <th>BRA</th>\n",
       "      <td>0.019462</td>\n",
       "    </tr>\n",
       "    <tr>\n",
       "      <th>BTH</th>\n",
       "      <td>3.400739</td>\n",
       "    </tr>\n",
       "    <tr>\n",
       "      <th>CA</th>\n",
       "      <td>0.372736</td>\n",
       "    </tr>\n",
       "    <tr>\n",
       "      <th>CCE</th>\n",
       "      <td>0.195180</td>\n",
       "    </tr>\n",
       "    <tr>\n",
       "      <th>COD</th>\n",
       "      <td>0.020571</td>\n",
       "    </tr>\n",
       "    <tr>\n",
       "      <th>DEU</th>\n",
       "      <td>0.371617</td>\n",
       "    </tr>\n",
       "    <tr>\n",
       "      <th>FIN</th>\n",
       "      <td>0.056907</td>\n",
       "    </tr>\n",
       "    <tr>\n",
       "      <th>FRA</th>\n",
       "      <td>0.153248</td>\n",
       "    </tr>\n",
       "    <tr>\n",
       "      <th>GBA</th>\n",
       "      <td>0.361639</td>\n",
       "    </tr>\n",
       "    <tr>\n",
       "      <th>GBR</th>\n",
       "      <td>0.249870</td>\n",
       "    </tr>\n",
       "    <tr>\n",
       "      <th>IDN</th>\n",
       "      <td>0.014404</td>\n",
       "    </tr>\n",
       "    <tr>\n",
       "      <th>IL</th>\n",
       "      <td>0.140926</td>\n",
       "    </tr>\n",
       "    <tr>\n",
       "      <th>IND</th>\n",
       "      <td>0.235011</td>\n",
       "    </tr>\n",
       "    <tr>\n",
       "      <th>JPN</th>\n",
       "      <td>0.154123</td>\n",
       "    </tr>\n",
       "    <tr>\n",
       "      <th>KOR</th>\n",
       "      <td>0.114815</td>\n",
       "    </tr>\n",
       "    <tr>\n",
       "      <th>MYS</th>\n",
       "      <td>0.033185</td>\n",
       "    </tr>\n",
       "    <tr>\n",
       "      <th>NOR</th>\n",
       "      <td>0.105353</td>\n",
       "    </tr>\n",
       "    <tr>\n",
       "      <th>NY</th>\n",
       "      <td>0.158029</td>\n",
       "    </tr>\n",
       "    <tr>\n",
       "      <th>NZL</th>\n",
       "      <td>0.060218</td>\n",
       "    </tr>\n",
       "    <tr>\n",
       "      <th>QTP</th>\n",
       "      <td>0.128924</td>\n",
       "    </tr>\n",
       "    <tr>\n",
       "      <th>SGP</th>\n",
       "      <td>0.085949</td>\n",
       "    </tr>\n",
       "    <tr>\n",
       "      <th>TO</th>\n",
       "      <td>0.141883</td>\n",
       "    </tr>\n",
       "    <tr>\n",
       "      <th>VAN</th>\n",
       "      <td>0.059756</td>\n",
       "    </tr>\n",
       "    <tr>\n",
       "      <th>WA</th>\n",
       "      <td>0.151123</td>\n",
       "    </tr>\n",
       "    <tr>\n",
       "      <th>YYN</th>\n",
       "      <td>0.170753</td>\n",
       "    </tr>\n",
       "  </tbody>\n",
       "</table>\n",
       "</div>"
      ],
      "text/plain": [
       "        ho2_mole\n",
       "region          \n",
       "AUS     0.091431\n",
       "BRA     0.019462\n",
       "BTH     3.400739\n",
       "CA      0.372736\n",
       "CCE     0.195180\n",
       "COD     0.020571\n",
       "DEU     0.371617\n",
       "FIN     0.056907\n",
       "FRA     0.153248\n",
       "GBA     0.361639\n",
       "GBR     0.249870\n",
       "IDN     0.014404\n",
       "IL      0.140926\n",
       "IND     0.235011\n",
       "JPN     0.154123\n",
       "KOR     0.114815\n",
       "MYS     0.033185\n",
       "NOR     0.105353\n",
       "NY      0.158029\n",
       "NZL     0.060218\n",
       "QTP     0.128924\n",
       "SGP     0.085949\n",
       "TO      0.141883\n",
       "VAN     0.059756\n",
       "WA      0.151123\n",
       "YYN     0.170753"
      ]
     },
     "execution_count": 7,
     "metadata": {},
     "output_type": "execute_result"
    }
   ],
   "source": [
    "d_oh_ho2_beta"
   ]
  },
  {
   "cell_type": "markdown",
   "id": "8319094c-2d83-4e4c-ae4d-df2abf8588a7",
   "metadata": {},
   "source": [
    "#### Calculate features"
   ]
  },
  {
   "cell_type": "code",
   "execution_count": 8,
   "id": "1c6836f0-d586-4aec-bc0a-450ad0ffbc49",
   "metadata": {},
   "outputs": [],
   "source": [
    "a = data['k5'].mean()\n",
    "#b = data['k8'].mean()\n",
    "b = 6.34*10**(-15)\n",
    "c = data['k6'].mean()\n",
    "\n",
    "#data['c'] = data['co_mole']*a/c + data['hcho_mole']\n",
    "data['c'] = data['co_mole']*a/c + data['ch4_mole']*b/c + data['hcho_mole']\n",
    "#data['c'] = data['co_mole'] + data['hcho_mole']\n",
    "#data['c'] = data['co_mole']\n",
    "data['no__co_ch4_hcho'] = data['no_mole']/data['c']\n",
    "feat = data.groupby('region').mean()[['no__co_ch4_hcho']]\n",
    "feat = pd.DataFrame(feat)\n",
    "feat_std = data.groupby('region').std()['no__co_ch4_hcho']\n",
    "feat_ct = data.groupby('region').count()['no__co_ch4_hcho']\n",
    "feat_ste = pd.DataFrame(feat_std/np.sqrt(feat_ct/5))"
   ]
  },
  {
   "cell_type": "code",
   "execution_count": 10,
   "id": "a5ebedaf-863e-4b01-843c-bdb229ec1d16",
   "metadata": {},
   "outputs": [
    {
     "name": "stdout",
     "output_type": "stream",
     "text": [
      "0.016541058647675896\n"
     ]
    }
   ],
   "source": [
    "print(a/c)"
   ]
  },
  {
   "cell_type": "code",
   "execution_count": 11,
   "id": "a7b75b2f-a75f-43d1-b012-1adb0087c93f",
   "metadata": {},
   "outputs": [
    {
     "name": "stdout",
     "output_type": "stream",
     "text": [
      "0.0007282660543490902\n"
     ]
    }
   ],
   "source": [
    "print(b/c)"
   ]
  },
  {
   "cell_type": "code",
   "execution_count": 6,
   "id": "d51ff459-c0ad-408d-873c-072f035517bb",
   "metadata": {},
   "outputs": [],
   "source": [
    "mod = LinearRegression()\n",
    "X = feat[['no__co_ch4_hcho']]\n",
    "y = d_oh_ho2_beta['ho2_mole']\n",
    "mod.fit(X,y)\n",
    "y_pred = mod.predict(X)"
   ]
  },
  {
   "cell_type": "code",
   "execution_count": null,
   "id": "aa4bebe2-44fa-439d-8209-2638d29be165",
   "metadata": {},
   "outputs": [],
   "source": [
    "d_oh_ho2_beta['beta_adj'] = d_oh_ho2_beta['ho2_mole']\n",
    "d_oh_ho2_beta['no__co_ch4_hcho'] = feat['no__co_ch4_hcho']\n",
    "d_oh_ho2_beta['beta_adj_ste'] = d_oh_ho2_ste\n",
    "d_oh_ho2_beta['no__co_ch4_hcho_ste'] = feat_ste"
   ]
  },
  {
   "cell_type": "code",
   "execution_count": null,
   "id": "bf9cb390",
   "metadata": {},
   "outputs": [],
   "source": [
    "fig, ax = plt.subplots(figsize=(4, 4), dpi=75)\n",
    "x_values = np.log(d_oh_ho2_beta['beta_adj'])\n",
    "y_values = np.log(d_oh_ho2_beta['no__co_ch4_hcho'])\n",
    "x_errors = d_oh_ho2_beta['beta_adj_ste']\n",
    "y_errors = d_oh_ho2_beta['no__co_ch4_hcho_ste']\n",
    "\n",
    "plt.errorbar(x_values, y_values, xerr=x_errors, yerr=y_errors, \n",
    "             fmt=\"o\", ecolor=\"grey\", elinewidth=0.5, capsize=None, mfc='cornflowerblue', mec='black', ms=12, alpha=1, mew=0.75)\n",
    "\n",
    "#plt.xlim([-4.75,1.75])\n",
    "#plt.ylim([-4.75,2.75])\n",
    "plt.yticks([-4,-3,-2,-1,0,1], fontsize=12)\n",
    "plt.xticks([-4,-3,-2,-1,0,1], fontsize=12)"
   ]
  },
  {
   "cell_type": "code",
   "execution_count": null,
   "id": "52f1bcc0-3dea-4a9e-845a-4f572fed824f",
   "metadata": {},
   "outputs": [],
   "source": [
    "d_oh_ho2_beta = d_oh_ho2_beta[['beta_adj', 'beta_adj_ste', 'no__co_ch4_hcho', 'no__co_ch4_hcho_ste']]\n",
    "d_oh_ho2_beta['ln_beta_adj'] = np.log(d_oh_ho2_beta['beta_adj'])\n",
    "d_oh_ho2_beta['ln_no__co_ch4_hcho'] = np.log(d_oh_ho2_beta['no__co_ch4_hcho'])\n",
    "\n",
    "d_oh_ho2_beta.to_csv('OH_HO₂.csv')"
   ]
  }
 ],
 "metadata": {
  "kernelspec": {
   "display_name": "Python 3 (ipykernel)",
   "language": "python",
   "name": "python3"
  },
  "language_info": {
   "codemirror_mode": {
    "name": "ipython",
    "version": 3
   },
   "file_extension": ".py",
   "mimetype": "text/x-python",
   "name": "python",
   "nbconvert_exporter": "python",
   "pygments_lexer": "ipython3",
   "version": "3.8.18"
  }
 },
 "nbformat": 4,
 "nbformat_minor": 5
}
