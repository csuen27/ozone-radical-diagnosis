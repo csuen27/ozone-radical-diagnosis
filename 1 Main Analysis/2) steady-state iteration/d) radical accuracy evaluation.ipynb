{
 "cells": [
  {
   "cell_type": "markdown",
   "id": "3160581a",
   "metadata": {},
   "source": [
    "## [1.2.4] Accuracy evaluation for the analytical solved radicals\n",
    "Here we accomplish the model evaluation in virtue of the direct model simulation outputs as the \"truth\"\n",
    "###### Updated on 28 April 2025\n",
    "##### Note: Numerical model-based simulations are ALL of evitable biases and uncertainties. \n",
    "##### Therefore, aligning the model simulations with the realistic observations is not the target of this current study. \n",
    "##### However, the process-based features from the same model (i.e. UKESM1-0-LL) will be cohoerent for analytical inference. "
   ]
  },
  {
   "cell_type": "code",
   "execution_count": null,
   "id": "a2941c82-4b9e-4a10-b84e-2704c4c2a583",
   "metadata": {},
   "outputs": [],
   "source": [
    "import warnings\n",
    "warnings.filterwarnings(\"ignore\")\n",
    "\n",
    "import pandas as pd\n",
    "import numpy as np\n",
    "import matplotlib.pyplot as plt\n",
    "from sklearn.metrics import r2_score ## We borrow the R² score function form sklearn to conduct model evaluation"
   ]
  },
  {
   "cell_type": "code",
   "execution_count": null,
   "id": "f95ed66c-c685-4edc-9a99-a364dd17d69b",
   "metadata": {},
   "outputs": [],
   "source": [
    "dataset = pd.read_csv(\"D://Research/ozone-radical-diagnosis/3 Extended Data/Fig. 2/Extended Data Fig. 2 radical evaluation.csv\") \n",
    "# This nested dataset will also be used for Extended Data Fig. 3: Radical concentration approximation accuracy evaluation "
   ]
  },
  {
   "cell_type": "code",
   "execution_count": null,
   "id": "814d942b-7215-45c3-9f60-87056e174388",
   "metadata": {},
   "outputs": [],
   "source": [
    "land = pd.read_csv(\"C://Users/Haitong/OneDrive - National University of Singapore/Documents/Manuscripts/Sun-NG-25/global_grid_2x2_label_continent.csv\")\n",
    "dataset_land = dataset.merge(land, how='left', left_on=['longitude','latitude'], right_on=['longitude','latitude'])\n",
    "dataset_land = dataset_land[dataset_land['land_global']==1]"
   ]
  },
  {
   "cell_type": "code",
   "execution_count": null,
   "id": "ea074c59",
   "metadata": {},
   "outputs": [],
   "source": [
    "r2_score(dataset_land[['o1d_mod_mole']], dataset_land['o1d_approx'])\n",
    "plt.scatter(dataset_land[['o1d_mod_mole']], dataset_land['o1d_approx'])"
   ]
  },
  {
   "cell_type": "code",
   "execution_count": null,
   "id": "92bd070f",
   "metadata": {},
   "outputs": [],
   "source": [
    "r2_score(dataset_land[['ho2_mod_mole']], dataset_land['ho2_approx'])\n",
    "plt.scatter(dataset_land[['ho2_mod_mole']], dataset_land['ho2_approx'])"
   ]
  },
  {
   "cell_type": "code",
   "execution_count": null,
   "id": "06ee5376",
   "metadata": {},
   "outputs": [],
   "source": [
    "r2_score(dataset_land[['ch3o2_mod_mole']], dataset_land['ch3o2_approx'])\n",
    "plt.scatter(dataset_land[['ch3o2_mod_mole']], dataset_land['ch3o2_approx'])"
   ]
  }
 ],
 "metadata": {
  "kernelspec": {
   "display_name": "Python 3 (ipykernel)",
   "language": "python",
   "name": "python3"
  },
  "language_info": {
   "codemirror_mode": {
    "name": "ipython",
    "version": 3
   },
   "file_extension": ".py",
   "mimetype": "text/x-python",
   "name": "python",
   "nbconvert_exporter": "python",
   "pygments_lexer": "ipython3",
   "version": "3.8.18"
  }
 },
 "nbformat": 4,
 "nbformat_minor": 5
}
