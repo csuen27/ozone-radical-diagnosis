{
 "cells": [
  {
   "cell_type": "code",
   "execution_count": 1,
   "id": "4b703f7f-ee0e-431b-a15b-5004dc3f41f7",
   "metadata": {},
   "outputs": [],
   "source": [
    "import warnings\n",
    "warnings.filterwarnings(\"ignore\")\n",
    "\n",
    "import pandas as pd\n",
    "import numpy as np\n",
    "import matplotlib as mpl\n",
    "import matplotlib.pyplot as plt"
   ]
  },
  {
   "cell_type": "code",
   "execution_count": 2,
   "id": "63c5d53f-fbdc-477d-80e0-a930bc89b843",
   "metadata": {},
   "outputs": [],
   "source": [
    "dataset = pd.read_csv('/Users/csuen/Desktop/Sun-NG-24/radicals/UKESM1-0-LL_2010_2014(ver231206).csv')"
   ]
  },
  {
   "cell_type": "code",
   "execution_count": 3,
   "id": "7d172b5c-3300-464c-a27d-df411e0f43e7",
   "metadata": {},
   "outputs": [],
   "source": [
    "dataset['n2_mole'] = dataset['ps']/8.314/dataset['tas']*6.022*10**23*10**(-6)*0.7808\n",
    "dataset['o2_mole'] = dataset['ps']/8.314/dataset['tas']*6.022*10**23*10**(-6)*0.2095"
   ]
  },
  {
   "cell_type": "markdown",
   "id": "3d787aee-9f86-4499-8d37-6afe612278d6",
   "metadata": {},
   "source": [
    "#### Converse Mass fraction of H2O into standard unit: molecule cm-3"
   ]
  },
  {
   "cell_type": "code",
   "execution_count": 4,
   "id": "39bc03e2-8ddb-4c7c-8bb0-f67e437964e0",
   "metadata": {},
   "outputs": [],
   "source": [
    "dataset['h2o_mole'] = dataset['h2o']/18*6.022*10**23/(8.314*dataset['tas']/dataset['ps']/28.96*10**6)"
   ]
  },
  {
   "cell_type": "code",
   "execution_count": 5,
   "id": "6eca3eba-e79b-4b9f-89fa-47f8bf65e0a9",
   "metadata": {},
   "outputs": [],
   "source": [
    "dataset['k1'] = 2.15*10**(-11)*np.exp(110/dataset['tas'])\n",
    "dataset['k2'] = 3.30*10**(-11)*np.exp(55/dataset['tas'])\n",
    "dataset['k3'] = 1.63*10**(-10)*np.exp(60/dataset['tas'])\n",
    "dataset['k4'] = 4.30*10**(-32)*(dataset['tas']/300)**(-1.2)*dataset['n2_mole']\n",
    "#dataset['k4'] = 1.00*10**(-12)\n",
    "dataset['k5'] = 1.44*10**(-13)\n",
    "\n",
    "dataset['k6'] = 5.40*10**(-12)*np.exp(135/dataset['tas'])\n",
    "dataset['k7'] = 1.70*10**(-12)*np.exp(-940/dataset['tas'])\n",
    "dataset['k8'] = 2.45*10**(-12)*np.exp(-600/dataset['tas'])\n",
    "dataset['k9'] = 4.01*10**(-12)*np.exp(190/dataset['tas'])\n",
    "dataset['k9a'] = 2.12*10**(-12)*np.exp(190/dataset['tas'])\n",
    "dataset['k9b'] = 1.89*10**(-12)*np.exp(190/dataset['tas'])\n",
    "\n",
    "dataset['k10'] = 3.30*10**(-12)*np.exp(270/dataset['tas'])\n",
    "dataset['k11'] = 2.03*10**(-16)*(dataset['tas']/300)**4.57*np.exp(693/dataset['tas'])\n",
    "dataset['k12'] = 3.00*10**(-13)*np.exp(460/dataset['tas'])\n",
    "dataset['k13'] = 4.80*10**(-11)*np.exp(250/dataset['tas'])\n",
    "\n",
    "dataset['k14'] = 2.30*10**(-12)*np.exp(360/dataset['tas'])\n",
    "dataset['k15'] = 3.80*10**(-13)*np.exp(780/dataset['tas'])\n",
    "dataset['k15a'] = dataset['k15']/(1+498*np.exp(-1160/dataset['tas']))\n",
    "dataset['k15b'] = dataset['k15']-dataset['k15a']\n",
    "dataset['k16'] = 1.03*10**(-13)*np.exp(365/dataset['tas'])"
   ]
  },
  {
   "cell_type": "code",
   "execution_count": 50,
   "id": "ed9eddd7-16e2-4399-86fc-08b42985352c",
   "metadata": {},
   "outputs": [
    {
     "data": {
      "text/plain": [
       "9.120366247878802e-13"
      ]
     },
     "execution_count": 50,
     "metadata": {},
     "output_type": "execute_result"
    }
   ],
   "source": [
    "dataset['k4'].median() # Preferred value 1.0×10(-12)"
   ]
  },
  {
   "cell_type": "code",
   "execution_count": 7,
   "id": "b0e4666f-5e00-46a5-b922-ffd4a360dc2d",
   "metadata": {},
   "outputs": [
    {
     "data": {
      "text/plain": [
       "8.694670527430094e-12"
      ]
     },
     "execution_count": 7,
     "metadata": {},
     "output_type": "execute_result"
    }
   ],
   "source": [
    "dataset['k6'].median() # Preferred value 8.5×10(-12)"
   ]
  },
  {
   "cell_type": "code",
   "execution_count": 8,
   "id": "9b6eed35-106d-4974-8f15-7b40b4f75733",
   "metadata": {},
   "outputs": [
    {
     "data": {
      "text/plain": [
       "6.167295967814718e-14"
      ]
     },
     "execution_count": 8,
     "metadata": {},
     "output_type": "execute_result"
    }
   ],
   "source": [
    "dataset['k7'].median() # Preferred value 7.3×10(-14)"
   ]
  },
  {
   "cell_type": "code",
   "execution_count": 9,
   "id": "053a3598-6dbf-460a-90e3-4617c4ee468a",
   "metadata": {},
   "outputs": [
    {
     "data": {
      "text/plain": [
       "8.555249499857788e-12"
      ]
     },
     "execution_count": 9,
     "metadata": {},
     "output_type": "execute_result"
    }
   ],
   "source": [
    "dataset['k10'].median() # Preferred value 8.5×10(-12)"
   ]
  },
  {
   "cell_type": "code",
   "execution_count": 10,
   "id": "9a951263-fe5c-448a-a1ad-711fa54ef9cb",
   "metadata": {},
   "outputs": [
    {
     "data": {
      "text/plain": [
       "1.8054853762319934e-15"
      ]
     },
     "execution_count": 10,
     "metadata": {},
     "output_type": "execute_result"
    }
   ],
   "source": [
    "dataset['k11'].median() # Preferred value 2.0×10(-15)"
   ]
  },
  {
   "cell_type": "code",
   "execution_count": 11,
   "id": "40dc6ef1-c215-4415-bc02-61c7e587f8a1",
   "metadata": {},
   "outputs": [
    {
     "data": {
      "text/plain": [
       "1.520461416167e-12"
      ]
     },
     "execution_count": 11,
     "metadata": {},
     "output_type": "execute_result"
    }
   ],
   "source": [
    "dataset['k12'].median() # Preferred value 1.6×10(-12)"
   ]
  },
  {
   "cell_type": "code",
   "execution_count": 12,
   "id": "1c13def1-d4e1-4252-a83a-7db16dca7c71",
   "metadata": {},
   "outputs": [
    {
     "data": {
      "text/plain": [
       "1.1596158544860602e-10"
      ]
     },
     "execution_count": 12,
     "metadata": {},
     "output_type": "execute_result"
    }
   ],
   "source": [
    "dataset['k13'].median() # Preferred value 1.1×10(-10)"
   ]
  },
  {
   "cell_type": "code",
   "execution_count": 13,
   "id": "ec8adb4a-c794-4c9c-91d1-7940a482b8ce",
   "metadata": {},
   "outputs": [
    {
     "data": {
      "text/plain": [
       "5.956224611243644e-12"
      ]
     },
     "execution_count": 13,
     "metadata": {},
     "output_type": "execute_result"
    }
   ],
   "source": [
    "dataset['k15'].median() # Preferred value 5.2×10(-12)"
   ]
  },
  {
   "cell_type": "code",
   "execution_count": 14,
   "id": "86a75476-74f9-428f-bbca-97cba237f182",
   "metadata": {},
   "outputs": [
    {
     "data": {
      "text/plain": [
       "6.395428025925938e-13"
      ]
     },
     "execution_count": 14,
     "metadata": {},
     "output_type": "execute_result"
    }
   ],
   "source": [
    "dataset['k15a'].median() # Preferred value 5.2×10(-13)"
   ]
  },
  {
   "cell_type": "code",
   "execution_count": 15,
   "id": "14bfb3c9-d63d-4aa8-a52b-e46488f9a9c5",
   "metadata": {},
   "outputs": [
    {
     "data": {
      "text/plain": [
       "5.3166818086510504e-12"
      ]
     },
     "execution_count": 15,
     "metadata": {},
     "output_type": "execute_result"
    }
   ],
   "source": [
    "dataset['k15b'].median() # Preferred value 4.7×10(-12)"
   ]
  },
  {
   "cell_type": "code",
   "execution_count": 16,
   "id": "9aaf27ca-4b4a-4937-95f7-f5072c3ea1f3",
   "metadata": {},
   "outputs": [
    {
     "data": {
      "text/plain": [
       "3.733564591122371e-13"
      ]
     },
     "execution_count": 16,
     "metadata": {},
     "output_type": "execute_result"
    }
   ],
   "source": [
    "dataset['k16'].median() # Preferred value 3.5×10(-13)"
   ]
  },
  {
   "cell_type": "code",
   "execution_count": 17,
   "id": "d328c798-2a05-46c0-9809-fc0604b0980f",
   "metadata": {},
   "outputs": [],
   "source": [
    "# 1.01325×10(5)/T×7.243×10(7)×10(9) molecule cm(-3) \n",
    "dataset['o3_mole'] = dataset['o3']*1.01325*10**5/dataset['tas']*7.243*10**7*10**9\n",
    "dataset['no2_mole'] = dataset['no2']*1.01325*10**5/dataset['tas']*7.243*10**7*10**9\n",
    "dataset['no_mole'] = dataset['no']*1.01325*10**5/dataset['tas']*7.243*10**7*10**9\n",
    "dataset['oh_mole'] = dataset['oh']*1.01325*10**5/dataset['tas']*7.243*10**7*10**9\n",
    "dataset['co_mole'] = dataset['co']*1.01325*10**5/dataset['tas']*7.243*10**7*10**9\n",
    "dataset['hcho_mole'] = dataset['hcho']*1.01325*10**5/dataset['tas']*7.243*10**7*10**9\n",
    "dataset['ch4_mole'] = dataset['ch4']*1.01325*10**5/dataset['tas']*7.243*10**7*10**9"
   ]
  },
  {
   "cell_type": "markdown",
   "id": "76a2ff78-5fb7-409d-a857-33fb86f4a289",
   "metadata": {},
   "source": [
    "#### Calculate the radical concentration of [O(${^1}$D)]"
   ]
  },
  {
   "cell_type": "code",
   "execution_count": 18,
   "id": "74b7301d-4ee1-4a6d-92df-d7338bd3a229",
   "metadata": {},
   "outputs": [],
   "source": [
    "# [O(1D)] = J[O(1D)][O3]/(k1[N2] + k2[O2] + k3[H2O]) \n",
    "dataset['o1d_mole'] = dataset['photo1d']*dataset['o3_mole']/(dataset['k1']*dataset['n2_mole'] + dataset['k2']*dataset['o2_mole'] + dataset['k3']*dataset['h2o_mole'])"
   ]
  },
  {
   "cell_type": "markdown",
   "id": "80ae9298-d639-42b6-8c73-0b75b2e9c158",
   "metadata": {},
   "source": [
    "#### 设定HO2迭代的初始值"
   ]
  },
  {
   "cell_type": "code",
   "execution_count": 51,
   "id": "0ddc9aed-1739-4806-94f3-2df8cc998d9f",
   "metadata": {},
   "outputs": [
    {
     "data": {
      "text/plain": [
       "494908.0823703807"
      ]
     },
     "execution_count": 51,
     "metadata": {},
     "output_type": "execute_result"
    }
   ],
   "source": [
    "dataset['lossco_mole'] = dataset['lossco']*6.022*10**23*10**(-6)\n",
    "dataset['lossco_mole'].mean()"
   ]
  },
  {
   "cell_type": "code",
   "execution_count": 53,
   "id": "c2dd148a-9549-455f-8f3a-0e28f1dc1ed1",
   "metadata": {},
   "outputs": [
    {
     "data": {
      "text/plain": [
       "2230897.6571432296"
      ]
     },
     "execution_count": 53,
     "metadata": {},
     "output_type": "execute_result"
    }
   ],
   "source": [
    "dataset['lossco_est'] = dataset['k4']*dataset['co_mole']*dataset['oh_mole']\n",
    "dataset['lossco_est'].mean()\n",
    "## This tells that the provided L(CO) is preferred. "
   ]
  },
  {
   "cell_type": "code",
   "execution_count": 54,
   "id": "3788f8ca-6b69-49e9-abd6-e2e766a83423",
   "metadata": {},
   "outputs": [],
   "source": [
    "dataset['A_0'] = 2*dataset['k12']\n",
    "dataset['B_0'] = dataset['k10']*dataset['no_mole'] + dataset['k11']*dataset['o3_mole'] + dataset['k13']*dataset['oh_mole']\n",
    "dataset['C_0'] = -(dataset['k6']*dataset['oh_mole']*dataset['hcho_mole'] + dataset['k7']*dataset['oh_mole']*dataset['o3_mole'] + dataset['lossco_mole'])"
   ]
  },
  {
   "cell_type": "code",
   "execution_count": 55,
   "id": "904660e0-a571-4a75-8dcd-5a443da62742",
   "metadata": {},
   "outputs": [
    {
     "data": {
      "text/plain": [
       "100755261.07546033"
      ]
     },
     "execution_count": 55,
     "metadata": {},
     "output_type": "execute_result"
    }
   ],
   "source": [
    "dataset['ho2_0'] = (-dataset['B_0']+(dataset['B_0']*dataset['B_0']-4*dataset['A_0']*dataset['C_0'])**(0.5))/(2*dataset['A_0'])\n",
    "dataset['ho2_0'].mean()"
   ]
  },
  {
   "cell_type": "markdown",
   "id": "75a1f6b0-d1b6-45f7-9993-5ed4181d6970",
   "metadata": {},
   "source": [
    "#### 设定CH3O2迭代的初始值"
   ]
  },
  {
   "cell_type": "code",
   "execution_count": 56,
   "id": "d8e8d7b0-aa13-476a-91d4-33ccadfbbf76",
   "metadata": {},
   "outputs": [
    {
     "data": {
      "text/plain": [
       "267172.3900935375"
      ]
     },
     "execution_count": 56,
     "metadata": {},
     "output_type": "execute_result"
    }
   ],
   "source": [
    "dataset['lossch4_mole'] = dataset['lossch4']*6.022*10**23*10**(-6)\n",
    "dataset['lossch4_mole'].mean()"
   ]
  },
  {
   "cell_type": "code",
   "execution_count": 58,
   "id": "3fc50350-4ea5-4b4c-b5d1-fc3304d17e0e",
   "metadata": {},
   "outputs": [
    {
     "data": {
      "text/plain": [
       "15629297.26624632"
      ]
     },
     "execution_count": 58,
     "metadata": {},
     "output_type": "execute_result"
    }
   ],
   "source": [
    "dataset['lossch4_est'] = dataset['k8']*dataset['ch4_mole']*dataset['oh_mole']\n",
    "dataset['lossch4_est'].mean()"
   ]
  },
  {
   "cell_type": "code",
   "execution_count": 59,
   "id": "7bab4eac-d8f0-4ade-aba3-5b9a2edae4cf",
   "metadata": {},
   "outputs": [],
   "source": [
    "dataset['D_0'] = 2*dataset['k16']\n",
    "dataset['E_0'] = dataset['k14']*dataset['no_mole'] + dataset['k15']*dataset['ho2_0']\n",
    "dataset['F_0'] = -(dataset['lossch4_mole'])"
   ]
  },
  {
   "cell_type": "code",
   "execution_count": 60,
   "id": "dd3b7a23-cc1f-4f66-a3f3-512238adc99f",
   "metadata": {},
   "outputs": [
    {
     "data": {
      "text/plain": [
       "68016468.2651477"
      ]
     },
     "execution_count": 60,
     "metadata": {},
     "output_type": "execute_result"
    }
   ],
   "source": [
    "dataset['ch3o2_0'] = (-dataset['E_0']+(dataset['E_0']*dataset['E_0']-4*dataset['D_0']*dataset['F_0'])**(0.5))/(2*dataset['D_0'])\n",
    "dataset['ch3o2_0'].mean()"
   ]
  },
  {
   "cell_type": "markdown",
   "id": "f4093d29-cde6-4074-accd-0001311a1995",
   "metadata": {},
   "source": [
    "#### 设定CH3OOH迭代的初始值"
   ]
  },
  {
   "cell_type": "code",
   "execution_count": 65,
   "id": "8e73770c-dc5a-449e-847a-c6d2d81ccc5c",
   "metadata": {},
   "outputs": [
    {
     "data": {
      "text/plain": [
       "6754534576.5314665"
      ]
     },
     "execution_count": 65,
     "metadata": {},
     "output_type": "execute_result"
    }
   ],
   "source": [
    "dataset['ch3ooh_0'] = dataset['k15b']*dataset['ho2_0']*dataset['ch3o2_0']/(dataset['k9']*dataset['oh_mole'])\n",
    "dataset['ch3ooh_0'].mean()"
   ]
  },
  {
   "cell_type": "markdown",
   "id": "c76fdabc-f7f1-449b-9286-9673f480bfc9",
   "metadata": {},
   "source": [
    "### 开始迭代"
   ]
  },
  {
   "cell_type": "code",
   "execution_count": 66,
   "id": "bdf2efb2-5ed6-41db-869d-f9e83220ada5",
   "metadata": {},
   "outputs": [
    {
     "name": "stdout",
     "output_type": "stream",
     "text": [
      "101582239.46877457\n",
      "87116020.2910169\n",
      "8242157901.148141\n"
     ]
    }
   ],
   "source": [
    "dataset['A_1'] = 2*dataset['k12']\n",
    "dataset['B_1'] = dataset['k10']*dataset['no_mole'] + dataset['k11']*dataset['o3_mole'] + dataset['k13']*dataset['oh_mole'] + dataset['k15']*dataset['ch3o2_0']\n",
    "dataset['C_1'] = -(dataset['k14']*dataset['no_mole']*dataset['ch3o2_0'] + dataset['k6']*dataset['oh_mole']*dataset['hcho_mole'] + dataset['k7']*dataset['oh_mole']*dataset['o3_mole'] + dataset['lossco_mole']) \n",
    "\n",
    "dataset['ho2_1'] = (-dataset['B_1']+(dataset['B_1']*dataset['B_1']-4*dataset['A_1']*dataset['C_1'])**(0.5))/(2*dataset['A_1'])\n",
    "print(dataset['ho2_1'].mean())\n",
    "\n",
    "dataset['D_1'] = 2*dataset['k16']\n",
    "dataset['E_1'] = dataset['k14']*dataset['no_mole'] + dataset['k15']*dataset['ho2_1']\n",
    "dataset['F_1'] = -(dataset['lossch4_mole'] + dataset['k9a']*dataset['ch3ooh_0']*dataset['oh_mole']) \n",
    "\n",
    "dataset['ch3o2_1'] = (-dataset['E_1']+(dataset['E_1']*dataset['E_1']-4*dataset['D_1']*dataset['F_1'])**(0.5))/(2*dataset['D_1'])\n",
    "print(dataset['ch3o2_1'].mean())\n",
    "\n",
    "dataset['ch3ooh_1'] = dataset['k15b']*dataset['ho2_1']*dataset['ch3o2_1']/(dataset['k9']*dataset['oh_mole'])\n",
    "print(dataset['ch3ooh_1'].mean())"
   ]
  },
  {
   "cell_type": "code",
   "execution_count": 68,
   "id": "82d65756-f4e3-4517-9848-4ec7e8610d54",
   "metadata": {},
   "outputs": [
    {
     "name": "stdout",
     "output_type": "stream",
     "text": [
      "99517224.77039766\n",
      "92533802.67764422\n",
      "8443685786.732276\n"
     ]
    }
   ],
   "source": [
    "dataset['A_2'] = 2*dataset['k12']\n",
    "dataset['B_2'] = dataset['k10']*dataset['no_mole'] + dataset['k11']*dataset['o3_mole'] + dataset['k13']*dataset['oh_mole'] + dataset['k15']*dataset['ch3o2_1']\n",
    "dataset['C_2'] = -(dataset['k14']*dataset['no_mole']*dataset['ch3o2_1'] + dataset['k6']*dataset['oh_mole']*dataset['hcho_mole'] + dataset['k7']*dataset['oh_mole']*dataset['o3_mole'] + dataset['lossco_mole']) \n",
    "\n",
    "dataset['ho2_2'] = (-dataset['B_2']+(dataset['B_2']*dataset['B_2']-4*dataset['A_2']*dataset['C_2'])**(0.5))/(2*dataset['A_2'])\n",
    "print(dataset['ho2_2'].mean())\n",
    "\n",
    "dataset['D_2'] = 2*dataset['k16']\n",
    "dataset['E_2'] = dataset['k14']*dataset['no_mole'] + dataset['k15']*dataset['ho2_2']\n",
    "dataset['F_2'] = -(dataset['lossch4_mole'] + dataset['k9a']*dataset['ch3ooh_1']*dataset['oh_mole']) \n",
    "\n",
    "dataset['ch3o2_2'] = (-dataset['E_2']+(dataset['E_2']*dataset['E_2']-4*dataset['D_2']*dataset['F_2'])**(0.5))/(2*dataset['D_2'])\n",
    "print(dataset['ch3o2_2'].mean())\n",
    "\n",
    "dataset['ch3ooh_2'] = dataset['k15b']*dataset['ho2_2']*dataset['ch3o2_2']/(dataset['k9']*dataset['oh_mole'])\n",
    "print(dataset['ch3ooh_2'].mean())"
   ]
  },
  {
   "cell_type": "code",
   "execution_count": 69,
   "id": "4b92f0b7-8b85-4ac3-91b6-514fffdb877c",
   "metadata": {},
   "outputs": [
    {
     "name": "stdout",
     "output_type": "stream",
     "text": [
      "99012030.94859117\n",
      "93543213.01625755\n",
      "8451055154.667015\n"
     ]
    }
   ],
   "source": [
    "dataset['A_3'] = 2*dataset['k12']\n",
    "dataset['B_3'] = dataset['k10']*dataset['no_mole'] + dataset['k11']*dataset['o3_mole'] + dataset['k13']*dataset['oh_mole'] + dataset['k15']*dataset['ch3o2_2']\n",
    "dataset['C_3'] = -(dataset['k14']*dataset['no_mole']*dataset['ch3o2_2'] + dataset['k6']*dataset['oh_mole']*dataset['hcho_mole'] + dataset['k7']*dataset['oh_mole']*dataset['o3_mole'] + dataset['lossco_mole']) \n",
    "\n",
    "dataset['ho2_3'] = (-dataset['B_3']+(dataset['B_3']*dataset['B_3']-4*dataset['A_3']*dataset['C_3'])**(0.5))/(2*dataset['A_3'])\n",
    "print(dataset['ho2_3'].mean())\n",
    "\n",
    "dataset['D_3'] = 2*dataset['k16']\n",
    "dataset['E_3'] = dataset['k14']*dataset['no_mole'] + dataset['k15']*dataset['ho2_3']\n",
    "dataset['F_3'] = -(dataset['lossch4_mole'] + dataset['k9a']*dataset['ch3ooh_2']*dataset['oh_mole']) \n",
    "\n",
    "dataset['ch3o2_3'] = (-dataset['E_3']+(dataset['E_3']*dataset['E_3']-4*dataset['D_3']*dataset['F_3'])**(0.5))/(2*dataset['D_3'])\n",
    "print(dataset['ch3o2_3'].mean())\n",
    "\n",
    "dataset['ch3ooh_3'] = dataset['k15b']*dataset['ho2_3']*dataset['ch3o2_3']/(dataset['k9']*dataset['oh_mole'])\n",
    "print(dataset['ch3ooh_3'].mean())"
   ]
  },
  {
   "cell_type": "code",
   "execution_count": 70,
   "id": "8819d827-8f23-4e65-aa4d-36db47dbb87f",
   "metadata": {},
   "outputs": [
    {
     "name": "stdout",
     "output_type": "stream",
     "text": [
      "98910483.91004172\n",
      "93627978.92318925\n",
      "8444238752.459099\n"
     ]
    }
   ],
   "source": [
    "dataset['A_4'] = 2*dataset['k12']\n",
    "dataset['B_4'] = dataset['k10']*dataset['no_mole'] + dataset['k11']*dataset['o3_mole'] + dataset['k13']*dataset['oh_mole'] + dataset['k15']*dataset['ch3o2_3']\n",
    "dataset['C_4'] = -(dataset['k14']*dataset['no_mole']*dataset['ch3o2_3'] + dataset['k6']*dataset['oh_mole']*dataset['hcho_mole'] + dataset['k7']*dataset['oh_mole']*dataset['o3_mole'] + dataset['lossco_mole']) \n",
    "\n",
    "dataset['ho2_4'] = (-dataset['B_4']+(dataset['B_4']*dataset['B_4']-4*dataset['A_4']*dataset['C_4'])**(0.5))/(2*dataset['A_4'])\n",
    "print(dataset['ho2_4'].mean())\n",
    "\n",
    "dataset['D_4'] = 2*dataset['k16']\n",
    "dataset['E_4'] = dataset['k14']*dataset['no_mole'] + dataset['k15']*dataset['ho2_4']\n",
    "dataset['F_4'] = -(dataset['lossch4_mole'] + dataset['k9a']*dataset['ch3ooh_3']*dataset['oh_mole']) \n",
    "\n",
    "dataset['ch3o2_4'] = (-dataset['E_4']+(dataset['E_4']*dataset['E_4']-4*dataset['D_4']*dataset['F_4'])**(0.5))/(2*dataset['D_4'])\n",
    "print(dataset['ch3o2_4'].mean())\n",
    "\n",
    "dataset['ch3ooh_4'] = dataset['k15b']*dataset['ho2_4']*dataset['ch3o2_4']/(dataset['k9']*dataset['oh_mole'])\n",
    "print(dataset['ch3ooh_4'].mean())"
   ]
  },
  {
   "cell_type": "code",
   "execution_count": 71,
   "id": "948f7384-797c-43dd-8725-0aa341596863",
   "metadata": {},
   "outputs": [
    {
     "name": "stdout",
     "output_type": "stream",
     "text": [
      "98908368.29517889\n",
      "93598562.88534993\n",
      "8441955968.197349\n"
     ]
    }
   ],
   "source": [
    "dataset['A_5'] = 2*dataset['k12']\n",
    "dataset['B_5'] = dataset['k10']*dataset['no_mole'] + dataset['k11']*dataset['o3_mole'] + dataset['k13']*dataset['oh_mole'] + dataset['k15']*dataset['ch3o2_4']\n",
    "dataset['C_5'] = -(dataset['k14']*dataset['no_mole']*dataset['ch3o2_4'] + dataset['k6']*dataset['oh_mole']*dataset['hcho_mole'] + dataset['k7']*dataset['oh_mole']*dataset['o3_mole'] + dataset['lossco_mole']) \n",
    "\n",
    "dataset['ho2_5'] = (-dataset['B_5']+(dataset['B_5']*dataset['B_5']-4*dataset['A_5']*dataset['C_5'])**(0.5))/(2*dataset['A_5'])\n",
    "print(dataset['ho2_5'].mean())\n",
    "\n",
    "dataset['D_5'] = 2*dataset['k16']\n",
    "dataset['E_5'] = dataset['k14']*dataset['no_mole'] + dataset['k15']*dataset['ho2_5']\n",
    "dataset['F_5'] = -(dataset['lossch4_mole'] + dataset['k9a']*dataset['ch3ooh_4']*dataset['oh_mole']) \n",
    "\n",
    "dataset['ch3o2_5'] = (-dataset['E_5']+(dataset['E_5']*dataset['E_5']-4*dataset['D_5']*dataset['F_5'])**(0.5))/(2*dataset['D_5'])\n",
    "print(dataset['ch3o2_5'].mean())\n",
    "\n",
    "dataset['ch3ooh_5'] = dataset['k15b']*dataset['ho2_5']*dataset['ch3o2_5']/(dataset['k9']*dataset['oh_mole'])\n",
    "print(dataset['ch3ooh_5'].mean())"
   ]
  },
  {
   "cell_type": "code",
   "execution_count": 72,
   "id": "b2c1906d-7ea7-4328-a082-aed6d9965693",
   "metadata": {},
   "outputs": [
    {
     "name": "stdout",
     "output_type": "stream",
     "text": [
      "98914912.29764101\n",
      "93582024.68222393\n",
      "8441723392.073544\n"
     ]
    }
   ],
   "source": [
    "dataset['A_6'] = 2*dataset['k12']\n",
    "dataset['B_6'] = dataset['k10']*dataset['no_mole'] + dataset['k11']*dataset['o3_mole'] + dataset['k13']*dataset['oh_mole'] + dataset['k15']*dataset['ch3o2_5']\n",
    "dataset['C_6'] = -(dataset['k14']*dataset['no_mole']*dataset['ch3o2_5'] + dataset['k6']*dataset['oh_mole']*dataset['hcho_mole'] + dataset['k7']*dataset['oh_mole']*dataset['o3_mole'] + dataset['lossco_mole']) \n",
    "\n",
    "dataset['ho2_6'] = (-dataset['B_6']+(dataset['B_6']*dataset['B_6']-4*dataset['A_6']*dataset['C_6'])**(0.5))/(2*dataset['A_6'])\n",
    "print(dataset['ho2_6'].mean())\n",
    "\n",
    "dataset['D_6'] = 2*dataset['k16']\n",
    "dataset['E_6'] = dataset['k14']*dataset['no_mole'] + dataset['k15']*dataset['ho2_6']\n",
    "dataset['F_6'] = -(dataset['lossch4_mole'] + dataset['k9a']*dataset['ch3ooh_5']*dataset['oh_mole']) \n",
    "\n",
    "dataset['ch3o2_6'] = (-dataset['E_6']+(dataset['E_6']*dataset['E_6']-4*dataset['D_6']*dataset['F_6'])**(0.5))/(2*dataset['D_6'])\n",
    "print(dataset['ch3o2_6'].mean())\n",
    "\n",
    "dataset['ch3ooh_6'] = dataset['k15b']*dataset['ho2_6']*dataset['ch3o2_6']/(dataset['k9']*dataset['oh_mole'])\n",
    "print(dataset['ch3ooh_6'].mean())"
   ]
  },
  {
   "cell_type": "code",
   "execution_count": 73,
   "id": "98c680d3-a344-4415-9f76-3b0ed447caf9",
   "metadata": {},
   "outputs": [
    {
     "name": "stdout",
     "output_type": "stream",
     "text": [
      "98917921.19510624\n",
      "93577722.55341357\n",
      "8441845735.156822\n"
     ]
    }
   ],
   "source": [
    "dataset['A_7'] = 2*dataset['k12']\n",
    "dataset['B_7'] = dataset['k10']*dataset['no_mole'] + dataset['k11']*dataset['o3_mole'] + dataset['k13']*dataset['oh_mole'] + dataset['k15']*dataset['ch3o2_6']\n",
    "dataset['C_7'] = -(dataset['k14']*dataset['no_mole']*dataset['ch3o2_6'] + dataset['k6']*dataset['oh_mole']*dataset['hcho_mole'] + dataset['k7']*dataset['oh_mole']*dataset['o3_mole'] + dataset['lossco_mole']) \n",
    "\n",
    "dataset['ho2_7'] = (-dataset['B_7']+(dataset['B_7']*dataset['B_7']-4*dataset['A_7']*dataset['C_7'])**(0.5))/(2*dataset['A_7'])\n",
    "print(dataset['ho2_7'].mean())\n",
    "\n",
    "dataset['D_7'] = 2*dataset['k16']\n",
    "dataset['E_7'] = dataset['k14']*dataset['no_mole'] + dataset['k15']*dataset['ho2_7']\n",
    "dataset['F_7'] = -(dataset['lossch4_mole'] + dataset['k9a']*dataset['ch3ooh_6']*dataset['oh_mole']) \n",
    "\n",
    "dataset['ch3o2_7'] = (-dataset['E_7']+(dataset['E_7']*dataset['E_7']-4*dataset['D_7']*dataset['F_7'])**(0.5))/(2*dataset['D_7'])\n",
    "print(dataset['ch3o2_7'].mean())\n",
    "\n",
    "dataset['ch3ooh_7'] = dataset['k15b']*dataset['ho2_7']*dataset['ch3o2_7']/(dataset['k9']*dataset['oh_mole'])\n",
    "print(dataset['ch3ooh_7'].mean())"
   ]
  },
  {
   "cell_type": "code",
   "execution_count": 74,
   "id": "25898cdc-fedd-4595-80da-ef8d5d383a8e",
   "metadata": {},
   "outputs": [
    {
     "name": "stdout",
     "output_type": "stream",
     "text": [
      "98918691.01524818\n",
      "93577293.3984717\n",
      "8441924323.163586\n"
     ]
    }
   ],
   "source": [
    "dataset['A_8'] = 2*dataset['k12']\n",
    "dataset['B_8'] = dataset['k10']*dataset['no_mole'] + dataset['k11']*dataset['o3_mole'] + dataset['k13']*dataset['oh_mole'] + dataset['k15']*dataset['ch3o2_7']\n",
    "dataset['C_8'] = -(dataset['k14']*dataset['no_mole']*dataset['ch3o2_7'] + dataset['k6']*dataset['oh_mole']*dataset['hcho_mole'] + dataset['k7']*dataset['oh_mole']*dataset['o3_mole'] + dataset['lossco_mole']) \n",
    "\n",
    "dataset['ho2_8'] = (-dataset['B_8']+(dataset['B_8']*dataset['B_8']-4*dataset['A_8']*dataset['C_8'])**(0.5))/(2*dataset['A_8'])\n",
    "print(dataset['ho2_8'].mean())\n",
    "\n",
    "dataset['D_8'] = 2*dataset['k16']\n",
    "dataset['E_8'] = dataset['k14']*dataset['no_mole'] + dataset['k15']*dataset['ho2_8']\n",
    "dataset['F_8'] = -(dataset['lossch4_mole'] + dataset['k9a']*dataset['ch3ooh_7']*dataset['oh_mole']) \n",
    "\n",
    "dataset['ch3o2_8'] = (-dataset['E_8']+(dataset['E_8']*dataset['E_8']-4*dataset['D_8']*dataset['F_8'])**(0.5))/(2*dataset['D_8'])\n",
    "print(dataset['ch3o2_8'].mean())\n",
    "\n",
    "dataset['ch3ooh_8'] = dataset['k15b']*dataset['ho2_8']*dataset['ch3o2_8']/(dataset['k9']*dataset['oh_mole'])\n",
    "print(dataset['ch3ooh_8'].mean())"
   ]
  },
  {
   "cell_type": "code",
   "execution_count": 75,
   "id": "11198aa5-73ca-44e6-ae04-4e383220ae85",
   "metadata": {},
   "outputs": [
    {
     "name": "stdout",
     "output_type": "stream",
     "text": [
      "98918779.58549\n",
      "93577478.28782311\n",
      "8441949438.960443\n"
     ]
    }
   ],
   "source": [
    "dataset['A_9'] = 2*dataset['k12']\n",
    "dataset['B_9'] = dataset['k10']*dataset['no_mole'] + dataset['k11']*dataset['o3_mole'] + dataset['k13']*dataset['oh_mole'] + dataset['k15']*dataset['ch3o2_8']\n",
    "dataset['C_9'] = -(dataset['k14']*dataset['no_mole']*dataset['ch3o2_8'] + dataset['k6']*dataset['oh_mole']*dataset['hcho_mole'] + dataset['k7']*dataset['oh_mole']*dataset['o3_mole'] + dataset['lossco_mole']) \n",
    "\n",
    "dataset['ho2_9'] = (-dataset['B_9']+(dataset['B_9']*dataset['B_9']-4*dataset['A_9']*dataset['C_9'])**(0.5))/(2*dataset['A_9'])\n",
    "print(dataset['ho2_9'].mean())\n",
    "\n",
    "dataset['D_9'] = 2*dataset['k16']\n",
    "dataset['E_9'] = dataset['k14']*dataset['no_mole'] + dataset['k15']*dataset['ho2_9']\n",
    "dataset['F_9'] = -(dataset['lossch4_mole'] + dataset['k9a']*dataset['ch3ooh_8']*dataset['oh_mole']) \n",
    "\n",
    "dataset['ch3o2_9'] = (-dataset['E_9']+(dataset['E_9']*dataset['E_9']-4*dataset['D_9']*dataset['F_9'])**(0.5))/(2*dataset['D_9'])\n",
    "print(dataset['ch3o2_9'].mean())\n",
    "\n",
    "dataset['ch3ooh_9'] = dataset['k15b']*dataset['ho2_9']*dataset['ch3o2_9']/(dataset['k9']*dataset['oh_mole'])\n",
    "print(dataset['ch3ooh_9'].mean())"
   ]
  },
  {
   "cell_type": "code",
   "execution_count": 76,
   "id": "eded5db4-3afa-4b13-ab0d-9374e5044ae0",
   "metadata": {},
   "outputs": [
    {
     "name": "stdout",
     "output_type": "stream",
     "text": [
      "98918754.11475384\n",
      "93577598.07640822\n",
      "8441953958.978063\n"
     ]
    }
   ],
   "source": [
    "dataset['A_10'] = 2*dataset['k12']\n",
    "dataset['B_10'] = dataset['k10']*dataset['no_mole'] + dataset['k11']*dataset['o3_mole'] + dataset['k13']*dataset['oh_mole'] + dataset['k15']*dataset['ch3o2_9']\n",
    "dataset['C_10'] = -(dataset['k14']*dataset['no_mole']*dataset['ch3o2_9'] + dataset['k6']*dataset['oh_mole']*dataset['hcho_mole'] + dataset['k7']*dataset['oh_mole']*dataset['o3_mole'] + dataset['lossco_mole']) \n",
    "\n",
    "dataset['ho2_10'] = (-dataset['B_10']+(dataset['B_10']*dataset['B_10']-4*dataset['A_10']*dataset['C_10'])**(0.5))/(2*dataset['A_10'])\n",
    "print(dataset['ho2_10'].mean())\n",
    "\n",
    "dataset['D_10'] = 2*dataset['k16']\n",
    "dataset['E_10'] = dataset['k14']*dataset['no_mole'] + dataset['k15']*dataset['ho2_10']\n",
    "dataset['F_10'] = -(dataset['lossch4_mole'] + dataset['k9a']*dataset['ch3ooh_9']*dataset['oh_mole']) \n",
    "\n",
    "dataset['ch3o2_10'] = (-dataset['E_10']+(dataset['E_10']*dataset['E_10']-4*dataset['D_10']*dataset['F_10'])**(0.5))/(2*dataset['D_10'])\n",
    "print(dataset['ch3o2_10'].mean())\n",
    "\n",
    "dataset['ch3ooh_10'] = dataset['k15b']*dataset['ho2_10']*dataset['ch3o2_10']/(dataset['k9']*dataset['oh_mole'])\n",
    "print(dataset['ch3ooh_10'].mean())"
   ]
  },
  {
   "cell_type": "code",
   "execution_count": 77,
   "id": "52782086-750b-4029-88fe-c0bda2209d5c",
   "metadata": {},
   "outputs": [
    {
     "name": "stdout",
     "output_type": "stream",
     "text": [
      "98918735.46742144\n",
      "93577635.41920115\n",
      "8441953827.223866\n"
     ]
    }
   ],
   "source": [
    "dataset['A_11'] = 2*dataset['k12']\n",
    "dataset['B_11'] = dataset['k10']*dataset['no_mole'] + dataset['k11']*dataset['o3_mole'] + dataset['k13']*dataset['oh_mole'] + dataset['k15']*dataset['ch3o2_10']\n",
    "dataset['C_11'] = -(dataset['k14']*dataset['no_mole']*dataset['ch3o2_10'] + dataset['k6']*dataset['oh_mole']*dataset['hcho_mole'] + dataset['k7']*dataset['oh_mole']*dataset['o3_mole'] + dataset['lossco_mole']) \n",
    "\n",
    "dataset['ho2_11'] = (-dataset['B_11']+(dataset['B_11']*dataset['B_11']-4*dataset['A_11']*dataset['C_11'])**(0.5))/(2*dataset['A_11'])\n",
    "print(dataset['ho2_11'].mean())\n",
    "\n",
    "dataset['D_11'] = 2*dataset['k16']\n",
    "dataset['E_11'] = dataset['k14']*dataset['no_mole'] + dataset['k15']*dataset['ho2_11']\n",
    "dataset['F_11'] = -(dataset['lossch4_mole'] + dataset['k9a']*dataset['ch3ooh_10']*dataset['oh_mole']) \n",
    "\n",
    "dataset['ch3o2_11'] = (-dataset['E_11']+(dataset['E_11']*dataset['E_11']-4*dataset['D_11']*dataset['F_11'])**(0.5))/(2*dataset['D_11'])\n",
    "print(dataset['ch3o2_11'].mean())\n",
    "\n",
    "dataset['ch3ooh_11'] = dataset['k15b']*dataset['ho2_11']*dataset['ch3o2_11']/(dataset['k9']*dataset['oh_mole'])\n",
    "print(dataset['ch3ooh_11'].mean())"
   ]
  },
  {
   "cell_type": "code",
   "execution_count": 78,
   "id": "785810ab-32ad-4e80-8004-5a11715c8081",
   "metadata": {},
   "outputs": [
    {
     "name": "stdout",
     "output_type": "stream",
     "text": [
      "98918729.44991484\n",
      "93577641.6152372\n",
      "8441953386.438945\n"
     ]
    }
   ],
   "source": [
    "dataset['A_12'] = 2*dataset['k12']\n",
    "dataset['B_12'] = dataset['k10']*dataset['no_mole'] + dataset['k11']*dataset['o3_mole'] + dataset['k13']*dataset['oh_mole'] + dataset['k15']*dataset['ch3o2_11']\n",
    "dataset['C_12'] = -(dataset['k14']*dataset['no_mole']*dataset['ch3o2_11'] + dataset['k6']*dataset['oh_mole']*dataset['hcho_mole'] + dataset['k7']*dataset['oh_mole']*dataset['o3_mole'] + dataset['lossco_mole']) \n",
    "\n",
    "dataset['ho2_12'] = (-dataset['B_12']+(dataset['B_12']*dataset['B_12']-4*dataset['A_12']*dataset['C_12'])**(0.5))/(2*dataset['A_12'])\n",
    "print(dataset['ho2_12'].mean())\n",
    "\n",
    "dataset['D_12'] = 2*dataset['k16']\n",
    "dataset['E_12'] = dataset['k14']*dataset['no_mole'] + dataset['k15']*dataset['ho2_12']\n",
    "dataset['F_12'] = -(dataset['lossch4_mole'] + dataset['k9a']*dataset['ch3ooh_11']*dataset['oh_mole']) \n",
    "\n",
    "dataset['ch3o2_12'] = (-dataset['E_12']+(dataset['E_12']*dataset['E_12']-4*dataset['D_12']*dataset['F_12'])**(0.5))/(2*dataset['D_12'])\n",
    "print(dataset['ch3o2_12'].mean())\n",
    "\n",
    "dataset['ch3ooh_12'] = dataset['k15b']*dataset['ho2_12']*dataset['ch3o2_12']/(dataset['k9']*dataset['oh_mole'])\n",
    "print(dataset['ch3ooh_12'].mean())"
   ]
  },
  {
   "cell_type": "code",
   "execution_count": 79,
   "id": "78cbb074-0a5c-4c62-90b5-80ff80990ed3",
   "metadata": {},
   "outputs": [
    {
     "name": "stdout",
     "output_type": "stream",
     "text": [
      "98918728.41771425\n",
      "93577641.10106225\n",
      "8441953206.120577\n"
     ]
    }
   ],
   "source": [
    "dataset['A_13'] = 2*dataset['k12']\n",
    "dataset['B_13'] = dataset['k10']*dataset['no_mole'] + dataset['k11']*dataset['o3_mole'] + dataset['k13']*dataset['oh_mole'] + dataset['k15']*dataset['ch3o2_12']\n",
    "dataset['C_13'] = -(dataset['k14']*dataset['no_mole']*dataset['ch3o2_12'] + dataset['k6']*dataset['oh_mole']*dataset['hcho_mole'] + dataset['k7']*dataset['oh_mole']*dataset['o3_mole'] + dataset['lossco_mole']) \n",
    "\n",
    "dataset['ho2_13'] = (-dataset['B_13']+(dataset['B_13']*dataset['B_13']-4*dataset['A_13']*dataset['C_13'])**(0.5))/(2*dataset['A_13'])\n",
    "print(dataset['ho2_13'].mean())\n",
    "\n",
    "dataset['D_13'] = 2*dataset['k16']\n",
    "dataset['E_13'] = dataset['k14']*dataset['no_mole'] + dataset['k15']*dataset['ho2_13']\n",
    "dataset['F_13'] = -(dataset['lossch4_mole'] + dataset['k9a']*dataset['ch3ooh_12']*dataset['oh_mole']) \n",
    "\n",
    "dataset['ch3o2_13'] = (-dataset['E_13']+(dataset['E_13']*dataset['E_13']-4*dataset['D_13']*dataset['F_13'])**(0.5))/(2*dataset['D_13'])\n",
    "print(dataset['ch3o2_13'].mean())\n",
    "\n",
    "dataset['ch3ooh_13'] = dataset['k15b']*dataset['ho2_13']*dataset['ch3o2_13']/(dataset['k9']*dataset['oh_mole'])\n",
    "print(dataset['ch3ooh_13'].mean())"
   ]
  },
  {
   "cell_type": "code",
   "execution_count": 80,
   "id": "c7a7e636-29ad-452a-be9b-91036961c16d",
   "metadata": {},
   "outputs": [
    {
     "name": "stdout",
     "output_type": "stream",
     "text": [
      "98918728.4928418\n",
      "93577640.32494798\n",
      "8441953166.220248\n"
     ]
    }
   ],
   "source": [
    "dataset['A_14'] = 2*dataset['k12']\n",
    "dataset['B_14'] = dataset['k10']*dataset['no_mole'] + dataset['k11']*dataset['o3_mole'] + dataset['k13']*dataset['oh_mole'] + dataset['k15']*dataset['ch3o2_13']\n",
    "dataset['C_14'] = -(dataset['k14']*dataset['no_mole']*dataset['ch3o2_13'] + dataset['k6']*dataset['oh_mole']*dataset['hcho_mole'] + dataset['k7']*dataset['oh_mole']*dataset['o3_mole'] + dataset['lossco_mole']) \n",
    "\n",
    "dataset['ho2_14'] = (-dataset['B_14']+(dataset['B_14']*dataset['B_14']-4*dataset['A_14']*dataset['C_14'])**(0.5))/(2*dataset['A_14'])\n",
    "print(dataset['ho2_14'].mean())\n",
    "\n",
    "dataset['D_14'] = 2*dataset['k16']\n",
    "dataset['E_14'] = dataset['k14']*dataset['no_mole'] + dataset['k15']*dataset['ho2_14']\n",
    "dataset['F_14'] = -(dataset['lossch4_mole'] + dataset['k9a']*dataset['ch3ooh_13']*dataset['oh_mole']) \n",
    "\n",
    "dataset['ch3o2_14'] = (-dataset['E_14']+(dataset['E_14']*dataset['E_14']-4*dataset['D_14']*dataset['F_14'])**(0.5))/(2*dataset['D_14'])\n",
    "print(dataset['ch3o2_14'].mean())\n",
    "\n",
    "dataset['ch3ooh_14'] = dataset['k15b']*dataset['ho2_14']*dataset['ch3o2_14']/(dataset['k9']*dataset['oh_mole'])\n",
    "print(dataset['ch3ooh_14'].mean())"
   ]
  },
  {
   "cell_type": "code",
   "execution_count": 81,
   "id": "062deb3d-1822-44a6-b35d-cf201632906a",
   "metadata": {},
   "outputs": [
    {
     "name": "stdout",
     "output_type": "stream",
     "text": [
      "98918728.61961873\n",
      "93577640.02496207\n",
      "8441953164.923061\n"
     ]
    }
   ],
   "source": [
    "dataset['A_15'] = 2*dataset['k12']\n",
    "dataset['B_15'] = dataset['k10']*dataset['no_mole'] + dataset['k11']*dataset['o3_mole'] + dataset['k13']*dataset['oh_mole'] + dataset['k15']*dataset['ch3o2_14']\n",
    "dataset['C_15'] = -(dataset['k14']*dataset['no_mole']*dataset['ch3o2_14'] + dataset['k6']*dataset['oh_mole']*dataset['hcho_mole'] + dataset['k7']*dataset['oh_mole']*dataset['o3_mole'] + dataset['lossco_mole']) \n",
    "\n",
    "dataset['ho2_15'] = (-dataset['B_15']+(dataset['B_15']*dataset['B_15']-4*dataset['A_15']*dataset['C_15'])**(0.5))/(2*dataset['A_15'])\n",
    "print(dataset['ho2_15'].mean())\n",
    "\n",
    "dataset['D_15'] = 2*dataset['k16']\n",
    "dataset['E_15'] = dataset['k14']*dataset['no_mole'] + dataset['k15']*dataset['ho2_15']\n",
    "dataset['F_15'] = -(dataset['lossch4_mole'] + dataset['k9a']*dataset['ch3ooh_14']*dataset['oh_mole']) \n",
    "\n",
    "dataset['ch3o2_15'] = (-dataset['E_15']+(dataset['E_15']*dataset['E_15']-4*dataset['D_15']*dataset['F_15'])**(0.5))/(2*dataset['D_15'])\n",
    "print(dataset['ch3o2_15'].mean())\n",
    "\n",
    "dataset['ch3ooh_15'] = dataset['k15b']*dataset['ho2_15']*dataset['ch3o2_15']/(dataset['k9']*dataset['oh_mole'])\n",
    "print(dataset['ch3ooh_15'].mean())"
   ]
  },
  {
   "cell_type": "code",
   "execution_count": 82,
   "id": "f6178f1e-ed32-4d78-8f70-6ea1ab1d2f6a",
   "metadata": {},
   "outputs": [
    {
     "name": "stdout",
     "output_type": "stream",
     "text": [
      "98918728.6699627\n",
      "93577639.96101291\n",
      "8441953168.033868\n"
     ]
    }
   ],
   "source": [
    "dataset['A_16'] = 2*dataset['k12']\n",
    "dataset['B_16'] = dataset['k10']*dataset['no_mole'] + dataset['k11']*dataset['o3_mole'] + dataset['k13']*dataset['oh_mole'] + dataset['k15']*dataset['ch3o2_15']\n",
    "dataset['C_16'] = -(dataset['k14']*dataset['no_mole']*dataset['ch3o2_15'] + dataset['k6']*dataset['oh_mole']*dataset['hcho_mole'] + dataset['k7']*dataset['oh_mole']*dataset['o3_mole'] + dataset['lossco_mole']) \n",
    "\n",
    "dataset['ho2_16'] = (-dataset['B_16']+(dataset['B_16']*dataset['B_16']-4*dataset['A_16']*dataset['C_16'])**(0.5))/(2*dataset['A_16'])\n",
    "print(dataset['ho2_16'].mean())\n",
    "\n",
    "dataset['D_16'] = 2*dataset['k16']\n",
    "dataset['E_16'] = dataset['k14']*dataset['no_mole'] + dataset['k15']*dataset['ho2_16']\n",
    "dataset['F_16'] = -(dataset['lossch4_mole'] + dataset['k9a']*dataset['ch3ooh_15']*dataset['oh_mole']) \n",
    "\n",
    "dataset['ch3o2_16'] = (-dataset['E_16']+(dataset['E_16']*dataset['E_16']-4*dataset['D_16']*dataset['F_16'])**(0.5))/(2*dataset['D_16'])\n",
    "print(dataset['ch3o2_16'].mean())\n",
    "\n",
    "dataset['ch3ooh_16'] = dataset['k15b']*dataset['ho2_16']*dataset['ch3o2_16']/(dataset['k9']*dataset['oh_mole'])\n",
    "print(dataset['ch3ooh_16'].mean())"
   ]
  },
  {
   "cell_type": "code",
   "execution_count": 83,
   "id": "64f60766-ff1a-44de-a23a-4ee8b9ecd8dd",
   "metadata": {},
   "outputs": [
    {
     "name": "stdout",
     "output_type": "stream",
     "text": [
      "98918728.68111739\n",
      "93577639.95977317\n",
      "8441953169.561983\n"
     ]
    }
   ],
   "source": [
    "dataset['A_17'] = 2*dataset['k12']\n",
    "dataset['B_17'] = dataset['k10']*dataset['no_mole'] + dataset['k11']*dataset['o3_mole'] + dataset['k13']*dataset['oh_mole'] + dataset['k15']*dataset['ch3o2_16']\n",
    "dataset['C_17'] = -(dataset['k14']*dataset['no_mole']*dataset['ch3o2_16'] + dataset['k6']*dataset['oh_mole']*dataset['hcho_mole'] + dataset['k7']*dataset['oh_mole']*dataset['o3_mole'] + dataset['lossco_mole']) \n",
    "\n",
    "dataset['ho2_17'] = (-dataset['B_17']+(dataset['B_17']*dataset['B_17']-4*dataset['A_17']*dataset['C_17'])**(0.5))/(2*dataset['A_17'])\n",
    "print(dataset['ho2_17'].mean())\n",
    "\n",
    "dataset['D_17'] = 2*dataset['k16']\n",
    "dataset['E_17'] = dataset['k14']*dataset['no_mole'] + dataset['k15']*dataset['ho2_17']\n",
    "dataset['F_17'] = -(dataset['lossch4_mole'] + dataset['k9a']*dataset['ch3ooh_16']*dataset['oh_mole']) \n",
    "\n",
    "dataset['ch3o2_17'] = (-dataset['E_17']+(dataset['E_17']*dataset['E_17']-4*dataset['D_17']*dataset['F_17'])**(0.5))/(2*dataset['D_17'])\n",
    "print(dataset['ch3o2_17'].mean())\n",
    "\n",
    "dataset['ch3ooh_17'] = dataset['k15b']*dataset['ho2_17']*dataset['ch3o2_17']/(dataset['k9']*dataset['oh_mole'])\n",
    "print(dataset['ch3ooh_17'].mean())"
   ]
  },
  {
   "cell_type": "code",
   "execution_count": 84,
   "id": "707d1555-a99a-43de-b86b-6ae0b6f32282",
   "metadata": {},
   "outputs": [
    {
     "name": "stdout",
     "output_type": "stream",
     "text": [
      "98918728.6815275\n",
      "93577639.96515068\n",
      "8441953169.964151\n"
     ]
    }
   ],
   "source": [
    "dataset['A_18'] = 2*dataset['k12']\n",
    "dataset['B_18'] = dataset['k10']*dataset['no_mole'] + dataset['k11']*dataset['o3_mole'] + dataset['k13']*dataset['oh_mole'] + dataset['k15']*dataset['ch3o2_17']\n",
    "dataset['C_18'] = -(dataset['k14']*dataset['no_mole']*dataset['ch3o2_17'] + dataset['k6']*dataset['oh_mole']*dataset['hcho_mole'] + dataset['k7']*dataset['oh_mole']*dataset['o3_mole'] + dataset['lossco_mole']) \n",
    "\n",
    "dataset['ho2_18'] = (-dataset['B_18']+(dataset['B_18']*dataset['B_18']-4*dataset['A_18']*dataset['C_18'])**(0.5))/(2*dataset['A_18'])\n",
    "print(dataset['ho2_18'].mean())\n",
    "\n",
    "dataset['D_18'] = 2*dataset['k16']\n",
    "dataset['E_18'] = dataset['k14']*dataset['no_mole'] + dataset['k15']*dataset['ho2_18']\n",
    "dataset['F_18'] = -(dataset['lossch4_mole'] + dataset['k9a']*dataset['ch3ooh_17']*dataset['oh_mole']) \n",
    "\n",
    "dataset['ch3o2_18'] = (-dataset['E_18']+(dataset['E_18']*dataset['E_18']-4*dataset['D_18']*dataset['F_18'])**(0.5))/(2*dataset['D_18'])\n",
    "print(dataset['ch3o2_18'].mean())\n",
    "\n",
    "dataset['ch3ooh_18'] = dataset['k15b']*dataset['ho2_18']*dataset['ch3o2_18']/(dataset['k9']*dataset['oh_mole'])\n",
    "print(dataset['ch3ooh_18'].mean())"
   ]
  },
  {
   "cell_type": "code",
   "execution_count": 85,
   "id": "7c1e5dbe-60cf-4a12-922f-2e0c36a5a458",
   "metadata": {},
   "outputs": [
    {
     "name": "stdout",
     "output_type": "stream",
     "text": [
      "98918728.68067658\n",
      "93577639.96771018\n",
      "8441953170.003229\n"
     ]
    }
   ],
   "source": [
    "dataset['A_19'] = 2*dataset['k12']\n",
    "dataset['B_19'] = dataset['k10']*dataset['no_mole'] + dataset['k11']*dataset['o3_mole'] + dataset['k13']*dataset['oh_mole'] + dataset['k15']*dataset['ch3o2_18']\n",
    "dataset['C_19'] = -(dataset['k14']*dataset['no_mole']*dataset['ch3o2_18'] + dataset['k6']*dataset['oh_mole']*dataset['hcho_mole'] + dataset['k7']*dataset['oh_mole']*dataset['o3_mole'] + dataset['lossco_mole']) \n",
    "\n",
    "dataset['ho2_19'] = (-dataset['B_19']+(dataset['B_19']*dataset['B_19']-4*dataset['A_19']*dataset['C_19'])**(0.5))/(2*dataset['A_19'])\n",
    "print(dataset['ho2_19'].mean())\n",
    "\n",
    "dataset['D_19'] = 2*dataset['k16']\n",
    "dataset['E_19'] = dataset['k14']*dataset['no_mole'] + dataset['k15']*dataset['ho2_19']\n",
    "dataset['F_19'] = -(dataset['lossch4_mole'] + dataset['k9a']*dataset['ch3ooh_18']*dataset['oh_mole']) \n",
    "\n",
    "dataset['ch3o2_19'] = (-dataset['E_19']+(dataset['E_19']*dataset['E_19']-4*dataset['D_19']*dataset['F_19'])**(0.5))/(2*dataset['D_19'])\n",
    "print(dataset['ch3o2_19'].mean())\n",
    "\n",
    "dataset['ch3ooh_19'] = dataset['k15b']*dataset['ho2_19']*dataset['ch3o2_19']/(dataset['k9']*dataset['oh_mole'])\n",
    "print(dataset['ch3ooh_19'].mean())"
   ]
  },
  {
   "cell_type": "code",
   "execution_count": 86,
   "id": "5277448e-c9fc-4aa3-ac68-5266078ea938",
   "metadata": {},
   "outputs": [
    {
     "name": "stdout",
     "output_type": "stream",
     "text": [
      "98918728.68024948\n",
      "93577639.96837239\n",
      "8441953169.982916\n"
     ]
    }
   ],
   "source": [
    "dataset['A_20'] = 2*dataset['k12']\n",
    "dataset['B_20'] = dataset['k10']*dataset['no_mole'] + dataset['k11']*dataset['o3_mole'] + dataset['k13']*dataset['oh_mole'] + dataset['k15']*dataset['ch3o2_19']\n",
    "dataset['C_20'] = -(dataset['k14']*dataset['no_mole']*dataset['ch3o2_19'] + dataset['k6']*dataset['oh_mole']*dataset['hcho_mole'] + dataset['k7']*dataset['oh_mole']*dataset['o3_mole'] + dataset['lossco_mole']) \n",
    "\n",
    "dataset['ho2_20'] = (-dataset['B_20']+(dataset['B_20']*dataset['B_20']-4*dataset['A_20']*dataset['C_20'])**(0.5))/(2*dataset['A_20'])\n",
    "print(dataset['ho2_20'].mean())\n",
    "\n",
    "dataset['D_20'] = 2*dataset['k16']\n",
    "dataset['E_20'] = dataset['k14']*dataset['no_mole'] + dataset['k15']*dataset['ho2_20']\n",
    "dataset['F_20'] = -(dataset['lossch4_mole'] + dataset['k9a']*dataset['ch3ooh_19']*dataset['oh_mole']) \n",
    "\n",
    "dataset['ch3o2_20'] = (-dataset['E_20']+(dataset['E_20']*dataset['E_20']-4*dataset['D_20']*dataset['F_20'])**(0.5))/(2*dataset['D_20'])\n",
    "print(dataset['ch3o2_20'].mean())\n",
    "\n",
    "dataset['ch3ooh_20'] = dataset['k15b']*dataset['ho2_20']*dataset['ch3o2_20']/(dataset['k9']*dataset['oh_mole'])\n",
    "print(dataset['ch3ooh_20'].mean())"
   ]
  },
  {
   "cell_type": "code",
   "execution_count": 87,
   "id": "660c0ef4-2b8b-4ab1-9777-251123ed99fc",
   "metadata": {},
   "outputs": [],
   "source": [
    "dataset['ho2_mole'] = dataset['ho2_20']\n",
    "dataset['ch3o2_mole'] = dataset['ch3o2_20']\n",
    "dataset['ch3ooh_mole'] = dataset['ch3ooh_20']"
   ]
  },
  {
   "cell_type": "code",
   "execution_count": 88,
   "id": "fc73d1c0-3571-4b0c-a90c-f8ff36d8da28",
   "metadata": {},
   "outputs": [],
   "source": [
    "dataset_new = dataset[['longitude','latitude','t','loc',\n",
    "                       'o3','o3prod','o3loss','eminox','emivoc',\n",
    "                       'tas','hus','aod','bldep','ua','va','ps',\n",
    "                       'jno2','photo1d','lossch4','lossco',\n",
    "                       'no2','no','oh','h2o','pan','hno3','co','hcho','ch4',\n",
    "                       'ch3o2_mod','ho2_mod','o1d_mod',\n",
    "                       'o3_mole','no2_mole','no_mole','h2o_mole','co_mole','hcho_mole','oh_mole','n2_mole','o2_mole',\n",
    "                       'lossco_mole','lossch4_mole',\n",
    "                       'o1d_mole','ho2_mole','ch3o2_mole','ch3ooh_mole']]"
   ]
  },
  {
   "cell_type": "code",
   "execution_count": 89,
   "id": "4bf38544-24de-47b2-9670-7dad7f83cd1b",
   "metadata": {},
   "outputs": [],
   "source": [
    "dataset_new.to_csv('/Users/csuen/Desktop/Sun-NG-24/radicals/UKESM1-0-LL_2010_2014(ver231206).csv', index=False)"
   ]
  }
 ],
 "metadata": {
  "kernelspec": {
   "display_name": "Python 3 (ipykernel)",
   "language": "python",
   "name": "python3"
  },
  "language_info": {
   "codemirror_mode": {
    "name": "ipython",
    "version": 3
   },
   "file_extension": ".py",
   "mimetype": "text/x-python",
   "name": "python",
   "nbconvert_exporter": "python",
   "pygments_lexer": "ipython3",
   "version": "3.8.18"
  }
 },
 "nbformat": 4,
 "nbformat_minor": 5
}
