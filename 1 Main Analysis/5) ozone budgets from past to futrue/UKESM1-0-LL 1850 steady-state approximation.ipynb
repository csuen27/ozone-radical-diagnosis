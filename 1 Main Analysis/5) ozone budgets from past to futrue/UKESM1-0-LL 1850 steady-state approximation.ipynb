{
 "cells": [
  {
   "cell_type": "code",
   "execution_count": 1,
   "metadata": {},
   "outputs": [],
   "source": [
    "import warnings\n",
    "warnings.filterwarnings(\"ignore\")\n",
    "\n",
    "import pandas as pd\n",
    "import numpy as np\n",
    "import matplotlib.pyplot as plt"
   ]
  },
  {
   "cell_type": "code",
   "execution_count": 2,
   "metadata": {},
   "outputs": [],
   "source": [
    "dataset = pd.read_csv('D://Research/radicals/UKESM1-0-LL_1850(ver240112).csv')"
   ]
  },
  {
   "cell_type": "code",
   "execution_count": 3,
   "metadata": {},
   "outputs": [],
   "source": [
    "dataset['n2_mole'] = dataset['ps']/8.314/dataset['tas']*6.022*10**23*10**(-6)*0.7808\n",
    "dataset['o2_mole'] = dataset['ps']/8.314/dataset['tas']*6.022*10**23*10**(-6)*0.2095\n",
    "dataset['h2o_mole'] = dataset['h2o']/18*6.022*10**23/(8.314*dataset['tas']/dataset['ps']/28.96*10**6)\n",
    "dataset['o3_mole']   = dataset['o3']  *1.01325*10**5/dataset['tas']*7.243*10**7*10**9\n",
    "dataset['no2_mole']  = dataset['no2'] *1.01325*10**5/dataset['tas']*7.243*10**7*10**9\n",
    "dataset['no_mole']   = dataset['no']  *1.01325*10**5/dataset['tas']*7.243*10**7*10**9\n",
    "dataset['oh_mole']   = dataset['oh']  *1.01325*10**5/dataset['tas']*7.243*10**7*10**9\n",
    "dataset['co_mole']   = dataset['co']  *1.01325*10**5/dataset['tas']*7.243*10**7*10**9\n",
    "dataset['hcho_mole'] = dataset['hcho']*1.01325*10**5/dataset['tas']*7.243*10**7*10**9\n",
    "dataset['c2h6_mole'] = dataset['c2h6']*1.01325*10**5/dataset['tas']*7.243*10**7*10**9\n",
    "dataset['c3h8_mole'] = dataset['c3h8']*1.01325*10**5/dataset['tas']*7.243*10**7*10**9\n",
    "dataset['isop_mole'] = dataset['isop']*1.01325*10**5/dataset['tas']*7.243*10**7*10**9"
   ]
  },
  {
   "cell_type": "code",
   "execution_count": 4,
   "metadata": {},
   "outputs": [],
   "source": [
    "dataset['k1'] = 2.15*10**(-11)*np.exp(110/dataset['tas'])\n",
    "dataset['k2'] = 3.30*10**(-11)*np.exp(55/dataset['tas'])\n",
    "dataset['k3'] = 1.63*10**(-10)*np.exp(60/dataset['tas'])\n",
    "dataset['k4'] = 4.30*10**(-32)*(dataset['tas']/300)**(-1.2)*dataset['n2_mole']\n",
    "dataset['k5'] = 1.44*10**(-13)\n",
    "\n",
    "dataset['k6'] = 5.40*10**(-12)*np.exp(135/dataset['tas'])\n",
    "dataset['k7'] = 1.70*10**(-12)*np.exp(-940/dataset['tas'])\n",
    "dataset['k8'] = 2.45*10**(-12)*np.exp(-600/dataset['tas'])\n",
    "dataset['k9'] = 4.01*10**(-12)*np.exp(190/dataset['tas'])\n",
    "dataset['k9a'] = 2.12*10**(-12)*np.exp(190/dataset['tas'])\n",
    "dataset['k9b'] = 1.89*10**(-12)*np.exp(190/dataset['tas'])\n",
    "\n",
    "dataset['k10'] = 3.30*10**(-12)*np.exp(270/dataset['tas'])\n",
    "dataset['k11'] = 2.03*10**(-16)*(dataset['tas']/300)**4.57*np.exp(693/dataset['tas'])\n",
    "dataset['k12'] = 3.00*10**(-13)*np.exp(460/dataset['tas'])\n",
    "dataset['k13'] = 4.80*10**(-11)*np.exp(250/dataset['tas'])\n",
    "\n",
    "dataset['k14'] = 2.30*10**(-12)*np.exp(360/dataset['tas'])\n",
    "dataset['k15'] = 3.80*10**(-13)*np.exp(780/dataset['tas'])\n",
    "dataset['k15a'] = dataset['k15']/(1+498*np.exp(-1160/dataset['tas']))\n",
    "dataset['k15b'] = dataset['k15']-dataset['k15a']\n",
    "dataset['k16'] = 1.03*10**(-13)*np.exp(365/dataset['tas'])\n",
    "\n",
    "dataset['k17'] = 6.90*10**(-12)*np.exp(-1000/dataset['tas'])\n",
    "dataset['k18'] = 2.55*10**(-12)*np.exp(380/dataset['tas'])\n",
    "dataset['k19'] = 6.40*10**(-13)*np.exp(710/dataset['tas'])\n",
    "dataset['k20'] = 7.60*10**(-12)*np.exp(-585/dataset['tas'])\n",
    "dataset['k21'] = 2.90*10**(-12)*np.exp(350/dataset['tas'])\n",
    "dataset['k22'] = 1.51*10**(-13)*np.exp(1300/dataset['tas'])\n",
    "dataset['k23'] = 2.70*10**(-11)*np.exp(390/dataset['tas'])\n",
    "dataset['k24a'] = 2.43*10**(-12)*np.exp(360/dataset['tas'])\n",
    "dataset['k24b'] = 1.12*10**(-13)*np.exp(360/dataset['tas'])\n",
    "dataset['k24'] = 2.54*10**(-12)*np.exp(360/dataset['tas'])\n",
    "dataset['k25'] = 2.05*10**(-13)*np.exp(1300/dataset['tas'])\n",
    "dataset['k26'] = 2.00*10**(-12)\n",
    "dataset['k27'] = 9.99*10**(-15)*np.exp(-1995/dataset['tas'])"
   ]
  },
  {
   "cell_type": "markdown",
   "metadata": {},
   "source": [
    "#### Calculate the radical concentration of [O(${^1}$D)] via steady-state approximation"
   ]
  },
  {
   "cell_type": "code",
   "execution_count": 5,
   "metadata": {},
   "outputs": [],
   "source": [
    "dataset['o1d_mole'] = dataset['photo1d']*dataset['o3_mole']/(dataset['k1']*dataset['n2_mole'] + dataset['k2']*dataset['o2_mole'] + dataset['k3']*dataset['h2o_mole'])"
   ]
  },
  {
   "cell_type": "markdown",
   "metadata": {},
   "source": [
    "#### Set initial level of HO${_2}$ radical for iteration "
   ]
  },
  {
   "cell_type": "code",
   "execution_count": 6,
   "metadata": {},
   "outputs": [],
   "source": [
    "dataset['lossco_mole'] = dataset['lossco']*6.022*10**23*10**(-6)\n",
    "\n",
    "dataset['A_0'] = 2*dataset['k12']\n",
    "dataset['B_0'] = dataset['k10']*dataset['no_mole'] + dataset['k11']*dataset['o3_mole'] + dataset['k13']*dataset['oh_mole']\n",
    "dataset['C_0'] = -(dataset['k6']*dataset['oh_mole']*dataset['hcho_mole'] + dataset['k7']*dataset['oh_mole']*dataset['o3_mole'] + dataset['lossco_mole'])\n",
    "\n",
    "dataset['ho2_0'] = (-dataset['B_0']+(dataset['B_0']*dataset['B_0']-4*dataset['A_0']*dataset['C_0'])**(0.5))/(2*dataset['A_0'])"
   ]
  },
  {
   "cell_type": "markdown",
   "metadata": {},
   "source": [
    "#### Set initial level of CH${_3}$O${_2}$ radical for iteration "
   ]
  },
  {
   "cell_type": "code",
   "execution_count": 7,
   "metadata": {},
   "outputs": [],
   "source": [
    "dataset['lossch4_mole'] = dataset['lossch4']*6.022*10**23*10**(-6)\n",
    "\n",
    "dataset['D_0'] = 2*dataset['k16']\n",
    "dataset['E_0'] = dataset['k14']*dataset['no_mole'] + dataset['k15']*dataset['ho2_0']\n",
    "dataset['F_0'] = -(dataset['lossch4_mole'])\n",
    "\n",
    "dataset['ch3o2_0'] = (-dataset['E_0']+(dataset['E_0']*dataset['E_0']-4*dataset['D_0']*dataset['F_0'])**(0.5))/(2*dataset['D_0'])"
   ]
  },
  {
   "cell_type": "markdown",
   "metadata": {},
   "source": [
    "#### Set initial level of CH${_3}$O${_2}$H radical for iteration "
   ]
  },
  {
   "cell_type": "code",
   "execution_count": 8,
   "metadata": {},
   "outputs": [],
   "source": [
    "dataset['ch3ooh_0'] = dataset['k15b']*dataset['ho2_0']*dataset['ch3o2_0']/(dataset['k9']*dataset['oh_mole'])"
   ]
  },
  {
   "cell_type": "markdown",
   "metadata": {},
   "source": [
    "### Now start iteration"
   ]
  },
  {
   "cell_type": "code",
   "execution_count": 9,
   "metadata": {},
   "outputs": [],
   "source": [
    "dataset['A_1'] = 2*dataset['k12']\n",
    "dataset['B_1'] = dataset['k10']*dataset['no_mole'] + dataset['k11']*dataset['o3_mole'] + dataset['k13']*dataset['oh_mole'] + dataset['k15']*dataset['ch3o2_0']\n",
    "dataset['C_1'] = -(dataset['k14']*dataset['no_mole']*dataset['ch3o2_0'] + dataset['k6']*dataset['oh_mole']*dataset['hcho_mole'] + dataset['k7']*dataset['oh_mole']*dataset['o3_mole'] + dataset['lossco_mole']) \n",
    "\n",
    "dataset['ho2_1'] = (-dataset['B_1']+(dataset['B_1']*dataset['B_1']-4*dataset['A_1']*dataset['C_1'])**(0.5))/(2*dataset['A_1'])\n",
    "\n",
    "dataset['D_1'] = 2*dataset['k16']\n",
    "dataset['E_1'] = dataset['k14']*dataset['no_mole'] + dataset['k15']*dataset['ho2_1']\n",
    "dataset['F_1'] = -(dataset['lossch4_mole'] + dataset['k9a']*dataset['ch3ooh_0']*dataset['oh_mole']) \n",
    "\n",
    "dataset['ch3o2_1'] = (-dataset['E_1']+(dataset['E_1']*dataset['E_1']-4*dataset['D_1']*dataset['F_1'])**(0.5))/(2*dataset['D_1'])\n",
    "\n",
    "dataset['ch3ooh_1'] = dataset['k15b']*dataset['ho2_1']*dataset['ch3o2_1']/(dataset['k9']*dataset['oh_mole'])"
   ]
  },
  {
   "cell_type": "code",
   "execution_count": 10,
   "metadata": {},
   "outputs": [],
   "source": [
    "dataset['A_2'] = 2*dataset['k12']\n",
    "dataset['B_2'] = dataset['k10']*dataset['no_mole'] + dataset['k11']*dataset['o3_mole'] + dataset['k13']*dataset['oh_mole'] + dataset['k15']*dataset['ch3o2_1']\n",
    "dataset['C_2'] = -(dataset['k14']*dataset['no_mole']*dataset['ch3o2_1'] + dataset['k6']*dataset['oh_mole']*dataset['hcho_mole'] + dataset['k7']*dataset['oh_mole']*dataset['o3_mole'] + dataset['lossco_mole']) \n",
    "\n",
    "dataset['ho2_2'] = (-dataset['B_2']+(dataset['B_2']*dataset['B_2']-4*dataset['A_2']*dataset['C_2'])**(0.5))/(2*dataset['A_2'])\n",
    "\n",
    "dataset['D_2'] = 2*dataset['k16']\n",
    "dataset['E_2'] = dataset['k14']*dataset['no_mole'] + dataset['k15']*dataset['ho2_2']\n",
    "dataset['F_2'] = -(dataset['lossch4_mole'] + dataset['k9a']*dataset['ch3ooh_1']*dataset['oh_mole']) \n",
    "\n",
    "dataset['ch3o2_2'] = (-dataset['E_2']+(dataset['E_2']*dataset['E_2']-4*dataset['D_2']*dataset['F_2'])**(0.5))/(2*dataset['D_2'])\n",
    "\n",
    "dataset['ch3ooh_2'] = dataset['k15b']*dataset['ho2_2']*dataset['ch3o2_2']/(dataset['k9']*dataset['oh_mole'])"
   ]
  },
  {
   "cell_type": "code",
   "execution_count": 11,
   "metadata": {},
   "outputs": [],
   "source": [
    "dataset['A_3'] = 2*dataset['k12']\n",
    "dataset['B_3'] = dataset['k10']*dataset['no_mole'] + dataset['k11']*dataset['o3_mole'] + dataset['k13']*dataset['oh_mole'] + dataset['k15']*dataset['ch3o2_2']\n",
    "dataset['C_3'] = -(dataset['k14']*dataset['no_mole']*dataset['ch3o2_2'] + dataset['k6']*dataset['oh_mole']*dataset['hcho_mole'] + dataset['k7']*dataset['oh_mole']*dataset['o3_mole'] + dataset['lossco_mole']) \n",
    "\n",
    "dataset['ho2_3'] = (-dataset['B_3']+(dataset['B_3']*dataset['B_3']-4*dataset['A_3']*dataset['C_3'])**(0.5))/(2*dataset['A_3'])\n",
    "\n",
    "dataset['D_3'] = 2*dataset['k16']\n",
    "dataset['E_3'] = dataset['k14']*dataset['no_mole'] + dataset['k15']*dataset['ho2_3']\n",
    "dataset['F_3'] = -(dataset['lossch4_mole'] + dataset['k9a']*dataset['ch3ooh_2']*dataset['oh_mole']) \n",
    "\n",
    "dataset['ch3o2_3'] = (-dataset['E_3']+(dataset['E_3']*dataset['E_3']-4*dataset['D_3']*dataset['F_3'])**(0.5))/(2*dataset['D_3'])\n",
    "\n",
    "dataset['ch3ooh_3'] = dataset['k15b']*dataset['ho2_3']*dataset['ch3o2_3']/(dataset['k9']*dataset['oh_mole'])"
   ]
  },
  {
   "cell_type": "code",
   "execution_count": 12,
   "metadata": {},
   "outputs": [],
   "source": [
    "dataset['A_4'] = 2*dataset['k12']\n",
    "dataset['B_4'] = dataset['k10']*dataset['no_mole'] + dataset['k11']*dataset['o3_mole'] + dataset['k13']*dataset['oh_mole'] + dataset['k15']*dataset['ch3o2_3']\n",
    "dataset['C_4'] = -(dataset['k14']*dataset['no_mole']*dataset['ch3o2_3'] + dataset['k6']*dataset['oh_mole']*dataset['hcho_mole'] + dataset['k7']*dataset['oh_mole']*dataset['o3_mole'] + dataset['lossco_mole']) \n",
    "\n",
    "dataset['ho2_4'] = (-dataset['B_4']+(dataset['B_4']*dataset['B_4']-4*dataset['A_4']*dataset['C_4'])**(0.5))/(2*dataset['A_4'])\n",
    "\n",
    "dataset['D_4'] = 2*dataset['k16']\n",
    "dataset['E_4'] = dataset['k14']*dataset['no_mole'] + dataset['k15']*dataset['ho2_4']\n",
    "dataset['F_4'] = -(dataset['lossch4_mole'] + dataset['k9a']*dataset['ch3ooh_3']*dataset['oh_mole']) \n",
    "\n",
    "dataset['ch3o2_4'] = (-dataset['E_4']+(dataset['E_4']*dataset['E_4']-4*dataset['D_4']*dataset['F_4'])**(0.5))/(2*dataset['D_4'])\n",
    "\n",
    "dataset['ch3ooh_4'] = dataset['k15b']*dataset['ho2_4']*dataset['ch3o2_4']/(dataset['k9']*dataset['oh_mole'])"
   ]
  },
  {
   "cell_type": "code",
   "execution_count": 13,
   "metadata": {},
   "outputs": [],
   "source": [
    "dataset['A_5'] = 2*dataset['k12']\n",
    "dataset['B_5'] = dataset['k10']*dataset['no_mole'] + dataset['k11']*dataset['o3_mole'] + dataset['k13']*dataset['oh_mole'] + dataset['k15']*dataset['ch3o2_4']\n",
    "dataset['C_5'] = -(dataset['k14']*dataset['no_mole']*dataset['ch3o2_4'] + dataset['k6']*dataset['oh_mole']*dataset['hcho_mole'] + dataset['k7']*dataset['oh_mole']*dataset['o3_mole'] + dataset['lossco_mole']) \n",
    "\n",
    "dataset['ho2_5'] = (-dataset['B_5']+(dataset['B_5']*dataset['B_5']-4*dataset['A_5']*dataset['C_5'])**(0.5))/(2*dataset['A_5'])\n",
    "\n",
    "dataset['D_5'] = 2*dataset['k16']\n",
    "dataset['E_5'] = dataset['k14']*dataset['no_mole'] + dataset['k15']*dataset['ho2_5']\n",
    "dataset['F_5'] = -(dataset['lossch4_mole'] + dataset['k9a']*dataset['ch3ooh_4']*dataset['oh_mole']) \n",
    "\n",
    "dataset['ch3o2_5'] = (-dataset['E_5']+(dataset['E_5']*dataset['E_5']-4*dataset['D_5']*dataset['F_5'])**(0.5))/(2*dataset['D_5'])\n",
    "\n",
    "dataset['ch3ooh_5'] = dataset['k15b']*dataset['ho2_5']*dataset['ch3o2_5']/(dataset['k9']*dataset['oh_mole'])"
   ]
  },
  {
   "cell_type": "code",
   "execution_count": 14,
   "metadata": {},
   "outputs": [],
   "source": [
    "dataset['A_6'] = 2*dataset['k12']\n",
    "dataset['B_6'] = dataset['k10']*dataset['no_mole'] + dataset['k11']*dataset['o3_mole'] + dataset['k13']*dataset['oh_mole'] + dataset['k15']*dataset['ch3o2_5']\n",
    "dataset['C_6'] = -(dataset['k14']*dataset['no_mole']*dataset['ch3o2_5'] + dataset['k6']*dataset['oh_mole']*dataset['hcho_mole'] + dataset['k7']*dataset['oh_mole']*dataset['o3_mole'] + dataset['lossco_mole']) \n",
    "\n",
    "dataset['ho2_6'] = (-dataset['B_6']+(dataset['B_6']*dataset['B_6']-4*dataset['A_6']*dataset['C_6'])**(0.5))/(2*dataset['A_6'])\n",
    "\n",
    "dataset['D_6'] = 2*dataset['k16']\n",
    "dataset['E_6'] = dataset['k14']*dataset['no_mole'] + dataset['k15']*dataset['ho2_6']\n",
    "dataset['F_6'] = -(dataset['lossch4_mole'] + dataset['k9a']*dataset['ch3ooh_5']*dataset['oh_mole']) \n",
    "\n",
    "dataset['ch3o2_6'] = (-dataset['E_6']+(dataset['E_6']*dataset['E_6']-4*dataset['D_6']*dataset['F_6'])**(0.5))/(2*dataset['D_6'])\n",
    "\n",
    "dataset['ch3ooh_6'] = dataset['k15b']*dataset['ho2_6']*dataset['ch3o2_6']/(dataset['k9']*dataset['oh_mole'])"
   ]
  },
  {
   "cell_type": "code",
   "execution_count": 15,
   "metadata": {},
   "outputs": [],
   "source": [
    "dataset['A_7'] = 2*dataset['k12']\n",
    "dataset['B_7'] = dataset['k10']*dataset['no_mole'] + dataset['k11']*dataset['o3_mole'] + dataset['k13']*dataset['oh_mole'] + dataset['k15']*dataset['ch3o2_6']\n",
    "dataset['C_7'] = -(dataset['k14']*dataset['no_mole']*dataset['ch3o2_6'] + dataset['k6']*dataset['oh_mole']*dataset['hcho_mole'] + dataset['k7']*dataset['oh_mole']*dataset['o3_mole'] + dataset['lossco_mole']) \n",
    "\n",
    "dataset['ho2_7'] = (-dataset['B_7']+(dataset['B_7']*dataset['B_7']-4*dataset['A_7']*dataset['C_7'])**(0.5))/(2*dataset['A_7'])\n",
    "\n",
    "dataset['D_7'] = 2*dataset['k16']\n",
    "dataset['E_7'] = dataset['k14']*dataset['no_mole'] + dataset['k15']*dataset['ho2_7']\n",
    "dataset['F_7'] = -(dataset['lossch4_mole'] + dataset['k9a']*dataset['ch3ooh_6']*dataset['oh_mole']) \n",
    "\n",
    "dataset['ch3o2_7'] = (-dataset['E_7']+(dataset['E_7']*dataset['E_7']-4*dataset['D_7']*dataset['F_7'])**(0.5))/(2*dataset['D_7'])\n",
    "\n",
    "dataset['ch3ooh_7'] = dataset['k15b']*dataset['ho2_7']*dataset['ch3o2_7']/(dataset['k9']*dataset['oh_mole'])"
   ]
  },
  {
   "cell_type": "code",
   "execution_count": 16,
   "metadata": {},
   "outputs": [],
   "source": [
    "dataset['A_8'] = 2*dataset['k12']\n",
    "dataset['B_8'] = dataset['k10']*dataset['no_mole'] + dataset['k11']*dataset['o3_mole'] + dataset['k13']*dataset['oh_mole'] + dataset['k15']*dataset['ch3o2_7']\n",
    "dataset['C_8'] = -(dataset['k14']*dataset['no_mole']*dataset['ch3o2_7'] + dataset['k6']*dataset['oh_mole']*dataset['hcho_mole'] + dataset['k7']*dataset['oh_mole']*dataset['o3_mole'] + dataset['lossco_mole']) \n",
    "\n",
    "dataset['ho2_8'] = (-dataset['B_8']+(dataset['B_8']*dataset['B_8']-4*dataset['A_8']*dataset['C_8'])**(0.5))/(2*dataset['A_8'])\n",
    "\n",
    "dataset['D_8'] = 2*dataset['k16']\n",
    "dataset['E_8'] = dataset['k14']*dataset['no_mole'] + dataset['k15']*dataset['ho2_8']\n",
    "dataset['F_8'] = -(dataset['lossch4_mole'] + dataset['k9a']*dataset['ch3ooh_7']*dataset['oh_mole']) \n",
    "\n",
    "dataset['ch3o2_8'] = (-dataset['E_8']+(dataset['E_8']*dataset['E_8']-4*dataset['D_8']*dataset['F_8'])**(0.5))/(2*dataset['D_8'])\n",
    "\n",
    "dataset['ch3ooh_8'] = dataset['k15b']*dataset['ho2_8']*dataset['ch3o2_8']/(dataset['k9']*dataset['oh_mole'])"
   ]
  },
  {
   "cell_type": "code",
   "execution_count": 17,
   "metadata": {},
   "outputs": [],
   "source": [
    "dataset['A_9'] = 2*dataset['k12']\n",
    "dataset['B_9'] = dataset['k10']*dataset['no_mole'] + dataset['k11']*dataset['o3_mole'] + dataset['k13']*dataset['oh_mole'] + dataset['k15']*dataset['ch3o2_8']\n",
    "dataset['C_9'] = -(dataset['k14']*dataset['no_mole']*dataset['ch3o2_8'] + dataset['k6']*dataset['oh_mole']*dataset['hcho_mole'] + dataset['k7']*dataset['oh_mole']*dataset['o3_mole'] + dataset['lossco_mole']) \n",
    "\n",
    "dataset['ho2_9'] = (-dataset['B_9']+(dataset['B_9']*dataset['B_9']-4*dataset['A_9']*dataset['C_9'])**(0.5))/(2*dataset['A_9'])\n",
    "\n",
    "dataset['D_9'] = 2*dataset['k16']\n",
    "dataset['E_9'] = dataset['k14']*dataset['no_mole'] + dataset['k15']*dataset['ho2_9']\n",
    "dataset['F_9'] = -(dataset['lossch4_mole'] + dataset['k9a']*dataset['ch3ooh_8']*dataset['oh_mole']) \n",
    "\n",
    "dataset['ch3o2_9'] = (-dataset['E_9']+(dataset['E_9']*dataset['E_9']-4*dataset['D_9']*dataset['F_9'])**(0.5))/(2*dataset['D_9'])\n",
    "\n",
    "dataset['ch3ooh_9'] = dataset['k15b']*dataset['ho2_9']*dataset['ch3o2_9']/(dataset['k9']*dataset['oh_mole'])"
   ]
  },
  {
   "cell_type": "code",
   "execution_count": 18,
   "metadata": {},
   "outputs": [],
   "source": [
    "dataset['A_10'] = 2*dataset['k12']\n",
    "dataset['B_10'] = dataset['k10']*dataset['no_mole'] + dataset['k11']*dataset['o3_mole'] + dataset['k13']*dataset['oh_mole'] + dataset['k15']*dataset['ch3o2_9']\n",
    "dataset['C_10'] = -(dataset['k14']*dataset['no_mole']*dataset['ch3o2_9'] + dataset['k6']*dataset['oh_mole']*dataset['hcho_mole'] + dataset['k7']*dataset['oh_mole']*dataset['o3_mole'] + dataset['lossco_mole']) \n",
    "\n",
    "dataset['ho2_10'] = (-dataset['B_10']+(dataset['B_10']*dataset['B_10']-4*dataset['A_10']*dataset['C_10'])**(0.5))/(2*dataset['A_10'])\n",
    "\n",
    "dataset['D_10'] = 2*dataset['k16']\n",
    "dataset['E_10'] = dataset['k14']*dataset['no_mole'] + dataset['k15']*dataset['ho2_10']\n",
    "dataset['F_10'] = -(dataset['lossch4_mole'] + dataset['k9a']*dataset['ch3ooh_9']*dataset['oh_mole']) \n",
    "\n",
    "dataset['ch3o2_10'] = (-dataset['E_10']+(dataset['E_10']*dataset['E_10']-4*dataset['D_10']*dataset['F_10'])**(0.5))/(2*dataset['D_10'])\n",
    "\n",
    "dataset['ch3ooh_10'] = dataset['k15b']*dataset['ho2_10']*dataset['ch3o2_10']/(dataset['k9']*dataset['oh_mole'])"
   ]
  },
  {
   "cell_type": "code",
   "execution_count": 19,
   "metadata": {},
   "outputs": [],
   "source": [
    "dataset['A_11'] = 2*dataset['k12']\n",
    "dataset['B_11'] = dataset['k10']*dataset['no_mole'] + dataset['k11']*dataset['o3_mole'] + dataset['k13']*dataset['oh_mole'] + dataset['k15']*dataset['ch3o2_10']\n",
    "dataset['C_11'] = -(dataset['k14']*dataset['no_mole']*dataset['ch3o2_10'] + dataset['k6']*dataset['oh_mole']*dataset['hcho_mole'] + dataset['k7']*dataset['oh_mole']*dataset['o3_mole'] + dataset['lossco_mole']) \n",
    "\n",
    "dataset['ho2_11'] = (-dataset['B_11']+(dataset['B_11']*dataset['B_11']-4*dataset['A_11']*dataset['C_11'])**(0.5))/(2*dataset['A_11'])\n",
    "\n",
    "dataset['D_11'] = 2*dataset['k16']\n",
    "dataset['E_11'] = dataset['k14']*dataset['no_mole'] + dataset['k15']*dataset['ho2_11']\n",
    "dataset['F_11'] = -(dataset['lossch4_mole'] + dataset['k9a']*dataset['ch3ooh_10']*dataset['oh_mole']) \n",
    "\n",
    "dataset['ch3o2_11'] = (-dataset['E_11']+(dataset['E_11']*dataset['E_11']-4*dataset['D_11']*dataset['F_11'])**(0.5))/(2*dataset['D_11'])\n",
    "\n",
    "dataset['ch3ooh_11'] = dataset['k15b']*dataset['ho2_11']*dataset['ch3o2_11']/(dataset['k9']*dataset['oh_mole'])"
   ]
  },
  {
   "cell_type": "code",
   "execution_count": 20,
   "metadata": {},
   "outputs": [],
   "source": [
    "dataset['A_12'] = 2*dataset['k12']\n",
    "dataset['B_12'] = dataset['k10']*dataset['no_mole'] + dataset['k11']*dataset['o3_mole'] + dataset['k13']*dataset['oh_mole'] + dataset['k15']*dataset['ch3o2_11']\n",
    "dataset['C_12'] = -(dataset['k14']*dataset['no_mole']*dataset['ch3o2_11'] + dataset['k6']*dataset['oh_mole']*dataset['hcho_mole'] + dataset['k7']*dataset['oh_mole']*dataset['o3_mole'] + dataset['lossco_mole']) \n",
    "\n",
    "dataset['ho2_12'] = (-dataset['B_12']+(dataset['B_12']*dataset['B_12']-4*dataset['A_12']*dataset['C_12'])**(0.5))/(2*dataset['A_12'])\n",
    "\n",
    "dataset['D_12'] = 2*dataset['k16']\n",
    "dataset['E_12'] = dataset['k14']*dataset['no_mole'] + dataset['k15']*dataset['ho2_12']\n",
    "dataset['F_12'] = -(dataset['lossch4_mole'] + dataset['k9a']*dataset['ch3ooh_11']*dataset['oh_mole']) \n",
    "\n",
    "dataset['ch3o2_12'] = (-dataset['E_12']+(dataset['E_12']*dataset['E_12']-4*dataset['D_12']*dataset['F_12'])**(0.5))/(2*dataset['D_12'])\n",
    "\n",
    "dataset['ch3ooh_12'] = dataset['k15b']*dataset['ho2_12']*dataset['ch3o2_12']/(dataset['k9']*dataset['oh_mole'])"
   ]
  },
  {
   "cell_type": "code",
   "execution_count": 21,
   "metadata": {},
   "outputs": [],
   "source": [
    "dataset['A_13'] = 2*dataset['k12']\n",
    "dataset['B_13'] = dataset['k10']*dataset['no_mole'] + dataset['k11']*dataset['o3_mole'] + dataset['k13']*dataset['oh_mole'] + dataset['k15']*dataset['ch3o2_12']\n",
    "dataset['C_13'] = -(dataset['k14']*dataset['no_mole']*dataset['ch3o2_12'] + dataset['k6']*dataset['oh_mole']*dataset['hcho_mole'] + dataset['k7']*dataset['oh_mole']*dataset['o3_mole'] + dataset['lossco_mole']) \n",
    "\n",
    "dataset['ho2_13'] = (-dataset['B_13']+(dataset['B_13']*dataset['B_13']-4*dataset['A_13']*dataset['C_13'])**(0.5))/(2*dataset['A_13'])\n",
    "\n",
    "dataset['D_13'] = 2*dataset['k16']\n",
    "dataset['E_13'] = dataset['k14']*dataset['no_mole'] + dataset['k15']*dataset['ho2_13']\n",
    "dataset['F_13'] = -(dataset['lossch4_mole'] + dataset['k9a']*dataset['ch3ooh_12']*dataset['oh_mole']) \n",
    "\n",
    "dataset['ch3o2_13'] = (-dataset['E_13']+(dataset['E_13']*dataset['E_13']-4*dataset['D_13']*dataset['F_13'])**(0.5))/(2*dataset['D_13'])\n",
    "\n",
    "dataset['ch3ooh_13'] = dataset['k15b']*dataset['ho2_13']*dataset['ch3o2_13']/(dataset['k9']*dataset['oh_mole'])"
   ]
  },
  {
   "cell_type": "code",
   "execution_count": 22,
   "metadata": {},
   "outputs": [],
   "source": [
    "dataset['A_14'] = 2*dataset['k12']\n",
    "dataset['B_14'] = dataset['k10']*dataset['no_mole'] + dataset['k11']*dataset['o3_mole'] + dataset['k13']*dataset['oh_mole'] + dataset['k15']*dataset['ch3o2_13']\n",
    "dataset['C_14'] = -(dataset['k14']*dataset['no_mole']*dataset['ch3o2_13'] + dataset['k6']*dataset['oh_mole']*dataset['hcho_mole'] + dataset['k7']*dataset['oh_mole']*dataset['o3_mole'] + dataset['lossco_mole']) \n",
    "\n",
    "dataset['ho2_14'] = (-dataset['B_14']+(dataset['B_14']*dataset['B_14']-4*dataset['A_14']*dataset['C_14'])**(0.5))/(2*dataset['A_14'])\n",
    "\n",
    "dataset['D_14'] = 2*dataset['k16']\n",
    "dataset['E_14'] = dataset['k14']*dataset['no_mole'] + dataset['k15']*dataset['ho2_14']\n",
    "dataset['F_14'] = -(dataset['lossch4_mole'] + dataset['k9a']*dataset['ch3ooh_13']*dataset['oh_mole']) \n",
    "\n",
    "dataset['ch3o2_14'] = (-dataset['E_14']+(dataset['E_14']*dataset['E_14']-4*dataset['D_14']*dataset['F_14'])**(0.5))/(2*dataset['D_14'])\n",
    "\n",
    "dataset['ch3ooh_14'] = dataset['k15b']*dataset['ho2_14']*dataset['ch3o2_14']/(dataset['k9']*dataset['oh_mole'])"
   ]
  },
  {
   "cell_type": "code",
   "execution_count": 23,
   "metadata": {},
   "outputs": [],
   "source": [
    "dataset['A_15'] = 2*dataset['k12']\n",
    "dataset['B_15'] = dataset['k10']*dataset['no_mole'] + dataset['k11']*dataset['o3_mole'] + dataset['k13']*dataset['oh_mole'] + dataset['k15']*dataset['ch3o2_14']\n",
    "dataset['C_15'] = -(dataset['k14']*dataset['no_mole']*dataset['ch3o2_14'] + dataset['k6']*dataset['oh_mole']*dataset['hcho_mole'] + dataset['k7']*dataset['oh_mole']*dataset['o3_mole'] + dataset['lossco_mole']) \n",
    "\n",
    "dataset['ho2_15'] = (-dataset['B_15']+(dataset['B_15']*dataset['B_15']-4*dataset['A_15']*dataset['C_15'])**(0.5))/(2*dataset['A_15'])\n",
    "\n",
    "dataset['D_15'] = 2*dataset['k16']\n",
    "dataset['E_15'] = dataset['k14']*dataset['no_mole'] + dataset['k15']*dataset['ho2_15']\n",
    "dataset['F_15'] = -(dataset['lossch4_mole'] + dataset['k9a']*dataset['ch3ooh_14']*dataset['oh_mole']) \n",
    "\n",
    "dataset['ch3o2_15'] = (-dataset['E_15']+(dataset['E_15']*dataset['E_15']-4*dataset['D_15']*dataset['F_15'])**(0.5))/(2*dataset['D_15'])\n",
    "\n",
    "dataset['ch3ooh_15'] = dataset['k15b']*dataset['ho2_15']*dataset['ch3o2_15']/(dataset['k9']*dataset['oh_mole'])"
   ]
  },
  {
   "cell_type": "code",
   "execution_count": 24,
   "metadata": {},
   "outputs": [],
   "source": [
    "dataset['A_16'] = 2*dataset['k12']\n",
    "dataset['B_16'] = dataset['k10']*dataset['no_mole'] + dataset['k11']*dataset['o3_mole'] + dataset['k13']*dataset['oh_mole'] + dataset['k15']*dataset['ch3o2_15']\n",
    "dataset['C_16'] = -(dataset['k14']*dataset['no_mole']*dataset['ch3o2_15'] + dataset['k6']*dataset['oh_mole']*dataset['hcho_mole'] + dataset['k7']*dataset['oh_mole']*dataset['o3_mole'] + dataset['lossco_mole']) \n",
    "\n",
    "dataset['ho2_16'] = (-dataset['B_16']+(dataset['B_16']*dataset['B_16']-4*dataset['A_16']*dataset['C_16'])**(0.5))/(2*dataset['A_16'])\n",
    "\n",
    "dataset['D_16'] = 2*dataset['k16']\n",
    "dataset['E_16'] = dataset['k14']*dataset['no_mole'] + dataset['k15']*dataset['ho2_16']\n",
    "dataset['F_16'] = -(dataset['lossch4_mole'] + dataset['k9a']*dataset['ch3ooh_15']*dataset['oh_mole']) \n",
    "\n",
    "dataset['ch3o2_16'] = (-dataset['E_16']+(dataset['E_16']*dataset['E_16']-4*dataset['D_16']*dataset['F_16'])**(0.5))/(2*dataset['D_16'])\n",
    "\n",
    "dataset['ch3ooh_16'] = dataset['k15b']*dataset['ho2_16']*dataset['ch3o2_16']/(dataset['k9']*dataset['oh_mole'])"
   ]
  },
  {
   "cell_type": "code",
   "execution_count": 25,
   "metadata": {},
   "outputs": [],
   "source": [
    "dataset['A_17'] = 2*dataset['k12']\n",
    "dataset['B_17'] = dataset['k10']*dataset['no_mole'] + dataset['k11']*dataset['o3_mole'] + dataset['k13']*dataset['oh_mole'] + dataset['k15']*dataset['ch3o2_16']\n",
    "dataset['C_17'] = -(dataset['k14']*dataset['no_mole']*dataset['ch3o2_16'] + dataset['k6']*dataset['oh_mole']*dataset['hcho_mole'] + dataset['k7']*dataset['oh_mole']*dataset['o3_mole'] + dataset['lossco_mole']) \n",
    "\n",
    "dataset['ho2_17'] = (-dataset['B_17']+(dataset['B_17']*dataset['B_17']-4*dataset['A_17']*dataset['C_17'])**(0.5))/(2*dataset['A_17'])\n",
    "\n",
    "dataset['D_17'] = 2*dataset['k16']\n",
    "dataset['E_17'] = dataset['k14']*dataset['no_mole'] + dataset['k15']*dataset['ho2_17']\n",
    "dataset['F_17'] = -(dataset['lossch4_mole'] + dataset['k9a']*dataset['ch3ooh_16']*dataset['oh_mole']) \n",
    "\n",
    "dataset['ch3o2_17'] = (-dataset['E_17']+(dataset['E_17']*dataset['E_17']-4*dataset['D_17']*dataset['F_17'])**(0.5))/(2*dataset['D_17'])\n",
    "\n",
    "dataset['ch3ooh_17'] = dataset['k15b']*dataset['ho2_17']*dataset['ch3o2_17']/(dataset['k9']*dataset['oh_mole'])"
   ]
  },
  {
   "cell_type": "code",
   "execution_count": 26,
   "metadata": {},
   "outputs": [],
   "source": [
    "dataset['A_18'] = 2*dataset['k12']\n",
    "dataset['B_18'] = dataset['k10']*dataset['no_mole'] + dataset['k11']*dataset['o3_mole'] + dataset['k13']*dataset['oh_mole'] + dataset['k15']*dataset['ch3o2_17']\n",
    "dataset['C_18'] = -(dataset['k14']*dataset['no_mole']*dataset['ch3o2_17'] + dataset['k6']*dataset['oh_mole']*dataset['hcho_mole'] + dataset['k7']*dataset['oh_mole']*dataset['o3_mole'] + dataset['lossco_mole']) \n",
    "\n",
    "dataset['ho2_18'] = (-dataset['B_18']+(dataset['B_18']*dataset['B_18']-4*dataset['A_18']*dataset['C_18'])**(0.5))/(2*dataset['A_18'])\n",
    "\n",
    "dataset['D_18'] = 2*dataset['k16']\n",
    "dataset['E_18'] = dataset['k14']*dataset['no_mole'] + dataset['k15']*dataset['ho2_18']\n",
    "dataset['F_18'] = -(dataset['lossch4_mole'] + dataset['k9a']*dataset['ch3ooh_17']*dataset['oh_mole']) \n",
    "\n",
    "dataset['ch3o2_18'] = (-dataset['E_18']+(dataset['E_18']*dataset['E_18']-4*dataset['D_18']*dataset['F_18'])**(0.5))/(2*dataset['D_18'])\n",
    "\n",
    "dataset['ch3ooh_18'] = dataset['k15b']*dataset['ho2_18']*dataset['ch3o2_18']/(dataset['k9']*dataset['oh_mole'])"
   ]
  },
  {
   "cell_type": "code",
   "execution_count": 27,
   "metadata": {},
   "outputs": [],
   "source": [
    "dataset['A_19'] = 2*dataset['k12']\n",
    "dataset['B_19'] = dataset['k10']*dataset['no_mole'] + dataset['k11']*dataset['o3_mole'] + dataset['k13']*dataset['oh_mole'] + dataset['k15']*dataset['ch3o2_18']\n",
    "dataset['C_19'] = -(dataset['k14']*dataset['no_mole']*dataset['ch3o2_18'] + dataset['k6']*dataset['oh_mole']*dataset['hcho_mole'] + dataset['k7']*dataset['oh_mole']*dataset['o3_mole'] + dataset['lossco_mole']) \n",
    "\n",
    "dataset['ho2_19'] = (-dataset['B_19']+(dataset['B_19']*dataset['B_19']-4*dataset['A_19']*dataset['C_19'])**(0.5))/(2*dataset['A_19'])\n",
    "\n",
    "dataset['D_19'] = 2*dataset['k16']\n",
    "dataset['E_19'] = dataset['k14']*dataset['no_mole'] + dataset['k15']*dataset['ho2_19']\n",
    "dataset['F_19'] = -(dataset['lossch4_mole'] + dataset['k9a']*dataset['ch3ooh_18']*dataset['oh_mole']) \n",
    "\n",
    "dataset['ch3o2_19'] = (-dataset['E_19']+(dataset['E_19']*dataset['E_19']-4*dataset['D_19']*dataset['F_19'])**(0.5))/(2*dataset['D_19'])\n",
    "\n",
    "dataset['ch3ooh_19'] = dataset['k15b']*dataset['ho2_19']*dataset['ch3o2_19']/(dataset['k9']*dataset['oh_mole'])"
   ]
  },
  {
   "cell_type": "code",
   "execution_count": 28,
   "metadata": {},
   "outputs": [],
   "source": [
    "dataset['A_20'] = 2*dataset['k12']\n",
    "dataset['B_20'] = dataset['k10']*dataset['no_mole'] + dataset['k11']*dataset['o3_mole'] + dataset['k13']*dataset['oh_mole'] + dataset['k15']*dataset['ch3o2_19']\n",
    "dataset['C_20'] = -(dataset['k14']*dataset['no_mole']*dataset['ch3o2_19'] + dataset['k6']*dataset['oh_mole']*dataset['hcho_mole'] + dataset['k7']*dataset['oh_mole']*dataset['o3_mole'] + dataset['lossco_mole']) \n",
    "\n",
    "dataset['ho2_20'] = (-dataset['B_20']+(dataset['B_20']*dataset['B_20']-4*dataset['A_20']*dataset['C_20'])**(0.5))/(2*dataset['A_20'])\n",
    "\n",
    "dataset['D_20'] = 2*dataset['k16']\n",
    "dataset['E_20'] = dataset['k14']*dataset['no_mole'] + dataset['k15']*dataset['ho2_20']\n",
    "dataset['F_20'] = -(dataset['lossch4_mole'] + dataset['k9a']*dataset['ch3ooh_19']*dataset['oh_mole']) \n",
    "\n",
    "dataset['ch3o2_20'] = (-dataset['E_20']+(dataset['E_20']*dataset['E_20']-4*dataset['D_20']*dataset['F_20'])**(0.5))/(2*dataset['D_20'])\n",
    "\n",
    "dataset['ch3ooh_20'] = dataset['k15b']*dataset['ho2_20']*dataset['ch3o2_20']/(dataset['k9']*dataset['oh_mole'])"
   ]
  },
  {
   "cell_type": "code",
   "execution_count": 30,
   "metadata": {},
   "outputs": [],
   "source": [
    "dataset_radicals = dataset[['longitude','latitude','t','loc','o3','o3prod','o3loss','tas','ps','jno2','photo1d','lossch4','lossco',\n",
    "                            'no2','no','oh','h2o','co','hcho','c2h6','c3h8','isop',\n",
    "                            'n2_mole','o2_mole','h2o_mole','o3_mole','no2_mole','no_mole','oh_mole',\n",
    "                            'co_mole','hcho_mole','c2h6_mole','c3h8_mole','isop_mole',\n",
    "                            'k1','k2','k3','k4','k5','k6','k7','k8','k9','k9a','k9b','k10','k11','k12','k13','k14','k15','k15a','k15b','k16',\n",
    "                            'k17','k18','k19','k20','k21','k22','k23','k24a','k24b','k24','k25','k26','k27',\n",
    "                            'o1d_mole','lossco_mole','lossch4_mole']]"
   ]
  },
  {
   "cell_type": "code",
   "execution_count": 31,
   "metadata": {},
   "outputs": [],
   "source": [
    "dataset_radicals['ho2_mole'] = dataset['ho2_20']\n",
    "dataset_radicals['ch3o2_mole'] = dataset['ch3o2_20']\n",
    "dataset_radicals['ch3ooh_mole'] = dataset['ch3ooh_20']"
   ]
  },
  {
   "cell_type": "code",
   "execution_count": 32,
   "metadata": {},
   "outputs": [],
   "source": [
    "dataset_radicals['o3prod_mole'] = dataset_radicals['o3prod']*6.022*10**23*10**(-6)\n",
    "dataset_radicals['o3loss_mole'] = dataset_radicals['o3loss']*6.022*10**23*10**(-6)"
   ]
  },
  {
   "cell_type": "code",
   "execution_count": 33,
   "metadata": {},
   "outputs": [],
   "source": [
    "dataset_radicals['etoo_mole'] = dataset_radicals['k17']*dataset_radicals['c2h6_mole']*dataset_radicals['oh_mole']/(dataset_radicals['k18']*dataset_radicals['no_mole']+dataset_radicals['k19']*dataset_radicals['ho2_mole'])\n",
    "dataset_radicals['proo_mole'] = dataset_radicals['k20']*dataset_radicals['c3h8_mole']*dataset_radicals['oh_mole']/(dataset_radicals['k21']*dataset_radicals['no_mole']+dataset_radicals['k22']*dataset_radicals['ho2_mole'])"
   ]
  },
  {
   "cell_type": "code",
   "execution_count": 34,
   "metadata": {},
   "outputs": [],
   "source": [
    "dataset_radicals['a'] = 2*dataset_radicals['k26']\n",
    "dataset_radicals['b'] = dataset_radicals['k24']*dataset_radicals['no_mole'] + dataset_radicals['k25']*dataset_radicals['ho2_mole']\n",
    "dataset_radicals['c'] = -2*dataset_radicals['k23']*dataset_radicals['isop_mole']*dataset_radicals['oh_mole']\n",
    "\n",
    "dataset_radicals['delta'] = dataset_radicals['b']*dataset_radicals['b']-4*dataset_radicals['a']*dataset_radicals['c']\n",
    "\n",
    "#dataset_radicals['iso2_mole'] = dataset_radicals['k23']*dataset_radicals['isop_mole']*dataset_radicals['oh_mole']/(dataset_radicals['k24']*dataset_radicals['no_mole']+dataset_radicals['k25']*dataset_radicals['ho2_mole'])\n",
    "dataset_radicals['iso2_mole'] = (-dataset_radicals['b']+dataset_radicals['delta']**0.5)/(2*dataset_radicals['a'])"
   ]
  },
  {
   "cell_type": "code",
   "execution_count": 35,
   "metadata": {},
   "outputs": [],
   "source": [
    "#dataset_radicals.to_csv('/Users/csuen/Desktop/Sun-NG-24/radicals/UKESM1-0-LL_1850(ver240112).csv', index=False)\n",
    "#dataset = pd.read_csv('/Users/csuen/Desktop/Sun-NG-24/radicals/UKESM1-0-LL_1850(ver240112).csv')"
   ]
  },
  {
   "cell_type": "code",
   "execution_count": 36,
   "metadata": {},
   "outputs": [],
   "source": [
    "dataset['prod_etoo_no'] = dataset['k18']*dataset['etoo_mole']*dataset['no_mole']\n",
    "dataset['prod_proo_no'] = dataset['k21']*dataset['proo_mole']*dataset['no_mole']\n",
    "dataset['prod_iso2_no'] = dataset['k24a']*dataset['iso2_mole']*dataset['no_mole']\n",
    "dataset['loss_o3_isop'] = dataset['k27']*dataset['o3_mole']*dataset['isop_mole']"
   ]
  },
  {
   "cell_type": "code",
   "execution_count": 37,
   "metadata": {},
   "outputs": [],
   "source": [
    "dataset['pt1'] = dataset['k10']*dataset['ho2_mole']*dataset['no_mole']\n",
    "dataset['pt2'] = dataset['k14']*dataset['ch3o2_mole']*dataset['no_mole']\n",
    "dataset['o3prod_mole_stacked'] = dataset['pt1']+dataset['pt2']+dataset['prod_etoo_no']+dataset['prod_proo_no']+dataset['prod_iso2_no']\n",
    "dataset['pt3'] = dataset['o3prod_mole_stacked'] - dataset['pt1'] - dataset['pt2']\n",
    "\n",
    "dataset['pt4'] = dataset['k3']*dataset['o1d_mole']*dataset['h2o_mole']\n",
    "dataset['pt5'] = dataset['k7']*dataset['oh_mole']*dataset['o3_mole']\n",
    "dataset['pt6'] = dataset['k11']*dataset['ho2_mole']*dataset['o3_mole']\n",
    "dataset['o3loss_mole_stacked'] = dataset['pt4']+dataset['pt5']+dataset['pt6']+dataset['loss_o3_isop']\n",
    "dataset['pt7'] = dataset['o3loss_mole_stacked'] - dataset['pt4'] - dataset['pt5'] - dataset['pt6']"
   ]
  },
  {
   "cell_type": "code",
   "execution_count": 38,
   "metadata": {},
   "outputs": [],
   "source": [
    "dataset['pt1_prop'] = dataset['pt1']/dataset['o3prod_mole_stacked']\n",
    "dataset['pt2_prop'] = dataset['pt2']/dataset['o3prod_mole_stacked']\n",
    "dataset['pt3_prop'] = dataset['pt3']/dataset['o3prod_mole_stacked']\n",
    "\n",
    "dataset['pt4_prop'] = dataset['pt4']/dataset['o3loss_mole_stacked']\n",
    "dataset['pt5_prop'] = dataset['pt5']/dataset['o3loss_mole_stacked']\n",
    "dataset['pt6_prop'] = dataset['pt6']/dataset['o3loss_mole_stacked']\n",
    "dataset['pt7_prop'] = dataset['pt7']/dataset['o3loss_mole_stacked']"
   ]
  },
  {
   "cell_type": "code",
   "execution_count": 40,
   "metadata": {},
   "outputs": [],
   "source": [
    "def Pearson_correlation(X,Y):\n",
    "\tif len(X)==len(Y):\n",
    "\t\tSum_xy = sum((X-X.mean())*(Y-Y.mean()))\n",
    "\t\tSum_x_squared = sum((X-X.mean())**2)\n",
    "\t\tSum_y_squared = sum((Y-Y.mean())**2)\t \n",
    "\t\tcorr = Sum_xy / np.sqrt(Sum_x_squared * Sum_y_squared)\n",
    "\treturn corr"
   ]
  },
  {
   "cell_type": "code",
   "execution_count": 41,
   "metadata": {},
   "outputs": [
    {
     "data": {
      "text/plain": [
       "0.9024482452508239"
      ]
     },
     "execution_count": 41,
     "metadata": {},
     "output_type": "execute_result"
    }
   ],
   "source": [
    "Pearson_correlation(dataset['o3prod_mole'], dataset['o3prod_mole_stacked'])"
   ]
  },
  {
   "cell_type": "code",
   "execution_count": 42,
   "metadata": {},
   "outputs": [
    {
     "data": {
      "text/plain": [
       "0.9716494762321082"
      ]
     },
     "execution_count": 42,
     "metadata": {},
     "output_type": "execute_result"
    }
   ],
   "source": [
    "Pearson_correlation(dataset['o3loss_mole'], dataset['o3loss_mole_stacked'])"
   ]
  },
  {
   "cell_type": "code",
   "execution_count": 43,
   "metadata": {},
   "outputs": [
    {
     "name": "stdout",
     "output_type": "stream",
     "text": [
      "0.415\n",
      "0.366\n",
      "0.219\n"
     ]
    }
   ],
   "source": [
    "print(np.round(dataset['pt1_prop'].mean(),3))\n",
    "print(np.round(dataset['pt2_prop'].mean(),3))\n",
    "print(np.round(dataset['pt3_prop'].mean(),3))"
   ]
  },
  {
   "cell_type": "code",
   "execution_count": 44,
   "metadata": {},
   "outputs": [
    {
     "name": "stdout",
     "output_type": "stream",
     "text": [
      "0.407\n",
      "0.085\n",
      "0.433\n",
      "0.075\n"
     ]
    }
   ],
   "source": [
    "print(np.round(dataset['pt4_prop'].mean(),3))\n",
    "print(np.round(dataset['pt5_prop'].mean(),3))\n",
    "print(np.round(dataset['pt6_prop'].mean(),3))\n",
    "print(np.round(dataset['pt7_prop'].mean(),3))"
   ]
  },
  {
   "cell_type": "code",
   "execution_count": 45,
   "metadata": {},
   "outputs": [],
   "source": [
    "land = pd.read_csv('C://Users/Haitong/OneDrive - National University of Singapore/Documents/Manuscripts/Sun-NG-25/global_grid_2x2_label_continent.csv')\n",
    "dataset_land = dataset.merge(land, how='left', left_on=['longitude','latitude'], right_on=['longitude','latitude'])\n",
    "dataset_land = dataset_land[dataset_land['land_global']==1]"
   ]
  },
  {
   "cell_type": "code",
   "execution_count": 46,
   "metadata": {},
   "outputs": [
    {
     "name": "stdout",
     "output_type": "stream",
     "text": [
      "0.369\n",
      "0.111\n",
      "0.52\n"
     ]
    }
   ],
   "source": [
    "print(np.round(dataset_land['pt1_prop'].mean(),3))\n",
    "print(np.round(dataset_land['pt2_prop'].mean(),3))\n",
    "print(np.round(dataset_land['pt3_prop'].mean(),3))"
   ]
  },
  {
   "cell_type": "code",
   "execution_count": 47,
   "metadata": {},
   "outputs": [
    {
     "name": "stdout",
     "output_type": "stream",
     "text": [
      "0.387\n",
      "0.082\n",
      "0.278\n",
      "0.253\n"
     ]
    }
   ],
   "source": [
    "print(np.round(dataset_land['pt4_prop'].mean(),3))\n",
    "print(np.round(dataset_land['pt5_prop'].mean(),3))\n",
    "print(np.round(dataset_land['pt6_prop'].mean(),3))\n",
    "print(np.round(dataset_land['pt7_prop'].mean(),3))"
   ]
  },
  {
   "cell_type": "code",
   "execution_count": 48,
   "metadata": {},
   "outputs": [
    {
     "name": "stdout",
     "output_type": "stream",
     "text": [
      "510200.0\n",
      "73600.0\n",
      "2630400.0\n"
     ]
    }
   ],
   "source": [
    "print(np.round(dataset_land['pt1'].mean(),-2))\n",
    "print(np.round(dataset_land['pt2'].mean(),-2))\n",
    "print(np.round(dataset_land['pt3'].mean(),-2))"
   ]
  },
  {
   "cell_type": "code",
   "execution_count": 49,
   "metadata": {},
   "outputs": [
    {
     "name": "stdout",
     "output_type": "stream",
     "text": [
      "284800.0\n",
      "42300.0\n",
      "53800.0\n",
      "279200.0\n"
     ]
    }
   ],
   "source": [
    "print(np.round(dataset_land['pt4'].mean(),-2))\n",
    "print(np.round(dataset_land['pt5'].mean(),-2))\n",
    "print(np.round(dataset_land['pt6'].mean(),-2))\n",
    "print(np.round(dataset_land['pt7'].mean(),-2))"
   ]
  },
  {
   "cell_type": "code",
   "execution_count": 55,
   "metadata": {},
   "outputs": [
    {
     "data": {
      "text/plain": [
       "768941.9234899998"
      ]
     },
     "execution_count": 55,
     "metadata": {},
     "output_type": "execute_result"
    }
   ],
   "source": [
    "dataset_land['o3prod_mole'].median()"
   ]
  },
  {
   "cell_type": "code",
   "execution_count": 56,
   "metadata": {},
   "outputs": [
    {
     "data": {
      "text/plain": [
       "159145.8426134426"
      ]
     },
     "execution_count": 56,
     "metadata": {},
     "output_type": "execute_result"
    }
   ],
   "source": [
    "dataset_land['pt1'].median()"
   ]
  },
  {
   "cell_type": "code",
   "execution_count": 57,
   "metadata": {},
   "outputs": [
    {
     "data": {
      "text/plain": [
       "22912.106792956583"
      ]
     },
     "execution_count": 57,
     "metadata": {},
     "output_type": "execute_result"
    }
   ],
   "source": [
    "dataset_land['pt2'].median()"
   ]
  },
  {
   "cell_type": "code",
   "execution_count": 65,
   "metadata": {},
   "outputs": [
    {
     "data": {
      "text/plain": [
       "1528348.3909093596"
      ]
     },
     "execution_count": 65,
     "metadata": {},
     "output_type": "execute_result"
    }
   ],
   "source": [
    "np.nanpercentile(dataset_land['pt3'],65)"
   ]
  },
  {
   "cell_type": "code",
   "execution_count": 53,
   "metadata": {},
   "outputs": [
    {
     "data": {
      "text/plain": [
       "3214149.027204086"
      ]
     },
     "execution_count": 53,
     "metadata": {},
     "output_type": "execute_result"
    }
   ],
   "source": [
    "dataset_land['o3prod_mole_stacked'].mean()"
   ]
  },
  {
   "cell_type": "code",
   "execution_count": 52,
   "metadata": {},
   "outputs": [
    {
     "data": {
      "text/plain": [
       "728913.3753957538"
      ]
     },
     "execution_count": 52,
     "metadata": {},
     "output_type": "execute_result"
    }
   ],
   "source": [
    "dataset_land['o3loss_mole'].mean()"
   ]
  },
  {
   "cell_type": "code",
   "execution_count": 54,
   "metadata": {},
   "outputs": [
    {
     "data": {
      "text/plain": [
       "660111.7427198768"
      ]
     },
     "execution_count": 54,
     "metadata": {},
     "output_type": "execute_result"
    }
   ],
   "source": [
    "dataset_land['o3loss_mole_stacked'].mean()"
   ]
  },
  {
   "cell_type": "code",
   "execution_count": null,
   "metadata": {},
   "outputs": [],
   "source": []
  }
 ],
 "metadata": {
  "kernelspec": {
   "display_name": "Python 3 (ipykernel)",
   "language": "python",
   "name": "python3"
  },
  "language_info": {
   "codemirror_mode": {
    "name": "ipython",
    "version": 3
   },
   "file_extension": ".py",
   "mimetype": "text/x-python",
   "name": "python",
   "nbconvert_exporter": "python",
   "pygments_lexer": "ipython3",
   "version": "3.12.3"
  }
 },
 "nbformat": 4,
 "nbformat_minor": 4
}
