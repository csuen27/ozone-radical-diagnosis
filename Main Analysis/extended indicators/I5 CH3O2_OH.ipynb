{
 "cells": [
  {
   "cell_type": "code",
   "execution_count": 1,
   "id": "3612b025-5a28-4f34-aa3d-268adc726939",
   "metadata": {},
   "outputs": [],
   "source": [
    "import warnings\n",
    "warnings.filterwarnings(\"ignore\")\n",
    "\n",
    "import pandas as pd\n",
    "import numpy as np\n",
    "import matplotlib.pyplot as plt\n",
    "plt.rcParams['font.sans-serif']=['Arial']\n",
    "\n",
    "from sklearn.linear_model import LinearRegression\n",
    "from sklearn.ensemble import RandomForestRegressor\n",
    "from sklearn.metrics import r2_score\n",
    "import statsmodels.api as sm"
   ]
  },
  {
   "cell_type": "code",
   "execution_count": 2,
   "id": "2b819e81-8990-41e5-907b-8e7bb0352773",
   "metadata": {},
   "outputs": [],
   "source": [
    "data = pd.read_csv('/Users/csuen/Desktop/Sun-NG-24/radicals/representative regions/UKESM1-0-LL_2010_2014_representative_regions(ver240113).csv')"
   ]
  },
  {
   "cell_type": "markdown",
   "id": "9da2604d-bf12-4c45-95f9-cdc81f311ba1",
   "metadata": {},
   "source": [
    "#### Calculate dynamic regression "
   ]
  },
  {
   "cell_type": "code",
   "execution_count": 3,
   "id": "eda1586f-6147-48ab-911e-58dacd027fed",
   "metadata": {},
   "outputs": [],
   "source": [
    "d_ch3o2_oh_beta = data.groupby('region').apply(lambda g: sm.OLS(g['ch3o2_mole'], g[['oh_mole']]).fit().params)\n",
    "d_ch3o2_oh_ste = data.groupby('region').apply(lambda g: sm.OLS(g['ch3o2_mole'], g[['oh_mole']]).fit().HC0_se)"
   ]
  },
  {
   "cell_type": "markdown",
   "id": "8319094c-2d83-4e4c-ae4d-df2abf8588a7",
   "metadata": {},
   "source": [
    "#### Calculate features"
   ]
  },
  {
   "cell_type": "code",
   "execution_count": 4,
   "id": "f2455b45-4194-49b0-a2e9-f2f57b5e4b95",
   "metadata": {},
   "outputs": [],
   "source": [
    "data['ch4__no'] = data['ch4_mole']/data['no_mole']\n",
    "feat = data.groupby('region').mean()['ch4__no']\n",
    "feat = pd.DataFrame(feat)\n",
    "feat_std = data.groupby('region').std()['ch4__no']\n",
    "feat_ct = data.groupby('region').count()['ch4__no']\n",
    "feat_ste = pd.DataFrame(feat_std/np.sqrt(feat_ct/5))"
   ]
  },
  {
   "cell_type": "code",
   "execution_count": 5,
   "id": "6e6ef78d-be06-4ba4-b0b9-b20f9a2d3a0d",
   "metadata": {},
   "outputs": [],
   "source": [
    "mod = LinearRegression()\n",
    "X = feat[['ch4__no']]\n",
    "y = d_ch3o2_oh_beta['oh_mole']\n",
    "mod.fit(X,y)\n",
    "y_pred = mod.predict(X)"
   ]
  },
  {
   "cell_type": "code",
   "execution_count": 6,
   "id": "0b3c49f7-f6da-40db-8d78-adf66689b4ee",
   "metadata": {},
   "outputs": [],
   "source": [
    "d_ch3o2_oh_beta['beta_adj'] = d_ch3o2_oh_beta['oh_mole']+0.5 + y_pred*0.5\n",
    "d_ch3o2_oh_beta['ch4__no'] = feat['ch4__no']\n",
    "d_ch3o2_oh_beta['beta_adj_ste'] = d_ch3o2_oh_ste\n",
    "d_ch3o2_oh_beta['ch4__no_ste'] = feat_ste"
   ]
  },
  {
   "cell_type": "code",
   "execution_count": 7,
   "id": "45527e85-3b95-413d-923e-c2e7170d839c",
   "metadata": {},
   "outputs": [
    {
     "data": {
      "text/plain": [
       "([<matplotlib.axis.XTick at 0x7fb4147b31f0>,\n",
       "  <matplotlib.axis.XTick at 0x7fb4147b31c0>,\n",
       "  <matplotlib.axis.XTick at 0x7fb4143f9be0>,\n",
       "  <matplotlib.axis.XTick at 0x7fb41494a340>,\n",
       "  <matplotlib.axis.XTick at 0x7fb414958490>,\n",
       "  <matplotlib.axis.XTick at 0x7fb414958f40>],\n",
       " [Text(-1, 0, '−1'),\n",
       "  Text(0, 0, '0'),\n",
       "  Text(1, 0, '1'),\n",
       "  Text(2, 0, '2'),\n",
       "  Text(3, 0, '3'),\n",
       "  Text(4, 0, '4')])"
      ]
     },
     "execution_count": 7,
     "metadata": {},
     "output_type": "execute_result"
    },
    {
     "data": {
      "image/png": "[encoded data removed]",
      "text/plain": [
       "<Figure size 300x300 with 1 Axes>"
      ]
     },
     "metadata": {},
     "output_type": "display_data"
    }
   ],
   "source": [
    "fig, ax = plt.subplots(figsize=(4, 4), dpi=75)\n",
    "x_values = np.log(d_ch3o2_oh_beta['beta_adj'])\n",
    "y_values = np.log(d_ch3o2_oh_beta['ch4__no']*10**(-3))\n",
    "x_errors = d_ch3o2_oh_beta['beta_adj_ste']\n",
    "y_errors = d_ch3o2_oh_beta['ch4__no_ste']*10**(-3)\n",
    "\n",
    "plt.errorbar(x_values, y_values, xerr=x_errors, yerr=y_errors, \n",
    "             fmt=\"o\", ecolor=\"grey\", elinewidth=0.5, capsize=None, mfc='darkturquoise', mec='black', ms=12, alpha=1, mew=0.75)\n",
    "\n",
    "plt.xlim([-4,4])\n",
    "plt.xlim([-1,4])\n",
    "plt.yticks([-4,-2,0,2,4], fontsize=12)\n",
    "plt.xticks([-1,0,1,2,3,4], fontsize=12)"
   ]
  },
  {
   "cell_type": "code",
   "execution_count": 9,
   "id": "52f1bcc0-3dea-4a9e-845a-4f572fed824f",
   "metadata": {},
   "outputs": [],
   "source": [
    "d_ch3o2_oh_beta = d_ch3o2_oh_beta[['beta_adj', 'beta_adj_ste', 'ch4__no', 'ch4__no_ste']]\n",
    "d_ch3o2_oh_beta['ln_beta_adj'] = np.log(d_ch3o2_oh_beta['beta_adj'])\n",
    "d_ch3o2_oh_beta['ln_ch4__no'] = np.log(d_ch3o2_oh_beta['ch4__no']*10**(-3))\n",
    "\n",
    "d_ch3o2_oh_beta.to_csv('I5 MeOO_OH.csv')"
   ]
  },
  {
   "cell_type": "code",
   "execution_count": null,
   "id": "be0f7310-7b18-4b24-a9ae-c4c88a923fdc",
   "metadata": {},
   "outputs": [],
   "source": []
  }
 ],
 "metadata": {
  "kernelspec": {
   "display_name": "Python 3 (ipykernel)",
   "language": "python",
   "name": "python3"
  },
  "language_info": {
   "codemirror_mode": {
    "name": "ipython",
    "version": 3
   },
   "file_extension": ".py",
   "mimetype": "text/x-python",
   "name": "python",
   "nbconvert_exporter": "python",
   "pygments_lexer": "ipython3",
   "version": "3.8.18"
  }
 },
 "nbformat": 4,
 "nbformat_minor": 5
}
