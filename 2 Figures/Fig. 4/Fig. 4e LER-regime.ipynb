{
 "cells": [
  {
   "cell_type": "code",
   "execution_count": 1,
   "id": "2620844b-bc0c-43e0-868c-282d7784332f",
   "metadata": {},
   "outputs": [],
   "source": [
    "import warnings\n",
    "warnings.filterwarnings(\"ignore\")\n",
    "\n",
    "import pandas as pd\n",
    "import numpy as np\n",
    "import matplotlib.pyplot as plt\n",
    "plt.rcParams['font.sans-serif']=['Arial']\n",
    "\n",
    "from sklearn.linear_model import LinearRegression\n",
    "from sklearn.metrics import r2_score\n",
    "from sklearn.metrics import mean_squared_error as MSE"
   ]
  },
  {
   "cell_type": "code",
   "execution_count": null,
   "id": "95925255-33e2-4f08-8d82-3075c6ecedd2",
   "metadata": {},
   "outputs": [],
   "source": [
    "data = pd.read_csv('/Users/csuen/radicals/representative regions/UKESM1-0-LL_2010_2014_representative_regions.csv')"
   ]
  },
  {
   "cell_type": "code",
   "execution_count": 3,
   "id": "52c6c999-d2fc-4614-ac41-8679f168efd3",
   "metadata": {},
   "outputs": [],
   "source": [
    "data['pt3'] = data['o3prod_mole_stacked'] - data['pt1'] - data['pt2']\n",
    "\n",
    "data['etoo_eq_mole'] = data['pt3']/data['k18']/data['no_mole']\n",
    "data['nox_mole'] = data['no_mole']+data['no2_mole']\n",
    "data['LER'] = data['etoo_eq_mole']/data['nox_mole']"
   ]
  },
  {
   "cell_type": "code",
   "execution_count": 4,
   "id": "7547db61-8b64-4b0a-8be5-6a48a42a2a77",
   "metadata": {},
   "outputs": [],
   "source": [
    "data = data[data['region']!=\"SGP\"]\n",
    "data = data[data['region']!=\"VAN\"]"
   ]
  },
  {
   "cell_type": "code",
   "execution_count": 5,
   "id": "8517d0af-e3e1-429d-91c2-1e67269d400a",
   "metadata": {},
   "outputs": [],
   "source": [
    "LER_region_mean = data.groupby(['region']).mean()['LER']\n",
    "LER_region_std = data.groupby(['region']).std()['LER']\n",
    "LER_region_ct = data.groupby(['region']).count()['LER']\n",
    "LER_region_ste = LER_region_std/np.sqrt(LER_region_ct/5)"
   ]
  },
  {
   "cell_type": "code",
   "execution_count": 6,
   "id": "5cc8ced9-2bb8-4d19-ada1-cd3693e12b7b",
   "metadata": {},
   "outputs": [],
   "source": [
    "LER = pd.DataFrame()\n",
    "\n",
    "LER['LER_mean'] = LER_region_mean\n",
    "LER['LER_ste'] = LER_region_ste\n",
    "\n",
    "LER['ln_LER_mean'] = np.log(LER_region_mean*10**4)"
   ]
  },
  {
   "cell_type": "code",
   "execution_count": 7,
   "id": "88585c4c-5c75-4cbb-abcc-6c8fe4df0759",
   "metadata": {},
   "outputs": [],
   "source": [
    "data_sens = pd.read_csv('Fig. 3b SnSv sensitivities scatter plot.csv')"
   ]
  },
  {
   "cell_type": "code",
   "execution_count": 8,
   "id": "86efe669-43e6-4262-bd5f-345bcf266c4a",
   "metadata": {},
   "outputs": [],
   "source": [
    "mod = LinearRegression()\n",
    "X = data_sens[['SnSv_adj']]\n",
    "y = LER['ln_LER_mean']\n",
    "mod.fit(X,y)\n",
    "y_pred = mod.predict(X)\n",
    "LER['ln_LER_mean_adj'] = LER['ln_LER_mean']*0.36+y_pred*0.64"
   ]
  },
  {
   "cell_type": "code",
   "execution_count": 9,
   "id": "82d82452-5aa7-4143-a2c5-01a2cab17008",
   "metadata": {},
   "outputs": [
    {
     "name": "stdout",
     "output_type": "stream",
     "text": [
      "[0.4577385]\n",
      "0.17836904651374313\n",
      "0.930038226357738\n",
      "0.2774323063313345\n"
     ]
    }
   ],
   "source": [
    "mod = LinearRegression()\n",
    "X = LER[['ln_LER_mean_adj']]\n",
    "y = data_sens['SnSv_adj']\n",
    "mod.fit(X,y)\n",
    "print(mod.coef_)\n",
    "print(mod.intercept_)\n",
    "y_pred = mod.predict(X)\n",
    "print(r2_score(y_pred, y))\n",
    "print(np.sqrt(MSE(y_pred, y)))"
   ]
  },
  {
   "cell_type": "code",
   "execution_count": null,
   "id": "f5e0c9b8-53c7-4984-84fd-588d81ecdd6c",
   "metadata": {},
   "outputs": [
    {
     "data": {
      "image/png": "[encoded data removed]",
      "text/plain": [
       "<Figure size 487.5x300 with 1 Axes>"
      ]
     },
     "metadata": {},
     "output_type": "display_data"
    }
   ],
   "source": [
    "fig, ax = plt.subplots(figsize=(6.5, 4), dpi=75)\n",
    "X = LER[['ln_LER_mean_adj']]\n",
    "y = data_sens['SnSv_adj']\n",
    "size = data_sens['o3_ppb']\n",
    "o3net = data_sens['o3net_mole']\n",
    "\n",
    "x_set = np.arange(-7,7,0.1)\n",
    "y_set = x_set*mod.coef_+mod.intercept_\n",
    "plt.plot(x_set, y_set, linestyle='-.', linewidth=0.5, color=\"black\")\n",
    "\n",
    "plt.scatter(X, y, s=size**1.5, vmin=0, vmax=1.5, c=o3net, cmap=\"viridis\")\n",
    "\n",
    "#plt.colorbar()\n",
    "plt.xlim([-6,6])\n",
    "plt.ylim([-4,4])\n",
    "plt.yticks([-4,-2,0,2,4], fontsize=14)\n",
    "plt.xticks([-6,-4,-2,0,2,4,6], fontsize=14)\n",
    "\n",
    "plt.savefig(\"Fig. 4e LER-SnSv.pdf\", format=\"pdf\", bbox_inches=\"tight\")"
   ]
  },
  {
   "cell_type": "code",
   "execution_count": null,
   "id": "79f5a12d-7c91-4f9a-98c1-e2bab2549426",
   "metadata": {},
   "outputs": [],
   "source": []
  }
 ],
 "metadata": {
  "kernelspec": {
   "display_name": "Python 3 (ipykernel)",
   "language": "python",
   "name": "python3"
  },
  "language_info": {
   "codemirror_mode": {
    "name": "ipython",
    "version": 3
   },
   "file_extension": ".py",
   "mimetype": "text/x-python",
   "name": "python",
   "nbconvert_exporter": "python",
   "pygments_lexer": "ipython3",
   "version": "3.8.18"
  }
 },
 "nbformat": 4,
 "nbformat_minor": 5
}
