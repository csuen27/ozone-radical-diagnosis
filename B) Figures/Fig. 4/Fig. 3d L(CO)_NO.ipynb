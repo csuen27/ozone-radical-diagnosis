{
 "cells": [
  {
   "cell_type": "code",
   "execution_count": 1,
   "id": "2620844b-bc0c-43e0-868c-282d7784332f",
   "metadata": {},
   "outputs": [],
   "source": [
    "import warnings\n",
    "warnings.filterwarnings(\"ignore\")\n",
    "\n",
    "import pandas as pd\n",
    "import numpy as np\n",
    "import matplotlib.pyplot as plt\n",
    "plt.rcParams['font.sans-serif']=['Arial']\n",
    "\n",
    "from sklearn.linear_model import LinearRegression\n",
    "from sklearn.metrics import r2_score\n",
    "from sklearn.metrics import mean_squared_error as MSE"
   ]
  },
  {
   "cell_type": "code",
   "execution_count": 2,
   "id": "95925255-33e2-4f08-8d82-3075c6ecedd2",
   "metadata": {},
   "outputs": [],
   "source": [
    "data = pd.read_csv('/Users/csuen/Desktop/Sun-NG-24/radicals/representative regions/UKESM1-0-LL_2010_2014_representative_regions(ver240113).csv')"
   ]
  },
  {
   "cell_type": "code",
   "execution_count": 3,
   "id": "7547db61-8b64-4b0a-8be5-6a48a42a2a77",
   "metadata": {},
   "outputs": [],
   "source": [
    "data['lossco_no'] = data['lossco']/data['no']\n",
    "data = data[data['region']!=\"SGP\"]\n",
    "data = data[data['region']!=\"VAN\"]"
   ]
  },
  {
   "cell_type": "code",
   "execution_count": 4,
   "id": "8517d0af-e3e1-429d-91c2-1e67269d400a",
   "metadata": {},
   "outputs": [],
   "source": [
    "lco_no_region_mean = data.groupby(['region']).mean()['lossco_no']\n",
    "lco_no_region_std = data.groupby(['region']).std()['lossco_no']\n",
    "lco_no_region_ct = data.groupby(['region']).count()['lossco_no']\n",
    "lco_no_region_ste = lco_no_region_std/np.sqrt(lco_no_region_ct/5)\n",
    "\n",
    "ho2_region_mean = data.groupby(['region']).mean()['ho2_mole']\n",
    "ho2_region_std = data.groupby(['region']).std()['ho2_mole']\n",
    "ho2_region_ct = data.groupby(['region']).count()['ho2_mole']\n",
    "ho2_region_ste = ho2_region_std/np.sqrt(ho2_region_ct/5)"
   ]
  },
  {
   "cell_type": "code",
   "execution_count": 6,
   "id": "5cc8ced9-2bb8-4d19-ada1-cd3693e12b7b",
   "metadata": {},
   "outputs": [
    {
     "data": {
      "text/html": [
       "<div>\n",
       "<style scoped>\n",
       "    .dataframe tbody tr th:only-of-type {\n",
       "        vertical-align: middle;\n",
       "    }\n",
       "\n",
       "    .dataframe tbody tr th {\n",
       "        vertical-align: top;\n",
       "    }\n",
       "\n",
       "    .dataframe thead th {\n",
       "        text-align: right;\n",
       "    }\n",
       "</style>\n",
       "<table border=\"1\" class=\"dataframe\">\n",
       "  <thead>\n",
       "    <tr style=\"text-align: right;\">\n",
       "      <th></th>\n",
       "      <th>lco_no_mean</th>\n",
       "      <th>lco_no_ste</th>\n",
       "      <th>ho2_mean</th>\n",
       "      <th>ho2_ste</th>\n",
       "    </tr>\n",
       "    <tr>\n",
       "      <th>region</th>\n",
       "      <th></th>\n",
       "      <th></th>\n",
       "      <th></th>\n",
       "      <th></th>\n",
       "    </tr>\n",
       "  </thead>\n",
       "  <tbody>\n",
       "    <tr>\n",
       "      <th>AUS</th>\n",
       "      <td>0.002275</td>\n",
       "      <td>0.000325</td>\n",
       "      <td>1.385317e+07</td>\n",
       "      <td>2.081810e+06</td>\n",
       "    </tr>\n",
       "    <tr>\n",
       "      <th>BRA</th>\n",
       "      <td>0.002681</td>\n",
       "      <td>0.000224</td>\n",
       "      <td>2.054727e+07</td>\n",
       "      <td>1.529214e+06</td>\n",
       "    </tr>\n",
       "    <tr>\n",
       "      <th>BTH</th>\n",
       "      <td>0.000061</td>\n",
       "      <td>0.000012</td>\n",
       "      <td>2.995108e+05</td>\n",
       "      <td>6.339234e+04</td>\n",
       "    </tr>\n",
       "    <tr>\n",
       "      <th>CA</th>\n",
       "      <td>0.000689</td>\n",
       "      <td>0.000143</td>\n",
       "      <td>4.291214e+06</td>\n",
       "      <td>8.999748e+05</td>\n",
       "    </tr>\n",
       "    <tr>\n",
       "      <th>CCE</th>\n",
       "      <td>0.000769</td>\n",
       "      <td>0.000089</td>\n",
       "      <td>3.736210e+06</td>\n",
       "      <td>4.676721e+05</td>\n",
       "    </tr>\n",
       "    <tr>\n",
       "      <th>COD</th>\n",
       "      <td>0.003247</td>\n",
       "      <td>0.000173</td>\n",
       "      <td>2.118083e+07</td>\n",
       "      <td>8.855164e+05</td>\n",
       "    </tr>\n",
       "    <tr>\n",
       "      <th>DEU</th>\n",
       "      <td>0.000595</td>\n",
       "      <td>0.000094</td>\n",
       "      <td>3.376573e+06</td>\n",
       "      <td>5.807457e+05</td>\n",
       "    </tr>\n",
       "    <tr>\n",
       "      <th>FIN</th>\n",
       "      <td>0.001494</td>\n",
       "      <td>0.000250</td>\n",
       "      <td>7.435275e+06</td>\n",
       "      <td>1.341100e+06</td>\n",
       "    </tr>\n",
       "    <tr>\n",
       "      <th>FRA</th>\n",
       "      <td>0.001614</td>\n",
       "      <td>0.000103</td>\n",
       "      <td>9.107582e+06</td>\n",
       "      <td>6.195603e+05</td>\n",
       "    </tr>\n",
       "    <tr>\n",
       "      <th>GBA</th>\n",
       "      <td>0.000519</td>\n",
       "      <td>0.000086</td>\n",
       "      <td>2.860925e+06</td>\n",
       "      <td>5.240614e+05</td>\n",
       "    </tr>\n",
       "    <tr>\n",
       "      <th>GBR</th>\n",
       "      <td>0.000736</td>\n",
       "      <td>0.000117</td>\n",
       "      <td>3.853170e+06</td>\n",
       "      <td>6.445917e+05</td>\n",
       "    </tr>\n",
       "    <tr>\n",
       "      <th>IDN</th>\n",
       "      <td>0.008626</td>\n",
       "      <td>0.000850</td>\n",
       "      <td>5.542214e+07</td>\n",
       "      <td>4.292477e+06</td>\n",
       "    </tr>\n",
       "    <tr>\n",
       "      <th>IL</th>\n",
       "      <td>0.002032</td>\n",
       "      <td>0.000352</td>\n",
       "      <td>1.213359e+07</td>\n",
       "      <td>2.372088e+06</td>\n",
       "    </tr>\n",
       "    <tr>\n",
       "      <th>IND</th>\n",
       "      <td>0.001226</td>\n",
       "      <td>0.000210</td>\n",
       "      <td>8.269728e+06</td>\n",
       "      <td>1.550323e+06</td>\n",
       "    </tr>\n",
       "    <tr>\n",
       "      <th>JPN</th>\n",
       "      <td>0.000993</td>\n",
       "      <td>0.000137</td>\n",
       "      <td>5.314093e+06</td>\n",
       "      <td>8.149354e+05</td>\n",
       "    </tr>\n",
       "    <tr>\n",
       "      <th>KOR</th>\n",
       "      <td>0.001721</td>\n",
       "      <td>0.000305</td>\n",
       "      <td>8.997296e+06</td>\n",
       "      <td>1.730048e+06</td>\n",
       "    </tr>\n",
       "    <tr>\n",
       "      <th>MYS</th>\n",
       "      <td>0.004818</td>\n",
       "      <td>0.000513</td>\n",
       "      <td>2.984162e+07</td>\n",
       "      <td>2.510561e+06</td>\n",
       "    </tr>\n",
       "    <tr>\n",
       "      <th>NOR</th>\n",
       "      <td>0.000657</td>\n",
       "      <td>0.000116</td>\n",
       "      <td>3.384249e+06</td>\n",
       "      <td>6.392840e+05</td>\n",
       "    </tr>\n",
       "    <tr>\n",
       "      <th>NY</th>\n",
       "      <td>0.001434</td>\n",
       "      <td>0.000270</td>\n",
       "      <td>7.624165e+06</td>\n",
       "      <td>1.519201e+06</td>\n",
       "    </tr>\n",
       "    <tr>\n",
       "      <th>NZL</th>\n",
       "      <td>0.004390</td>\n",
       "      <td>0.000378</td>\n",
       "      <td>2.480710e+07</td>\n",
       "      <td>2.377968e+06</td>\n",
       "    </tr>\n",
       "    <tr>\n",
       "      <th>QTP</th>\n",
       "      <td>0.002212</td>\n",
       "      <td>0.000080</td>\n",
       "      <td>1.297623e+07</td>\n",
       "      <td>4.819726e+05</td>\n",
       "    </tr>\n",
       "    <tr>\n",
       "      <th>TO</th>\n",
       "      <td>0.001501</td>\n",
       "      <td>0.000294</td>\n",
       "      <td>7.795193e+06</td>\n",
       "      <td>1.624562e+06</td>\n",
       "    </tr>\n",
       "    <tr>\n",
       "      <th>WA</th>\n",
       "      <td>0.000749</td>\n",
       "      <td>0.000104</td>\n",
       "      <td>4.177705e+06</td>\n",
       "      <td>6.281607e+05</td>\n",
       "    </tr>\n",
       "    <tr>\n",
       "      <th>YYN</th>\n",
       "      <td>0.001544</td>\n",
       "      <td>0.000135</td>\n",
       "      <td>8.307922e+06</td>\n",
       "      <td>8.008266e+05</td>\n",
       "    </tr>\n",
       "  </tbody>\n",
       "</table>\n",
       "</div>"
      ],
      "text/plain": [
       "        lco_no_mean  lco_no_ste      ho2_mean       ho2_ste\n",
       "region                                                     \n",
       "AUS        0.002275    0.000325  1.385317e+07  2.081810e+06\n",
       "BRA        0.002681    0.000224  2.054727e+07  1.529214e+06\n",
       "BTH        0.000061    0.000012  2.995108e+05  6.339234e+04\n",
       "CA         0.000689    0.000143  4.291214e+06  8.999748e+05\n",
       "CCE        0.000769    0.000089  3.736210e+06  4.676721e+05\n",
       "COD        0.003247    0.000173  2.118083e+07  8.855164e+05\n",
       "DEU        0.000595    0.000094  3.376573e+06  5.807457e+05\n",
       "FIN        0.001494    0.000250  7.435275e+06  1.341100e+06\n",
       "FRA        0.001614    0.000103  9.107582e+06  6.195603e+05\n",
       "GBA        0.000519    0.000086  2.860925e+06  5.240614e+05\n",
       "GBR        0.000736    0.000117  3.853170e+06  6.445917e+05\n",
       "IDN        0.008626    0.000850  5.542214e+07  4.292477e+06\n",
       "IL         0.002032    0.000352  1.213359e+07  2.372088e+06\n",
       "IND        0.001226    0.000210  8.269728e+06  1.550323e+06\n",
       "JPN        0.000993    0.000137  5.314093e+06  8.149354e+05\n",
       "KOR        0.001721    0.000305  8.997296e+06  1.730048e+06\n",
       "MYS        0.004818    0.000513  2.984162e+07  2.510561e+06\n",
       "NOR        0.000657    0.000116  3.384249e+06  6.392840e+05\n",
       "NY         0.001434    0.000270  7.624165e+06  1.519201e+06\n",
       "NZL        0.004390    0.000378  2.480710e+07  2.377968e+06\n",
       "QTP        0.002212    0.000080  1.297623e+07  4.819726e+05\n",
       "TO         0.001501    0.000294  7.795193e+06  1.624562e+06\n",
       "WA         0.000749    0.000104  4.177705e+06  6.281607e+05\n",
       "YYN        0.001544    0.000135  8.307922e+06  8.008266e+05"
      ]
     },
     "execution_count": 6,
     "metadata": {},
     "output_type": "execute_result"
    }
   ],
   "source": [
    "lco = pd.DataFrame()\n",
    "lco['lco_no_mean'] = lco_no_region_mean\n",
    "lco['lco_no_ste'] = lco_no_region_ste\n",
    "lco['ho2_mean'] = ho2_region_mean\n",
    "lco['ho2_ste'] = ho2_region_ste\n",
    "lco"
   ]
  },
  {
   "cell_type": "code",
   "execution_count": 17,
   "id": "5e3aebba-bf30-4437-9b3e-65fe06aae4ea",
   "metadata": {},
   "outputs": [
    {
     "name": "stdout",
     "output_type": "stream",
     "text": [
      "[0.64429368]\n",
      "-0.08559188693702025\n",
      "0.9893201586574333\n",
      "0.12050630584440011\n"
     ]
    }
   ],
   "source": [
    "mod = LinearRegression()\n",
    "X = lco[['lco_no_mean']]*10**3\n",
    "y = lco['ho2_mean']*10**(-7)\n",
    "mod.fit(X,y)\n",
    "print(mod.coef_)\n",
    "print(mod.intercept_)\n",
    "y_pred = mod.predict(X)\n",
    "print(r2_score(y_pred, y))\n",
    "print(np.sqrt(MSE(y_pred, y)))"
   ]
  },
  {
   "cell_type": "code",
   "execution_count": 10,
   "id": "cfa3c249-98d0-4973-874a-18c64e73d43b",
   "metadata": {},
   "outputs": [
    {
     "data": {
      "text/plain": [
       "<ErrorbarContainer object of 3 artists>"
      ]
     },
     "execution_count": 10,
     "metadata": {},
     "output_type": "execute_result"
    },
    {
     "data": {
      "image/png": "[encoded data removed]",
      "text/plain": [
       "<Figure size 300x300 with 1 Axes>"
      ]
     },
     "metadata": {},
     "output_type": "display_data"
    }
   ],
   "source": [
    "fig, ax = plt.subplots(figsize=(4, 4), dpi=75)\n",
    "x_values = lco['lco_no_mean']*10**3\n",
    "y_values = lco['ho2_mean']*10**(-7)\n",
    "x_errors = lco['lco_no_ste']*10**3\n",
    "y_errors = lco['ho2_ste']*10**(-7)\n",
    "\n",
    "\n",
    "#plt.scatter(x_values, y_values, c='red', s=50, marker='o', linewidths=0.75, edgecolors='black')\n",
    "plt.errorbar(x_values, y_values, xerr=x_errors, yerr=y_errors, \n",
    "             fmt=\"o\", ecolor=\"grey\", elinewidth=0.5, capsize=None, mfc='lightcoral', mec='black', alpha=1, ms=10, mew=0.75)\n",
    "\n",
    "#plt.yticks([0, 5, 10, 15], fontsize=12)\n",
    "#plt.xticks([0, 1, 2, 3, 4, 5], fontsize=12)"
   ]
  },
  {
   "cell_type": "code",
   "execution_count": 12,
   "id": "c93b0e89-7a0e-49f8-b0f2-605bf5edea89",
   "metadata": {},
   "outputs": [
    {
     "data": {
      "text/plain": [
       "<ErrorbarContainer object of 3 artists>"
      ]
     },
     "execution_count": 12,
     "metadata": {},
     "output_type": "execute_result"
    },
    {
     "data": {
      "image/png": "[encoded data removed]",
      "text/plain": [
       "<Figure size 300x300 with 1 Axes>"
      ]
     },
     "metadata": {},
     "output_type": "display_data"
    }
   ],
   "source": [
    "fig, ax = plt.subplots(figsize=(4, 4), dpi=75)\n",
    "lg_x_values = np.log(x_values)\n",
    "lg_y_values = np.log(y_values)\n",
    "lg_x_errors = np.log(x_errors)\n",
    "lg_y_errors = np.log(y_errors)\n",
    "\n",
    "\n",
    "#plt.scatter(x_values, y_values, c='red', s=50, marker='o', linewidths=0.75, edgecolors='black')\n",
    "plt.errorbar(lg_x_values, lg_y_values, xerr=x_errors, yerr=y_errors, \n",
    "             fmt=\"o\", ecolor=\"grey\", elinewidth=0.5, capsize=None, mfc='lightcoral', mec='black', alpha=1, ms=10, mew=0.75)\n",
    "\n",
    "#plt.yticks([0, 5, 10, 15], fontsize=12)\n",
    "#plt.xticks([0, 1, 2, 3, 4, 5], fontsize=12)"
   ]
  },
  {
   "cell_type": "code",
   "execution_count": 13,
   "id": "416bf62f-819b-4d4c-86fa-a0d25108ced3",
   "metadata": {},
   "outputs": [
    {
     "name": "stdout",
     "output_type": "stream",
     "text": [
      "[1.06058806]\n",
      "-0.5815459844214419\n",
      "0.9916381876975815\n",
      "0.09238699003628265\n"
     ]
    }
   ],
   "source": [
    "mod = LinearRegression()\n",
    "X = lco[['lco_no_mean']]*10**3\n",
    "y = lco['ho2_mean']*10**(-7)\n",
    "mod.fit(np.log(X),np.log(y))\n",
    "print(mod.coef_)\n",
    "print(mod.intercept_)\n",
    "y_pred = mod.predict(np.log(X))\n",
    "print(r2_score(y_pred, np.log(y)))\n",
    "print(np.sqrt(MSE(y_pred, np.log(y))))"
   ]
  },
  {
   "cell_type": "code",
   "execution_count": 14,
   "id": "f7233a81-b6fb-403d-9ed3-fbbe95cc790b",
   "metadata": {},
   "outputs": [],
   "source": [
    "data_sens = pd.read_csv('Fig. 3b SnSv sensitivities scatter plot.csv')"
   ]
  },
  {
   "cell_type": "code",
   "execution_count": 16,
   "id": "f5e0c9b8-53c7-4984-84fd-588d81ecdd6c",
   "metadata": {},
   "outputs": [
    {
     "data": {
      "image/png": "[encoded data removed]",
      "text/plain": [
       "<Figure size 487.5x300 with 1 Axes>"
      ]
     },
     "metadata": {},
     "output_type": "display_data"
    }
   ],
   "source": [
    "fig, ax = plt.subplots(figsize=(6.5, 4), dpi=75)\n",
    "X = lco[['lco_no_mean']]*10**3\n",
    "y = lco['ho2_mean']*10**(-7)\n",
    "size = data_sens['o3_ppb']\n",
    "o3net = data_sens['o3net_mole']\n",
    "\n",
    "x_set = np.arange(-4,4,0.1)\n",
    "y_set = x_set*mod.coef_+mod.intercept_\n",
    "plt.plot(x_set, y_set, linestyle='-.', linewidth=0.5, color=\"black\")\n",
    "\n",
    "plt.scatter(np.log(X),np.log(y), s=size**1.5, vmin=0, vmax=1.5, c=o3net, cmap=\"viridis\")\n",
    "\n",
    "#plt.colorbar()\n",
    "plt.xlim([-4,4])\n",
    "plt.ylim([-4,4])\n",
    "plt.yticks([-4,-2,0,2,4], fontsize=14)\n",
    "plt.xticks([-4,-2,0,2,4], fontsize=14)\n",
    "\n",
    "plt.savefig(\"Fig. 3d L(CO)_NO-HO2.pdf\", format=\"pdf\", bbox_inches=\"tight\")"
   ]
  },
  {
   "cell_type": "code",
   "execution_count": null,
   "id": "79f5a12d-7c91-4f9a-98c1-e2bab2549426",
   "metadata": {},
   "outputs": [],
   "source": []
  }
 ],
 "metadata": {
  "kernelspec": {
   "display_name": "Python 3 (ipykernel)",
   "language": "python",
   "name": "python3"
  },
  "language_info": {
   "codemirror_mode": {
    "name": "ipython",
    "version": 3
   },
   "file_extension": ".py",
   "mimetype": "text/x-python",
   "name": "python",
   "nbconvert_exporter": "python",
   "pygments_lexer": "ipython3",
   "version": "3.8.18"
  }
 },
 "nbformat": 4,
 "nbformat_minor": 5
}
