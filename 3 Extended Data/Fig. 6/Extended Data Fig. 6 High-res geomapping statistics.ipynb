{
 "cells": [
  {
   "cell_type": "code",
   "execution_count": 1,
   "id": "1d0ea0e3-283d-4c93-a2fa-412c0e6d7e27",
   "metadata": {},
   "outputs": [],
   "source": [
    "import warnings\n",
    "warnings.filterwarnings(\"ignore\")\n",
    "\n",
    "import pandas as pd\n",
    "import numpy as np\n",
    "import matplotlib.pyplot as plt\n",
    "\n",
    "JJA = pd.read_csv(\"o3-budget-JJA-continent.csv\")\n",
    "DJF = pd.read_csv(\"o3-budget-DJF-continent.csv\")"
   ]
  },
  {
   "cell_type": "code",
   "execution_count": 2,
   "id": "d625b9f8-3df9-4c86-a35f-0389521078f7",
   "metadata": {},
   "outputs": [
    {
     "data": {
      "text/html": [
       "<div>\n",
       "<style scoped>\n",
       "    .dataframe tbody tr th:only-of-type {\n",
       "        vertical-align: middle;\n",
       "    }\n",
       "\n",
       "    .dataframe tbody tr th {\n",
       "        vertical-align: top;\n",
       "    }\n",
       "\n",
       "    .dataframe thead th {\n",
       "        text-align: right;\n",
       "    }\n",
       "</style>\n",
       "<table border=\"1\" class=\"dataframe\">\n",
       "  <thead>\n",
       "    <tr style=\"text-align: right;\">\n",
       "      <th></th>\n",
       "      <th>longitude</th>\n",
       "      <th>latitude</th>\n",
       "      <th>o3</th>\n",
       "      <th>o3prod</th>\n",
       "      <th>o3loss</th>\n",
       "      <th>o3prod_mole</th>\n",
       "      <th>o3loss_mole</th>\n",
       "      <th>CONTINENT</th>\n",
       "    </tr>\n",
       "  </thead>\n",
       "  <tbody>\n",
       "    <tr>\n",
       "      <th>0</th>\n",
       "      <td>26.25</td>\n",
       "      <td>39.75</td>\n",
       "      <td>5.551372e-08</td>\n",
       "      <td>1.865424e-11</td>\n",
       "      <td>3.956614e-12</td>\n",
       "      <td>1.123358e+07</td>\n",
       "      <td>2.382673e+06</td>\n",
       "      <td>Asia</td>\n",
       "    </tr>\n",
       "    <tr>\n",
       "      <th>1</th>\n",
       "      <td>26.25</td>\n",
       "      <td>40.75</td>\n",
       "      <td>5.479541e-08</td>\n",
       "      <td>1.605240e-11</td>\n",
       "      <td>3.671783e-12</td>\n",
       "      <td>9.666757e+06</td>\n",
       "      <td>2.211147e+06</td>\n",
       "      <td>Asia</td>\n",
       "    </tr>\n",
       "    <tr>\n",
       "      <th>2</th>\n",
       "      <td>26.75</td>\n",
       "      <td>38.25</td>\n",
       "      <td>5.507900e-08</td>\n",
       "      <td>2.016186e-11</td>\n",
       "      <td>3.961779e-12</td>\n",
       "      <td>1.214147e+07</td>\n",
       "      <td>2.385784e+06</td>\n",
       "      <td>Asia</td>\n",
       "    </tr>\n",
       "    <tr>\n",
       "      <th>3</th>\n",
       "      <td>26.75</td>\n",
       "      <td>39.25</td>\n",
       "      <td>5.368788e-08</td>\n",
       "      <td>1.905303e-11</td>\n",
       "      <td>3.861259e-12</td>\n",
       "      <td>1.147373e+07</td>\n",
       "      <td>2.325250e+06</td>\n",
       "      <td>Asia</td>\n",
       "    </tr>\n",
       "    <tr>\n",
       "      <th>4</th>\n",
       "      <td>26.75</td>\n",
       "      <td>39.75</td>\n",
       "      <td>5.430465e-08</td>\n",
       "      <td>1.826032e-11</td>\n",
       "      <td>3.812757e-12</td>\n",
       "      <td>1.099637e+07</td>\n",
       "      <td>2.296042e+06</td>\n",
       "      <td>Asia</td>\n",
       "    </tr>\n",
       "    <tr>\n",
       "      <th>...</th>\n",
       "      <td>...</td>\n",
       "      <td>...</td>\n",
       "      <td>...</td>\n",
       "      <td>...</td>\n",
       "      <td>...</td>\n",
       "      <td>...</td>\n",
       "      <td>...</td>\n",
       "      <td>...</td>\n",
       "    </tr>\n",
       "    <tr>\n",
       "      <th>85842</th>\n",
       "      <td>-0.25</td>\n",
       "      <td>-73.75</td>\n",
       "      <td>2.196790e-08</td>\n",
       "      <td>7.534137e-17</td>\n",
       "      <td>7.235606e-16</td>\n",
       "      <td>4.537057e+01</td>\n",
       "      <td>4.357282e+02</td>\n",
       "      <td>Antarctica</td>\n",
       "    </tr>\n",
       "    <tr>\n",
       "      <th>85843</th>\n",
       "      <td>-0.25</td>\n",
       "      <td>-73.25</td>\n",
       "      <td>2.232203e-08</td>\n",
       "      <td>7.155562e-17</td>\n",
       "      <td>8.316349e-16</td>\n",
       "      <td>4.309080e+01</td>\n",
       "      <td>5.008105e+02</td>\n",
       "      <td>Antarctica</td>\n",
       "    </tr>\n",
       "    <tr>\n",
       "      <th>85844</th>\n",
       "      <td>-0.25</td>\n",
       "      <td>-72.75</td>\n",
       "      <td>2.253348e-08</td>\n",
       "      <td>1.783391e-16</td>\n",
       "      <td>1.082878e-15</td>\n",
       "      <td>1.073958e+02</td>\n",
       "      <td>6.521090e+02</td>\n",
       "      <td>Antarctica</td>\n",
       "    </tr>\n",
       "    <tr>\n",
       "      <th>85845</th>\n",
       "      <td>-0.25</td>\n",
       "      <td>-72.25</td>\n",
       "      <td>2.269736e-08</td>\n",
       "      <td>3.219791e-16</td>\n",
       "      <td>1.381843e-15</td>\n",
       "      <td>1.938958e+02</td>\n",
       "      <td>8.321461e+02</td>\n",
       "      <td>Antarctica</td>\n",
       "    </tr>\n",
       "    <tr>\n",
       "      <th>85846</th>\n",
       "      <td>-0.25</td>\n",
       "      <td>-71.75</td>\n",
       "      <td>2.258209e-08</td>\n",
       "      <td>5.937330e-16</td>\n",
       "      <td>1.659548e-15</td>\n",
       "      <td>3.575460e+02</td>\n",
       "      <td>9.993800e+02</td>\n",
       "      <td>Antarctica</td>\n",
       "    </tr>\n",
       "  </tbody>\n",
       "</table>\n",
       "<p>85847 rows × 8 columns</p>\n",
       "</div>"
      ],
      "text/plain": [
       "       longitude  latitude            o3        o3prod        o3loss  \\\n",
       "0          26.25     39.75  5.551372e-08  1.865424e-11  3.956614e-12   \n",
       "1          26.25     40.75  5.479541e-08  1.605240e-11  3.671783e-12   \n",
       "2          26.75     38.25  5.507900e-08  2.016186e-11  3.961779e-12   \n",
       "3          26.75     39.25  5.368788e-08  1.905303e-11  3.861259e-12   \n",
       "4          26.75     39.75  5.430465e-08  1.826032e-11  3.812757e-12   \n",
       "...          ...       ...           ...           ...           ...   \n",
       "85842      -0.25    -73.75  2.196790e-08  7.534137e-17  7.235606e-16   \n",
       "85843      -0.25    -73.25  2.232203e-08  7.155562e-17  8.316349e-16   \n",
       "85844      -0.25    -72.75  2.253348e-08  1.783391e-16  1.082878e-15   \n",
       "85845      -0.25    -72.25  2.269736e-08  3.219791e-16  1.381843e-15   \n",
       "85846      -0.25    -71.75  2.258209e-08  5.937330e-16  1.659548e-15   \n",
       "\n",
       "        o3prod_mole   o3loss_mole   CONTINENT  \n",
       "0      1.123358e+07  2.382673e+06        Asia  \n",
       "1      9.666757e+06  2.211147e+06        Asia  \n",
       "2      1.214147e+07  2.385784e+06        Asia  \n",
       "3      1.147373e+07  2.325250e+06        Asia  \n",
       "4      1.099637e+07  2.296042e+06        Asia  \n",
       "...             ...           ...         ...  \n",
       "85842  4.537057e+01  4.357282e+02  Antarctica  \n",
       "85843  4.309080e+01  5.008105e+02  Antarctica  \n",
       "85844  1.073958e+02  6.521090e+02  Antarctica  \n",
       "85845  1.938958e+02  8.321461e+02  Antarctica  \n",
       "85846  3.575460e+02  9.993800e+02  Antarctica  \n",
       "\n",
       "[85847 rows x 8 columns]"
      ]
     },
     "execution_count": 2,
     "metadata": {},
     "output_type": "execute_result"
    }
   ],
   "source": [
    "JJA"
   ]
  },
  {
   "cell_type": "code",
   "execution_count": 3,
   "id": "cd801943-07be-4b00-86f4-90bed405c858",
   "metadata": {},
   "outputs": [],
   "source": [
    "JJA_ILS = JJA[JJA['latitude']>-60]\n",
    "DJF_ILS = DJF[DJF['latitude']>-60]"
   ]
  },
  {
   "cell_type": "markdown",
   "id": "93a511c5-f234-4e4e-af90-d4adb683388f",
   "metadata": {},
   "source": [
    "### Production JJA"
   ]
  },
  {
   "cell_type": "code",
   "execution_count": 4,
   "id": "16f710b9-4e06-41c2-a559-c53ea993ad30",
   "metadata": {},
   "outputs": [
    {
     "name": "stdout",
     "output_type": "stream",
     "text": [
      "Mean: 0.5925983222558858\n",
      "Std: 0.6865032177073939\n",
      "Median: 0.39104317281533346\n",
      "Q1: 0.11284068413716675\n",
      "Q3: 0.8274695809033332\n",
      "5th%ile:  0.03570847118431665\n",
      "95th%ile: 1.82672040028167\n",
      "99th%ile: 3.616931999004995\n",
      "Maximum: 6.70165697133333\n"
     ]
    }
   ],
   "source": [
    "print(\"Mean: \"+str(JJA_ILS['o3prod_mole'].mean()*10**(-7)))\n",
    "print(\"Std: \"+str(JJA_ILS['o3prod_mole'].std()*10**(-7)))\n",
    "print(\"Median: \"+str(JJA_ILS['o3prod_mole'].median()*10**(-7)))\n",
    "print(\"Q1: \"+str(np.nanpercentile(JJA_ILS['o3prod_mole'],25)*10**(-7)))\n",
    "print(\"Q3: \"+str(np.nanpercentile(JJA_ILS['o3prod_mole'],75)*10**(-7)))\n",
    "print(\"5th%ile:  \"+str(np.nanpercentile(JJA_ILS['o3prod_mole'], 5)*10**(-7)))\n",
    "print(\"95th%ile: \"+str(np.nanpercentile(JJA_ILS['o3prod_mole'],95)*10**(-7)))\n",
    "print(\"99th%ile: \"+str(np.nanpercentile(JJA_ILS['o3prod_mole'],99)*10**(-7)))\n",
    "print(\"Maximum: \"+str(JJA_ILS['o3prod_mole'].max()*10**(-7)))"
   ]
  },
  {
   "cell_type": "markdown",
   "id": "db3c9414-e487-483b-9483-1536fe76eb70",
   "metadata": {},
   "source": [
    "### Production DJF"
   ]
  },
  {
   "cell_type": "code",
   "execution_count": 5,
   "id": "def64f3b-cd95-4118-98bd-c2d3546c789e",
   "metadata": {},
   "outputs": [
    {
     "name": "stdout",
     "output_type": "stream",
     "text": [
      "Mean: 0.28604532412794315\n",
      "Std: 0.5341292743231745\n",
      "Median: 0.04408037356533335\n",
      "Q1: 0.002393959709391667\n",
      "Q3: 0.3715810468885\n",
      "5th%ile:  7.376925499205094e-05\n",
      "95th%ile: 1.2515658095000024\n",
      "99th%ile: 2.2942328972873156\n",
      "Maximum: 8.43182361956\n"
     ]
    }
   ],
   "source": [
    "print(\"Mean: \"+str(DJF_ILS['o3prod_mole'].mean()*10**(-7)))\n",
    "print(\"Std: \"+str(DJF_ILS['o3prod_mole'].std()*10**(-7)))\n",
    "print(\"Median: \"+str(DJF_ILS['o3prod_mole'].median()*10**(-7)))\n",
    "print(\"Q1: \"+str(np.nanpercentile(DJF_ILS['o3prod_mole'],25)*10**(-7)))\n",
    "print(\"Q3: \"+str(np.nanpercentile(DJF_ILS['o3prod_mole'],75)*10**(-7)))\n",
    "print(\"5th%ile:  \"+str(np.nanpercentile(DJF_ILS['o3prod_mole'], 5)*10**(-7)))\n",
    "print(\"95th%ile: \"+str(np.nanpercentile(DJF_ILS['o3prod_mole'],95)*10**(-7)))\n",
    "print(\"99th%ile: \"+str(np.nanpercentile(DJF_ILS['o3prod_mole'],99)*10**(-7)))\n",
    "print(\"Maximum: \"+str(DJF_ILS['o3prod_mole'].max()*10**(-7)))"
   ]
  },
  {
   "cell_type": "markdown",
   "id": "14f6f5e7-4f07-4bfe-9b51-fd5b5472b1f5",
   "metadata": {},
   "source": [
    "### Loss JJA"
   ]
  },
  {
   "cell_type": "code",
   "execution_count": 6,
   "id": "bc19b4bc-3441-47ba-8d6b-fc3a26745331",
   "metadata": {},
   "outputs": [
    {
     "name": "stdout",
     "output_type": "stream",
     "text": [
      "Mean: 1.4479041780099833\n",
      "Std: 1.13912099132979\n",
      "Median: 1.172735370516665\n",
      "Q1: 0.4634063340783335\n",
      "Q3: 2.1141291122916677\n",
      "5th%ile:  0.23979219645849972\n",
      "95th%ile: 3.56721444729833\n",
      "99th%ile: 5.084725564167325\n",
      "Maximum: 8.2287600934\n"
     ]
    }
   ],
   "source": [
    "print(\"Mean: \"+str(JJA_ILS['o3loss_mole'].mean()*10**(-6)))\n",
    "print(\"Std: \"+str(JJA_ILS['o3loss_mole'].std()*10**(-6)))\n",
    "print(\"Median: \"+str(JJA_ILS['o3loss_mole'].median()*10**(-6)))\n",
    "print(\"Q1: \"+str(np.nanpercentile(JJA_ILS['o3loss_mole'],25)*10**(-6)))\n",
    "print(\"Q3: \"+str(np.nanpercentile(JJA_ILS['o3loss_mole'],75)*10**(-6)))\n",
    "print(\"5th%ile:  \"+str(np.nanpercentile(JJA_ILS['o3loss_mole'], 5)*10**(-6)))\n",
    "print(\"95th%ile: \"+str(np.nanpercentile(JJA_ILS['o3loss_mole'],95)*10**(-6)))\n",
    "print(\"99th%ile: \"+str(np.nanpercentile(JJA_ILS['o3loss_mole'],99)*10**(-6)))\n",
    "print(\"Maximum: \"+str(JJA_ILS['o3loss_mole'].max()*10**(-6)))"
   ]
  },
  {
   "cell_type": "markdown",
   "id": "99387bed-6148-41cf-b32c-3ddb16b03e4f",
   "metadata": {},
   "source": [
    "### Loss DJF"
   ]
  },
  {
   "cell_type": "code",
   "execution_count": 7,
   "id": "1d588601-14c4-4238-9971-f29a6b7214c7",
   "metadata": {},
   "outputs": [
    {
     "name": "stdout",
     "output_type": "stream",
     "text": [
      "Mean: 0.7074349743563703\n",
      "Std: 1.1051367790821947\n",
      "Median: 0.038453560791499995\n",
      "Q1: 0.0019114237967723323\n",
      "Q3: 1.18504609995167\n",
      "5th%ile:  0.00019117111876893324\n",
      "95th%ile: 3.19636743252833\n",
      "99th%ile: 4.267543417050997\n",
      "Maximum: 8.0996929762\n"
     ]
    }
   ],
   "source": [
    "print(\"Mean: \"+str(DJF_ILS['o3loss_mole'].mean()*10**(-6)))\n",
    "print(\"Std: \"+str(DJF_ILS['o3loss_mole'].std()*10**(-6)))\n",
    "print(\"Median: \"+str(DJF_ILS['o3loss_mole'].median()*10**(-6)))\n",
    "print(\"Q1: \"+str(np.nanpercentile(DJF_ILS['o3loss_mole'],25)*10**(-6)))\n",
    "print(\"Q3: \"+str(np.nanpercentile(DJF_ILS['o3loss_mole'],75)*10**(-6)))\n",
    "print(\"5th%ile:  \"+str(np.nanpercentile(DJF_ILS['o3loss_mole'], 5)*10**(-6)))\n",
    "print(\"95th%ile: \"+str(np.nanpercentile(DJF_ILS['o3loss_mole'],95)*10**(-6)))\n",
    "print(\"99th%ile: \"+str(np.nanpercentile(DJF_ILS['o3loss_mole'],99)*10**(-6)))\n",
    "print(\"Maximum: \"+str(DJF_ILS['o3loss_mole'].max()*10**(-6)))"
   ]
  }
 ],
 "metadata": {
  "kernelspec": {
   "display_name": "Python 3 (ipykernel)",
   "language": "python",
   "name": "python3"
  },
  "language_info": {
   "codemirror_mode": {
    "name": "ipython",
    "version": 3
   },
   "file_extension": ".py",
   "mimetype": "text/x-python",
   "name": "python",
   "nbconvert_exporter": "python",
   "pygments_lexer": "ipython3",
   "version": "3.12.3"
  }
 },
 "nbformat": 4,
 "nbformat_minor": 5
}
