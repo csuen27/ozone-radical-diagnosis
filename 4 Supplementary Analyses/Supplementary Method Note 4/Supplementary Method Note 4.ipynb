{
 "cells": [
  {
   "cell_type": "code",
   "execution_count": null,
   "id": "0badca92-faf5-4e65-bece-3364118c8796",
   "metadata": {},
   "outputs": [],
   "source": [
    "import warnings\n",
    "warnings.filterwarnings(\"ignore\")\n",
    "\n",
    "import pandas as pd\n",
    "import numpy as np\n",
    "import matplotlib.pyplot as plt\n",
    "\n",
    "dataset = pd.read_csv('D://Research/radicals/UKESM1-0-LL_2010_2014.csv')"
   ]
  },
  {
   "cell_type": "code",
   "execution_count": 2,
   "id": "87128394-f49e-4149-a39c-766cf07abd6f",
   "metadata": {},
   "outputs": [],
   "source": [
    "dataset['k1'] = 2.15*10**(-11)*np.exp(110/dataset['tas'])\n",
    "dataset['k2'] = 3.30*10**(-11)*np.exp(55/dataset['tas'])\n",
    "dataset['k3'] = 1.63*10**(-10)*np.exp(60/dataset['tas'])\n",
    "dataset['k4'] = 4.30*10**(-32)*(dataset['tas']/300)**(-1.2)*dataset['n2_mole']\n",
    "#dataset['k4'] = 1.00*10**(-12)\n",
    "dataset['k5'] = 1.44*10**(-13)\n",
    "\n",
    "dataset['k6'] = 5.40*10**(-12)*np.exp(135/dataset['tas'])\n",
    "dataset['k7'] = 1.70*10**(-12)*np.exp(-940/dataset['tas'])\n",
    "dataset['k8'] = 2.45*10**(-12)*np.exp(-600/dataset['tas'])\n",
    "dataset['k9'] = 4.01*10**(-12)*np.exp(190/dataset['tas'])\n",
    "dataset['k9a'] = 2.12*10**(-12)*np.exp(190/dataset['tas'])\n",
    "dataset['k9b'] = 1.89*10**(-12)*np.exp(190/dataset['tas'])\n",
    "\n",
    "dataset['k10'] = 3.30*10**(-12)*np.exp(270/dataset['tas'])\n",
    "dataset['k11'] = 2.03*10**(-16)*(dataset['tas']/300)**4.57*np.exp(693/dataset['tas'])\n",
    "dataset['k12'] = 3.00*10**(-13)*np.exp(460/dataset['tas'])\n",
    "dataset['k13'] = 4.80*10**(-11)*np.exp(250/dataset['tas'])\n",
    "\n",
    "dataset['k14'] = 2.30*10**(-12)*np.exp(360/dataset['tas'])\n",
    "dataset['k15'] = 3.80*10**(-13)*np.exp(780/dataset['tas'])\n",
    "dataset['k15a'] = dataset['k15']/(1+498*np.exp(-1160/dataset['tas']))\n",
    "dataset['k15b'] = dataset['k15']-dataset['k15a']\n",
    "dataset['k16'] = 1.03*10**(-13)*np.exp(365/dataset['tas'])\n",
    "\n",
    "dataset['k17'] = 6.90*10**(-12)*np.exp(-1000/dataset['tas'])\n",
    "dataset['k18'] = 2.55*10**(-12)*np.exp(380/dataset['tas'])\n",
    "dataset['k19'] = 6.40*10**(-13)*np.exp(710/dataset['tas'])\n",
    "dataset['k20'] = 7.60*10**(-12)*np.exp(-585/dataset['tas'])\n",
    "dataset['k21'] = 2.90*10**(-12)*np.exp(350/dataset['tas'])\n",
    "dataset['k22'] = 1.51*10**(-13)*np.exp(1300/dataset['tas'])\n",
    "dataset['k23'] = 2.70*10**(-11)*np.exp(390/dataset['tas'])\n",
    "#dataset['k24'] = 1.12*10**(-13)*np.exp(360/dataset['tas'])\n",
    "dataset['k24'] = 2.54*10**(-12)*np.exp(360/dataset['tas'])\n",
    "dataset['k25'] = 2.05*10**(-13)*np.exp(1300/dataset['tas'])\n",
    "dataset['k26'] = 2.00*10**(-12)\n",
    "dataset['k27'] = 9.99*10**(-15)*np.exp(-1995/dataset['tas'])"
   ]
  },
  {
   "cell_type": "code",
   "execution_count": 3,
   "id": "4593bd14-edb2-497b-bd7a-e808822b6db1",
   "metadata": {},
   "outputs": [],
   "source": [
    "dataset['etoo_mole_v2'] = dataset['k17']*dataset['c2h6_mole']*dataset['oh_mole']/(dataset['k18']*dataset['no_mole'] + dataset['k19']*dataset['ho2_mole'])"
   ]
  },
  {
   "cell_type": "code",
   "execution_count": 4,
   "id": "4bcb98a2-1561-4b2c-869a-0040cf54fe1d",
   "metadata": {},
   "outputs": [],
   "source": [
    "dataset['A'] = 2*dataset['k12']\n",
    "dataset['B'] = dataset['k10']*dataset['no_mole'] + dataset['k11']*dataset['o3_mole'] + dataset['k13']*dataset['oh_mole'] + dataset['k15']*dataset['ch3o2_mole'] + dataset['k19']*dataset['etoo_mole_v2']\n",
    "dataset['C'] = -(dataset['k14']*dataset['no_mole']*dataset['ch3o2_mole'] + dataset['k6']*dataset['oh_mole']*dataset['hcho_mole'] + dataset['k7']*dataset['oh_mole']*dataset['o3_mole'] + dataset['k18']*dataset['etoo_mole_v2']*dataset['no_mole'] + dataset['lossco_mole']) \n",
    "\n",
    "dataset['ho2_mole_v2'] = (-dataset['B']+(dataset['B']*dataset['B']-4*dataset['A']*dataset['C'])**(0.5))/(2*dataset['A'])"
   ]
  },
  {
   "cell_type": "code",
   "execution_count": 5,
   "id": "c9472d9c-c9f1-4106-bfa7-711bb92099b9",
   "metadata": {},
   "outputs": [],
   "source": [
    "dataset['etoo_mole_v3'] = dataset['k17']*dataset['c2h6_mole']*dataset['oh_mole']/(dataset['k18']*dataset['no_mole'] + dataset['k19']*dataset['ho2_mole_v2'])"
   ]
  },
  {
   "cell_type": "code",
   "execution_count": 6,
   "id": "030294cb-bb51-4c28-9dbd-fd19d0ab01d2",
   "metadata": {},
   "outputs": [],
   "source": [
    "dataset['A'] = 2*dataset['k12']\n",
    "dataset['B'] = dataset['k10']*dataset['no_mole'] + dataset['k11']*dataset['o3_mole'] + dataset['k13']*dataset['oh_mole'] + dataset['k15']*dataset['ch3o2_mole'] + dataset['k19']*dataset['etoo_mole_v3']\n",
    "dataset['C'] = -(dataset['k14']*dataset['no_mole']*dataset['ch3o2_mole'] + dataset['k6']*dataset['oh_mole']*dataset['hcho_mole'] + dataset['k7']*dataset['oh_mole']*dataset['o3_mole'] + dataset['k18']*dataset['etoo_mole_v3']*dataset['no_mole'] + dataset['lossco_mole']) \n",
    "\n",
    "dataset['ho2_mole_v3'] = (-dataset['B']+(dataset['B']*dataset['B']-4*dataset['A']*dataset['C'])**(0.5))/(2*dataset['A'])"
   ]
  },
  {
   "cell_type": "code",
   "execution_count": 7,
   "id": "7cd9041a-7a1c-4c51-8950-28666775f4e8",
   "metadata": {},
   "outputs": [],
   "source": [
    "dataset['etoo_mole_v4'] = dataset['k17']*dataset['c2h6_mole']*dataset['oh_mole']/(dataset['k18']*dataset['no_mole'] + dataset['k19']*dataset['ho2_mole_v3'])"
   ]
  },
  {
   "cell_type": "code",
   "execution_count": 8,
   "id": "e91844b2-49d1-41d8-8dd4-01ca0f18f3d9",
   "metadata": {},
   "outputs": [],
   "source": [
    "dataset['A'] = 2*dataset['k12']\n",
    "dataset['B'] = dataset['k10']*dataset['no_mole'] + dataset['k11']*dataset['o3_mole'] + dataset['k13']*dataset['oh_mole'] + dataset['k15']*dataset['ch3o2_mole'] + dataset['k19']*dataset['etoo_mole_v4']\n",
    "dataset['C'] = -(dataset['k14']*dataset['no_mole']*dataset['ch3o2_mole'] + dataset['k6']*dataset['oh_mole']*dataset['hcho_mole'] + dataset['k7']*dataset['oh_mole']*dataset['o3_mole'] + dataset['k18']*dataset['etoo_mole_v4']*dataset['no_mole'] + dataset['lossco_mole']) \n",
    "\n",
    "dataset['ho2_mole_v4'] = (-dataset['B']+(dataset['B']*dataset['B']-4*dataset['A']*dataset['C'])**(0.5))/(2*dataset['A'])"
   ]
  },
  {
   "cell_type": "code",
   "execution_count": 9,
   "id": "ab4655f3-3909-4905-abc3-2acf13ecd8e0",
   "metadata": {},
   "outputs": [],
   "source": [
    "dataset['etoo_mole_v5'] = dataset['k17']*dataset['c2h6_mole']*dataset['oh_mole']/(dataset['k18']*dataset['no_mole'] + dataset['k19']*dataset['ho2_mole_v4'])"
   ]
  },
  {
   "cell_type": "code",
   "execution_count": 10,
   "id": "90c2ab47-ef56-4c73-8a50-074a5cad1a0b",
   "metadata": {},
   "outputs": [],
   "source": [
    "dataset['A'] = 2*dataset['k12']\n",
    "dataset['B'] = dataset['k10']*dataset['no_mole'] + dataset['k11']*dataset['o3_mole'] + dataset['k13']*dataset['oh_mole'] + dataset['k15']*dataset['ch3o2_mole'] + dataset['k19']*dataset['etoo_mole_v5']\n",
    "dataset['C'] = -(dataset['k14']*dataset['no_mole']*dataset['ch3o2_mole'] + dataset['k6']*dataset['oh_mole']*dataset['hcho_mole'] + dataset['k7']*dataset['oh_mole']*dataset['o3_mole'] + dataset['k18']*dataset['etoo_mole_v5']*dataset['no_mole'] + dataset['lossco_mole']) \n",
    "\n",
    "dataset['ho2_mole_v5'] = (-dataset['B']+(dataset['B']*dataset['B']-4*dataset['A']*dataset['C'])**(0.5))/(2*dataset['A'])"
   ]
  },
  {
   "cell_type": "code",
   "execution_count": 12,
   "id": "d7ecf5d5-53ba-4574-8c8e-ffd18bafb1a0",
   "metadata": {},
   "outputs": [],
   "source": [
    "dataset['ho2_norm_bias'] = (dataset['ho2_mole_v5']-dataset['ho2_mole_v0'])/dataset['ho2_mole_v0']*100"
   ]
  },
  {
   "cell_type": "code",
   "execution_count": 13,
   "id": "ebbdeaa8-af5f-4cca-9aa3-4013bc171a64",
   "metadata": {},
   "outputs": [],
   "source": [
    "land = pd.read_csv('C://Users/Haitong/OneDrive - National University of Singapore/Documents/Manuscripts/Sun-NG-25/global_grid_2x2_label_continent.csv')\n",
    "dataset_land = dataset.merge(land, how='left', left_on=['longitude','latitude'], right_on=['longitude','latitude'])\n",
    "dataset_land = dataset_land[dataset_land['land_global']==1]"
   ]
  },
  {
   "cell_type": "code",
   "execution_count": 14,
   "id": "40297327-7521-444e-aa86-70ee872dc3ab",
   "metadata": {},
   "outputs": [],
   "source": [
    "TLS_map = dataset_land.groupby(['longitude','latitude']).mean(numeric_only =True)"
   ]
  },
  {
   "cell_type": "code",
   "execution_count": 15,
   "id": "d3f7d6b9-79cc-41c0-b18d-4058d4fee0da",
   "metadata": {},
   "outputs": [
    {
     "name": "stdout",
     "output_type": "stream",
     "text": [
      "EtOO mean:      873028.8933127156\n",
      "EtOO sd:       1084752.0977586024\n",
      "EtOO median:    517003.7717471013\n",
      "EtOO Q1:        271553.1220569118\n",
      "EtOO Q3:        897069.1990126639\n",
      "EtOO 5th%ile:    87169.27412659393\n",
      "EtOO 95th%ile: 3097526.4368922682\n"
     ]
    }
   ],
   "source": [
    "print(\"EtOO mean:      \"+str(TLS_map['etoo_mole_v2'].mean()))\n",
    "print(\"EtOO sd:       \"+str(TLS_map['etoo_mole_v2'].std()))\n",
    "print(\"EtOO median:    \"+str(TLS_map['etoo_mole_v2'].median()))\n",
    "print(\"EtOO Q1:        \"+str(np.nanpercentile(TLS_map['etoo_mole_v2'],25)))\n",
    "print(\"EtOO Q3:        \"+str(np.nanpercentile(TLS_map['etoo_mole_v2'],75)))\n",
    "print(\"EtOO 5th%ile:    \"+str(np.nanpercentile(TLS_map['etoo_mole_v2'],5)))\n",
    "print(\"EtOO 95th%ile: \"+str(np.nanpercentile(TLS_map['etoo_mole_v2'],95)))"
   ]
  },
  {
   "cell_type": "code",
   "execution_count": 19,
   "id": "4aa53879-9734-45b2-95de-3f5cccd1a54a",
   "metadata": {},
   "outputs": [
    {
     "name": "stdout",
     "output_type": "stream",
     "text": [
      "HO2 mean:      1.0037917399607146\n",
      "HO2 sd:        1.0018155161836697\n",
      "HO2 median:    1.0072880023348036\n",
      "HO2 Q1:        1.0045228641671744\n",
      "HO2 Q3:        1.0028287951854231\n",
      "HO2 5th%ile:   1.0051028253166299\n",
      "HO2 95th%ile:  1.0026873317797502\n",
      "HO2 Max:       1.0004811886403882\n"
     ]
    }
   ],
   "source": [
    "print(\"HO2 mean:      \"+str(TLS_map['ho2_mole_v2'].mean()/TLS_map['ho2_mole_v0'].mean()))\n",
    "print(\"HO2 sd:        \"+str(TLS_map['ho2_mole_v2'].std()/TLS_map['ho2_mole_v0'].std()))\n",
    "print(\"HO2 median:    \"+str(TLS_map['ho2_mole_v2'].median()/TLS_map['ho2_mole_v0'].median()))\n",
    "print(\"HO2 Q1:        \"+str(np.nanpercentile(TLS_map['ho2_mole_v2'],25)/np.nanpercentile(TLS_map['ho2_mole_v0'],25)))\n",
    "print(\"HO2 Q3:        \"+str(np.nanpercentile(TLS_map['ho2_mole_v2'],75)/np.nanpercentile(TLS_map['ho2_mole_v0'],75)))\n",
    "print(\"HO2 5th%ile:   \"+str(np.nanpercentile(TLS_map['ho2_mole_v2'],5)/np.nanpercentile(TLS_map['ho2_mole_v0'],5)))\n",
    "print(\"HO2 95th%ile:  \"+str(np.nanpercentile(TLS_map['ho2_mole_v2'],95)/np.nanpercentile(TLS_map['ho2_mole_v0'],95)))\n",
    "print(\"HO2 Max:       \"+str(np.nanpercentile(TLS_map['ho2_mole_v2'],99)/np.nanpercentile(TLS_map['ho2_mole_v0'],99)))"
   ]
  },
  {
   "cell_type": "code",
   "execution_count": 17,
   "id": "ca2abb26-c754-4308-adb4-4d1de1c13d75",
   "metadata": {},
   "outputs": [
    {
     "name": "stdout",
     "output_type": "stream",
     "text": [
      "HO2 mean:      0.5093235358177938\n",
      "HO2 sd:        0.2534582902057195\n",
      "HO2 median:    0.4500120415980996\n",
      "HO2 Q1:        0.35251687415744715\n",
      "HO2 Q3:        0.6459879728659399\n",
      "HO2 5th%ile:   0.17191629672914902\n",
      "HO2 95th%ile:  0.9764975750879425\n"
     ]
    }
   ],
   "source": [
    "print(\"HO2 mean:      \"+str(TLS_map['ho2_norm_bias'].mean()))\n",
    "print(\"HO2 sd:        \"+str(TLS_map['ho2_norm_bias'].std()))\n",
    "print(\"HO2 median:    \"+str(TLS_map['ho2_norm_bias'].median()))\n",
    "print(\"HO2 Q1:        \"+str(np.nanpercentile(TLS_map['ho2_norm_bias'],25)))\n",
    "print(\"HO2 Q3:        \"+str(np.nanpercentile(TLS_map['ho2_norm_bias'],75)))\n",
    "print(\"HO2 5th%ile:   \"+str(np.nanpercentile(TLS_map['ho2_norm_bias'],5)))\n",
    "print(\"HO2 95th%ile:  \"+str(np.nanpercentile(TLS_map['ho2_norm_bias'],95)))"
   ]
  }
 ],
 "metadata": {
  "kernelspec": {
   "display_name": "Python 3 (ipykernel)",
   "language": "python",
   "name": "python3"
  },
  "language_info": {
   "codemirror_mode": {
    "name": "ipython",
    "version": 3
   },
   "file_extension": ".py",
   "mimetype": "text/x-python",
   "name": "python",
   "nbconvert_exporter": "python",
   "pygments_lexer": "ipython3",
   "version": "3.12.3"
  }
 },
 "nbformat": 4,
 "nbformat_minor": 5
}
