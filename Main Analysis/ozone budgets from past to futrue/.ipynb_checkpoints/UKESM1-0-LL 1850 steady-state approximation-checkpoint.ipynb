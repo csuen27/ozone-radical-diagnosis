{
 "cells": [
  {
   "cell_type": "code",
   "execution_count": 65,
   "metadata": {},
   "outputs": [],
   "source": [
    "dataset = pd.read_csv('/Users/csuen/Desktop/Sun-NG-24/radicals/UKESM1-0-LL_1850(ver240112).csv')"
   ]
  },
  {
   "cell_type": "code",
   "execution_count": 66,
   "metadata": {},
   "outputs": [],
   "source": [
    "dataset['n2_mole'] = dataset['ps']/8.314/dataset['tas']*6.022*10**23*10**(-6)*0.7808\n",
    "dataset['o2_mole'] = dataset['ps']/8.314/dataset['tas']*6.022*10**23*10**(-6)*0.2095\n",
    "dataset['h2o_mole'] = dataset['h2o']/18*6.022*10**23/(8.314*dataset['tas']/dataset['ps']/28.96*10**6)\n",
    "dataset['o3_mole']   = dataset['o3']  *1.01325*10**5/dataset['tas']*7.243*10**7*10**9\n",
    "dataset['no2_mole']  = dataset['no2'] *1.01325*10**5/dataset['tas']*7.243*10**7*10**9\n",
    "dataset['no_mole']   = dataset['no']  *1.01325*10**5/dataset['tas']*7.243*10**7*10**9\n",
    "dataset['oh_mole']   = dataset['oh']  *1.01325*10**5/dataset['tas']*7.243*10**7*10**9\n",
    "dataset['co_mole']   = dataset['co']  *1.01325*10**5/dataset['tas']*7.243*10**7*10**9\n",
    "dataset['hcho_mole'] = dataset['hcho']*1.01325*10**5/dataset['tas']*7.243*10**7*10**9\n",
    "dataset['c2h6_mole'] = dataset['c2h6']*1.01325*10**5/dataset['tas']*7.243*10**7*10**9\n",
    "dataset['c3h8_mole'] = dataset['c3h8']*1.01325*10**5/dataset['tas']*7.243*10**7*10**9\n",
    "dataset['isop_mole'] = dataset['isop']*1.01325*10**5/dataset['tas']*7.243*10**7*10**9"
   ]
  },
  {
   "cell_type": "code",
   "execution_count": 67,
   "metadata": {},
   "outputs": [],
   "source": [
    "dataset['k1'] = 2.15*10**(-11)*np.exp(110/dataset['tas'])\n",
    "dataset['k2'] = 3.30*10**(-11)*np.exp(55/dataset['tas'])\n",
    "dataset['k3'] = 1.63*10**(-10)*np.exp(60/dataset['tas'])\n",
    "dataset['k4'] = 4.30*10**(-32)*(dataset['tas']/300)**(-1.2)*dataset['n2_mole']\n",
    "dataset['k5'] = 1.44*10**(-13)\n",
    "\n",
    "dataset['k6'] = 5.40*10**(-12)*np.exp(135/dataset['tas'])\n",
    "dataset['k7'] = 1.70*10**(-12)*np.exp(-940/dataset['tas'])\n",
    "dataset['k8'] = 2.45*10**(-12)*np.exp(-600/dataset['tas'])\n",
    "dataset['k9'] = 4.01*10**(-12)*np.exp(190/dataset['tas'])\n",
    "dataset['k9a'] = 2.12*10**(-12)*np.exp(190/dataset['tas'])\n",
    "dataset['k9b'] = 1.89*10**(-12)*np.exp(190/dataset['tas'])\n",
    "\n",
    "dataset['k10'] = 3.30*10**(-12)*np.exp(270/dataset['tas'])\n",
    "dataset['k11'] = 2.03*10**(-16)*(dataset['tas']/300)**4.57*np.exp(693/dataset['tas'])\n",
    "dataset['k12'] = 3.00*10**(-13)*np.exp(460/dataset['tas'])\n",
    "dataset['k13'] = 4.80*10**(-11)*np.exp(250/dataset['tas'])\n",
    "\n",
    "dataset['k14'] = 2.30*10**(-12)*np.exp(360/dataset['tas'])\n",
    "dataset['k15'] = 3.80*10**(-13)*np.exp(780/dataset['tas'])\n",
    "dataset['k15a'] = dataset['k15']/(1+498*np.exp(-1160/dataset['tas']))\n",
    "dataset['k15b'] = dataset['k15']-dataset['k15a']\n",
    "dataset['k16'] = 1.03*10**(-13)*np.exp(365/dataset['tas'])\n",
    "\n",
    "dataset['k17'] = 6.90*10**(-12)*np.exp(-1000/dataset['tas'])\n",
    "dataset['k18'] = 2.55*10**(-12)*np.exp(380/dataset['tas'])\n",
    "dataset['k19'] = 6.40*10**(-13)*np.exp(710/dataset['tas'])\n",
    "dataset['k20'] = 7.60*10**(-12)*np.exp(-585/dataset['tas'])\n",
    "dataset['k21'] = 2.90*10**(-12)*np.exp(350/dataset['tas'])\n",
    "dataset['k22'] = 1.51*10**(-13)*np.exp(1300/dataset['tas'])\n",
    "dataset['k23'] = 2.70*10**(-11)*np.exp(390/dataset['tas'])\n",
    "dataset['k24a'] = 2.43*10**(-12)*np.exp(360/dataset['tas'])\n",
    "dataset['k24b'] = 1.12*10**(-13)*np.exp(360/dataset['tas'])\n",
    "dataset['k24'] = 2.54*10**(-12)*np.exp(360/dataset['tas'])\n",
    "dataset['k25'] = 2.05*10**(-13)*np.exp(1300/dataset['tas'])\n",
    "dataset['k26'] = 2.00*10**(-12)\n",
    "dataset['k27'] = 9.99*10**(-15)*np.exp(-1995/dataset['tas'])"
   ]
  },
  {
   "cell_type": "markdown",
   "metadata": {},
   "source": [
    "#### Calculate the radical concentration of [O(${^1}$D)] via steady-state approximation"
   ]
  },
  {
   "cell_type": "code",
   "execution_count": 68,
   "metadata": {},
   "outputs": [],
   "source": [
    "dataset['o1d_mole'] = dataset['photo1d']*dataset['o3_mole']/(dataset['k1']*dataset['n2_mole'] + dataset['k2']*dataset['o2_mole'] + dataset['k3']*dataset['h2o_mole'])"
   ]
  },
  {
   "cell_type": "markdown",
   "metadata": {},
   "source": [
    "#### Set initial level of HO${_2}$ radical for iteration "
   ]
  },
  {
   "cell_type": "code",
   "execution_count": 69,
   "metadata": {},
   "outputs": [],
   "source": [
    "dataset['lossco_mole'] = dataset['lossco']*6.022*10**23*10**(-6)\n",
    "\n",
    "dataset['A_0'] = 2*dataset['k12']\n",
    "dataset['B_0'] = dataset['k10']*dataset['no_mole'] + dataset['k11']*dataset['o3_mole'] + dataset['k13']*dataset['oh_mole']\n",
    "dataset['C_0'] = -(dataset['k6']*dataset['oh_mole']*dataset['hcho_mole'] + dataset['k7']*dataset['oh_mole']*dataset['o3_mole'] + dataset['lossco_mole'])\n",
    "\n",
    "dataset['ho2_0'] = (-dataset['B_0']+(dataset['B_0']*dataset['B_0']-4*dataset['A_0']*dataset['C_0'])**(0.5))/(2*dataset['A_0'])"
   ]
  },
  {
   "cell_type": "markdown",
   "metadata": {},
   "source": [
    "#### Set initial level of CH${_3}$O${_2}$ radical for iteration "
   ]
  },
  {
   "cell_type": "code",
   "execution_count": 70,
   "metadata": {},
   "outputs": [],
   "source": [
    "dataset['lossch4_mole'] = dataset['lossch4']*6.022*10**23*10**(-6)\n",
    "\n",
    "dataset['D_0'] = 2*dataset['k16']\n",
    "dataset['E_0'] = dataset['k14']*dataset['no_mole'] + dataset['k15']*dataset['ho2_0']\n",
    "dataset['F_0'] = -(dataset['lossch4_mole'])\n",
    "\n",
    "dataset['ch3o2_0'] = (-dataset['E_0']+(dataset['E_0']*dataset['E_0']-4*dataset['D_0']*dataset['F_0'])**(0.5))/(2*dataset['D_0'])"
   ]
  },
  {
   "cell_type": "markdown",
   "metadata": {},
   "source": [
    "#### Set initial level of CH${_3}$O${_2}$H radical for iteration "
   ]
  },
  {
   "cell_type": "code",
   "execution_count": 71,
   "metadata": {},
   "outputs": [],
   "source": [
    "dataset['ch3ooh_0'] = dataset['k15b']*dataset['ho2_0']*dataset['ch3o2_0']/(dataset['k9']*dataset['oh_mole'])"
   ]
  },
  {
   "cell_type": "markdown",
   "metadata": {},
   "source": [
    "### Now start iteration"
   ]
  },
  {
   "cell_type": "code",
   "execution_count": 72,
   "metadata": {},
   "outputs": [],
   "source": [
    "dataset['A_1'] = 2*dataset['k12']\n",
    "dataset['B_1'] = dataset['k10']*dataset['no_mole'] + dataset['k11']*dataset['o3_mole'] + dataset['k13']*dataset['oh_mole'] + dataset['k15']*dataset['ch3o2_0']\n",
    "dataset['C_1'] = -(dataset['k14']*dataset['no_mole']*dataset['ch3o2_0'] + dataset['k6']*dataset['oh_mole']*dataset['hcho_mole'] + dataset['k7']*dataset['oh_mole']*dataset['o3_mole'] + dataset['lossco_mole']) \n",
    "\n",
    "dataset['ho2_1'] = (-dataset['B_1']+(dataset['B_1']*dataset['B_1']-4*dataset['A_1']*dataset['C_1'])**(0.5))/(2*dataset['A_1'])\n",
    "\n",
    "dataset['D_1'] = 2*dataset['k16']\n",
    "dataset['E_1'] = dataset['k14']*dataset['no_mole'] + dataset['k15']*dataset['ho2_1']\n",
    "dataset['F_1'] = -(dataset['lossch4_mole'] + dataset['k9a']*dataset['ch3ooh_0']*dataset['oh_mole']) \n",
    "\n",
    "dataset['ch3o2_1'] = (-dataset['E_1']+(dataset['E_1']*dataset['E_1']-4*dataset['D_1']*dataset['F_1'])**(0.5))/(2*dataset['D_1'])\n",
    "\n",
    "dataset['ch3ooh_1'] = dataset['k15b']*dataset['ho2_1']*dataset['ch3o2_1']/(dataset['k9']*dataset['oh_mole'])"
   ]
  },
  {
   "cell_type": "code",
   "execution_count": 73,
   "metadata": {},
   "outputs": [],
   "source": [
    "dataset['A_2'] = 2*dataset['k12']\n",
    "dataset['B_2'] = dataset['k10']*dataset['no_mole'] + dataset['k11']*dataset['o3_mole'] + dataset['k13']*dataset['oh_mole'] + dataset['k15']*dataset['ch3o2_1']\n",
    "dataset['C_2'] = -(dataset['k14']*dataset['no_mole']*dataset['ch3o2_1'] + dataset['k6']*dataset['oh_mole']*dataset['hcho_mole'] + dataset['k7']*dataset['oh_mole']*dataset['o3_mole'] + dataset['lossco_mole']) \n",
    "\n",
    "dataset['ho2_2'] = (-dataset['B_2']+(dataset['B_2']*dataset['B_2']-4*dataset['A_2']*dataset['C_2'])**(0.5))/(2*dataset['A_2'])\n",
    "\n",
    "dataset['D_2'] = 2*dataset['k16']\n",
    "dataset['E_2'] = dataset['k14']*dataset['no_mole'] + dataset['k15']*dataset['ho2_2']\n",
    "dataset['F_2'] = -(dataset['lossch4_mole'] + dataset['k9a']*dataset['ch3ooh_1']*dataset['oh_mole']) \n",
    "\n",
    "dataset['ch3o2_2'] = (-dataset['E_2']+(dataset['E_2']*dataset['E_2']-4*dataset['D_2']*dataset['F_2'])**(0.5))/(2*dataset['D_2'])\n",
    "\n",
    "dataset['ch3ooh_2'] = dataset['k15b']*dataset['ho2_2']*dataset['ch3o2_2']/(dataset['k9']*dataset['oh_mole'])"
   ]
  },
  {
   "cell_type": "code",
   "execution_count": 74,
   "metadata": {},
   "outputs": [],
   "source": [
    "dataset['A_3'] = 2*dataset['k12']\n",
    "dataset['B_3'] = dataset['k10']*dataset['no_mole'] + dataset['k11']*dataset['o3_mole'] + dataset['k13']*dataset['oh_mole'] + dataset['k15']*dataset['ch3o2_2']\n",
    "dataset['C_3'] = -(dataset['k14']*dataset['no_mole']*dataset['ch3o2_2'] + dataset['k6']*dataset['oh_mole']*dataset['hcho_mole'] + dataset['k7']*dataset['oh_mole']*dataset['o3_mole'] + dataset['lossco_mole']) \n",
    "\n",
    "dataset['ho2_3'] = (-dataset['B_3']+(dataset['B_3']*dataset['B_3']-4*dataset['A_3']*dataset['C_3'])**(0.5))/(2*dataset['A_3'])\n",
    "\n",
    "dataset['D_3'] = 2*dataset['k16']\n",
    "dataset['E_3'] = dataset['k14']*dataset['no_mole'] + dataset['k15']*dataset['ho2_3']\n",
    "dataset['F_3'] = -(dataset['lossch4_mole'] + dataset['k9a']*dataset['ch3ooh_2']*dataset['oh_mole']) \n",
    "\n",
    "dataset['ch3o2_3'] = (-dataset['E_3']+(dataset['E_3']*dataset['E_3']-4*dataset['D_3']*dataset['F_3'])**(0.5))/(2*dataset['D_3'])\n",
    "\n",
    "dataset['ch3ooh_3'] = dataset['k15b']*dataset['ho2_3']*dataset['ch3o2_3']/(dataset['k9']*dataset['oh_mole'])"
   ]
  },
  {
   "cell_type": "code",
   "execution_count": 75,
   "metadata": {},
   "outputs": [],
   "source": [
    "dataset['A_4'] = 2*dataset['k12']\n",
    "dataset['B_4'] = dataset['k10']*dataset['no_mole'] + dataset['k11']*dataset['o3_mole'] + dataset['k13']*dataset['oh_mole'] + dataset['k15']*dataset['ch3o2_3']\n",
    "dataset['C_4'] = -(dataset['k14']*dataset['no_mole']*dataset['ch3o2_3'] + dataset['k6']*dataset['oh_mole']*dataset['hcho_mole'] + dataset['k7']*dataset['oh_mole']*dataset['o3_mole'] + dataset['lossco_mole']) \n",
    "\n",
    "dataset['ho2_4'] = (-dataset['B_4']+(dataset['B_4']*dataset['B_4']-4*dataset['A_4']*dataset['C_4'])**(0.5))/(2*dataset['A_4'])\n",
    "\n",
    "dataset['D_4'] = 2*dataset['k16']\n",
    "dataset['E_4'] = dataset['k14']*dataset['no_mole'] + dataset['k15']*dataset['ho2_4']\n",
    "dataset['F_4'] = -(dataset['lossch4_mole'] + dataset['k9a']*dataset['ch3ooh_3']*dataset['oh_mole']) \n",
    "\n",
    "dataset['ch3o2_4'] = (-dataset['E_4']+(dataset['E_4']*dataset['E_4']-4*dataset['D_4']*dataset['F_4'])**(0.5))/(2*dataset['D_4'])\n",
    "\n",
    "dataset['ch3ooh_4'] = dataset['k15b']*dataset['ho2_4']*dataset['ch3o2_4']/(dataset['k9']*dataset['oh_mole'])"
   ]
  },
  {
   "cell_type": "code",
   "execution_count": 76,
   "metadata": {},
   "outputs": [],
   "source": [
    "dataset['A_5'] = 2*dataset['k12']\n",
    "dataset['B_5'] = dataset['k10']*dataset['no_mole'] + dataset['k11']*dataset['o3_mole'] + dataset['k13']*dataset['oh_mole'] + dataset['k15']*dataset['ch3o2_4']\n",
    "dataset['C_5'] = -(dataset['k14']*dataset['no_mole']*dataset['ch3o2_4'] + dataset['k6']*dataset['oh_mole']*dataset['hcho_mole'] + dataset['k7']*dataset['oh_mole']*dataset['o3_mole'] + dataset['lossco_mole']) \n",
    "\n",
    "dataset['ho2_5'] = (-dataset['B_5']+(dataset['B_5']*dataset['B_5']-4*dataset['A_5']*dataset['C_5'])**(0.5))/(2*dataset['A_5'])\n",
    "\n",
    "dataset['D_5'] = 2*dataset['k16']\n",
    "dataset['E_5'] = dataset['k14']*dataset['no_mole'] + dataset['k15']*dataset['ho2_5']\n",
    "dataset['F_5'] = -(dataset['lossch4_mole'] + dataset['k9a']*dataset['ch3ooh_4']*dataset['oh_mole']) \n",
    "\n",
    "dataset['ch3o2_5'] = (-dataset['E_5']+(dataset['E_5']*dataset['E_5']-4*dataset['D_5']*dataset['F_5'])**(0.5))/(2*dataset['D_5'])\n",
    "\n",
    "dataset['ch3ooh_5'] = dataset['k15b']*dataset['ho2_5']*dataset['ch3o2_5']/(dataset['k9']*dataset['oh_mole'])"
   ]
  },
  {
   "cell_type": "code",
   "execution_count": 77,
   "metadata": {},
   "outputs": [],
   "source": [
    "dataset['A_6'] = 2*dataset['k12']\n",
    "dataset['B_6'] = dataset['k10']*dataset['no_mole'] + dataset['k11']*dataset['o3_mole'] + dataset['k13']*dataset['oh_mole'] + dataset['k15']*dataset['ch3o2_5']\n",
    "dataset['C_6'] = -(dataset['k14']*dataset['no_mole']*dataset['ch3o2_5'] + dataset['k6']*dataset['oh_mole']*dataset['hcho_mole'] + dataset['k7']*dataset['oh_mole']*dataset['o3_mole'] + dataset['lossco_mole']) \n",
    "\n",
    "dataset['ho2_6'] = (-dataset['B_6']+(dataset['B_6']*dataset['B_6']-4*dataset['A_6']*dataset['C_6'])**(0.5))/(2*dataset['A_6'])\n",
    "\n",
    "dataset['D_6'] = 2*dataset['k16']\n",
    "dataset['E_6'] = dataset['k14']*dataset['no_mole'] + dataset['k15']*dataset['ho2_6']\n",
    "dataset['F_6'] = -(dataset['lossch4_mole'] + dataset['k9a']*dataset['ch3ooh_5']*dataset['oh_mole']) \n",
    "\n",
    "dataset['ch3o2_6'] = (-dataset['E_6']+(dataset['E_6']*dataset['E_6']-4*dataset['D_6']*dataset['F_6'])**(0.5))/(2*dataset['D_6'])\n",
    "\n",
    "dataset['ch3ooh_6'] = dataset['k15b']*dataset['ho2_6']*dataset['ch3o2_6']/(dataset['k9']*dataset['oh_mole'])"
   ]
  },
  {
   "cell_type": "code",
   "execution_count": 78,
   "metadata": {},
   "outputs": [],
   "source": [
    "dataset['A_7'] = 2*dataset['k12']\n",
    "dataset['B_7'] = dataset['k10']*dataset['no_mole'] + dataset['k11']*dataset['o3_mole'] + dataset['k13']*dataset['oh_mole'] + dataset['k15']*dataset['ch3o2_6']\n",
    "dataset['C_7'] = -(dataset['k14']*dataset['no_mole']*dataset['ch3o2_6'] + dataset['k6']*dataset['oh_mole']*dataset['hcho_mole'] + dataset['k7']*dataset['oh_mole']*dataset['o3_mole'] + dataset['lossco_mole']) \n",
    "\n",
    "dataset['ho2_7'] = (-dataset['B_7']+(dataset['B_7']*dataset['B_7']-4*dataset['A_7']*dataset['C_7'])**(0.5))/(2*dataset['A_7'])\n",
    "\n",
    "dataset['D_7'] = 2*dataset['k16']\n",
    "dataset['E_7'] = dataset['k14']*dataset['no_mole'] + dataset['k15']*dataset['ho2_7']\n",
    "dataset['F_7'] = -(dataset['lossch4_mole'] + dataset['k9a']*dataset['ch3ooh_6']*dataset['oh_mole']) \n",
    "\n",
    "dataset['ch3o2_7'] = (-dataset['E_7']+(dataset['E_7']*dataset['E_7']-4*dataset['D_7']*dataset['F_7'])**(0.5))/(2*dataset['D_7'])\n",
    "\n",
    "dataset['ch3ooh_7'] = dataset['k15b']*dataset['ho2_7']*dataset['ch3o2_7']/(dataset['k9']*dataset['oh_mole'])"
   ]
  },
  {
   "cell_type": "code",
   "execution_count": 79,
   "metadata": {},
   "outputs": [],
   "source": [
    "dataset['A_8'] = 2*dataset['k12']\n",
    "dataset['B_8'] = dataset['k10']*dataset['no_mole'] + dataset['k11']*dataset['o3_mole'] + dataset['k13']*dataset['oh_mole'] + dataset['k15']*dataset['ch3o2_7']\n",
    "dataset['C_8'] = -(dataset['k14']*dataset['no_mole']*dataset['ch3o2_7'] + dataset['k6']*dataset['oh_mole']*dataset['hcho_mole'] + dataset['k7']*dataset['oh_mole']*dataset['o3_mole'] + dataset['lossco_mole']) \n",
    "\n",
    "dataset['ho2_8'] = (-dataset['B_8']+(dataset['B_8']*dataset['B_8']-4*dataset['A_8']*dataset['C_8'])**(0.5))/(2*dataset['A_8'])\n",
    "\n",
    "dataset['D_8'] = 2*dataset['k16']\n",
    "dataset['E_8'] = dataset['k14']*dataset['no_mole'] + dataset['k15']*dataset['ho2_8']\n",
    "dataset['F_8'] = -(dataset['lossch4_mole'] + dataset['k9a']*dataset['ch3ooh_7']*dataset['oh_mole']) \n",
    "\n",
    "dataset['ch3o2_8'] = (-dataset['E_8']+(dataset['E_8']*dataset['E_8']-4*dataset['D_8']*dataset['F_8'])**(0.5))/(2*dataset['D_8'])\n",
    "\n",
    "dataset['ch3ooh_8'] = dataset['k15b']*dataset['ho2_8']*dataset['ch3o2_8']/(dataset['k9']*dataset['oh_mole'])"
   ]
  },
  {
   "cell_type": "code",
   "execution_count": 80,
   "metadata": {},
   "outputs": [],
   "source": [
    "dataset['A_9'] = 2*dataset['k12']\n",
    "dataset['B_9'] = dataset['k10']*dataset['no_mole'] + dataset['k11']*dataset['o3_mole'] + dataset['k13']*dataset['oh_mole'] + dataset['k15']*dataset['ch3o2_8']\n",
    "dataset['C_9'] = -(dataset['k14']*dataset['no_mole']*dataset['ch3o2_8'] + dataset['k6']*dataset['oh_mole']*dataset['hcho_mole'] + dataset['k7']*dataset['oh_mole']*dataset['o3_mole'] + dataset['lossco_mole']) \n",
    "\n",
    "dataset['ho2_9'] = (-dataset['B_9']+(dataset['B_9']*dataset['B_9']-4*dataset['A_9']*dataset['C_9'])**(0.5))/(2*dataset['A_9'])\n",
    "\n",
    "dataset['D_9'] = 2*dataset['k16']\n",
    "dataset['E_9'] = dataset['k14']*dataset['no_mole'] + dataset['k15']*dataset['ho2_9']\n",
    "dataset['F_9'] = -(dataset['lossch4_mole'] + dataset['k9a']*dataset['ch3ooh_8']*dataset['oh_mole']) \n",
    "\n",
    "dataset['ch3o2_9'] = (-dataset['E_9']+(dataset['E_9']*dataset['E_9']-4*dataset['D_9']*dataset['F_9'])**(0.5))/(2*dataset['D_9'])\n",
    "\n",
    "dataset['ch3ooh_9'] = dataset['k15b']*dataset['ho2_9']*dataset['ch3o2_9']/(dataset['k9']*dataset['oh_mole'])"
   ]
  },
  {
   "cell_type": "code",
   "execution_count": 81,
   "metadata": {},
   "outputs": [],
   "source": [
    "dataset['A_10'] = 2*dataset['k12']\n",
    "dataset['B_10'] = dataset['k10']*dataset['no_mole'] + dataset['k11']*dataset['o3_mole'] + dataset['k13']*dataset['oh_mole'] + dataset['k15']*dataset['ch3o2_9']\n",
    "dataset['C_10'] = -(dataset['k14']*dataset['no_mole']*dataset['ch3o2_9'] + dataset['k6']*dataset['oh_mole']*dataset['hcho_mole'] + dataset['k7']*dataset['oh_mole']*dataset['o3_mole'] + dataset['lossco_mole']) \n",
    "\n",
    "dataset['ho2_10'] = (-dataset['B_10']+(dataset['B_10']*dataset['B_10']-4*dataset['A_10']*dataset['C_10'])**(0.5))/(2*dataset['A_10'])\n",
    "\n",
    "dataset['D_10'] = 2*dataset['k16']\n",
    "dataset['E_10'] = dataset['k14']*dataset['no_mole'] + dataset['k15']*dataset['ho2_10']\n",
    "dataset['F_10'] = -(dataset['lossch4_mole'] + dataset['k9a']*dataset['ch3ooh_9']*dataset['oh_mole']) \n",
    "\n",
    "dataset['ch3o2_10'] = (-dataset['E_10']+(dataset['E_10']*dataset['E_10']-4*dataset['D_10']*dataset['F_10'])**(0.5))/(2*dataset['D_10'])\n",
    "\n",
    "dataset['ch3ooh_10'] = dataset['k15b']*dataset['ho2_10']*dataset['ch3o2_10']/(dataset['k9']*dataset['oh_mole'])"
   ]
  },
  {
   "cell_type": "code",
   "execution_count": 82,
   "metadata": {},
   "outputs": [],
   "source": [
    "dataset['A_11'] = 2*dataset['k12']\n",
    "dataset['B_11'] = dataset['k10']*dataset['no_mole'] + dataset['k11']*dataset['o3_mole'] + dataset['k13']*dataset['oh_mole'] + dataset['k15']*dataset['ch3o2_10']\n",
    "dataset['C_11'] = -(dataset['k14']*dataset['no_mole']*dataset['ch3o2_10'] + dataset['k6']*dataset['oh_mole']*dataset['hcho_mole'] + dataset['k7']*dataset['oh_mole']*dataset['o3_mole'] + dataset['lossco_mole']) \n",
    "\n",
    "dataset['ho2_11'] = (-dataset['B_11']+(dataset['B_11']*dataset['B_11']-4*dataset['A_11']*dataset['C_11'])**(0.5))/(2*dataset['A_11'])\n",
    "\n",
    "dataset['D_11'] = 2*dataset['k16']\n",
    "dataset['E_11'] = dataset['k14']*dataset['no_mole'] + dataset['k15']*dataset['ho2_11']\n",
    "dataset['F_11'] = -(dataset['lossch4_mole'] + dataset['k9a']*dataset['ch3ooh_10']*dataset['oh_mole']) \n",
    "\n",
    "dataset['ch3o2_11'] = (-dataset['E_11']+(dataset['E_11']*dataset['E_11']-4*dataset['D_11']*dataset['F_11'])**(0.5))/(2*dataset['D_11'])\n",
    "\n",
    "dataset['ch3ooh_11'] = dataset['k15b']*dataset['ho2_11']*dataset['ch3o2_11']/(dataset['k9']*dataset['oh_mole'])"
   ]
  },
  {
   "cell_type": "code",
   "execution_count": 83,
   "metadata": {},
   "outputs": [],
   "source": [
    "dataset['A_12'] = 2*dataset['k12']\n",
    "dataset['B_12'] = dataset['k10']*dataset['no_mole'] + dataset['k11']*dataset['o3_mole'] + dataset['k13']*dataset['oh_mole'] + dataset['k15']*dataset['ch3o2_11']\n",
    "dataset['C_12'] = -(dataset['k14']*dataset['no_mole']*dataset['ch3o2_11'] + dataset['k6']*dataset['oh_mole']*dataset['hcho_mole'] + dataset['k7']*dataset['oh_mole']*dataset['o3_mole'] + dataset['lossco_mole']) \n",
    "\n",
    "dataset['ho2_12'] = (-dataset['B_12']+(dataset['B_12']*dataset['B_12']-4*dataset['A_12']*dataset['C_12'])**(0.5))/(2*dataset['A_12'])\n",
    "\n",
    "dataset['D_12'] = 2*dataset['k16']\n",
    "dataset['E_12'] = dataset['k14']*dataset['no_mole'] + dataset['k15']*dataset['ho2_12']\n",
    "dataset['F_12'] = -(dataset['lossch4_mole'] + dataset['k9a']*dataset['ch3ooh_11']*dataset['oh_mole']) \n",
    "\n",
    "dataset['ch3o2_12'] = (-dataset['E_12']+(dataset['E_12']*dataset['E_12']-4*dataset['D_12']*dataset['F_12'])**(0.5))/(2*dataset['D_12'])\n",
    "\n",
    "dataset['ch3ooh_12'] = dataset['k15b']*dataset['ho2_12']*dataset['ch3o2_12']/(dataset['k9']*dataset['oh_mole'])"
   ]
  },
  {
   "cell_type": "code",
   "execution_count": 84,
   "metadata": {},
   "outputs": [],
   "source": [
    "dataset['A_13'] = 2*dataset['k12']\n",
    "dataset['B_13'] = dataset['k10']*dataset['no_mole'] + dataset['k11']*dataset['o3_mole'] + dataset['k13']*dataset['oh_mole'] + dataset['k15']*dataset['ch3o2_12']\n",
    "dataset['C_13'] = -(dataset['k14']*dataset['no_mole']*dataset['ch3o2_12'] + dataset['k6']*dataset['oh_mole']*dataset['hcho_mole'] + dataset['k7']*dataset['oh_mole']*dataset['o3_mole'] + dataset['lossco_mole']) \n",
    "\n",
    "dataset['ho2_13'] = (-dataset['B_13']+(dataset['B_13']*dataset['B_13']-4*dataset['A_13']*dataset['C_13'])**(0.5))/(2*dataset['A_13'])\n",
    "\n",
    "dataset['D_13'] = 2*dataset['k16']\n",
    "dataset['E_13'] = dataset['k14']*dataset['no_mole'] + dataset['k15']*dataset['ho2_13']\n",
    "dataset['F_13'] = -(dataset['lossch4_mole'] + dataset['k9a']*dataset['ch3ooh_12']*dataset['oh_mole']) \n",
    "\n",
    "dataset['ch3o2_13'] = (-dataset['E_13']+(dataset['E_13']*dataset['E_13']-4*dataset['D_13']*dataset['F_13'])**(0.5))/(2*dataset['D_13'])\n",
    "\n",
    "dataset['ch3ooh_13'] = dataset['k15b']*dataset['ho2_13']*dataset['ch3o2_13']/(dataset['k9']*dataset['oh_mole'])"
   ]
  },
  {
   "cell_type": "code",
   "execution_count": 85,
   "metadata": {},
   "outputs": [],
   "source": [
    "dataset['A_14'] = 2*dataset['k12']\n",
    "dataset['B_14'] = dataset['k10']*dataset['no_mole'] + dataset['k11']*dataset['o3_mole'] + dataset['k13']*dataset['oh_mole'] + dataset['k15']*dataset['ch3o2_13']\n",
    "dataset['C_14'] = -(dataset['k14']*dataset['no_mole']*dataset['ch3o2_13'] + dataset['k6']*dataset['oh_mole']*dataset['hcho_mole'] + dataset['k7']*dataset['oh_mole']*dataset['o3_mole'] + dataset['lossco_mole']) \n",
    "\n",
    "dataset['ho2_14'] = (-dataset['B_14']+(dataset['B_14']*dataset['B_14']-4*dataset['A_14']*dataset['C_14'])**(0.5))/(2*dataset['A_14'])\n",
    "\n",
    "dataset['D_14'] = 2*dataset['k16']\n",
    "dataset['E_14'] = dataset['k14']*dataset['no_mole'] + dataset['k15']*dataset['ho2_14']\n",
    "dataset['F_14'] = -(dataset['lossch4_mole'] + dataset['k9a']*dataset['ch3ooh_13']*dataset['oh_mole']) \n",
    "\n",
    "dataset['ch3o2_14'] = (-dataset['E_14']+(dataset['E_14']*dataset['E_14']-4*dataset['D_14']*dataset['F_14'])**(0.5))/(2*dataset['D_14'])\n",
    "\n",
    "dataset['ch3ooh_14'] = dataset['k15b']*dataset['ho2_14']*dataset['ch3o2_14']/(dataset['k9']*dataset['oh_mole'])"
   ]
  },
  {
   "cell_type": "code",
   "execution_count": 86,
   "metadata": {},
   "outputs": [],
   "source": [
    "dataset['A_15'] = 2*dataset['k12']\n",
    "dataset['B_15'] = dataset['k10']*dataset['no_mole'] + dataset['k11']*dataset['o3_mole'] + dataset['k13']*dataset['oh_mole'] + dataset['k15']*dataset['ch3o2_14']\n",
    "dataset['C_15'] = -(dataset['k14']*dataset['no_mole']*dataset['ch3o2_14'] + dataset['k6']*dataset['oh_mole']*dataset['hcho_mole'] + dataset['k7']*dataset['oh_mole']*dataset['o3_mole'] + dataset['lossco_mole']) \n",
    "\n",
    "dataset['ho2_15'] = (-dataset['B_15']+(dataset['B_15']*dataset['B_15']-4*dataset['A_15']*dataset['C_15'])**(0.5))/(2*dataset['A_15'])\n",
    "\n",
    "dataset['D_15'] = 2*dataset['k16']\n",
    "dataset['E_15'] = dataset['k14']*dataset['no_mole'] + dataset['k15']*dataset['ho2_15']\n",
    "dataset['F_15'] = -(dataset['lossch4_mole'] + dataset['k9a']*dataset['ch3ooh_14']*dataset['oh_mole']) \n",
    "\n",
    "dataset['ch3o2_15'] = (-dataset['E_15']+(dataset['E_15']*dataset['E_15']-4*dataset['D_15']*dataset['F_15'])**(0.5))/(2*dataset['D_15'])\n",
    "\n",
    "dataset['ch3ooh_15'] = dataset['k15b']*dataset['ho2_15']*dataset['ch3o2_15']/(dataset['k9']*dataset['oh_mole'])"
   ]
  },
  {
   "cell_type": "code",
   "execution_count": 87,
   "metadata": {},
   "outputs": [],
   "source": [
    "dataset['A_16'] = 2*dataset['k12']\n",
    "dataset['B_16'] = dataset['k10']*dataset['no_mole'] + dataset['k11']*dataset['o3_mole'] + dataset['k13']*dataset['oh_mole'] + dataset['k15']*dataset['ch3o2_15']\n",
    "dataset['C_16'] = -(dataset['k14']*dataset['no_mole']*dataset['ch3o2_15'] + dataset['k6']*dataset['oh_mole']*dataset['hcho_mole'] + dataset['k7']*dataset['oh_mole']*dataset['o3_mole'] + dataset['lossco_mole']) \n",
    "\n",
    "dataset['ho2_16'] = (-dataset['B_16']+(dataset['B_16']*dataset['B_16']-4*dataset['A_16']*dataset['C_16'])**(0.5))/(2*dataset['A_16'])\n",
    "\n",
    "dataset['D_16'] = 2*dataset['k16']\n",
    "dataset['E_16'] = dataset['k14']*dataset['no_mole'] + dataset['k15']*dataset['ho2_16']\n",
    "dataset['F_16'] = -(dataset['lossch4_mole'] + dataset['k9a']*dataset['ch3ooh_15']*dataset['oh_mole']) \n",
    "\n",
    "dataset['ch3o2_16'] = (-dataset['E_16']+(dataset['E_16']*dataset['E_16']-4*dataset['D_16']*dataset['F_16'])**(0.5))/(2*dataset['D_16'])\n",
    "\n",
    "dataset['ch3ooh_16'] = dataset['k15b']*dataset['ho2_16']*dataset['ch3o2_16']/(dataset['k9']*dataset['oh_mole'])"
   ]
  },
  {
   "cell_type": "code",
   "execution_count": 88,
   "metadata": {},
   "outputs": [],
   "source": [
    "dataset['A_17'] = 2*dataset['k12']\n",
    "dataset['B_17'] = dataset['k10']*dataset['no_mole'] + dataset['k11']*dataset['o3_mole'] + dataset['k13']*dataset['oh_mole'] + dataset['k15']*dataset['ch3o2_16']\n",
    "dataset['C_17'] = -(dataset['k14']*dataset['no_mole']*dataset['ch3o2_16'] + dataset['k6']*dataset['oh_mole']*dataset['hcho_mole'] + dataset['k7']*dataset['oh_mole']*dataset['o3_mole'] + dataset['lossco_mole']) \n",
    "\n",
    "dataset['ho2_17'] = (-dataset['B_17']+(dataset['B_17']*dataset['B_17']-4*dataset['A_17']*dataset['C_17'])**(0.5))/(2*dataset['A_17'])\n",
    "\n",
    "dataset['D_17'] = 2*dataset['k16']\n",
    "dataset['E_17'] = dataset['k14']*dataset['no_mole'] + dataset['k15']*dataset['ho2_17']\n",
    "dataset['F_17'] = -(dataset['lossch4_mole'] + dataset['k9a']*dataset['ch3ooh_16']*dataset['oh_mole']) \n",
    "\n",
    "dataset['ch3o2_17'] = (-dataset['E_17']+(dataset['E_17']*dataset['E_17']-4*dataset['D_17']*dataset['F_17'])**(0.5))/(2*dataset['D_17'])\n",
    "\n",
    "dataset['ch3ooh_17'] = dataset['k15b']*dataset['ho2_17']*dataset['ch3o2_17']/(dataset['k9']*dataset['oh_mole'])"
   ]
  },
  {
   "cell_type": "code",
   "execution_count": 89,
   "metadata": {},
   "outputs": [],
   "source": [
    "dataset['A_18'] = 2*dataset['k12']\n",
    "dataset['B_18'] = dataset['k10']*dataset['no_mole'] + dataset['k11']*dataset['o3_mole'] + dataset['k13']*dataset['oh_mole'] + dataset['k15']*dataset['ch3o2_17']\n",
    "dataset['C_18'] = -(dataset['k14']*dataset['no_mole']*dataset['ch3o2_17'] + dataset['k6']*dataset['oh_mole']*dataset['hcho_mole'] + dataset['k7']*dataset['oh_mole']*dataset['o3_mole'] + dataset['lossco_mole']) \n",
    "\n",
    "dataset['ho2_18'] = (-dataset['B_18']+(dataset['B_18']*dataset['B_18']-4*dataset['A_18']*dataset['C_18'])**(0.5))/(2*dataset['A_18'])\n",
    "\n",
    "dataset['D_18'] = 2*dataset['k16']\n",
    "dataset['E_18'] = dataset['k14']*dataset['no_mole'] + dataset['k15']*dataset['ho2_18']\n",
    "dataset['F_18'] = -(dataset['lossch4_mole'] + dataset['k9a']*dataset['ch3ooh_17']*dataset['oh_mole']) \n",
    "\n",
    "dataset['ch3o2_18'] = (-dataset['E_18']+(dataset['E_18']*dataset['E_18']-4*dataset['D_18']*dataset['F_18'])**(0.5))/(2*dataset['D_18'])\n",
    "\n",
    "dataset['ch3ooh_18'] = dataset['k15b']*dataset['ho2_18']*dataset['ch3o2_18']/(dataset['k9']*dataset['oh_mole'])"
   ]
  },
  {
   "cell_type": "code",
   "execution_count": 90,
   "metadata": {},
   "outputs": [],
   "source": [
    "dataset['A_19'] = 2*dataset['k12']\n",
    "dataset['B_19'] = dataset['k10']*dataset['no_mole'] + dataset['k11']*dataset['o3_mole'] + dataset['k13']*dataset['oh_mole'] + dataset['k15']*dataset['ch3o2_18']\n",
    "dataset['C_19'] = -(dataset['k14']*dataset['no_mole']*dataset['ch3o2_18'] + dataset['k6']*dataset['oh_mole']*dataset['hcho_mole'] + dataset['k7']*dataset['oh_mole']*dataset['o3_mole'] + dataset['lossco_mole']) \n",
    "\n",
    "dataset['ho2_19'] = (-dataset['B_19']+(dataset['B_19']*dataset['B_19']-4*dataset['A_19']*dataset['C_19'])**(0.5))/(2*dataset['A_19'])\n",
    "\n",
    "dataset['D_19'] = 2*dataset['k16']\n",
    "dataset['E_19'] = dataset['k14']*dataset['no_mole'] + dataset['k15']*dataset['ho2_19']\n",
    "dataset['F_19'] = -(dataset['lossch4_mole'] + dataset['k9a']*dataset['ch3ooh_18']*dataset['oh_mole']) \n",
    "\n",
    "dataset['ch3o2_19'] = (-dataset['E_19']+(dataset['E_19']*dataset['E_19']-4*dataset['D_19']*dataset['F_19'])**(0.5))/(2*dataset['D_19'])\n",
    "\n",
    "dataset['ch3ooh_19'] = dataset['k15b']*dataset['ho2_19']*dataset['ch3o2_19']/(dataset['k9']*dataset['oh_mole'])"
   ]
  },
  {
   "cell_type": "code",
   "execution_count": 91,
   "metadata": {},
   "outputs": [],
   "source": [
    "dataset['A_20'] = 2*dataset['k12']\n",
    "dataset['B_20'] = dataset['k10']*dataset['no_mole'] + dataset['k11']*dataset['o3_mole'] + dataset['k13']*dataset['oh_mole'] + dataset['k15']*dataset['ch3o2_19']\n",
    "dataset['C_20'] = -(dataset['k14']*dataset['no_mole']*dataset['ch3o2_19'] + dataset['k6']*dataset['oh_mole']*dataset['hcho_mole'] + dataset['k7']*dataset['oh_mole']*dataset['o3_mole'] + dataset['lossco_mole']) \n",
    "\n",
    "dataset['ho2_20'] = (-dataset['B_20']+(dataset['B_20']*dataset['B_20']-4*dataset['A_20']*dataset['C_20'])**(0.5))/(2*dataset['A_20'])\n",
    "\n",
    "dataset['D_20'] = 2*dataset['k16']\n",
    "dataset['E_20'] = dataset['k14']*dataset['no_mole'] + dataset['k15']*dataset['ho2_20']\n",
    "dataset['F_20'] = -(dataset['lossch4_mole'] + dataset['k9a']*dataset['ch3ooh_19']*dataset['oh_mole']) \n",
    "\n",
    "dataset['ch3o2_20'] = (-dataset['E_20']+(dataset['E_20']*dataset['E_20']-4*dataset['D_20']*dataset['F_20'])**(0.5))/(2*dataset['D_20'])\n",
    "\n",
    "dataset['ch3ooh_20'] = dataset['k15b']*dataset['ho2_20']*dataset['ch3o2_20']/(dataset['k9']*dataset['oh_mole'])"
   ]
  },
  {
   "cell_type": "code",
   "execution_count": 92,
   "metadata": {},
   "outputs": [
    {
     "data": {
      "text/plain": [
       "['longitude',\n",
       " 'latitude',\n",
       " 't',\n",
       " 'loc',\n",
       " 'o3',\n",
       " 'o3prod',\n",
       " 'o3loss',\n",
       " 'tas',\n",
       " 'ps',\n",
       " 'jno2',\n",
       " 'photo1d',\n",
       " 'lossch4',\n",
       " 'lossco',\n",
       " 'no2',\n",
       " 'no',\n",
       " 'oh',\n",
       " 'h2o',\n",
       " 'co',\n",
       " 'hcho',\n",
       " 'c2h6',\n",
       " 'c3h8',\n",
       " 'isop',\n",
       " 'n2_mole',\n",
       " 'o2_mole',\n",
       " 'h2o_mole',\n",
       " 'o3_mole',\n",
       " 'no2_mole',\n",
       " 'no_mole',\n",
       " 'oh_mole',\n",
       " 'co_mole',\n",
       " 'hcho_mole',\n",
       " 'c2h6_mole',\n",
       " 'c3h8_mole',\n",
       " 'isop_mole',\n",
       " 'k1',\n",
       " 'k2',\n",
       " 'k3',\n",
       " 'k4',\n",
       " 'k5',\n",
       " 'k6',\n",
       " 'k7',\n",
       " 'k8',\n",
       " 'k9',\n",
       " 'k9a',\n",
       " 'k9b',\n",
       " 'k10',\n",
       " 'k11',\n",
       " 'k12',\n",
       " 'k13',\n",
       " 'k14',\n",
       " 'k15',\n",
       " 'k15a',\n",
       " 'k15b',\n",
       " 'k16',\n",
       " 'k17',\n",
       " 'k18',\n",
       " 'k19',\n",
       " 'k20',\n",
       " 'k21',\n",
       " 'k22',\n",
       " 'k23',\n",
       " 'k24a',\n",
       " 'k24b',\n",
       " 'k24',\n",
       " 'k25',\n",
       " 'k26',\n",
       " 'k27',\n",
       " 'o1d_mole',\n",
       " 'lossco_mole',\n",
       " 'A_0',\n",
       " 'B_0',\n",
       " 'C_0',\n",
       " 'ho2_0',\n",
       " 'lossch4_mole',\n",
       " 'D_0',\n",
       " 'E_0',\n",
       " 'F_0',\n",
       " 'ch3o2_0',\n",
       " 'ch3ooh_0',\n",
       " 'A_1',\n",
       " 'B_1',\n",
       " 'C_1',\n",
       " 'ho2_1',\n",
       " 'D_1',\n",
       " 'E_1',\n",
       " 'F_1',\n",
       " 'ch3o2_1',\n",
       " 'ch3ooh_1',\n",
       " 'A_2',\n",
       " 'B_2',\n",
       " 'C_2',\n",
       " 'ho2_2',\n",
       " 'D_2',\n",
       " 'E_2',\n",
       " 'F_2',\n",
       " 'ch3o2_2',\n",
       " 'ch3ooh_2',\n",
       " 'A_3',\n",
       " 'B_3',\n",
       " 'C_3',\n",
       " 'ho2_3',\n",
       " 'D_3',\n",
       " 'E_3',\n",
       " 'F_3',\n",
       " 'ch3o2_3',\n",
       " 'ch3ooh_3',\n",
       " 'A_4',\n",
       " 'B_4',\n",
       " 'C_4',\n",
       " 'ho2_4',\n",
       " 'D_4',\n",
       " 'E_4',\n",
       " 'F_4',\n",
       " 'ch3o2_4',\n",
       " 'ch3ooh_4',\n",
       " 'A_5',\n",
       " 'B_5',\n",
       " 'C_5',\n",
       " 'ho2_5',\n",
       " 'D_5',\n",
       " 'E_5',\n",
       " 'F_5',\n",
       " 'ch3o2_5',\n",
       " 'ch3ooh_5',\n",
       " 'A_6',\n",
       " 'B_6',\n",
       " 'C_6',\n",
       " 'ho2_6',\n",
       " 'D_6',\n",
       " 'E_6',\n",
       " 'F_6',\n",
       " 'ch3o2_6',\n",
       " 'ch3ooh_6',\n",
       " 'A_7',\n",
       " 'B_7',\n",
       " 'C_7',\n",
       " 'ho2_7',\n",
       " 'D_7',\n",
       " 'E_7',\n",
       " 'F_7',\n",
       " 'ch3o2_7',\n",
       " 'ch3ooh_7',\n",
       " 'A_8',\n",
       " 'B_8',\n",
       " 'C_8',\n",
       " 'ho2_8',\n",
       " 'D_8',\n",
       " 'E_8',\n",
       " 'F_8',\n",
       " 'ch3o2_8',\n",
       " 'ch3ooh_8',\n",
       " 'A_9',\n",
       " 'B_9',\n",
       " 'C_9',\n",
       " 'ho2_9',\n",
       " 'D_9',\n",
       " 'E_9',\n",
       " 'F_9',\n",
       " 'ch3o2_9',\n",
       " 'ch3ooh_9',\n",
       " 'A_10',\n",
       " 'B_10',\n",
       " 'C_10',\n",
       " 'ho2_10',\n",
       " 'D_10',\n",
       " 'E_10',\n",
       " 'F_10',\n",
       " 'ch3o2_10',\n",
       " 'ch3ooh_10',\n",
       " 'A_11',\n",
       " 'B_11',\n",
       " 'C_11',\n",
       " 'ho2_11',\n",
       " 'D_11',\n",
       " 'E_11',\n",
       " 'F_11',\n",
       " 'ch3o2_11',\n",
       " 'ch3ooh_11',\n",
       " 'A_12',\n",
       " 'B_12',\n",
       " 'C_12',\n",
       " 'ho2_12',\n",
       " 'D_12',\n",
       " 'E_12',\n",
       " 'F_12',\n",
       " 'ch3o2_12',\n",
       " 'ch3ooh_12',\n",
       " 'A_13',\n",
       " 'B_13',\n",
       " 'C_13',\n",
       " 'ho2_13',\n",
       " 'D_13',\n",
       " 'E_13',\n",
       " 'F_13',\n",
       " 'ch3o2_13',\n",
       " 'ch3ooh_13',\n",
       " 'A_14',\n",
       " 'B_14',\n",
       " 'C_14',\n",
       " 'ho2_14',\n",
       " 'D_14',\n",
       " 'E_14',\n",
       " 'F_14',\n",
       " 'ch3o2_14',\n",
       " 'ch3ooh_14',\n",
       " 'A_15',\n",
       " 'B_15',\n",
       " 'C_15',\n",
       " 'ho2_15',\n",
       " 'D_15',\n",
       " 'E_15',\n",
       " 'F_15',\n",
       " 'ch3o2_15',\n",
       " 'ch3ooh_15',\n",
       " 'A_16',\n",
       " 'B_16',\n",
       " 'C_16',\n",
       " 'ho2_16',\n",
       " 'D_16',\n",
       " 'E_16',\n",
       " 'F_16',\n",
       " 'ch3o2_16',\n",
       " 'ch3ooh_16',\n",
       " 'A_17',\n",
       " 'B_17',\n",
       " 'C_17',\n",
       " 'ho2_17',\n",
       " 'D_17',\n",
       " 'E_17',\n",
       " 'F_17',\n",
       " 'ch3o2_17',\n",
       " 'ch3ooh_17',\n",
       " 'A_18',\n",
       " 'B_18',\n",
       " 'C_18',\n",
       " 'ho2_18',\n",
       " 'D_18',\n",
       " 'E_18',\n",
       " 'F_18',\n",
       " 'ch3o2_18',\n",
       " 'ch3ooh_18',\n",
       " 'A_19',\n",
       " 'B_19',\n",
       " 'C_19',\n",
       " 'ho2_19',\n",
       " 'D_19',\n",
       " 'E_19',\n",
       " 'F_19',\n",
       " 'ch3o2_19',\n",
       " 'ch3ooh_19',\n",
       " 'A_20',\n",
       " 'B_20',\n",
       " 'C_20',\n",
       " 'ho2_20',\n",
       " 'D_20',\n",
       " 'E_20',\n",
       " 'F_20',\n",
       " 'ch3o2_20',\n",
       " 'ch3ooh_20']"
      ]
     },
     "execution_count": 92,
     "metadata": {},
     "output_type": "execute_result"
    }
   ],
   "source": [
    "list(dataset)"
   ]
  },
  {
   "cell_type": "code",
   "execution_count": 93,
   "metadata": {},
   "outputs": [],
   "source": [
    "dataset_radicals = dataset[['longitude','latitude','t','loc','o3','o3prod','o3loss','tas','ps','jno2','photo1d','lossch4','lossco',\n",
    "                            'no2','no','oh','h2o','co','hcho','c2h6','c3h8','isop',\n",
    "                            'n2_mole','o2_mole','h2o_mole','o3_mole','no2_mole','no_mole','oh_mole',\n",
    "                            'co_mole','hcho_mole','c2h6_mole','c3h8_mole','isop_mole',\n",
    "                            'k1','k2','k3','k4','k5','k6','k7','k8','k9','k9a','k9b','k10','k11','k12','k13','k14','k15','k15a','k15b','k16',\n",
    "                            'k17','k18','k19','k20','k21','k22','k23','k24a','k24b','k24','k25','k26','k27',\n",
    "                            'o1d_mole','lossco_mole','lossch4_mole']]"
   ]
  },
  {
   "cell_type": "code",
   "execution_count": 94,
   "metadata": {},
   "outputs": [],
   "source": [
    "dataset_radicals['ho2_mole'] = dataset['ho2_20']\n",
    "dataset_radicals['ch3o2_mole'] = dataset['ch3o2_20']\n",
    "dataset_radicals['ch3ooh_mole'] = dataset['ch3ooh_20']"
   ]
  },
  {
   "cell_type": "code",
   "execution_count": 95,
   "metadata": {},
   "outputs": [],
   "source": [
    "dataset_radicals['o3prod_mole'] = dataset_radicals['o3prod']*6.022*10**23*10**(-6)\n",
    "dataset_radicals['o3loss_mole'] = dataset_radicals['o3loss']*6.022*10**23*10**(-6)"
   ]
  },
  {
   "cell_type": "code",
   "execution_count": 98,
   "metadata": {},
   "outputs": [],
   "source": [
    "dataset_radicals['etoo_mole'] = dataset_radicals['k17']*dataset_radicals['c2h6_mole']*dataset_radicals['oh_mole']/(dataset_radicals['k18']*dataset_radicals['no_mole']+dataset_radicals['k19']*dataset_radicals['ho2_mole'])\n",
    "dataset_radicals['proo_mole'] = dataset_radicals['k20']*dataset_radicals['c3h8_mole']*dataset_radicals['oh_mole']/(dataset_radicals['k21']*dataset_radicals['no_mole']+dataset_radicals['k22']*dataset_radicals['ho2_mole'])"
   ]
  },
  {
   "cell_type": "code",
   "execution_count": 99,
   "metadata": {},
   "outputs": [],
   "source": [
    "dataset_radicals['a'] = 2*dataset_radicals['k26']\n",
    "dataset_radicals['b'] = dataset_radicals['k24']*dataset_radicals['no_mole'] + dataset_radicals['k25']*dataset_radicals['ho2_mole']\n",
    "dataset_radicals['c'] = -2*dataset_radicals['k23']*dataset_radicals['isop_mole']*dataset_radicals['oh_mole']\n",
    "\n",
    "dataset_radicals['delta'] = dataset_radicals['b']*dataset_radicals['b']-4*dataset_radicals['a']*dataset_radicals['c']\n",
    "\n",
    "#dataset_radicals['iso2_mole'] = dataset_radicals['k23']*dataset_radicals['isop_mole']*dataset_radicals['oh_mole']/(dataset_radicals['k24']*dataset_radicals['no_mole']+dataset_radicals['k25']*dataset_radicals['ho2_mole'])\n",
    "dataset_radicals['iso2_mole'] = (-dataset_radicals['b']+dataset_radicals['delta']**0.5)/(2*dataset_radicals['a'])"
   ]
  },
  {
   "cell_type": "code",
   "execution_count": 109,
   "metadata": {},
   "outputs": [],
   "source": [
    "dataset_radicals.to_csv('/Users/csuen/Desktop/Sun-NG-24/radicals/UKESM1-0-LL_1850(ver240112).csv', index=False)\n",
    "dataset = pd.read_csv('/Users/csuen/Desktop/Sun-NG-24/radicals/UKESM1-0-LL_1850(ver240112).csv')"
   ]
  },
  {
   "cell_type": "code",
   "execution_count": 110,
   "metadata": {},
   "outputs": [],
   "source": [
    "dataset['prod_etoo_no'] = dataset['k18']*dataset['etoo_mole']*dataset['no_mole']\n",
    "dataset['prod_proo_no'] = dataset['k21']*dataset['proo_mole']*dataset['no_mole']\n",
    "dataset['prod_iso2_no'] = dataset['k24a']*dataset['iso2_mole']*dataset['no_mole']\n",
    "dataset['loss_o3_isop'] = dataset['k27']*dataset['o3_mole']*dataset['isop_mole']"
   ]
  },
  {
   "cell_type": "code",
   "execution_count": 111,
   "metadata": {},
   "outputs": [],
   "source": [
    "dataset['pt1'] = dataset['k10']*dataset['ho2_mole']*dataset['no_mole']\n",
    "dataset['pt2'] = dataset['k14']*dataset['ch3o2_mole']*dataset['no_mole']\n",
    "dataset['o3prod_mole_stacked'] = dataset['pt1']+dataset['pt2']+dataset['prod_etoo_no']+dataset['prod_proo_no']+dataset['prod_iso2_no']\n",
    "dataset['pt3'] = dataset['o3prod_mole_stacked'] - dataset['pt1'] - dataset['pt2']\n",
    "\n",
    "dataset['pt4'] = dataset['k3']*dataset['o1d_mole']*dataset['h2o_mole']\n",
    "dataset['pt5'] = dataset['k7']*dataset['oh_mole']*dataset['o3_mole']\n",
    "dataset['pt6'] = dataset['k11']*dataset['ho2_mole']*dataset['o3_mole']\n",
    "dataset['o3loss_mole_stacked'] = dataset['pt4']+dataset['pt5']+dataset['pt6']+dataset['loss_o3_isop']\n",
    "dataset['pt7'] = dataset['o3loss_mole_stacked'] - dataset['pt4'] - dataset['pt5'] - dataset['pt6']"
   ]
  },
  {
   "cell_type": "code",
   "execution_count": 112,
   "metadata": {},
   "outputs": [],
   "source": [
    "dataset['pt1_prop'] = dataset['pt1']/dataset['o3prod_mole_stacked']\n",
    "dataset['pt2_prop'] = dataset['pt2']/dataset['o3prod_mole_stacked']\n",
    "dataset['pt3_prop'] = dataset['pt3']/dataset['o3prod_mole_stacked']\n",
    "\n",
    "dataset['pt4_prop'] = dataset['pt4']/dataset['o3loss_mole_stacked']\n",
    "dataset['pt5_prop'] = dataset['pt5']/dataset['o3loss_mole_stacked']\n",
    "dataset['pt6_prop'] = dataset['pt6']/dataset['o3loss_mole_stacked']\n",
    "dataset['pt7_prop'] = dataset['pt7']/dataset['o3loss_mole_stacked']"
   ]
  },
  {
   "cell_type": "code",
   "execution_count": 113,
   "metadata": {},
   "outputs": [
    {
     "data": {
      "text/plain": [
       "(-90.0, 90.0)"
      ]
     },
     "execution_count": 113,
     "metadata": {},
     "output_type": "execute_result"
    },
    {
     "data": {
      "image/png": "[encoded data removed]",
      "text/plain": [
       "<Figure size 750x450 with 4 Axes>"
      ]
     },
     "metadata": {},
     "output_type": "display_data"
    }
   ],
   "source": [
    "dataset_map = dataset.groupby('loc').mean()\n",
    "temp = dataset_map\n",
    "\n",
    "plt.figure(num=None, figsize=(10, 6), dpi=75, facecolor='w', edgecolor='k')\n",
    "cm = plt.cm.get_cmap('RdYlBu_r')\n",
    "x = temp['longitude']\n",
    "y = temp['latitude']\n",
    "\n",
    "plt.subplot(2,2,1)\n",
    "plt.title('O${_3}$ production rate', fontsize = 12, fontname = \"Arial\", color = \"black\")\n",
    "z = temp['o3prod_mole']\n",
    "sc = plt.scatter(x, y, c=z, marker=\"s\", s=5, cmap=cm)\n",
    "plt.xlim([-180, 180])\n",
    "plt.xticks([])\n",
    "plt.ylim([-90, 90])\n",
    "#plt.colorbar(fraction=0.02)\n",
    "\n",
    "plt.subplot(2,2,2)\n",
    "plt.title('O${_3}$ production rate (stacked)', fontsize = 12, fontname = \"Arial\", color = \"black\")\n",
    "z = temp['o3prod_mole_stacked']\n",
    "sc = plt.scatter(x, y, c=z, marker=\"s\", s=5, cmap=cm)\n",
    "plt.xlim([-180, 180])\n",
    "plt.xticks([])\n",
    "plt.ylim([-90, 90])\n",
    "#plt.colorbar(fraction=0.02)\n",
    "\n",
    "plt.subplot(2,2,3)\n",
    "plt.title('O${_3}$ loss rate', fontsize = 12, fontname = \"Arial\", color = \"black\")\n",
    "z = temp['o3loss_mole']\n",
    "sc = plt.scatter(x, y, c=z, marker=\"s\", s=5, cmap=cm)\n",
    "plt.xlim([-180, 180])\n",
    "plt.ylim([-90, 90])\n",
    "#plt.colorbar(fraction=0.02)\n",
    "\n",
    "plt.subplot(2,2,4)\n",
    "plt.title('O${_3}$ loss rate (stacked)', fontsize = 12, fontname = \"Arial\", color = \"black\")\n",
    "z = temp['o3loss_mole_stacked']\n",
    "sc = plt.scatter(x, y, c=z, marker=\"s\", s=5, cmap=cm)\n",
    "plt.xlim([-180, 180])\n",
    "plt.ylim([-90, 90])\n",
    "#plt.colorbar(fraction=0.02)"
   ]
  },
  {
   "cell_type": "code",
   "execution_count": 116,
   "metadata": {},
   "outputs": [],
   "source": [
    "def Pearson_correlation(X,Y):\n",
    "\tif len(X)==len(Y):\n",
    "\t\tSum_xy = sum((X-X.mean())*(Y-Y.mean()))\n",
    "\t\tSum_x_squared = sum((X-X.mean())**2)\n",
    "\t\tSum_y_squared = sum((Y-Y.mean())**2)\t \n",
    "\t\tcorr = Sum_xy / np.sqrt(Sum_x_squared * Sum_y_squared)\n",
    "\treturn corr"
   ]
  },
  {
   "cell_type": "code",
   "execution_count": 117,
   "metadata": {},
   "outputs": [
    {
     "data": {
      "text/plain": [
       "0.9592340701152037"
      ]
     },
     "execution_count": 117,
     "metadata": {},
     "output_type": "execute_result"
    }
   ],
   "source": [
    "Pearson_correlation(dataset['o3prod_mole'], dataset['o3prod_mole_stacked'])"
   ]
  },
  {
   "cell_type": "code",
   "execution_count": 118,
   "metadata": {},
   "outputs": [
    {
     "data": {
      "text/plain": [
       "0.9534381732748036"
      ]
     },
     "execution_count": 118,
     "metadata": {},
     "output_type": "execute_result"
    }
   ],
   "source": [
    "Pearson_correlation(dataset['o3loss_mole'], dataset['o3loss_mole_stacked'])"
   ]
  },
  {
   "cell_type": "code",
   "execution_count": 114,
   "metadata": {},
   "outputs": [
    {
     "name": "stdout",
     "output_type": "stream",
     "text": [
      "0.394\n",
      "0.489\n",
      "0.117\n"
     ]
    }
   ],
   "source": [
    "print(np.round(dataset['pt1_prop'].mean(),3))\n",
    "print(np.round(dataset['pt2_prop'].mean(),3))\n",
    "print(np.round(dataset['pt3_prop'].mean(),3))"
   ]
  },
  {
   "cell_type": "code",
   "execution_count": 115,
   "metadata": {},
   "outputs": [
    {
     "name": "stdout",
     "output_type": "stream",
     "text": [
      "0.44\n",
      "0.074\n",
      "0.424\n",
      "0.062\n"
     ]
    }
   ],
   "source": [
    "print(np.round(dataset['pt4_prop'].mean(),3))\n",
    "print(np.round(dataset['pt5_prop'].mean(),3))\n",
    "print(np.round(dataset['pt6_prop'].mean(),3))\n",
    "print(np.round(dataset['pt7_prop'].mean(),3))"
   ]
  },
  {
   "cell_type": "code",
   "execution_count": 119,
   "metadata": {},
   "outputs": [],
   "source": [
    "land = pd.read_csv('/Users/csuen/Documents/GitHub/ozone-budget/global_grid_2x2_label_continent.csv')\n",
    "dataset_land = dataset.merge(land, how='left', left_on=['longitude','latitude'], right_on=['longitude','latitude'])\n",
    "dataset_land = dataset_land[dataset_land['land_global']==1]"
   ]
  },
  {
   "cell_type": "code",
   "execution_count": 120,
   "metadata": {},
   "outputs": [
    {
     "name": "stdout",
     "output_type": "stream",
     "text": [
      "0.475\n",
      "0.19\n",
      "0.335\n"
     ]
    }
   ],
   "source": [
    "print(np.round(dataset_land['pt1_prop'].mean(),3))\n",
    "print(np.round(dataset_land['pt2_prop'].mean(),3))\n",
    "print(np.round(dataset_land['pt3_prop'].mean(),3))"
   ]
  },
  {
   "cell_type": "code",
   "execution_count": 121,
   "metadata": {},
   "outputs": [
    {
     "name": "stdout",
     "output_type": "stream",
     "text": [
      "0.43\n",
      "0.118\n",
      "0.226\n",
      "0.226\n"
     ]
    }
   ],
   "source": [
    "print(np.round(dataset_land['pt4_prop'].mean(),3))\n",
    "print(np.round(dataset_land['pt5_prop'].mean(),3))\n",
    "print(np.round(dataset_land['pt6_prop'].mean(),3))\n",
    "print(np.round(dataset_land['pt7_prop'].mean(),3))"
   ]
  },
  {
   "cell_type": "code",
   "execution_count": null,
   "metadata": {},
   "outputs": [],
   "source": []
  }
 ],
 "metadata": {
  "kernelspec": {
   "display_name": "Python 3 (ipykernel)",
   "language": "python",
   "name": "python3"
  },
  "language_info": {
   "codemirror_mode": {
    "name": "ipython",
    "version": 3
   },
   "file_extension": ".py",
   "mimetype": "text/x-python",
   "name": "python",
   "nbconvert_exporter": "python",
   "pygments_lexer": "ipython3",
   "version": "3.8.18"
  }
 },
 "nbformat": 4,
 "nbformat_minor": 4
}
