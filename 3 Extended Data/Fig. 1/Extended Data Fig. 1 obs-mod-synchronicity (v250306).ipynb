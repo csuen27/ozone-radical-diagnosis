{
 "cells": [
  {
   "cell_type": "code",
   "execution_count": 1,
   "id": "26e49b5c-bba9-4aa1-8262-542065d6c398",
   "metadata": {},
   "outputs": [],
   "source": [
    "import warnings\n",
    "warnings.filterwarnings(\"ignore\")\n",
    "\n",
    "import pandas as pd\n",
    "import numpy as np\n",
    "import matplotlib.pyplot as plt\n",
    "from sklearn.linear_model import LinearRegression as LinearR "
   ]
  },
  {
   "cell_type": "code",
   "execution_count": 4,
   "id": "57b30809-5d54-453f-ae13-af9a8f646fea",
   "metadata": {},
   "outputs": [],
   "source": [
    "data = pd.read_csv('Extended Data Fig. 1 obs-mod-1990-2014 (250306).csv')\n",
    "data = data[data['t']<295]"
   ]
  },
  {
   "cell_type": "code",
   "execution_count": 6,
   "id": "52d42709-33d9-4b2c-b65c-67a8dd6442b7",
   "metadata": {},
   "outputs": [
    {
     "data": {
      "text/html": [
       "<div>\n",
       "<style scoped>\n",
       "    .dataframe tbody tr th:only-of-type {\n",
       "        vertical-align: middle;\n",
       "    }\n",
       "\n",
       "    .dataframe tbody tr th {\n",
       "        vertical-align: top;\n",
       "    }\n",
       "\n",
       "    .dataframe thead th {\n",
       "        text-align: right;\n",
       "    }\n",
       "</style>\n",
       "<table border=\"1\" class=\"dataframe\">\n",
       "  <thead>\n",
       "    <tr style=\"text-align: right;\">\n",
       "      <th></th>\n",
       "      <th>t</th>\n",
       "      <th>year</th>\n",
       "      <th>month</th>\n",
       "      <th>longitude</th>\n",
       "      <th>latitude</th>\n",
       "      <th>loc</th>\n",
       "      <th>obs</th>\n",
       "      <th>UKESM1_0_LL</th>\n",
       "    </tr>\n",
       "  </thead>\n",
       "  <tbody>\n",
       "    <tr>\n",
       "      <th>0</th>\n",
       "      <td>1</td>\n",
       "      <td>1990</td>\n",
       "      <td>1</td>\n",
       "      <td>11.0</td>\n",
       "      <td>79.0</td>\n",
       "      <td>11079.0</td>\n",
       "      <td>25.75</td>\n",
       "      <td>21.84</td>\n",
       "    </tr>\n",
       "    <tr>\n",
       "      <th>1</th>\n",
       "      <td>1</td>\n",
       "      <td>1990</td>\n",
       "      <td>1</td>\n",
       "      <td>-157.0</td>\n",
       "      <td>71.0</td>\n",
       "      <td>-156929.0</td>\n",
       "      <td>23.58</td>\n",
       "      <td>7.35</td>\n",
       "    </tr>\n",
       "    <tr>\n",
       "      <th>2</th>\n",
       "      <td>1</td>\n",
       "      <td>1990</td>\n",
       "      <td>1</td>\n",
       "      <td>29.0</td>\n",
       "      <td>67.0</td>\n",
       "      <td>29067.0</td>\n",
       "      <td>17.65</td>\n",
       "      <td>14.14</td>\n",
       "    </tr>\n",
       "    <tr>\n",
       "      <th>3</th>\n",
       "      <td>1</td>\n",
       "      <td>1990</td>\n",
       "      <td>1</td>\n",
       "      <td>13.0</td>\n",
       "      <td>65.0</td>\n",
       "      <td>13065.0</td>\n",
       "      <td>21.77</td>\n",
       "      <td>18.67</td>\n",
       "    </tr>\n",
       "    <tr>\n",
       "      <th>4</th>\n",
       "      <td>1</td>\n",
       "      <td>1990</td>\n",
       "      <td>1</td>\n",
       "      <td>19.0</td>\n",
       "      <td>65.0</td>\n",
       "      <td>19065.0</td>\n",
       "      <td>19.23</td>\n",
       "      <td>16.63</td>\n",
       "    </tr>\n",
       "    <tr>\n",
       "      <th>...</th>\n",
       "      <td>...</td>\n",
       "      <td>...</td>\n",
       "      <td>...</td>\n",
       "      <td>...</td>\n",
       "      <td>...</td>\n",
       "      <td>...</td>\n",
       "      <td>...</td>\n",
       "      <td>...</td>\n",
       "    </tr>\n",
       "    <tr>\n",
       "      <th>113269</th>\n",
       "      <td>294</td>\n",
       "      <td>2014</td>\n",
       "      <td>6</td>\n",
       "      <td>125.0</td>\n",
       "      <td>43.0</td>\n",
       "      <td>125043.0</td>\n",
       "      <td>30.01</td>\n",
       "      <td>41.79</td>\n",
       "    </tr>\n",
       "    <tr>\n",
       "      <th>113270</th>\n",
       "      <td>294</td>\n",
       "      <td>2014</td>\n",
       "      <td>6</td>\n",
       "      <td>125.0</td>\n",
       "      <td>47.0</td>\n",
       "      <td>125047.0</td>\n",
       "      <td>29.62</td>\n",
       "      <td>42.02</td>\n",
       "    </tr>\n",
       "    <tr>\n",
       "      <th>113271</th>\n",
       "      <td>294</td>\n",
       "      <td>2014</td>\n",
       "      <td>6</td>\n",
       "      <td>127.0</td>\n",
       "      <td>43.0</td>\n",
       "      <td>127043.0</td>\n",
       "      <td>31.54</td>\n",
       "      <td>36.19</td>\n",
       "    </tr>\n",
       "    <tr>\n",
       "      <th>113272</th>\n",
       "      <td>294</td>\n",
       "      <td>2014</td>\n",
       "      <td>6</td>\n",
       "      <td>127.0</td>\n",
       "      <td>45.0</td>\n",
       "      <td>127045.0</td>\n",
       "      <td>30.03</td>\n",
       "      <td>38.19</td>\n",
       "    </tr>\n",
       "    <tr>\n",
       "      <th>113273</th>\n",
       "      <td>294</td>\n",
       "      <td>2014</td>\n",
       "      <td>6</td>\n",
       "      <td>129.0</td>\n",
       "      <td>45.0</td>\n",
       "      <td>129045.0</td>\n",
       "      <td>30.17</td>\n",
       "      <td>33.71</td>\n",
       "    </tr>\n",
       "  </tbody>\n",
       "</table>\n",
       "<p>113274 rows × 8 columns</p>\n",
       "</div>"
      ],
      "text/plain": [
       "          t  year  month  longitude  latitude       loc    obs  UKESM1_0_LL\n",
       "0         1  1990      1       11.0      79.0   11079.0  25.75        21.84\n",
       "1         1  1990      1     -157.0      71.0 -156929.0  23.58         7.35\n",
       "2         1  1990      1       29.0      67.0   29067.0  17.65        14.14\n",
       "3         1  1990      1       13.0      65.0   13065.0  21.77        18.67\n",
       "4         1  1990      1       19.0      65.0   19065.0  19.23        16.63\n",
       "...     ...   ...    ...        ...       ...       ...    ...          ...\n",
       "113269  294  2014      6      125.0      43.0  125043.0  30.01        41.79\n",
       "113270  294  2014      6      125.0      47.0  125047.0  29.62        42.02\n",
       "113271  294  2014      6      127.0      43.0  127043.0  31.54        36.19\n",
       "113272  294  2014      6      127.0      45.0  127045.0  30.03        38.19\n",
       "113273  294  2014      6      129.0      45.0  129045.0  30.17        33.71\n",
       "\n",
       "[113274 rows x 8 columns]"
      ]
     },
     "execution_count": 6,
     "metadata": {},
     "output_type": "execute_result"
    }
   ],
   "source": [
    "data"
   ]
  },
  {
   "cell_type": "code",
   "execution_count": 7,
   "id": "29af58e7-1726-4f9a-a2d6-9e916362d12c",
   "metadata": {},
   "outputs": [
    {
     "name": "stdout",
     "output_type": "stream",
     "text": [
      "observation mean: 27.5 ppb\n",
      "model mean: 27.8 ppb\n",
      "model-observation bias: 0.3 ppb\n"
     ]
    }
   ],
   "source": [
    "obs_mean = data['obs'].mean()\n",
    "mod_mean = data['UKESM1_0_LL'].mean()\n",
    "\n",
    "print(\"observation mean: \"+str(np.round(obs_mean,1))+\" ppb\")\n",
    "print(\"model mean: \"+str(np.round(mod_mean,1))+\" ppb\")\n",
    "print(\"model-observation bias: \"+str(np.round(mod_mean - obs_mean, 1))+\" ppb\")"
   ]
  },
  {
   "cell_type": "markdown",
   "id": "81391ab3-b329-4222-b6f0-7a803bca70b3",
   "metadata": {},
   "source": [
    "### Calculate the grid-specific observation-simualtion synchronicity "
   ]
  },
  {
   "cell_type": "code",
   "execution_count": 8,
   "id": "ae986da6-8793-4b7e-ad3a-604946de838b",
   "metadata": {},
   "outputs": [
    {
     "name": "stdout",
     "output_type": "stream",
     "text": [
      "model-observation synchronicity: 0.86\n"
     ]
    }
   ],
   "source": [
    "grid_corr = data.groupby('loc').apply(lambda g: g['obs'].corr(g['UKESM1_0_LL']))\n",
    "\n",
    "grid_coord = data.groupby('loc').mean()[['longitude','latitude']]\n",
    "grid_coord['corr'] = np.abs(grid_corr)\n",
    "print(\"model-observation synchronicity: \"+str(np.round(grid_coord['corr'].median(),2)))"
   ]
  },
  {
   "cell_type": "code",
   "execution_count": 9,
   "id": "9e067e34-2b07-45e2-8252-d3165a6135c6",
   "metadata": {},
   "outputs": [
    {
     "data": {
      "text/plain": [
       "<matplotlib.colorbar.Colorbar at 0x16cb73bb230>"
      ]
     },
     "execution_count": 9,
     "metadata": {},
     "output_type": "execute_result"
    },
    {
     "data": {
      "image/png": "[encoded data removed]",
      "text/plain": [
       "<Figure size 500x250 with 2 Axes>"
      ]
     },
     "metadata": {},
     "output_type": "display_data"
    }
   ],
   "source": [
    "temp = grid_coord\n",
    "\n",
    "plt.figure(num=None, figsize=(10, 5), dpi=50, facecolor='w', edgecolor='k')\n",
    "cm = plt.cm.get_cmap('RdYlBu_r')\n",
    "x = temp['longitude']\n",
    "y = temp['latitude']\n",
    "\n",
    "plt.title('observation-simulation synchronicity', fontsize = 20, fontname = \"Arial\", color = \"black\")\n",
    "z = (temp['corr'])\n",
    "sc = plt.scatter(x, y, c=z, marker=\"s\", s=5, vmin=-1,vmax=1, cmap=cm)\n",
    "plt.xlim([-180, 180])\n",
    "plt.ylim([-90, 90])\n",
    "plt.colorbar(fraction=0.01)"
   ]
  },
  {
   "cell_type": "markdown",
   "id": "f65e7ff4-6b8a-4927-8348-102eab387daa",
   "metadata": {},
   "source": [
    "### Calculate the grid-specific observation-simualtion bias"
   ]
  },
  {
   "cell_type": "code",
   "execution_count": 10,
   "id": "5f988e93-0239-40ec-bd10-6e15681a96f3",
   "metadata": {},
   "outputs": [
    {
     "name": "stdout",
     "output_type": "stream",
     "text": [
      "model-observation mean bias: -0.36\n",
      "model-observation normalised mean bias: -0.01\n"
     ]
    }
   ],
   "source": [
    "data['bias'] = data['obs'] - data['UKESM1_0_LL']\n",
    "data['nmb'] = data['bias']/data['obs']\n",
    "grid_bias = data.groupby('loc').median()[['bias']]\n",
    "grid_nmb = data.groupby('loc').median()[['nmb']]\n",
    "\n",
    "grid_coord['bias'] = grid_bias\n",
    "grid_coord['nmb'] = grid_nmb\n",
    "\n",
    "print(\"model-observation mean bias: \"+str(np.round(grid_coord['bias'].median(), 2)))\n",
    "print(\"model-observation normalised mean bias: \"+str(np.round(grid_coord['nmb'].median(), 2)))"
   ]
  },
  {
   "cell_type": "code",
   "execution_count": 11,
   "id": "208f9e0d-3069-4f0c-8ccb-900f3bc10be4",
   "metadata": {},
   "outputs": [
    {
     "data": {
      "text/plain": [
       "<matplotlib.colorbar.Colorbar at 0x16cb7397d70>"
      ]
     },
     "execution_count": 11,
     "metadata": {},
     "output_type": "execute_result"
    },
    {
     "data": {
      "image/png": "[encoded data removed]",
      "text/plain": [
       "<Figure size 500x250 with 2 Axes>"
      ]
     },
     "metadata": {},
     "output_type": "display_data"
    }
   ],
   "source": [
    "temp = grid_coord\n",
    "\n",
    "plt.figure(num=None, figsize=(10, 5), dpi=50, facecolor='w', edgecolor='k')\n",
    "cm = plt.cm.get_cmap('RdYlBu_r')\n",
    "x = temp['longitude']\n",
    "y = temp['latitude']\n",
    "\n",
    "plt.title('observation-simulation bias', fontsize = 20, fontname = \"Arial\", color = \"black\")\n",
    "z = temp['bias']\n",
    "sc = plt.scatter(x, y, c=z, marker=\"s\", s=5, vmin=-20, vmax=20, cmap=cm)\n",
    "plt.xlim([-180, 180])\n",
    "plt.ylim([-90, 90])\n",
    "plt.colorbar(fraction=0.01)"
   ]
  },
  {
   "cell_type": "code",
   "execution_count": 12,
   "id": "4ae5ca69-82ff-44ed-b565-75b857e837bb",
   "metadata": {},
   "outputs": [
    {
     "data": {
      "text/plain": [
       "<matplotlib.colorbar.Colorbar at 0x16cb780bfe0>"
      ]
     },
     "execution_count": 12,
     "metadata": {},
     "output_type": "execute_result"
    },
    {
     "data": {
      "image/png": "[encoded data removed]",
      "text/plain": [
       "<Figure size 500x250 with 2 Axes>"
      ]
     },
     "metadata": {},
     "output_type": "display_data"
    }
   ],
   "source": [
    "temp = grid_coord\n",
    "\n",
    "plt.figure(num=None, figsize=(10, 5), dpi=50, facecolor='w', edgecolor='k')\n",
    "cm = plt.cm.get_cmap('RdYlBu_r')\n",
    "x = temp['longitude']\n",
    "y = temp['latitude']\n",
    "\n",
    "plt.title('observation-simulation normalised mean bias', fontsize = 20, fontname = \"Arial\", color = \"black\")\n",
    "z = temp['nmb']\n",
    "sc = plt.scatter(x, y, c=z, marker=\"s\", s=5, vmin=-1,vmax=1, cmap=cm)\n",
    "plt.xlim([-180, 180])\n",
    "plt.ylim([-90, 90])\n",
    "plt.colorbar(fraction=0.01)"
   ]
  },
  {
   "cell_type": "markdown",
   "id": "b0f1d5fc-d600-4cd7-93d0-e6538d9b328d",
   "metadata": {},
   "source": [
    "### Error decomposition"
   ]
  },
  {
   "cell_type": "code",
   "execution_count": 13,
   "id": "1a92b80a-cc0f-4748-af7c-c9e10a072364",
   "metadata": {},
   "outputs": [],
   "source": [
    "obs_mean = data.groupby('loc').mean()[['obs']]\n",
    "obs_std = data.groupby('loc').std()[['obs']]\n",
    "\n",
    "mod_mean = data.groupby('loc').mean()[['UKESM1_0_LL']]\n",
    "mod_std = data.groupby('loc').std()[['UKESM1_0_LL']]"
   ]
  },
  {
   "cell_type": "code",
   "execution_count": 14,
   "id": "99835c38-c87a-4300-92ff-f5fe76b74de8",
   "metadata": {},
   "outputs": [],
   "source": [
    "grid_coord['obs_mean'] = obs_mean\n",
    "grid_coord['obs_std'] = obs_std\n",
    "grid_coord['mod_mean'] = mod_mean\n",
    "grid_coord['mod_std'] = mod_std"
   ]
  },
  {
   "cell_type": "code",
   "execution_count": 15,
   "id": "e457bb9e-2a74-4103-afa0-8e700d5bc6c7",
   "metadata": {},
   "outputs": [],
   "source": [
    "grid_coord['bias2'] = grid_coord['bias']*grid_coord['bias']\n",
    "grid_coord['variance'] = (grid_coord['mod_std'] - grid_coord['corr']*grid_coord['obs_std'])**2\n",
    "grid_coord['noise2'] = grid_coord['obs_std']**2*(1-grid_coord['corr']**2)\n",
    "\n",
    "grid_coord['dev'] = grid_coord['mod_std'] - grid_coord['corr']*grid_coord['obs_std']\n",
    "grid_coord['noise'] = np.sqrt(grid_coord['noise2'])"
   ]
  },
  {
   "cell_type": "code",
   "execution_count": 16,
   "id": "5f5b85ce-cb3b-435b-b33b-009d93135a4a",
   "metadata": {},
   "outputs": [
    {
     "name": "stdout",
     "output_type": "stream",
     "text": [
      "model-observation irreducible noise: 2.2 ppb\n"
     ]
    }
   ],
   "source": [
    "print(\"model-observation irreducible noise: \"+str(np.round(grid_coord['noise'].median(),1))+\" ppb\")"
   ]
  },
  {
   "cell_type": "code",
   "execution_count": 20,
   "id": "8e6ad836-6903-4d52-896b-2669916f9e45",
   "metadata": {},
   "outputs": [
    {
     "data": {
      "text/plain": [
       "<matplotlib.colorbar.Colorbar at 0x16cb804acf0>"
      ]
     },
     "execution_count": 20,
     "metadata": {},
     "output_type": "execute_result"
    },
    {
     "data": {
      "image/png": "[encoded data removed]",
      "text/plain": [
       "<Figure size 500x250 with 2 Axes>"
      ]
     },
     "metadata": {},
     "output_type": "display_data"
    }
   ],
   "source": [
    "temp = grid_coord\n",
    "\n",
    "plt.figure(num=None, figsize=(10, 5), dpi=50, facecolor='w', edgecolor='k')\n",
    "cm = plt.cm.get_cmap('YlGnBu')\n",
    "x = temp['longitude']\n",
    "y = temp['latitude']\n",
    "\n",
    "plt.title('observation-simulation irreducible noise', fontsize = 20, fontname = \"Arial\", color = \"black\")\n",
    "z = (temp['noise'])\n",
    "sc = plt.scatter(x, y, c=z, marker=\"s\", s=5, vmin=0,vmax=10, cmap=cm)\n",
    "plt.xlim([-180, 180])\n",
    "plt.ylim([-90, 90])\n",
    "plt.colorbar(fraction=0.01)"
   ]
  },
  {
   "cell_type": "markdown",
   "id": "eeee1a59-fd66-49ad-a053-dd425375d51b",
   "metadata": {},
   "source": [
    "### Spatial averaged model-observation bias "
   ]
  },
  {
   "cell_type": "markdown",
   "id": "48cac220-9fdd-457d-aab0-6572f67f5513",
   "metadata": {},
   "source": [
    "### Export the analysis results (for external geomapping)"
   ]
  },
  {
   "cell_type": "code",
   "execution_count": 21,
   "id": "d02fd654-6c99-4a1d-b47d-acd5a2042247",
   "metadata": {},
   "outputs": [
    {
     "data": {
      "text/html": [
       "<div>\n",
       "<style scoped>\n",
       "    .dataframe tbody tr th:only-of-type {\n",
       "        vertical-align: middle;\n",
       "    }\n",
       "\n",
       "    .dataframe tbody tr th {\n",
       "        vertical-align: top;\n",
       "    }\n",
       "\n",
       "    .dataframe thead th {\n",
       "        text-align: right;\n",
       "    }\n",
       "</style>\n",
       "<table border=\"1\" class=\"dataframe\">\n",
       "  <thead>\n",
       "    <tr style=\"text-align: right;\">\n",
       "      <th></th>\n",
       "      <th>longitude</th>\n",
       "      <th>latitude</th>\n",
       "      <th>corr</th>\n",
       "      <th>bias</th>\n",
       "      <th>nmb</th>\n",
       "      <th>obs_mean</th>\n",
       "      <th>obs_std</th>\n",
       "      <th>mod_mean</th>\n",
       "      <th>mod_std</th>\n",
       "      <th>bias2</th>\n",
       "      <th>variance</th>\n",
       "      <th>noise2</th>\n",
       "      <th>dev</th>\n",
       "      <th>noise</th>\n",
       "    </tr>\n",
       "    <tr>\n",
       "      <th>loc</th>\n",
       "      <th></th>\n",
       "      <th></th>\n",
       "      <th></th>\n",
       "      <th></th>\n",
       "      <th></th>\n",
       "      <th></th>\n",
       "      <th></th>\n",
       "      <th></th>\n",
       "      <th></th>\n",
       "      <th></th>\n",
       "      <th></th>\n",
       "      <th></th>\n",
       "      <th></th>\n",
       "      <th></th>\n",
       "    </tr>\n",
       "  </thead>\n",
       "  <tbody>\n",
       "    <tr>\n",
       "      <th>-171015.0</th>\n",
       "      <td>-171.0</td>\n",
       "      <td>-15.0</td>\n",
       "      <td>0.894412</td>\n",
       "      <td>-7.570</td>\n",
       "      <td>-0.610345</td>\n",
       "      <td>13.117623</td>\n",
       "      <td>3.537783</td>\n",
       "      <td>20.938075</td>\n",
       "      <td>5.004750</td>\n",
       "      <td>57.304900</td>\n",
       "      <td>3.387500</td>\n",
       "      <td>2.503531</td>\n",
       "      <td>1.840516</td>\n",
       "      <td>1.582255</td>\n",
       "    </tr>\n",
       "    <tr>\n",
       "      <th>-158979.0</th>\n",
       "      <td>-159.0</td>\n",
       "      <td>21.0</td>\n",
       "      <td>0.801279</td>\n",
       "      <td>-5.470</td>\n",
       "      <td>-0.191788</td>\n",
       "      <td>26.177353</td>\n",
       "      <td>4.113360</td>\n",
       "      <td>31.169118</td>\n",
       "      <td>4.561905</td>\n",
       "      <td>29.920900</td>\n",
       "      <td>1.602646</td>\n",
       "      <td>6.056453</td>\n",
       "      <td>1.265957</td>\n",
       "      <td>2.460986</td>\n",
       "    </tr>\n",
       "    <tr>\n",
       "      <th>-156979.0</th>\n",
       "      <td>-157.0</td>\n",
       "      <td>21.0</td>\n",
       "      <td>0.774770</td>\n",
       "      <td>-4.990</td>\n",
       "      <td>-0.194274</td>\n",
       "      <td>25.488385</td>\n",
       "      <td>4.198515</td>\n",
       "      <td>30.882955</td>\n",
       "      <td>5.412230</td>\n",
       "      <td>24.900100</td>\n",
       "      <td>4.662777</td>\n",
       "      <td>7.046283</td>\n",
       "      <td>2.159347</td>\n",
       "      <td>2.654483</td>\n",
       "    </tr>\n",
       "    <tr>\n",
       "      <th>-156929.0</th>\n",
       "      <td>-157.0</td>\n",
       "      <td>71.0</td>\n",
       "      <td>0.584156</td>\n",
       "      <td>10.890</td>\n",
       "      <td>0.399470</td>\n",
       "      <td>23.799762</td>\n",
       "      <td>5.463113</td>\n",
       "      <td>17.235136</td>\n",
       "      <td>8.640885</td>\n",
       "      <td>118.592100</td>\n",
       "      <td>29.697844</td>\n",
       "      <td>19.661136</td>\n",
       "      <td>5.449573</td>\n",
       "      <td>4.434088</td>\n",
       "    </tr>\n",
       "    <tr>\n",
       "      <th>-154981.0</th>\n",
       "      <td>-155.0</td>\n",
       "      <td>19.0</td>\n",
       "      <td>0.678349</td>\n",
       "      <td>-5.665</td>\n",
       "      <td>-0.264997</td>\n",
       "      <td>23.394808</td>\n",
       "      <td>4.027479</td>\n",
       "      <td>29.137981</td>\n",
       "      <td>5.384449</td>\n",
       "      <td>32.092225</td>\n",
       "      <td>7.035285</td>\n",
       "      <td>8.756557</td>\n",
       "      <td>2.652411</td>\n",
       "      <td>2.959148</td>\n",
       "    </tr>\n",
       "    <tr>\n",
       "      <th>...</th>\n",
       "      <td>...</td>\n",
       "      <td>...</td>\n",
       "      <td>...</td>\n",
       "      <td>...</td>\n",
       "      <td>...</td>\n",
       "      <td>...</td>\n",
       "      <td>...</td>\n",
       "      <td>...</td>\n",
       "      <td>...</td>\n",
       "      <td>...</td>\n",
       "      <td>...</td>\n",
       "      <td>...</td>\n",
       "      <td>...</td>\n",
       "      <td>...</td>\n",
       "    </tr>\n",
       "    <tr>\n",
       "      <th>153025.0</th>\n",
       "      <td>153.0</td>\n",
       "      <td>25.0</td>\n",
       "      <td>0.883260</td>\n",
       "      <td>-3.820</td>\n",
       "      <td>-0.164744</td>\n",
       "      <td>24.674249</td>\n",
       "      <td>7.534844</td>\n",
       "      <td>29.036867</td>\n",
       "      <td>8.083878</td>\n",
       "      <td>14.592400</td>\n",
       "      <td>2.041055</td>\n",
       "      <td>12.481878</td>\n",
       "      <td>1.428655</td>\n",
       "      <td>3.532970</td>\n",
       "    </tr>\n",
       "    <tr>\n",
       "      <th>166923.0</th>\n",
       "      <td>167.0</td>\n",
       "      <td>-77.0</td>\n",
       "      <td>0.604097</td>\n",
       "      <td>1.265</td>\n",
       "      <td>0.068263</td>\n",
       "      <td>17.260354</td>\n",
       "      <td>3.343192</td>\n",
       "      <td>16.056681</td>\n",
       "      <td>1.722210</td>\n",
       "      <td>1.600225</td>\n",
       "      <td>0.088449</td>\n",
       "      <td>7.098092</td>\n",
       "      <td>-0.297404</td>\n",
       "      <td>2.664224</td>\n",
       "    </tr>\n",
       "    <tr>\n",
       "      <th>168955.0</th>\n",
       "      <td>169.0</td>\n",
       "      <td>-45.0</td>\n",
       "      <td>0.653151</td>\n",
       "      <td>-0.990</td>\n",
       "      <td>-0.055212</td>\n",
       "      <td>17.060990</td>\n",
       "      <td>3.287132</td>\n",
       "      <td>17.594257</td>\n",
       "      <td>1.785214</td>\n",
       "      <td>0.980100</td>\n",
       "      <td>0.130884</td>\n",
       "      <td>6.195656</td>\n",
       "      <td>-0.361780</td>\n",
       "      <td>2.489107</td>\n",
       "    </tr>\n",
       "    <tr>\n",
       "      <th>174959.0</th>\n",
       "      <td>175.0</td>\n",
       "      <td>-41.0</td>\n",
       "      <td>0.902158</td>\n",
       "      <td>-5.530</td>\n",
       "      <td>-0.316269</td>\n",
       "      <td>17.619224</td>\n",
       "      <td>3.017169</td>\n",
       "      <td>23.171644</td>\n",
       "      <td>2.901428</td>\n",
       "      <td>30.580900</td>\n",
       "      <td>0.032208</td>\n",
       "      <td>1.694227</td>\n",
       "      <td>0.179465</td>\n",
       "      <td>1.301625</td>\n",
       "    </tr>\n",
       "    <tr>\n",
       "      <th>174963.0</th>\n",
       "      <td>175.0</td>\n",
       "      <td>-37.0</td>\n",
       "      <td>0.885003</td>\n",
       "      <td>-7.640</td>\n",
       "      <td>-0.421634</td>\n",
       "      <td>18.241529</td>\n",
       "      <td>2.989957</td>\n",
       "      <td>26.028280</td>\n",
       "      <td>3.114625</td>\n",
       "      <td>58.369600</td>\n",
       "      <td>0.219495</td>\n",
       "      <td>1.937880</td>\n",
       "      <td>0.468503</td>\n",
       "      <td>1.392078</td>\n",
       "    </tr>\n",
       "  </tbody>\n",
       "</table>\n",
       "<p>669 rows × 14 columns</p>\n",
       "</div>"
      ],
      "text/plain": [
       "           longitude  latitude      corr    bias       nmb   obs_mean  \\\n",
       "loc                                                                     \n",
       "-171015.0     -171.0     -15.0  0.894412  -7.570 -0.610345  13.117623   \n",
       "-158979.0     -159.0      21.0  0.801279  -5.470 -0.191788  26.177353   \n",
       "-156979.0     -157.0      21.0  0.774770  -4.990 -0.194274  25.488385   \n",
       "-156929.0     -157.0      71.0  0.584156  10.890  0.399470  23.799762   \n",
       "-154981.0     -155.0      19.0  0.678349  -5.665 -0.264997  23.394808   \n",
       "...              ...       ...       ...     ...       ...        ...   \n",
       " 153025.0      153.0      25.0  0.883260  -3.820 -0.164744  24.674249   \n",
       " 166923.0      167.0     -77.0  0.604097   1.265  0.068263  17.260354   \n",
       " 168955.0      169.0     -45.0  0.653151  -0.990 -0.055212  17.060990   \n",
       " 174959.0      175.0     -41.0  0.902158  -5.530 -0.316269  17.619224   \n",
       " 174963.0      175.0     -37.0  0.885003  -7.640 -0.421634  18.241529   \n",
       "\n",
       "            obs_std   mod_mean   mod_std       bias2   variance     noise2  \\\n",
       "loc                                                                          \n",
       "-171015.0  3.537783  20.938075  5.004750   57.304900   3.387500   2.503531   \n",
       "-158979.0  4.113360  31.169118  4.561905   29.920900   1.602646   6.056453   \n",
       "-156979.0  4.198515  30.882955  5.412230   24.900100   4.662777   7.046283   \n",
       "-156929.0  5.463113  17.235136  8.640885  118.592100  29.697844  19.661136   \n",
       "-154981.0  4.027479  29.137981  5.384449   32.092225   7.035285   8.756557   \n",
       "...             ...        ...       ...         ...        ...        ...   \n",
       " 153025.0  7.534844  29.036867  8.083878   14.592400   2.041055  12.481878   \n",
       " 166923.0  3.343192  16.056681  1.722210    1.600225   0.088449   7.098092   \n",
       " 168955.0  3.287132  17.594257  1.785214    0.980100   0.130884   6.195656   \n",
       " 174959.0  3.017169  23.171644  2.901428   30.580900   0.032208   1.694227   \n",
       " 174963.0  2.989957  26.028280  3.114625   58.369600   0.219495   1.937880   \n",
       "\n",
       "                dev     noise  \n",
       "loc                            \n",
       "-171015.0  1.840516  1.582255  \n",
       "-158979.0  1.265957  2.460986  \n",
       "-156979.0  2.159347  2.654483  \n",
       "-156929.0  5.449573  4.434088  \n",
       "-154981.0  2.652411  2.959148  \n",
       "...             ...       ...  \n",
       " 153025.0  1.428655  3.532970  \n",
       " 166923.0 -0.297404  2.664224  \n",
       " 168955.0 -0.361780  2.489107  \n",
       " 174959.0  0.179465  1.301625  \n",
       " 174963.0  0.468503  1.392078  \n",
       "\n",
       "[669 rows x 14 columns]"
      ]
     },
     "execution_count": 21,
     "metadata": {},
     "output_type": "execute_result"
    }
   ],
   "source": [
    "grid_coord"
   ]
  },
  {
   "cell_type": "code",
   "execution_count": 22,
   "id": "5acc405c-7fe9-4aa8-af07-bb1a1fc1884d",
   "metadata": {},
   "outputs": [],
   "source": [
    "grid_coord.to_csv('Extended Data Fig. 1 obs-mod-evaluation-decomposition.csv', index=False)"
   ]
  },
  {
   "cell_type": "code",
   "execution_count": null,
   "id": "0381e331-0cd3-447e-b186-aff3eddc94b8",
   "metadata": {},
   "outputs": [],
   "source": []
  }
 ],
 "metadata": {
  "kernelspec": {
   "display_name": "Python 3 (ipykernel)",
   "language": "python",
   "name": "python3"
  },
  "language_info": {
   "codemirror_mode": {
    "name": "ipython",
    "version": 3
   },
   "file_extension": ".py",
   "mimetype": "text/x-python",
   "name": "python",
   "nbconvert_exporter": "python",
   "pygments_lexer": "ipython3",
   "version": "3.12.3"
  }
 },
 "nbformat": 4,
 "nbformat_minor": 5
}
