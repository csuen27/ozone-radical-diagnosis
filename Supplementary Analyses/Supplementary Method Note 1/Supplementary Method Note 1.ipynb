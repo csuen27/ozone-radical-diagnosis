{
 "cells": [
  {
   "cell_type": "code",
   "execution_count": 1,
   "id": "0badca92-faf5-4e65-bece-3364118c8796",
   "metadata": {},
   "outputs": [],
   "source": [
    "import warnings\n",
    "warnings.filterwarnings(\"ignore\")\n",
    "\n",
    "import pandas as pd\n",
    "import numpy as np\n",
    "import matplotlib.pyplot as plt\n",
    "\n",
    "dataset = pd.read_csv('D://Research/radicals/UKESM1-0-LL_2010_2014(ver240109).csv')"
   ]
  },
  {
   "cell_type": "code",
   "execution_count": 130,
   "id": "73216cc4-fb47-4662-9c01-d20a84bbd8cd",
   "metadata": {},
   "outputs": [
    {
     "data": {
      "text/plain": [
       "['longitude',\n",
       " 'latitude',\n",
       " 't',\n",
       " 'loc',\n",
       " 'o3',\n",
       " 'o3prod',\n",
       " 'o3loss',\n",
       " 'eminox',\n",
       " 'emivoc',\n",
       " 'tas',\n",
       " 'hus',\n",
       " 'aod',\n",
       " 'bldep',\n",
       " 'ua',\n",
       " 'va',\n",
       " 'ps',\n",
       " 'jno2',\n",
       " 'photo1d',\n",
       " 'lossch4',\n",
       " 'lossco',\n",
       " 'no2',\n",
       " 'no',\n",
       " 'oh',\n",
       " 'h2o',\n",
       " 'pan',\n",
       " 'hno3',\n",
       " 'co',\n",
       " 'hcho',\n",
       " 'ch4',\n",
       " 'ch3o2_mod',\n",
       " 'ho2_mod',\n",
       " 'o1d_mod',\n",
       " 'o3_mole',\n",
       " 'no2_mole',\n",
       " 'no_mole',\n",
       " 'h2o_mole',\n",
       " 'co_mole',\n",
       " 'hcho_mole',\n",
       " 'oh_mole',\n",
       " 'n2_mole',\n",
       " 'o2_mole',\n",
       " 'lossco_mole',\n",
       " 'lossch4_mole',\n",
       " 'o1d_mole',\n",
       " 'ho2_mole',\n",
       " 'ch3o2_mole',\n",
       " 'ch3ooh_mole',\n",
       " 'o1d_mod_vmr',\n",
       " 'ho2_mod_vmr',\n",
       " 'ch3o2_mod_vmr',\n",
       " 'o1d_vmr',\n",
       " 'ho2_vmr',\n",
       " 'ch3o2_vmr',\n",
       " 'o1d_mod_mole',\n",
       " 'ho2_mod_mole',\n",
       " 'ch3o2_mod_mole',\n",
       " 'o1d_mole_adj',\n",
       " 'ho2_mole_adj',\n",
       " 'ch3o2_mole_adj',\n",
       " 'k1',\n",
       " 'k2',\n",
       " 'k3',\n",
       " 'k4',\n",
       " 'k5',\n",
       " 'k6',\n",
       " 'k7',\n",
       " 'k8',\n",
       " 'k9',\n",
       " 'k9a',\n",
       " 'k9b',\n",
       " 'k10',\n",
       " 'k11',\n",
       " 'k12',\n",
       " 'k13',\n",
       " 'k14',\n",
       " 'k15',\n",
       " 'k15a',\n",
       " 'k15b',\n",
       " 'k16',\n",
       " 'pt1',\n",
       " 'pt2',\n",
       " 'pt4',\n",
       " 'pt5',\n",
       " 'pt6',\n",
       " 'o3prod_mole',\n",
       " 'o3loss_mole',\n",
       " 'pt3',\n",
       " 'pt7',\n",
       " 'pt3_adj',\n",
       " 'pt7_adj',\n",
       " 'o3prod_mole_adj',\n",
       " 'o3loss_mole_adj',\n",
       " 'prop_pt1',\n",
       " 'prop_pt2',\n",
       " 'prop_pt3',\n",
       " 'prop_pt4',\n",
       " 'prop_pt5',\n",
       " 'prop_pt6',\n",
       " 'prop_pt7',\n",
       " 'diag_ch3o2_ch4',\n",
       " 'ch4_mole',\n",
       " 'o1d_vmr_adj',\n",
       " 'ho2_vmr_adj',\n",
       " 'ch3o2_vmr_adj',\n",
       " 'month',\n",
       " 'o1d_photo_prod',\n",
       " 'o1d_n2_loss',\n",
       " 'o1d_o2_loss',\n",
       " 'o1d_h2o_loss',\n",
       " 'oh_o1d_h2o_prod',\n",
       " 'oh_ho2_no_prod',\n",
       " 'oh_ho2_o3_prod',\n",
       " 'oh_co_loss',\n",
       " 'oh_ch4_loss',\n",
       " 'oh_hcho_loss',\n",
       " 'oh_ho2_loss',\n",
       " 'oh_o3_loss',\n",
       " 'oh_ch3ooh_loss',\n",
       " 'ho2_co_oh_prod',\n",
       " 'ho2_ch3o2_no_prod',\n",
       " 'ho2_oh_hcho_prod',\n",
       " 'ho2_oh_o3_prod',\n",
       " 'ho2_no_loss',\n",
       " 'ho2_o3_loss',\n",
       " 'ho2_ch3o2_loss',\n",
       " 'ho2_ho2_loss',\n",
       " 'ho2_oh_loss',\n",
       " 'ch3o2_oh_ch4_prod',\n",
       " 'ch3o2_oh_ch3ooh_prod',\n",
       " 'ch3o2_no_loss',\n",
       " 'ch3o2_ho2_loss',\n",
       " 'ch3o2_ch3o2_loss',\n",
       " 'c2h6',\n",
       " 'c3h8',\n",
       " 'isop',\n",
       " 'c2h6_mole',\n",
       " 'c3h8_mole',\n",
       " 'isop_mole',\n",
       " 'k17',\n",
       " 'k18',\n",
       " 'k19',\n",
       " 'k20',\n",
       " 'k21',\n",
       " 'k22',\n",
       " 'k23',\n",
       " 'k24a',\n",
       " 'k24b',\n",
       " 'k24',\n",
       " 'k25',\n",
       " 'k26',\n",
       " 'k27',\n",
       " 'etoo_mole',\n",
       " 'proo_mole',\n",
       " 'a',\n",
       " 'b',\n",
       " 'c',\n",
       " 'iso2_mole',\n",
       " 'prod_etoo_no',\n",
       " 'prod_proo_no',\n",
       " 'prod_iso2_no',\n",
       " 'loss_o3_isop',\n",
       " 'o3prod_mole_stacked',\n",
       " 'o3loss_mole_stacked',\n",
       " 'pt1_prop',\n",
       " 'pt2_prop',\n",
       " 'pt3_prop',\n",
       " 'pt4_prop',\n",
       " 'pt5_prop',\n",
       " 'pt6_prop',\n",
       " 'pt7_prop',\n",
       " 'pr1',\n",
       " 'pr2',\n",
       " 'pr3',\n",
       " 'pr4',\n",
       " 'zeta',\n",
       " 'eta',\n",
       " 'ho2_ch3o2_no_prod_v2']"
      ]
     },
     "execution_count": 130,
     "metadata": {},
     "output_type": "execute_result"
    }
   ],
   "source": [
    "list(dataset)"
   ]
  },
  {
   "cell_type": "code",
   "execution_count": 107,
   "id": "bc65074d-56c2-40f8-a05e-3144f76675e9",
   "metadata": {},
   "outputs": [],
   "source": [
    "dataset['ho2_ch3o2_no_prod_v2'] = 2.30*10**(-12)*np.exp(360/dataset['tas'])*dataset['ch3o2_mole']*dataset['no_mole']"
   ]
  },
  {
   "cell_type": "code",
   "execution_count": 180,
   "id": "b27bca5a-416e-4e82-b111-e3f201d76f3b",
   "metadata": {},
   "outputs": [],
   "source": [
    "dataset['k7']  = 2.45*10**(-12)*np.exp(-1775/dataset['tas'])\n",
    "dataset['k13'] = 2.30*10**(-12)*np.exp(360/dataset['tas'])\n",
    "dataset['ch3o2_linear'] = dataset['k7']*dataset['oh_mole']*dataset['ch4_mole']/dataset['k13']/dataset['no_mole']"
   ]
  },
  {
   "cell_type": "code",
   "execution_count": 172,
   "id": "84695c20-f475-42df-a0b8-6ab0d4c135d2",
   "metadata": {},
   "outputs": [],
   "source": [
    "dataset['k9']  = 3.30*10**(-12)*np.exp(270/dataset['tas'])\n",
    "dataset['ho2_linear'] = dataset['lossco_mole']/dataset['k9']/dataset['no_mole']"
   ]
  },
  {
   "cell_type": "code",
   "execution_count": 150,
   "id": "7f495830-06d6-4346-8fa5-b08f3567556a",
   "metadata": {},
   "outputs": [],
   "source": [
    "dataset['pr1'] = dataset['ho2_co_oh_prod']/(dataset['ho2_co_oh_prod'] + dataset['ho2_ch3o2_no_prod_v2'] + dataset['ho2_oh_hcho_prod'] + dataset['ho2_oh_o3_prod'])\n",
    "dataset['pr2'] = dataset['ho2_no_loss']/(dataset['ho2_no_loss'] + dataset['ho2_o3_loss'] + dataset['ho2_ch3o2_loss'] + dataset['ho2_ho2_loss'] + dataset['ho2_oh_loss'])"
   ]
  },
  {
   "cell_type": "code",
   "execution_count": 152,
   "id": "b25eb728-134d-4e13-9a69-c85ea8cb63a9",
   "metadata": {},
   "outputs": [],
   "source": [
    "dataset['pr3'] = dataset['ch3o2_oh_ch4_prod']/(dataset['ch3o2_oh_ch4_prod'] + dataset['ch3o2_oh_ch3ooh_prod'])\n",
    "dataset['pr4'] = dataset['ch3o2_no_loss']/(dataset['ch3o2_no_loss'] + dataset['ch3o2_ho2_loss'] + dataset['ch3o2_ch3o2_loss'])"
   ]
  },
  {
   "cell_type": "code",
   "execution_count": 154,
   "id": "00e91705-5a20-413b-ba91-c9647b91673c",
   "metadata": {},
   "outputs": [],
   "source": [
    "dataset['zeta'] = dataset['pr4']/dataset['pr3']\n",
    "dataset['eta'] = dataset['pr2']/dataset['pr1']"
   ]
  },
  {
   "cell_type": "code",
   "execution_count": 156,
   "id": "ebbdeaa8-af5f-4cca-9aa3-4013bc171a64",
   "metadata": {},
   "outputs": [],
   "source": [
    "land = pd.read_csv('C://Users/csuen/OneDrive - National University of Singapore/Documents/Manuscripts/Sun-NG-25/global_grid_2x2_label_continent.csv')\n",
    "dataset_land = dataset.merge(land, how='left', left_on=['longitude','latitude'], right_on=['longitude','latitude'])\n",
    "dataset_land = dataset_land[dataset_land['land_global']==1]"
   ]
  },
  {
   "cell_type": "code",
   "execution_count": 116,
   "id": "93b08f07-33f7-43bd-98de-9d747c296b80",
   "metadata": {},
   "outputs": [
    {
     "name": "stdout",
     "output_type": "stream",
     "text": [
      "Mean: 0.6849757952901832\n",
      "Std:  0.10896239841768436\n",
      "Q1:   0.6013322774564264\n",
      "Q3:   0.7697195133300475\n"
     ]
    }
   ],
   "source": [
    "print(\"Mean: \"+str(dataset_land['pr1'].mean()))\n",
    "print(\"Std:  \"+str(dataset_land['pr1'].std()))\n",
    "print(\"Q1:   \"+str(np.nanpercentile(dataset_land['pr1'],25)))\n",
    "print(\"Q3:   \"+str(np.nanpercentile(dataset_land['pr1'],75)))"
   ]
  },
  {
   "cell_type": "code",
   "execution_count": 119,
   "id": "6238c687-3b2e-441a-b78f-6d8bc61b269d",
   "metadata": {},
   "outputs": [
    {
     "name": "stdout",
     "output_type": "stream",
     "text": [
      "Mean: 0.8752895007322136\n",
      "Std:  0.18227124129218267\n",
      "Q1:   0.8493362289830086\n",
      "Q3:   0.9840955998834653\n"
     ]
    }
   ],
   "source": [
    "print(\"Mean: \"+str(dataset_land['pr2'].mean()))\n",
    "print(\"Std:  \"+str(dataset_land['pr2'].std()))\n",
    "print(\"Q1:   \"+str(np.nanpercentile(dataset_land['pr2'],25)))\n",
    "print(\"Q3:   \"+str(np.nanpercentile(dataset_land['pr2'],75)))"
   ]
  },
  {
   "cell_type": "code",
   "execution_count": 121,
   "id": "ab4566b3-f18b-47b9-94b9-8139da104067",
   "metadata": {},
   "outputs": [
    {
     "name": "stdout",
     "output_type": "stream",
     "text": [
      "Mean: 0.9837406663994078\n",
      "Std:  0.03570061505191836\n",
      "Q1:   0.9887876062197803\n",
      "Q3:   0.9998306929498468\n"
     ]
    }
   ],
   "source": [
    "print(\"Mean: \"+str(dataset_land['pr3'].mean()))\n",
    "print(\"Std:  \"+str(dataset_land['pr3'].std()))\n",
    "print(\"Q1:   \"+str(np.nanpercentile(dataset_land['pr3'],25)))\n",
    "print(\"Q3:   \"+str(np.nanpercentile(dataset_land['pr3'],75)))"
   ]
  },
  {
   "cell_type": "code",
   "execution_count": 123,
   "id": "31827b79-c658-49f4-a55a-d8737a01ee98",
   "metadata": {},
   "outputs": [
    {
     "name": "stdout",
     "output_type": "stream",
     "text": [
      "Mean: 0.9744427020080155\n",
      "Std:  0.07485259488359247\n",
      "Q1:   0.9771707779811484\n",
      "Q3:   0.9990396834738042\n"
     ]
    }
   ],
   "source": [
    "print(\"Mean: \"+str(dataset_land['pr4'].mean()))\n",
    "print(\"Std:  \"+str(dataset_land['pr4'].std()))\n",
    "print(\"Q1:   \"+str(np.nanpercentile(dataset_land['pr4'],25)))\n",
    "print(\"Q3:   \"+str(np.nanpercentile(dataset_land['pr4'],75)))"
   ]
  },
  {
   "cell_type": "code",
   "execution_count": 125,
   "id": "f45b63e7-3858-4446-a360-cbc5119ff678",
   "metadata": {},
   "outputs": [
    {
     "name": "stdout",
     "output_type": "stream",
     "text": [
      "Mean: 0.9980153065043772\n",
      "Std:  0.06613072330830796\n",
      "Q1:   0.9930185651750141\n",
      "Q3:   0.999849071928417\n"
     ]
    }
   ],
   "source": [
    "print(\"Mean: \"+str(dataset_land['zeta'].median()))\n",
    "print(\"Std:  \"+str(dataset_land['zeta'].std()))\n",
    "print(\"Q1:   \"+str(np.nanpercentile(dataset_land['zeta'],25)))\n",
    "print(\"Q3:   \"+str(np.nanpercentile(dataset_land['zeta'],75)))"
   ]
  },
  {
   "cell_type": "code",
   "execution_count": 127,
   "id": "c8aa9722-c557-4561-96a1-fa44243b1818",
   "metadata": {},
   "outputs": [
    {
     "name": "stdout",
     "output_type": "stream",
     "text": [
      "Mean: 1.3322085159770627\n",
      "Std:  0.33082883619735776\n",
      "Q1:   1.160324088430339\n",
      "Q3:   1.523758188355505\n"
     ]
    }
   ],
   "source": [
    "print(\"Mean: \"+str(dataset_land['eta'].median()))\n",
    "print(\"Std:  \"+str(dataset_land['eta'].std()))\n",
    "print(\"Q1:   \"+str(np.nanpercentile(dataset_land['eta'],25)))\n",
    "print(\"Q3:   \"+str(np.nanpercentile(dataset_land['eta'],75)))"
   ]
  },
  {
   "cell_type": "markdown",
   "id": "185ea52f-9932-4253-bfaa-1aaeec92de8e",
   "metadata": {},
   "source": [
    "### Linear approximation accuracy evaluation"
   ]
  },
  {
   "cell_type": "code",
   "execution_count": null,
   "id": "3155fe29-b94f-455e-8ea7-bf2871ec69a7",
   "metadata": {},
   "outputs": [],
   "source": []
  }
 ],
 "metadata": {
  "kernelspec": {
   "display_name": "Python [conda env:base] *",
   "language": "python",
   "name": "conda-base-py"
  },
  "language_info": {
   "codemirror_mode": {
    "name": "ipython",
    "version": 3
   },
   "file_extension": ".py",
   "mimetype": "text/x-python",
   "name": "python",
   "nbconvert_exporter": "python",
   "pygments_lexer": "ipython3",
   "version": "3.12.7"
  }
 },
 "nbformat": 4,
 "nbformat_minor": 5
}
