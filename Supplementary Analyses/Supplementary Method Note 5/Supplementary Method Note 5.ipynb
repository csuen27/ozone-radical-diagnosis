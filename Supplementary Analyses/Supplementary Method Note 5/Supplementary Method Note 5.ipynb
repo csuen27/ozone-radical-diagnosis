{
 "cells": [
  {
   "cell_type": "code",
   "execution_count": null,
   "id": "0badca92-faf5-4e65-bece-3364118c8796",
   "metadata": {},
   "outputs": [],
   "source": [
    "import warnings\n",
    "warnings.filterwarnings(\"ignore\")\n",
    "\n",
    "import pandas as pd\n",
    "import numpy as np\n",
    "import matplotlib.pyplot as plt\n",
    "\n",
    "dataset = pd.read_csv('D://Research/radicals/UKESM1-0-LL_2010_2014(ver240109).csv')"
   ]
  },
  {
   "cell_type": "code",
   "execution_count": null,
   "id": "41c58c87-4ea4-42ed-95b0-e4bdcfdfc733",
   "metadata": {},
   "outputs": [],
   "source": [
    "dataset_sorted = dataset.sort_values(by=['longitude','latitude','t'], ascending=True, na_position=\"last\")"
   ]
  },
  {
   "cell_type": "code",
   "execution_count": null,
   "id": "7153a51d-49c6-467f-a0ea-f24ce70a24a2",
   "metadata": {},
   "outputs": [],
   "source": [
    "dataset_sorted['o1d_mole_lag1'] = dataset_sorted['o1d_mod_mole'].shift(periods=1)\n",
    "dataset_sorted['oh_mole_lag1'] = dataset_sorted['oh_mole'].shift(periods=1)\n",
    "dataset_sorted['ho2_mole_lag1'] = dataset_sorted['ho2_mod_mole'].shift(periods=1)\n",
    "dataset_sorted['ch3o2_mole_lag1'] = dataset_sorted['ch3o2_mod_mole'].shift(periods=1)\n",
    "\n",
    "dataset_sorted['d_o1d_mole'] = dataset_sorted['o1d_mod_mole']-dataset_sorted['o1d_mole_lag1']\n",
    "dataset_sorted['d_oh_mole'] = dataset_sorted['oh_mole']-dataset_sorted['oh_mole_lag1']\n",
    "dataset_sorted['d_ho2_mole'] = dataset_sorted['ho2_mod_mole']-dataset_sorted['ho2_mole_lag1']\n",
    "dataset_sorted['d_ch3o2_mole'] = dataset_sorted['ch3o2_mod_mole']-dataset_sorted['ch3o2_mole_lag1']"
   ]
  },
  {
   "cell_type": "code",
   "execution_count": null,
   "id": "7919481b-7ecb-4a79-b244-2b593c11494a",
   "metadata": {},
   "outputs": [],
   "source": [
    "dataset_sorted['ch4_mole_lag1'] = dataset_sorted['ch4_mole'].shift(periods=1)\n",
    "dataset_sorted['hcho_mole_lag1'] = dataset_sorted['hcho_mole'].shift(periods=1)\n",
    "dataset_sorted['co_mole_lag1'] = dataset_sorted['co_mole'].shift(periods=1)\n",
    "dataset_sorted['no_mole_lag1'] = dataset_sorted['no_mole'].shift(periods=1)\n",
    "dataset_sorted['tas_lag1'] = dataset_sorted['tas'].shift(periods=1)"
   ]
  },
  {
   "cell_type": "code",
   "execution_count": null,
   "id": "fcb0f670-7ba7-4adf-a3fb-5d25880c2900",
   "metadata": {},
   "outputs": [],
   "source": [
    "dataset_sorted['d_ch4_mole'] = dataset_sorted['ch4_mole']-dataset_sorted['ch4_mole_lag1']\n",
    "dataset_sorted['d_co_mole'] = dataset_sorted['co_mole']-dataset_sorted['co_mole_lag1']\n",
    "dataset_sorted['d_hcho_mole'] = dataset_sorted['hcho_mole']-dataset_sorted['hcho_mole_lag1']\n",
    "dataset_sorted['d_no_mole'] = dataset_sorted['no_mole']-dataset_sorted['no_mole_lag1']\n",
    "dataset_sorted['d_tas'] = dataset_sorted['tas']-dataset_sorted['tas_lag1']"
   ]
  },
  {
   "cell_type": "code",
   "execution_count": null,
   "id": "ebbdeaa8-af5f-4cca-9aa3-4013bc171a64",
   "metadata": {},
   "outputs": [],
   "source": [
    "land = pd.read_csv('C://Users/Haitong/OneDrive - National University of Singapore/Documents/Manuscripts/Sun-NG-25/global_grid_2x2_label_continent.csv')\n",
    "dataset_land = dataset_sorted.merge(land, how='left', left_on=['longitude','latitude'], right_on=['longitude','latitude'])\n",
    "dataset_land = dataset_land[dataset_land['land_global']==1]"
   ]
  },
  {
   "cell_type": "code",
   "execution_count": null,
   "id": "f87cae20-302f-44df-989b-0f25c91f47df",
   "metadata": {},
   "outputs": [],
   "source": [
    "dataset_land = dataset_land[dataset_land['t']>1]\n",
    "data = dataset_land[['longitude','latitude','t','o3',\n",
    "                     'o1d_mod','o1d_mod_mole','o1d_mole_adj','oh_mole',\n",
    "                     'ho2_mod','ho2_mod_mole','ho2_mole_adj',\n",
    "                     'ch3o2_mod','ch3o2_mod_mole','ch3o2_mole_adj',\n",
    "                     'd_o1d_mole','d_oh_mole','d_ho2_mole','d_ch3o2_mole',\n",
    "                     'tas','tas_lag1','d_tas',\n",
    "                     'ch4_mole','ch4_mole_lag1','d_ch4_mole',\n",
    "                     'co_mole','co_mole_lag1','d_co_mole',\n",
    "                     'hcho_mole','hcho_mole_lag1','d_hcho_mole',\n",
    "                     'no_mole','no_mole_lag1','d_no_mole']]"
   ]
  },
  {
   "cell_type": "code",
   "execution_count": null,
   "id": "7e395373-9f03-4265-9f55-76b1694852b9",
   "metadata": {},
   "outputs": [],
   "source": [
    "data.to_csv('Supp-Method-Note-5-covariate-correlation.csv')\n",
    "data.to_stata('Supp-Method-Note-5-covariate-correlation.dta')"
   ]
  },
  {
   "cell_type": "code",
   "execution_count": null,
   "id": "47f4178e-bfc8-40b0-8d22-94538c43eaba",
   "metadata": {},
   "outputs": [],
   "source": []
  }
 ],
 "metadata": {
  "kernelspec": {
   "display_name": "Python 3 (ipykernel)",
   "language": "python",
   "name": "python3"
  },
  "language_info": {
   "codemirror_mode": {
    "name": "ipython",
    "version": 3
   },
   "file_extension": ".py",
   "mimetype": "text/x-python",
   "name": "python",
   "nbconvert_exporter": "python",
   "pygments_lexer": "ipython3",
   "version": "3.12.3"
  }
 },
 "nbformat": 4,
 "nbformat_minor": 5
}
