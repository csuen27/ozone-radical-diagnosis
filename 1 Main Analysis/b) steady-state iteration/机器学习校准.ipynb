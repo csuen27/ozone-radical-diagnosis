{
 "cells": [
  {
   "cell_type": "code",
   "execution_count": 1,
   "id": "7fd60da1-623c-4630-be2e-6d7d6a199581",
   "metadata": {},
   "outputs": [],
   "source": [
    "import warnings\n",
    "warnings.filterwarnings(\"ignore\")\n",
    "\n",
    "import pandas as pd\n",
    "import numpy as np\n",
    "import matplotlib.pyplot as plt\n",
    "from sklearn.ensemble import RandomForestRegressor\n",
    "from sklearn.metrics import r2_score"
   ]
  },
  {
   "cell_type": "code",
   "execution_count": 2,
   "id": "0d99d987-4126-4e4c-ba17-55a7bad0d890",
   "metadata": {},
   "outputs": [],
   "source": [
    "dataset = pd.read_csv('/Users/csuen/Desktop/Sun-NG-24/radicals/UKESM1-0-LL_2010_2014(ver231212).csv')"
   ]
  },
  {
   "cell_type": "code",
   "execution_count": 3,
   "id": "93e7b247-4fe9-46c1-9e0d-d7d57eb879a6",
   "metadata": {},
   "outputs": [
    {
     "data": {
      "text/plain": [
       "['longitude',\n",
       " 'latitude',\n",
       " 't',\n",
       " 'loc',\n",
       " 'o3',\n",
       " 'o3prod',\n",
       " 'o3loss',\n",
       " 'eminox',\n",
       " 'emivoc',\n",
       " 'tas',\n",
       " 'hus',\n",
       " 'aod',\n",
       " 'bldep',\n",
       " 'ua',\n",
       " 'va',\n",
       " 'ps',\n",
       " 'jno2',\n",
       " 'photo1d',\n",
       " 'lossch4',\n",
       " 'lossco',\n",
       " 'no2',\n",
       " 'no',\n",
       " 'oh',\n",
       " 'h2o',\n",
       " 'pan',\n",
       " 'hno3',\n",
       " 'co',\n",
       " 'hcho',\n",
       " 'ch4',\n",
       " 'ch3o2_mod',\n",
       " 'ho2_mod',\n",
       " 'o1d_mod',\n",
       " 'o3_mole',\n",
       " 'no2_mole',\n",
       " 'no_mole',\n",
       " 'h2o_mole',\n",
       " 'co_mole',\n",
       " 'hcho_mole',\n",
       " 'oh_mole',\n",
       " 'n2_mole',\n",
       " 'o2_mole',\n",
       " 'lossco_mole',\n",
       " 'lossch4_mole',\n",
       " 'o1d_mole',\n",
       " 'ho2_mole',\n",
       " 'ch3o2_mole',\n",
       " 'ch3ooh_mole',\n",
       " 'o1d_mod_vmr',\n",
       " 'ho2_mod_vmr',\n",
       " 'ch3o2_mod_vmr',\n",
       " 'o1d_vmr',\n",
       " 'ho2_vmr',\n",
       " 'ch3o2_vmr',\n",
       " 'o1d_mod_mole',\n",
       " 'ho2_mod_mole',\n",
       " 'ch3o2_mod_mole',\n",
       " 'o1d_mole_adj',\n",
       " 'ho2_mole_adj',\n",
       " 'ch3o2_mole_adj',\n",
       " 'k1',\n",
       " 'k2',\n",
       " 'k3',\n",
       " 'k4',\n",
       " 'k5',\n",
       " 'k6',\n",
       " 'k7',\n",
       " 'k8',\n",
       " 'k9',\n",
       " 'k9a',\n",
       " 'k9b',\n",
       " 'k10',\n",
       " 'k11',\n",
       " 'k12',\n",
       " 'k13',\n",
       " 'k14',\n",
       " 'k15',\n",
       " 'k15a',\n",
       " 'k15b',\n",
       " 'k16',\n",
       " 'pt1',\n",
       " 'pt2',\n",
       " 'pt4',\n",
       " 'pt5',\n",
       " 'pt6',\n",
       " 'o3prod_mole',\n",
       " 'o3loss_mole',\n",
       " 'pt3',\n",
       " 'pt7',\n",
       " 'pt3_adj',\n",
       " 'pt7_adj',\n",
       " 'o3prod_mole_adj',\n",
       " 'o3loss_mole_adj',\n",
       " 'prop_pt1',\n",
       " 'prop_pt2',\n",
       " 'prop_pt3',\n",
       " 'prop_pt4',\n",
       " 'prop_pt5',\n",
       " 'prop_pt6',\n",
       " 'prop_pt7',\n",
       " 'diag_ch3o2_ch4',\n",
       " 'ch4_mole',\n",
       " 'o1d_vmr_adj',\n",
       " 'ho2_vmr_adj',\n",
       " 'ch3o2_vmr_adj',\n",
       " 'month',\n",
       " 'o1d_photo_prod',\n",
       " 'o1d_n2_loss',\n",
       " 'o1d_o2_loss',\n",
       " 'o1d_h2o_loss',\n",
       " 'oh_o1d_h2o_prod',\n",
       " 'oh_ho2_no_prod',\n",
       " 'oh_ho2_o3_prod',\n",
       " 'oh_co_loss',\n",
       " 'oh_ch4_loss',\n",
       " 'oh_hcho_loss',\n",
       " 'oh_ho2_loss',\n",
       " 'oh_o3_loss',\n",
       " 'oh_ch3ooh_loss',\n",
       " 'ho2_co_oh_prod',\n",
       " 'ho2_ch3o2_no_prod',\n",
       " 'ho2_oh_hcho_prod',\n",
       " 'ho2_oh_o3_prod',\n",
       " 'ho2_no_loss',\n",
       " 'ho2_o3_loss',\n",
       " 'ho2_ch3o2_loss',\n",
       " 'ho2_ho2_loss',\n",
       " 'ho2_oh_loss',\n",
       " 'ch3o2_oh_ch4_prod',\n",
       " 'ch3o2_oh_ch3ooh_prod',\n",
       " 'ch3o2_no_loss',\n",
       " 'ch3o2_ho2_loss',\n",
       " 'ch3o2_ch3o2_loss']"
      ]
     },
     "execution_count": 3,
     "metadata": {},
     "output_type": "execute_result"
    }
   ],
   "source": [
    "list(dataset)"
   ]
  },
  {
   "cell_type": "code",
   "execution_count": 4,
   "id": "f5c5f654-238d-4e38-8702-2f59230f3dc7",
   "metadata": {},
   "outputs": [],
   "source": [
    "land = pd.read_csv('/Users/csuen/Documents/GitHub/ozone-budget/global_grid_2x2_label_continent.csv')\n",
    "dataset_land = dataset.merge(land, how='left', left_on=['longitude','latitude'], right_on=['longitude','latitude'])\n",
    "dataset_land = dataset_land[dataset_land['land_global']==1]"
   ]
  },
  {
   "cell_type": "code",
   "execution_count": 17,
   "id": "bafe329a-22a7-4a84-b25e-7e8e5204034c",
   "metadata": {},
   "outputs": [
    {
     "data": {
      "text/plain": [
       "0.9861025172337003"
      ]
     },
     "execution_count": 17,
     "metadata": {},
     "output_type": "execute_result"
    }
   ],
   "source": [
    "model = RandomForestRegressor()\n",
    "y = dataset_land['o1d_mod_mole']\n",
    "X = dataset_land[['o1d_mole']]\n",
    "model.fit(X,y)\n",
    "y_pred = model.predict(X)\n",
    "r2_score(y, y_pred)"
   ]
  },
  {
   "cell_type": "code",
   "execution_count": 18,
   "id": "b5d2c766-d70c-4997-bc5a-2aa3fa110e00",
   "metadata": {},
   "outputs": [
    {
     "data": {
      "text/plain": [
       "<matplotlib.collections.PathCollection at 0x7f9bd3905fa0>"
      ]
     },
     "execution_count": 18,
     "metadata": {},
     "output_type": "execute_result"
    },
    {
     "data": {
      "image/png": "[encoded data removed]",
      "text/plain": [
       "<Figure size 640x480 with 1 Axes>"
      ]
     },
     "metadata": {},
     "output_type": "display_data"
    }
   ],
   "source": [
    "plt.scatter(y, y_pred)"
   ]
  },
  {
   "cell_type": "code",
   "execution_count": 19,
   "id": "8e30edd0-7d9b-48fb-91af-74d0c54c78c9",
   "metadata": {},
   "outputs": [],
   "source": [
    "dataset_land['o1d_approx'] = y_pred"
   ]
  },
  {
   "cell_type": "code",
   "execution_count": 8,
   "id": "e679098f-01d0-4378-9c88-48760ade9b64",
   "metadata": {},
   "outputs": [
    {
     "data": {
      "text/plain": [
       "0.9643858982770874"
      ]
     },
     "execution_count": 8,
     "metadata": {},
     "output_type": "execute_result"
    }
   ],
   "source": [
    "model = RandomForestRegressor()\n",
    "y = dataset_land['ho2_mod_mole']\n",
    "X = dataset_land[['ho2_mole','co_mole','lossco_mole']]\n",
    "model.fit(X,y)\n",
    "y_pred = model.predict(X)\n",
    "r2_score(y, y_pred)"
   ]
  },
  {
   "cell_type": "code",
   "execution_count": 9,
   "id": "c56a0ad3-9c4e-44e5-933f-2b50bc359c90",
   "metadata": {},
   "outputs": [
    {
     "data": {
      "text/plain": [
       "<matplotlib.collections.PathCollection at 0x7f9ba6828b50>"
      ]
     },
     "execution_count": 9,
     "metadata": {},
     "output_type": "execute_result"
    },
    {
     "data": {
      "image/png": "[encoded data removed]",
      "text/plain": [
       "<Figure size 640x480 with 1 Axes>"
      ]
     },
     "metadata": {},
     "output_type": "display_data"
    }
   ],
   "source": [
    "plt.scatter(y, y_pred)"
   ]
  },
  {
   "cell_type": "code",
   "execution_count": 10,
   "id": "7c5d4206-963a-42fe-a88b-423f3f200886",
   "metadata": {},
   "outputs": [],
   "source": [
    "dataset_land['ho2_approx'] = y_pred"
   ]
  },
  {
   "cell_type": "code",
   "execution_count": 11,
   "id": "55a8b4c9-b66c-4fe3-a4c5-6a53fd315d21",
   "metadata": {},
   "outputs": [
    {
     "data": {
      "text/plain": [
       "0.9775165593189697"
      ]
     },
     "execution_count": 11,
     "metadata": {},
     "output_type": "execute_result"
    }
   ],
   "source": [
    "model = RandomForestRegressor()\n",
    "y = dataset_land['ch3o2_mod_mole']\n",
    "X = dataset_land[['ch3o2_mole','ch4_mole']]\n",
    "model.fit(X,y)\n",
    "y_pred = model.predict(X)\n",
    "r2_score(y, y_pred)"
   ]
  },
  {
   "cell_type": "code",
   "execution_count": 12,
   "id": "b656d144-e95f-4364-8e8a-80c53816180e",
   "metadata": {},
   "outputs": [
    {
     "data": {
      "text/plain": [
       "<matplotlib.collections.PathCollection at 0x7f9bd87ba250>"
      ]
     },
     "execution_count": 12,
     "metadata": {},
     "output_type": "execute_result"
    },
    {
     "data": {
      "image/png": "[encoded data removed]",
      "text/plain": [
       "<Figure size 640x480 with 1 Axes>"
      ]
     },
     "metadata": {},
     "output_type": "display_data"
    }
   ],
   "source": [
    "plt.scatter(y, y_pred)"
   ]
  },
  {
   "cell_type": "code",
   "execution_count": 13,
   "id": "a2941c82-4b9e-4a10-b84e-2704c4c2a583",
   "metadata": {},
   "outputs": [],
   "source": [
    "dataset_land['ch3o2_approx'] = y_pred"
   ]
  },
  {
   "cell_type": "code",
   "execution_count": 20,
   "id": "f95ed66c-c685-4edc-9a99-a364dd17d69b",
   "metadata": {},
   "outputs": [],
   "source": [
    "dataset_neat = dataset_land[['longitude','latitude','t',\n",
    "                             'o1d_mod_mole','ho2_mod_mole','ch3o2_mod_mole',\n",
    "                             'o1d_approx','ho2_approx','ch3o2_approx']]\n",
    "\n",
    "dataset_neat.to_csv('/Users/csuen/Documents/GitHub/ozone-radical/Extended Data Fig. 2/Extended Data Fig. 2 radical evaluation.csv', index=False)"
   ]
  },
  {
   "cell_type": "code",
   "execution_count": null,
   "id": "814d942b-7215-45c3-9f60-87056e174388",
   "metadata": {},
   "outputs": [],
   "source": []
  }
 ],
 "metadata": {
  "kernelspec": {
   "display_name": "Python 3 (ipykernel)",
   "language": "python",
   "name": "python3"
  },
  "language_info": {
   "codemirror_mode": {
    "name": "ipython",
    "version": 3
   },
   "file_extension": ".py",
   "mimetype": "text/x-python",
   "name": "python",
   "nbconvert_exporter": "python",
   "pygments_lexer": "ipython3",
   "version": "3.8.18"
  }
 },
 "nbformat": 4,
 "nbformat_minor": 5
}
