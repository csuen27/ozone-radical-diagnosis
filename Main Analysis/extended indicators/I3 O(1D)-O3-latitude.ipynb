{
 "cells": [
  {
   "cell_type": "code",
   "execution_count": 1,
   "id": "55066051-0383-4137-af94-4348298da941",
   "metadata": {},
   "outputs": [],
   "source": [
    "import warnings\n",
    "warnings.filterwarnings(\"ignore\")\n",
    "\n",
    "import pandas as pd\n",
    "import numpy as np\n",
    "import matplotlib.pyplot as plt\n",
    "plt.rcParams['font.sans-serif']=['Arial']\n",
    "\n",
    "from sklearn.linear_model import LinearRegression\n",
    "from sklearn.metrics import r2_score"
   ]
  },
  {
   "cell_type": "code",
   "execution_count": 2,
   "id": "02b45621-2260-4ede-a082-7fe2c4fae027",
   "metadata": {},
   "outputs": [],
   "source": [
    "data = pd.read_csv('/Users/csuen/Desktop/Sun-NG-24/radicals/representative regions/UKESM1-0-LL_2010_2014_representative_regions(ver240113).csv')"
   ]
  },
  {
   "cell_type": "code",
   "execution_count": 3,
   "id": "546527f9-60bc-4aaa-9684-dfadf008f0d9",
   "metadata": {},
   "outputs": [],
   "source": [
    "data['o3_o1d']    = data['o3_mole']/data['o1d_mole']\n",
    "data['cos_lat']   = np.cos(data['latitude']/180*np.pi)\n",
    "data['h2o_jo3']   = data['h2o_mole']/data['photo1d']\n",
    "data['ln_h2o']    = np.log(data['h2o_mole'])\n",
    "data['ln_o3_o1d'] = np.log(data['o3_o1d'])"
   ]
  },
  {
   "cell_type": "code",
   "execution_count": 4,
   "id": "f7aa0fcf-4c26-4572-97a9-77cfc9d61118",
   "metadata": {},
   "outputs": [],
   "source": [
    "o3_o1d_region_mean = data.groupby(['region']).mean()['o3_o1d']\n",
    "o3_o1d_region_std = data.groupby(['region']).std()['o3_o1d']\n",
    "o3_o1d_region_ct = data.groupby(['region']).count()['o3_o1d']\n",
    "o3_o1d_region_ste = o3_o1d_region_std/np.sqrt(o3_o1d_region_ct/5)\n",
    "\n",
    "cos_lat_region_mean = data.groupby(['region']).mean()['cos_lat']\n",
    "cos_lat_region_std = data.groupby(['region']).std()['cos_lat']\n",
    "cos_lat_region_ct = data.groupby(['region']).count()['cos_lat']\n",
    "cos_lat_region_ste = cos_lat_region_std/np.sqrt(cos_lat_region_ct/5)\n",
    "\n",
    "h2o_jo3_region_mean = data.groupby(['region']).mean()['h2o_jo3']\n",
    "h2o_jo3_region_std = data.groupby(['region']).std()['h2o_jo3']\n",
    "h2o_jo3_region_ct = data.groupby(['region']).count()['h2o_jo3']\n",
    "h2o_jo3_region_ste = h2o_jo3_region_std/np.sqrt(h2o_jo3_region_ct/5)\n",
    "\n",
    "ln_h2o_region_mean = data.groupby(['region']).mean()['ln_h2o']\n",
    "ln_h2o_region_std = data.groupby(['region']).std()['ln_h2o']\n",
    "ln_h2o_region_ct = data.groupby(['region']).count()['ln_h2o']\n",
    "ln_h2o_region_ste = ln_h2o_region_std/np.sqrt(ln_h2o_region_ct/5)\n",
    "\n",
    "ln_o3_o1d_region_mean = data.groupby(['region']).mean()['ln_o3_o1d']\n",
    "ln_o3_o1d_region_std = data.groupby(['region']).std()['ln_o3_o1d']\n",
    "ln_o3_o1d_region_ct = data.groupby(['region']).count()['ln_o3_o1d']\n",
    "ln_o3_o1d_region_ste = ln_o3_o1d_region_std/np.sqrt(ln_o3_o1d_region_ct/5)"
   ]
  },
  {
   "cell_type": "code",
   "execution_count": 5,
   "id": "4e695b89-075e-4c15-bb37-a7b7592aeb8d",
   "metadata": {},
   "outputs": [],
   "source": [
    "o1d = pd.DataFrame()\n",
    "o1d['o3_o1d_mean'] = o3_o1d_region_mean\n",
    "o1d['o3_o1d_ste'] = o3_o1d_region_ste\n",
    "o1d['h2o_jo3_mean'] = h2o_jo3_region_mean\n",
    "o1d['h2o_jo3_ste'] = h2o_jo3_region_ste\n",
    "o1d['ln_h2o_mean'] = ln_h2o_region_mean\n",
    "o1d['ln_h2o_ste'] = ln_h2o_region_ste\n",
    "o1d['ln_o3_o1d_mean'] = ln_o3_o1d_region_mean\n",
    "o1d['ln_o3_o1d_ste'] = ln_o3_o1d_region_ste\n",
    "o1d['cos_lat_mean'] = cos_lat_region_mean\n",
    "o1d['cos_lat_ste'] = cos_lat_region_ste"
   ]
  },
  {
   "cell_type": "code",
   "execution_count": 10,
   "id": "74d8d0b8-4c1c-49bc-9119-0cbd82e69f6f",
   "metadata": {},
   "outputs": [
    {
     "name": "stdout",
     "output_type": "stream",
     "text": [
      "[-5.44975339]\n",
      "37.30239058784115\n",
      "0.9356833271581518\n"
     ]
    }
   ],
   "source": [
    "mod = LinearRegression()\n",
    "X = o1d[['cos_lat_mean']]\n",
    "y = o1d['ln_o3_o1d_mean']\n",
    "mod.fit(X,y)\n",
    "y_pred = mod.predict(X)\n",
    "print(mod.coef_)\n",
    "print(mod.intercept_)\n",
    "print(r2_score(y, y_pred))\n",
    "a = mod.coef_\n",
    "b = mod.intercept_"
   ]
  },
  {
   "cell_type": "code",
   "execution_count": 7,
   "id": "427f4d6a-91ae-4dc7-a1c9-c466e0e4510a",
   "metadata": {},
   "outputs": [
    {
     "data": {
      "text/plain": [
       "([<matplotlib.axis.XTick at 0x7fe7ea32c7f0>,\n",
       "  <matplotlib.axis.XTick at 0x7fe7ea32c7c0>,\n",
       "  <matplotlib.axis.XTick at 0x7fe7ea32c2b0>,\n",
       "  <matplotlib.axis.XTick at 0x7fe7ea3c1880>,\n",
       "  <matplotlib.axis.XTick at 0x7fe7ea3c9370>,\n",
       "  <matplotlib.axis.XTick at 0x7fe7ea3b9610>],\n",
       " [Text(0.5, 0, '0.5'),\n",
       "  Text(0.6, 0, '0.6'),\n",
       "  Text(0.7, 0, '0.7'),\n",
       "  Text(0.8, 0, '0.8'),\n",
       "  Text(0.9, 0, '0.9'),\n",
       "  Text(1.0, 0, '1.0')])"
      ]
     },
     "execution_count": 7,
     "metadata": {},
     "output_type": "execute_result"
    },
    {
     "data": {
      "image/png": "[encoded data removed]",
      "text/plain": [
       "<Figure size 300x300 with 1 Axes>"
      ]
     },
     "metadata": {},
     "output_type": "display_data"
    }
   ],
   "source": [
    "fig, ax = plt.subplots(figsize=(4, 4), dpi=75)\n",
    "x_values = o1d['cos_lat_mean']\n",
    "y_values = o1d['ln_o3_o1d_mean']*10**(-1)\n",
    "x_errors = o1d['cos_lat_ste']\n",
    "y_errors = o1d['ln_o3_o1d_ste']*10**(-1)\n",
    "\n",
    "plt.errorbar(x_values, y_values, xerr=x_errors, yerr=y_errors, \n",
    "             fmt=\"o\", ecolor=\"grey\", elinewidth=0.5, capsize=None, mfc='gold', mec='black', ms=12, alpha=1, mew=0.75)\n",
    "\n",
    "plt.yticks([3.2, 3.3, 3.4, 3.5], fontsize=12)\n",
    "plt.xticks([0.5, 0.6, 0.7, 0.8, 0.9, 1.0], fontsize=12)"
   ]
  },
  {
   "cell_type": "code",
   "execution_count": 8,
   "id": "8baf5e8a-3c45-4b53-bba8-506ef95d6017",
   "metadata": {},
   "outputs": [
    {
     "data": {
      "text/plain": [
       "([<matplotlib.axis.XTick at 0x7fe7ea513cd0>,\n",
       "  <matplotlib.axis.XTick at 0x7fe7ea513c10>,\n",
       "  <matplotlib.axis.XTick at 0x7fe7ea5137c0>,\n",
       "  <matplotlib.axis.XTick at 0x7fe7ea4e9130>,\n",
       "  <matplotlib.axis.XTick at 0x7fe7ea415850>,\n",
       "  <matplotlib.axis.XTick at 0x7fe7ea41b340>],\n",
       " [Text(0.5, 0, '0.5'),\n",
       "  Text(0.6, 0, '0.6'),\n",
       "  Text(0.7, 0, '0.7'),\n",
       "  Text(0.8, 0, '0.8'),\n",
       "  Text(0.9, 0, '0.9'),\n",
       "  Text(1.0, 0, '1.0')])"
      ]
     },
     "execution_count": 8,
     "metadata": {},
     "output_type": "execute_result"
    },
    {
     "data": {
      "image/png": "[encoded data removed]",
      "text/plain": [
       "<Figure size 300x300 with 1 Axes>"
      ]
     },
     "metadata": {},
     "output_type": "display_data"
    }
   ],
   "source": [
    "fig, ax = plt.subplots(figsize=(4, 4), dpi=75)\n",
    "x_values = o1d['cos_lat_mean']\n",
    "y_values = o1d['o3_o1d_mean']*10**(-15)\n",
    "x_errors = o1d['cos_lat_ste']\n",
    "y_errors = o1d['o3_o1d_ste']*10**(-15)\n",
    "\n",
    "plt.errorbar(x_values, y_values, xerr=x_errors, yerr=y_errors, \n",
    "             fmt=\"o\", ecolor=\"grey\", elinewidth=0.5, capsize=None, mfc='gold', mec='black', ms=12, alpha=1, mew=0.75)\n",
    "\n",
    "plt.yticks([0, 2, 4, 6, 8], fontsize=12)\n",
    "plt.xticks([0.5, 0.6, 0.7, 0.8, 0.9, 1.0], fontsize=12)"
   ]
  },
  {
   "cell_type": "markdown",
   "id": "b44eeb56-7032-4f0f-8953-b1342dba3350",
   "metadata": {},
   "source": [
    "#### [O(${^1}$D)] linear approximation "
   ]
  },
  {
   "cell_type": "code",
   "execution_count": 16,
   "id": "7d141ca1-ba7d-4276-8558-81063a88f86e",
   "metadata": {},
   "outputs": [
    {
     "data": {
      "text/plain": [
       "0       0.003319\n",
       "1       0.003215\n",
       "2       0.003029\n",
       "3       0.002674\n",
       "4       0.002625\n",
       "          ...   \n",
       "9475    0.007087\n",
       "9476    0.007404\n",
       "9477    0.007113\n",
       "9478    0.006305\n",
       "9479    0.005558\n",
       "Length: 9480, dtype: float64"
      ]
     },
     "execution_count": 16,
     "metadata": {},
     "output_type": "execute_result"
    }
   ],
   "source": [
    "o1d_mole_pred = data['o3_mole']/(np.exp(b)*np.exp(a*data['cos_lat']))\n",
    "o1d_mole_pred"
   ]
  },
  {
   "cell_type": "code",
   "execution_count": 17,
   "id": "dbc7af57-734e-43b8-9345-428958a85477",
   "metadata": {},
   "outputs": [],
   "source": [
    "data['o1d_mole_pred'] = o1d_mole_pred"
   ]
  },
  {
   "cell_type": "code",
   "execution_count": 20,
   "id": "e9584399-eeb0-4f94-bdb6-b123f973cd71",
   "metadata": {},
   "outputs": [],
   "source": [
    "o1d_pred_region_mean = data.groupby(['region']).mean()['o1d_mole_pred']\n",
    "o1d_pred_region_std = data.groupby(['region']).std()['o1d_mole_pred']\n",
    "o1d_pred_region_ct = data.groupby(['region']).count()['o1d_mole_pred']\n",
    "o1d_pred_region_ste = o1d_pred_region_std/np.sqrt(o1d_pred_region_ct/5)\n",
    "\n",
    "o1d_mole_region_mean = data.groupby(['region']).mean()['o1d_mole']\n",
    "o1d_mole_region_std = data.groupby(['region']).std()['o1d_mole']\n",
    "o1d_mole_region_ct = data.groupby(['region']).count()['o1d_mole']\n",
    "o1d_mole_region_ste = o1d_mole_region_std/np.sqrt(o1d_mole_region_ct/5)"
   ]
  },
  {
   "cell_type": "code",
   "execution_count": 21,
   "id": "356dfacf-8f51-46e4-9679-cdc2495349f7",
   "metadata": {},
   "outputs": [],
   "source": [
    "o1d['o1d_pred_mean'] = o1d_pred_region_mean\n",
    "o1d['o1d_pred_ste'] = o1d_pred_region_ste\n",
    "\n",
    "o1d['o1d_mole_mean'] = o1d_mole_region_mean\n",
    "o1d['o1d_mole_ste'] = o1d_mole_region_ste"
   ]
  },
  {
   "cell_type": "code",
   "execution_count": 23,
   "id": "f4b15bc2-4d39-47a8-8627-0cfeb97e41c9",
   "metadata": {},
   "outputs": [
    {
     "data": {
      "text/plain": [
       "([<matplotlib.axis.XTick at 0x7fe7ee50ba90>,\n",
       "  <matplotlib.axis.XTick at 0x7fe7ee50ba60>,\n",
       "  <matplotlib.axis.XTick at 0x7fe7ee50b550>,\n",
       "  <matplotlib.axis.XTick at 0x7fe7ee5697c0>,\n",
       "  <matplotlib.axis.XTick at 0x7fe7ee55a2b0>,\n",
       "  <matplotlib.axis.XTick at 0x7fe7ee55ad60>],\n",
       " [Text(0, 0, '0'),\n",
       "  Text(5, 0, '5'),\n",
       "  Text(10, 0, '10'),\n",
       "  Text(15, 0, '15'),\n",
       "  Text(20, 0, '20'),\n",
       "  Text(25, 0, '25')])"
      ]
     },
     "execution_count": 23,
     "metadata": {},
     "output_type": "execute_result"
    },
    {
     "data": {
      "image/png": "[encoded data removed]",
      "text/plain": [
       "<Figure size 300x300 with 1 Axes>"
      ]
     },
     "metadata": {},
     "output_type": "display_data"
    }
   ],
   "source": [
    "fig, ax = plt.subplots(figsize=(4, 4), dpi=75)\n",
    "x_values = o1d['o1d_pred_mean']*10**3\n",
    "y_values = o1d['o1d_mole_mean']*10**3\n",
    "x_errors = o1d['o1d_pred_ste']*10**3\n",
    "y_errors = o1d['o1d_mole_ste']*10**3\n",
    "\n",
    "plt.errorbar(x_values, y_values, xerr=x_errors, yerr=y_errors, \n",
    "             fmt=\"o\", ecolor=\"grey\", elinewidth=0.5, capsize=None, mfc='gold', mec='black', ms=12, alpha=1, mew=0.75)\n",
    "\n",
    "plt.yticks([0, 5, 10, 15, 20, 25], fontsize=12)\n",
    "plt.xticks([0, 5, 10, 15, 20, 25], fontsize=12)"
   ]
  },
  {
   "cell_type": "code",
   "execution_count": null,
   "id": "fb2d8be6-970d-4d92-9579-ddd378e1481a",
   "metadata": {},
   "outputs": [],
   "source": []
  }
 ],
 "metadata": {
  "kernelspec": {
   "display_name": "Python 3 (ipykernel)",
   "language": "python",
   "name": "python3"
  },
  "language_info": {
   "codemirror_mode": {
    "name": "ipython",
    "version": 3
   },
   "file_extension": ".py",
   "mimetype": "text/x-python",
   "name": "python",
   "nbconvert_exporter": "python",
   "pygments_lexer": "ipython3",
   "version": "3.8.18"
  }
 },
 "nbformat": 4,
 "nbformat_minor": 5
}
