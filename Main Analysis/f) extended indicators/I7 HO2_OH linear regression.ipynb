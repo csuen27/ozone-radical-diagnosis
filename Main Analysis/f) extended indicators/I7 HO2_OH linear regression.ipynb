{
 "cells": [
  {
   "cell_type": "code",
   "execution_count": 1,
   "id": "3612b025-5a28-4f34-aa3d-268adc726939",
   "metadata": {},
   "outputs": [],
   "source": [
    "import warnings\n",
    "warnings.filterwarnings(\"ignore\")\n",
    "\n",
    "import pandas as pd\n",
    "import numpy as np\n",
    "import matplotlib.pyplot as plt\n",
    "plt.rcParams['font.sans-serif']=['Arial']\n",
    "\n",
    "from sklearn.linear_model import LinearRegression\n",
    "from sklearn.ensemble import RandomForestRegressor\n",
    "from sklearn.metrics import r2_score\n",
    "import statsmodels.api as sm"
   ]
  },
  {
   "cell_type": "code",
   "execution_count": 2,
   "id": "2b819e81-8990-41e5-907b-8e7bb0352773",
   "metadata": {},
   "outputs": [],
   "source": [
    "data = pd.read_csv('/Users/csuen/Desktop/Sun-NG-24/radicals/representative regions/UKESM1-0-LL_2010_2014_representative_regions(ver240113).csv')"
   ]
  },
  {
   "cell_type": "markdown",
   "id": "9da2604d-bf12-4c45-95f9-cdc81f311ba1",
   "metadata": {},
   "source": [
    "#### Calculate dynamic regression "
   ]
  },
  {
   "cell_type": "code",
   "execution_count": 3,
   "id": "eda1586f-6147-48ab-911e-58dacd027fed",
   "metadata": {},
   "outputs": [],
   "source": [
    "d_ho2_oh_beta = data.groupby('region').apply(lambda g: sm.OLS(g['ho2_mole'], g[['oh_mole']]).fit().params)\n",
    "d_ho2_oh_ste = data.groupby('region').apply(lambda g: sm.OLS(g['ho2_mole'], g[['oh_mole']]).fit().HC0_se)"
   ]
  },
  {
   "cell_type": "markdown",
   "id": "8319094c-2d83-4e4c-ae4d-df2abf8588a7",
   "metadata": {},
   "source": [
    "#### Calculate features"
   ]
  },
  {
   "cell_type": "code",
   "execution_count": 4,
   "id": "b1396a32-3da6-4c69-8228-dc50d19c2790",
   "metadata": {},
   "outputs": [],
   "source": [
    "a = data['k5'].mean()\n",
    "#b = data['k8'].mean()\n",
    "b = 6.34*10**(-15)\n",
    "c = data['k6'].mean()\n",
    "\n",
    "data['c'] = data['co_mole']*a/c + data['hcho_mole']\n",
    "#data['c'] = data['co_mole'] + data['hcho_mole']\n",
    "#data['c'] = data['co_mole']\n",
    "data['co_hcho__no'] = data['c']/data['no_mole']\n",
    "feat = data.groupby('region').mean()[['co_hcho__no']]\n",
    "feat = pd.DataFrame(feat)\n",
    "feat_std = data.groupby('region').std()['co_hcho__no']\n",
    "feat_ct = data.groupby('region').count()['co_hcho__no']\n",
    "feat_ste = pd.DataFrame(feat_std/np.sqrt(feat_ct/5))"
   ]
  },
  {
   "cell_type": "code",
   "execution_count": 5,
   "id": "4c31264d-679f-454f-8302-cedc9f16a9b8",
   "metadata": {},
   "outputs": [
    {
     "name": "stdout",
     "output_type": "stream",
     "text": [
      "0.016541058647675896\n"
     ]
    }
   ],
   "source": [
    "print(a/c)"
   ]
  },
  {
   "cell_type": "code",
   "execution_count": 5,
   "id": "d51ff459-c0ad-408d-873c-072f035517bb",
   "metadata": {},
   "outputs": [],
   "source": [
    "mod = LinearRegression()\n",
    "X = feat[['co_hcho__no']]\n",
    "y = d_ho2_oh_beta['oh_mole']\n",
    "mod.fit(X,y)\n",
    "y_pred = mod.predict(X)"
   ]
  },
  {
   "cell_type": "code",
   "execution_count": 6,
   "id": "aa4bebe2-44fa-439d-8209-2638d29be165",
   "metadata": {},
   "outputs": [],
   "source": [
    "d_ho2_oh_beta['beta_adj'] = d_ho2_oh_beta['oh_mole']*0.5 + y_pred*0.5\n",
    "d_ho2_oh_beta['co_hcho__no'] = feat['co_hcho__no']\n",
    "d_ho2_oh_beta['beta_adj_ste'] = d_ho2_oh_ste\n",
    "d_ho2_oh_beta['co_hcho__no_ste'] = feat_ste"
   ]
  },
  {
   "cell_type": "code",
   "execution_count": 13,
   "id": "45527e85-3b95-413d-923e-c2e7170d839c",
   "metadata": {},
   "outputs": [
    {
     "data": {
      "text/plain": [
       "([<matplotlib.axis.XTick at 0x7fe53ec78160>,\n",
       "  <matplotlib.axis.XTick at 0x7fe53ec78130>,\n",
       "  <matplotlib.axis.XTick at 0x7fe53ec72df0>,\n",
       "  <matplotlib.axis.XTick at 0x7fe53ed3bbb0>],\n",
       " [Text(0, 0, '0'), Text(2, 0, '2'), Text(4, 0, '4'), Text(6, 0, '6')])"
      ]
     },
     "execution_count": 13,
     "metadata": {},
     "output_type": "execute_result"
    },
    {
     "data": {
      "image/png": "[encoded data removed]",
      "text/plain": [
       "<Figure size 300x300 with 1 Axes>"
      ]
     },
     "metadata": {},
     "output_type": "display_data"
    }
   ],
   "source": [
    "fig, ax = plt.subplots(figsize=(4, 4), dpi=75)\n",
    "x_values = np.log(d_ho2_oh_beta['beta_adj'])\n",
    "y_values = np.log(d_ho2_oh_beta['co_hcho__no'])\n",
    "x_errors = (d_ho2_oh_beta['beta_adj_ste'])**0.5\n",
    "y_errors = (d_ho2_oh_beta['co_hcho__no_ste'])**0.5\n",
    "\n",
    "plt.errorbar(x_values, y_values, xerr=x_errors, yerr=y_errors, \n",
    "             fmt=\"o\", ecolor=\"grey\", elinewidth=0.5, capsize=None, mfc='plum', mec='black', ms=12, alpha=1, mew=0.75)\n",
    "\n",
    "plt.xlim([-1,7])\n",
    "plt.ylim([-2,6])\n",
    "plt.yticks([-1,1,3,5], fontsize=12)\n",
    "plt.xticks([0,2,4,6], fontsize=12)"
   ]
  },
  {
   "cell_type": "code",
   "execution_count": 8,
   "id": "52f1bcc0-3dea-4a9e-845a-4f572fed824f",
   "metadata": {},
   "outputs": [],
   "source": [
    "d_ho2_oh_beta = d_ho2_oh_beta[['beta_adj', 'beta_adj_ste', 'co_hcho__no', 'co_hcho__no_ste']]\n",
    "d_ho2_oh_beta['ln_beta_adj'] = np.log(d_ho2_oh_beta['beta_adj'])\n",
    "d_ho2_oh_beta['ln_co_hcho__no'] = np.log(d_ho2_oh_beta['co_hcho__no'])\n",
    "d_ho2_oh_beta['ln_beta_adj_ste'] = np.log(d_ho2_oh_beta['beta_adj_ste'])\n",
    "d_ho2_oh_beta['ln_co_hcho__no_ste'] = np.log(d_ho2_oh_beta['co_hcho__no_ste'])\n",
    "\n",
    "d_ho2_oh_beta.to_csv('I7 HO2_OH.csv')"
   ]
  }
 ],
 "metadata": {
  "kernelspec": {
   "display_name": "Python 3 (ipykernel)",
   "language": "python",
   "name": "python3"
  },
  "language_info": {
   "codemirror_mode": {
    "name": "ipython",
    "version": 3
   },
   "file_extension": ".py",
   "mimetype": "text/x-python",
   "name": "python",
   "nbconvert_exporter": "python",
   "pygments_lexer": "ipython3",
   "version": "3.8.18"
  }
 },
 "nbformat": 4,
 "nbformat_minor": 5
}
