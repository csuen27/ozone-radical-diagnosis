{
 "cells": [
  {
   "cell_type": "code",
   "execution_count": 1,
   "id": "f8e7fcf8-1fb6-4c50-bcfb-049303c284cc",
   "metadata": {},
   "outputs": [],
   "source": [
    "import warnings\n",
    "warnings.filterwarnings(\"ignore\")\n",
    "\n",
    "import pandas as pd\n",
    "import numpy as np\n",
    "import matplotlib.pyplot as plt\n",
    "\n",
    "dataset = pd.read_csv('D://Research/radicals/UKESM1-0-LL_2010_2014(ver240109).csv')"
   ]
  },
  {
   "cell_type": "code",
   "execution_count": 2,
   "id": "5e27f884-df00-4e04-8d08-f18daf44b971",
   "metadata": {},
   "outputs": [],
   "source": [
    "dataset['k1'] = 2.15*10**(-11)*np.exp(110/dataset['tas'])\n",
    "dataset['k2'] = 3.30*10**(-11)*np.exp(55/dataset['tas'])\n",
    "dataset['k3'] = 1.63*10**(-10)*np.exp(60/dataset['tas'])\n",
    "dataset['k4'] = 4.30*10**(-32)*(dataset['tas']/300)**(-1.2)*dataset['n2_mole']\n",
    "#dataset['k4'] = 1.00*10**(-12)\n",
    "dataset['k5'] = 1.44*10**(-13)\n",
    "\n",
    "dataset['k6'] = 5.40*10**(-12)*np.exp(135/dataset['tas'])\n",
    "dataset['k7'] = 1.70*10**(-12)*np.exp(-940/dataset['tas'])\n",
    "dataset['k8'] = 2.45*10**(-12)*np.exp(-600/dataset['tas'])\n",
    "dataset['k9'] = 4.01*10**(-12)*np.exp(190/dataset['tas'])\n",
    "dataset['k9a'] = 2.12*10**(-12)*np.exp(190/dataset['tas'])\n",
    "dataset['k9b'] = 1.89*10**(-12)*np.exp(190/dataset['tas'])\n",
    "\n",
    "dataset['k10'] = 3.30*10**(-12)*np.exp(270/dataset['tas'])\n",
    "dataset['k11'] = 2.03*10**(-16)*(dataset['tas']/300)**4.57*np.exp(693/dataset['tas'])\n",
    "dataset['k12'] = 3.00*10**(-13)*np.exp(460/dataset['tas'])\n",
    "dataset['k13'] = 4.80*10**(-11)*np.exp(250/dataset['tas'])\n",
    "\n",
    "dataset['k14'] = 2.30*10**(-12)*np.exp(360/dataset['tas'])\n",
    "dataset['k15'] = 3.80*10**(-13)*np.exp(780/dataset['tas'])\n",
    "dataset['k15a'] = dataset['k15']/(1+498*np.exp(-1160/dataset['tas']))\n",
    "dataset['k15b'] = dataset['k15']-dataset['k15a']\n",
    "dataset['k16'] = 1.03*10**(-13)*np.exp(365/dataset['tas'])\n",
    "\n",
    "dataset['k17'] = 6.90*10**(-12)*np.exp(-1000/dataset['tas'])\n",
    "dataset['k18'] = 2.55*10**(-12)*np.exp(380/dataset['tas'])\n",
    "dataset['k19'] = 6.40*10**(-13)*np.exp(710/dataset['tas'])\n",
    "dataset['k20'] = 7.60*10**(-12)*np.exp(-585/dataset['tas'])\n",
    "dataset['k21'] = 2.90*10**(-12)*np.exp(350/dataset['tas'])\n",
    "dataset['k22'] = 1.51*10**(-13)*np.exp(1300/dataset['tas'])\n",
    "dataset['k23'] = 2.70*10**(-11)*np.exp(390/dataset['tas'])\n",
    "#dataset['k24'] = 1.12*10**(-13)*np.exp(360/dataset['tas'])\n",
    "dataset['k24'] = 2.54*10**(-12)*np.exp(360/dataset['tas'])\n",
    "dataset['k25'] = 2.05*10**(-13)*np.exp(1300/dataset['tas'])\n",
    "dataset['k26'] = 2.00*10**(-12)\n",
    "dataset['k27'] = 9.99*10**(-15)*np.exp(-1995/dataset['tas'])"
   ]
  },
  {
   "cell_type": "code",
   "execution_count": 3,
   "id": "707707af-450d-4392-bac9-1606718a38f7",
   "metadata": {},
   "outputs": [],
   "source": [
    "dataset['pt1'] = dataset['k10']*dataset['ho2_mole']*dataset['no_mole']\n",
    "dataset['pt2'] = dataset['k14']*dataset['ch3o2_mole']*dataset['no_mole']\n",
    "dataset['pt3'] = dataset['o3prod_mole_stacked'] - dataset['pt1'] - dataset['pt2']\n",
    "\n",
    "dataset['pt4'] = dataset['k3']*dataset['o1d_mole']*dataset['h2o_mole']\n",
    "dataset['pt5'] = dataset['k7']*dataset['oh_mole']*dataset['o3_mole']\n",
    "dataset['pt6'] = dataset['k11']*dataset['ho2_mole']*dataset['o3_mole']\n",
    "dataset['pt7'] = dataset['o3loss_mole_stacked'] - dataset['pt4'] - dataset['pt5'] - dataset['pt6']"
   ]
  },
  {
   "cell_type": "code",
   "execution_count": 4,
   "id": "516dfc2b-eb91-414a-a5de-f9a833942973",
   "metadata": {},
   "outputs": [],
   "source": [
    "dataset['pt1_prop'] = dataset['pt1']/dataset['o3prod_mole_stacked']\n",
    "dataset['pt2_prop'] = dataset['pt2']/dataset['o3prod_mole_stacked']\n",
    "dataset['pt3_prop'] = dataset['pt3']/dataset['o3prod_mole_stacked']\n",
    "\n",
    "dataset['pt4_prop'] = dataset['pt4']/dataset['o3loss_mole_stacked']\n",
    "dataset['pt5_prop'] = dataset['pt5']/dataset['o3loss_mole_stacked']\n",
    "dataset['pt6_prop'] = dataset['pt6']/dataset['o3loss_mole_stacked']\n",
    "dataset['pt7_prop'] = dataset['pt7']/dataset['o3loss_mole_stacked']"
   ]
  },
  {
   "cell_type": "code",
   "execution_count": 5,
   "id": "cf654c3d-9d0f-42ed-b942-0c0f098cc92f",
   "metadata": {},
   "outputs": [
    {
     "name": "stdout",
     "output_type": "stream",
     "text": [
      "Global Land-Ocean Surface (LOS) budget average: \n",
      "HO₂+NO:     603500.0\n",
      "CH₃O₂+NO:   198200.0\n",
      "∑RO₂+NO:    883100.0\n",
      "Prod[O₃]:  1684800.0\n",
      "O[¹D]+H₂O:  374800.0\n",
      "O₃+OH:       64100.0\n",
      "O₃+HO₂:     144900.0\n",
      "∑O₃+VOCs:    55800.0\n",
      "Loss[O₃]:   639500.0\n"
     ]
    }
   ],
   "source": [
    "print(\"Global Land-Ocean Surface (LOS) budget average: \")\n",
    "print(\"HO₂+NO:     \"+str(np.round(dataset['pt1'].mean(),-2)))\n",
    "print(\"CH₃O₂+NO:   \"+str(np.round(dataset['pt2'].mean(),-2)))\n",
    "print(\"∑RO₂+NO:    \"+str(np.round(dataset['pt3'].mean(),-2)))\n",
    "print(\"Prod[O₃]:  \"+str(np.round(dataset['o3prod_mole_stacked'].mean(),-2)))\n",
    "print(\"O[¹D]+H₂O:  \"+str(np.round(dataset['pt4'].mean(),-2)))\n",
    "print(\"O₃+OH:       \"+str(np.round(dataset['pt5'].mean(),-2)))\n",
    "print(\"O₃+HO₂:     \"+str(np.round(dataset['pt6'].mean(),-2)))\n",
    "print(\"∑O₃+VOCs:    \"+str(np.round(dataset['pt7'].mean(),-2)))\n",
    "print(\"Loss[O₃]:   \"+str(np.round(dataset['o3loss_mole_stacked'].mean(),-2)))"
   ]
  },
  {
   "cell_type": "code",
   "execution_count": 6,
   "id": "7f1533f1-4370-4e70-a61f-31eee61b7a3a",
   "metadata": {},
   "outputs": [
    {
     "name": "stdout",
     "output_type": "stream",
     "text": [
      "Global Land-Ocean Surface (LOS) budget average percentage (%): \n",
      "HO₂+NO:     48.3 %\n",
      "CH₃O₂+NO:   36.8 %\n",
      "∑RO₂+NO:    14.9 %\n",
      "O[¹D]+H₂O:  43.9 %\n",
      "O₃+OH:      10.7 %\n",
      "O₃+HO₂:     40.5 %\n",
      "∑O₃+VOCs:    4.9 %\n"
     ]
    }
   ],
   "source": [
    "print(\"Global Land-Ocean Surface (LOS) budget average percentage (%): \")\n",
    "print(\"HO₂+NO:     \"+str(np.round(dataset['pt1_prop'].mean()*100,1))+\" %\")\n",
    "print(\"CH₃O₂+NO:   \"+str(np.round(dataset['pt2_prop'].mean()*100,1))+\" %\")\n",
    "print(\"∑RO₂+NO:    \"+str(np.round(dataset['pt3_prop'].mean()*100,1))+\" %\")\n",
    "print(\"O[¹D]+H₂O:  \"+str(np.round(dataset['pt4_prop'].mean()*100,1))+\" %\")\n",
    "print(\"O₃+OH:      \"+str(np.round(dataset['pt5_prop'].mean()*100,1))+\" %\")\n",
    "print(\"O₃+HO₂:     \"+str(np.round(dataset['pt6_prop'].mean()*100,1))+\" %\")\n",
    "print(\"∑O₃+VOCs:    \"+str(np.round(dataset['pt7_prop'].mean()*100,1))+\" %\")"
   ]
  },
  {
   "cell_type": "code",
   "execution_count": 7,
   "id": "a2e486db-fdc4-41cd-b27f-610b578d5512",
   "metadata": {},
   "outputs": [],
   "source": [
    "land = pd.read_csv('C://Users/Haitong/OneDrive - National University of Singapore/Documents/Manuscripts/Sun-NG-25/global_grid_2x2_label_continent.csv')\n",
    "dataset_land = dataset.merge(land, how='left', left_on=['longitude','latitude'], right_on=['longitude','latitude'])\n",
    "dataset_land = dataset_land[dataset_land['land_global']==1]"
   ]
  },
  {
   "cell_type": "code",
   "execution_count": 8,
   "id": "51bd34f9-9ddf-4765-b682-f312644514f5",
   "metadata": {},
   "outputs": [
    {
     "name": "stdout",
     "output_type": "stream",
     "text": [
      "Global Terrestrial Land Surface (TLS) budget average: \n",
      "HO₂+NO:     1354700.0\n",
      "CH₃O₂+NO:    275600.0\n",
      "∑RO₂+NO:    3304300.0\n",
      "Prod[O₃]:   4934700.0\n",
      "O[¹D]+H₂O:   453100.0\n",
      "O₃+OH:        91500.0\n",
      "O₃+HO₂:       74600.0\n",
      "∑O₃+VOCs:    216000.0\n",
      "Loss[O₃]:    835200.0\n"
     ]
    }
   ],
   "source": [
    "print(\"Global Terrestrial Land Surface (TLS) budget average: \")\n",
    "print(\"HO₂+NO:     \"+str(np.round(dataset_land['pt1'].mean(),-2)))\n",
    "print(\"CH₃O₂+NO:    \"+str(np.round(dataset_land['pt2'].mean(),-2)))\n",
    "print(\"∑RO₂+NO:    \"+str(np.round(dataset_land['pt3'].mean(),-2)))\n",
    "print(\"Prod[O₃]:   \"+str(np.round(dataset_land['o3prod_mole_stacked'].mean(),-2)))\n",
    "print(\"O[¹D]+H₂O:   \"+str(np.round(dataset_land['pt4'].mean(),-2)))\n",
    "print(\"O₃+OH:        \"+str(np.round(dataset_land['pt5'].mean(),-2)))\n",
    "print(\"O₃+HO₂:       \"+str(np.round(dataset_land['pt6'].mean(),-2)))\n",
    "print(\"∑O₃+VOCs:    \"+str(np.round(dataset_land['pt7'].mean(),-2)))\n",
    "print(\"Loss[O₃]:    \"+str(np.round(dataset_land['o3loss_mole_stacked'].mean(),-2)))"
   ]
  },
  {
   "cell_type": "code",
   "execution_count": 9,
   "id": "71b12d02-5799-462e-ba7f-12eeae6dc701",
   "metadata": {},
   "outputs": [
    {
     "name": "stdout",
     "output_type": "stream",
     "text": [
      "Global Terrestrial Land Surface (TLS) budget average percentage (%): \n",
      "HO₂+NO:     47.3 %\n",
      "CH₃O₂+NO:   12.6 %\n",
      "∑RO₂+NO:    40.2 %\n",
      "O[¹D]+H₂O:  48.4 %\n",
      "O₃+OH:      15.3 %\n",
      "O₃+HO₂:     19.1 %\n",
      "∑O₃+VOCs:   17.2 %\n"
     ]
    }
   ],
   "source": [
    "print(\"Global Terrestrial Land Surface (TLS) budget average percentage (%): \")\n",
    "print(\"HO₂+NO:     \"+str(np.round(dataset_land['pt1_prop'].mean()*100,1))+\" %\")\n",
    "print(\"CH₃O₂+NO:   \"+str(np.round(dataset_land['pt2_prop'].mean()*100,1))+\" %\")\n",
    "print(\"∑RO₂+NO:    \"+str(np.round(dataset_land['pt3_prop'].mean()*100,1))+\" %\")\n",
    "print(\"O[¹D]+H₂O:  \"+str(np.round(dataset_land['pt4_prop'].mean()*100,1))+\" %\")\n",
    "print(\"O₃+OH:      \"+str(np.round(dataset_land['pt5_prop'].mean()*100,1))+\" %\")\n",
    "print(\"O₃+HO₂:     \"+str(np.round(dataset_land['pt6_prop'].mean()*100,1))+\" %\")\n",
    "print(\"∑O₃+VOCs:   \"+str(np.round(dataset_land['pt7_prop'].mean()*100,1))+\" %\")"
   ]
  }
 ],
 "metadata": {
  "kernelspec": {
   "display_name": "Python 3 (ipykernel)",
   "language": "python",
   "name": "python3"
  },
  "language_info": {
   "codemirror_mode": {
    "name": "ipython",
    "version": 3
   },
   "file_extension": ".py",
   "mimetype": "text/x-python",
   "name": "python",
   "nbconvert_exporter": "python",
   "pygments_lexer": "ipython3",
   "version": "3.12.3"
  }
 },
 "nbformat": 4,
 "nbformat_minor": 5
}
