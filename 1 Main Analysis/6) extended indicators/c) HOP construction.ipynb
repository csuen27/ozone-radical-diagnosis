{
 "cells": [
  {
   "cell_type": "code",
   "execution_count": null,
   "id": "3612b025-5a28-4f34-aa3d-268adc726939",
   "metadata": {},
   "outputs": [],
   "source": [
    "import warnings\n",
    "warnings.filterwarnings(\"ignore\")\n",
    "\n",
    "import pandas as pd\n",
    "import numpy as np\n",
    "import matplotlib.pyplot as plt\n",
    "plt.rcParams['font.sans-serif']=['Arial']\n",
    "\n",
    "from sklearn.linear_model import LinearRegression\n",
    "from sklearn.metrics import r2_score\n",
    "import statsmodels.api as sm"
   ]
  },
  {
   "cell_type": "code",
   "execution_count": null,
   "id": "2b819e81-8990-41e5-907b-8e7bb0352773",
   "metadata": {},
   "outputs": [],
   "source": [
    "data = pd.read_csv('/Users/csuen/radicals/representative regions/UKESM1-0-LL_2010_2014_representative_regions.csv')"
   ]
  },
  {
   "cell_type": "markdown",
   "id": "9da2604d-bf12-4c45-95f9-cdc81f311ba1",
   "metadata": {},
   "source": [
    "#### Calculate dynamic regression "
   ]
  },
  {
   "cell_type": "code",
   "execution_count": 3,
   "id": "eda1586f-6147-48ab-911e-58dacd027fed",
   "metadata": {},
   "outputs": [],
   "source": [
    "d_ho2_oh_beta = data.groupby('region').apply(lambda g: sm.OLS(g['ho2_mole'], g[['oh_mole']]).fit().params)\n",
    "d_ho2_oh_ste = data.groupby('region').apply(lambda g: sm.OLS(g['ho2_mole'], g[['oh_mole']]).fit().HC0_se)\n",
    "\n",
    "o3_mean = data.groupby('region').mean()['o3']\n",
    "o3_std = data.groupby('region').std()['o3']\n",
    "o3_ct = data.groupby('region').count()['o3']\n",
    "o3_ste = o3_std/np.sqrt(o3_ct/5)"
   ]
  },
  {
   "cell_type": "code",
   "execution_count": 4,
   "id": "bdc4dbd0-6311-4e9b-8a2f-16e8c24efeee",
   "metadata": {},
   "outputs": [],
   "source": [
    "HOx = pd.DataFrame()\n",
    "HOx['beta'] = d_ho2_oh_beta\n",
    "HOx['beta_ste'] = d_ho2_oh_ste\n",
    "HOx['o3_ppb'] = o3_mean*10**9\n",
    "HOx['HOx'] = HOx['beta']/HOx['o3_ppb']\n",
    "HOx['HOx_ste'] = HOx['beta_ste']/HOx['o3_ppb']"
   ]
  },
  {
   "cell_type": "code",
   "execution_count": null,
   "id": "52f1bcc0-3dea-4a9e-845a-4f572fed824f",
   "metadata": {},
   "outputs": [],
   "source": [
    "HOx.to_csv('HOP.csv')"
   ]
  }
 ],
 "metadata": {
  "kernelspec": {
   "display_name": "Python 3 (ipykernel)",
   "language": "python",
   "name": "python3"
  },
  "language_info": {
   "codemirror_mode": {
    "name": "ipython",
    "version": 3
   },
   "file_extension": ".py",
   "mimetype": "text/x-python",
   "name": "python",
   "nbconvert_exporter": "python",
   "pygments_lexer": "ipython3",
   "version": "3.8.18"
  }
 },
 "nbformat": 4,
 "nbformat_minor": 5
}
