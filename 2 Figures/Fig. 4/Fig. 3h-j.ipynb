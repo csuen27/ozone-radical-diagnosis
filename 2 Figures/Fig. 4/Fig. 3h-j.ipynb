{
 "cells": [
  {
   "cell_type": "code",
   "execution_count": 1,
   "id": "bf1f2878-95f7-4c8c-825f-b389074deea4",
   "metadata": {},
   "outputs": [],
   "source": [
    "import warnings\n",
    "warnings.filterwarnings(\"ignore\")\n",
    "\n",
    "import pandas as pd\n",
    "import numpy as np\n",
    "import matplotlib.pyplot as plt\n",
    "plt.rcParams['font.sans-serif']=['Arial']"
   ]
  },
  {
   "cell_type": "code",
   "execution_count": null,
   "id": "cb8a514f-ceab-465d-8f9c-36e838f36dd2",
   "metadata": {},
   "outputs": [],
   "source": [
    "sens_diag = pd.read_csv('/Users/csuen/Documents/GitHub/ozone-radical/Main Analysis/extended indicators/unadjusted ozone regime(ver20240119).csv')"
   ]
  },
  {
   "cell_type": "code",
   "execution_count": 15,
   "id": "175dfceb-a686-4b24-8d68-e70335bb7447",
   "metadata": {},
   "outputs": [
    {
     "data": {
      "text/plain": [
       "['region',\n",
       " 'LER',\n",
       " 'LER_NOx',\n",
       " 'LER_NOx2',\n",
       " 'FNR_NO2',\n",
       " 'FNR_NOx',\n",
       " 'FNR_NOy',\n",
       " 'VOC_NOx',\n",
       " 'O3_NOy',\n",
       " 'O3_HNO3',\n",
       " 'HOP',\n",
       " 'Region',\n",
       " 'Sn',\n",
       " 'Sn_err',\n",
       " 'Sv',\n",
       " 'Sv_err',\n",
       " 'SnSv',\n",
       " 'R2',\n",
       " 'ln_LER',\n",
       " 'ln_LER_NOx',\n",
       " 'ln_LER_NOx2',\n",
       " 'ln_FNR_NO2',\n",
       " 'ln_FNR_NOx',\n",
       " 'ln_FNR_NOy',\n",
       " 'ln_VOC_NOx',\n",
       " 'ln_HOP',\n",
       " 'SnSv_adj',\n",
       " 'ln_LER_NOx_adj',\n",
       " 'LER_NOx_adj',\n",
       " 'ln_LER_NOx2_adj',\n",
       " 'LER_NOx2_adj',\n",
       " 'ln_HOP_adj',\n",
       " 'HOP_adj',\n",
       " 'k_regime',\n",
       " 'Sn_adj',\n",
       " 'Sv_adj']"
      ]
     },
     "execution_count": 15,
     "metadata": {},
     "output_type": "execute_result"
    }
   ],
   "source": [
    "list(sens_diag)"
   ]
  },
  {
   "cell_type": "code",
   "execution_count": 24,
   "id": "93a9265b-51ab-47b9-b817-fd1af15a8d9e",
   "metadata": {},
   "outputs": [
    {
     "data": {
      "text/plain": [
       "(-2.5, 3.5)"
      ]
     },
     "execution_count": 24,
     "metadata": {},
     "output_type": "execute_result"
    },
    {
     "data": {
      "image/png": "[encoded data removed]",
      "text/plain": [
       "<Figure size 300x300 with 1 Axes>"
      ]
     },
     "metadata": {},
     "output_type": "display_data"
    }
   ],
   "source": [
    "fig, ax = plt.subplots(figsize=(4, 4), dpi=75)\n",
    "x_values = sens_diag['ln_HOP_adj']\n",
    "y_values = sens_diag['SnSv_adj']\n",
    "x_errors = 0\n",
    "y_errors = 0\n",
    "\n",
    "plt.errorbar(x_values, y_values, xerr=x_errors, yerr=y_errors, \n",
    "             fmt=\"o\", ecolor=\"grey\", elinewidth=0.5, capsize=None, mfc='cornflowerblue', mec='black', ms=12, alpha=1, mew=0.75)\n",
    "\n",
    "plt.xlim([-4.5,1.5])\n",
    "plt.ylim([-2.5,3.5])\n",
    "#plt.yticks([-1,1,3,5], fontsize=12)\n",
    "#plt.xticks([0,2,4,6], fontsize=12)"
   ]
  },
  {
   "cell_type": "code",
   "execution_count": 25,
   "id": "cc432084-1dfb-4c45-8cce-02449de15da9",
   "metadata": {},
   "outputs": [
    {
     "data": {
      "text/plain": [
       "(-2.5, 3.5)"
      ]
     },
     "execution_count": 25,
     "metadata": {},
     "output_type": "execute_result"
    },
    {
     "data": {
      "image/png": "[encoded data removed]",
      "text/plain": [
       "<Figure size 300x300 with 1 Axes>"
      ]
     },
     "metadata": {},
     "output_type": "display_data"
    }
   ],
   "source": [
    "fig, ax = plt.subplots(figsize=(4, 4), dpi=75)\n",
    "x_values = sens_diag['ln_LER_NOx2_adj']\n",
    "y_values = sens_diag['SnSv_adj']\n",
    "x_errors = 0\n",
    "y_errors = 0\n",
    "\n",
    "plt.errorbar(x_values, y_values, xerr=x_errors, yerr=y_errors, \n",
    "             fmt=\"o\", ecolor=\"grey\", elinewidth=0.5, capsize=None, mfc='thistle', mec='black', ms=12, alpha=1, mew=0.75)\n",
    "\n",
    "plt.xlim([-6.5,2.5])\n",
    "plt.ylim([-2.5,3.5])\n",
    "#plt.yticks([-1,1,3,5], fontsize=12)\n",
    "#plt.xticks([0,2,4,6], fontsize=12)"
   ]
  },
  {
   "cell_type": "code",
   "execution_count": 27,
   "id": "0fe673d6-07ea-43c8-8f0d-d14c0276a82a",
   "metadata": {},
   "outputs": [
    {
     "data": {
      "text/plain": [
       "(-2.5, 3.5)"
      ]
     },
     "execution_count": 27,
     "metadata": {},
     "output_type": "execute_result"
    },
    {
     "data": {
      "image/png": "[encoded data removed]",
      "text/plain": [
       "<Figure size 300x300 with 1 Axes>"
      ]
     },
     "metadata": {},
     "output_type": "display_data"
    }
   ],
   "source": [
    "fig, ax = plt.subplots(figsize=(4, 4), dpi=75)\n",
    "x_values = sens_diag['ln_LER_NOx_adj']\n",
    "y_values = sens_diag['SnSv_adj']\n",
    "x_errors = 0\n",
    "y_errors = 0\n",
    "\n",
    "plt.errorbar(x_values, y_values, xerr=x_errors, yerr=y_errors, \n",
    "             fmt=\"o\", ecolor=\"grey\", elinewidth=0.5, capsize=None, mfc='plum', mec='black', ms=12, alpha=1, mew=0.75)\n",
    "\n",
    "plt.xlim([-15,-3])\n",
    "plt.ylim([-2.5,3.5])\n",
    "#plt.yticks([-1,1,3,5], fontsize=12)\n",
    "#plt.xticks([0,2,4,6], fontsize=12)"
   ]
  },
  {
   "cell_type": "code",
   "execution_count": null,
   "id": "043e0105-a3f5-4447-ad85-886f3f3590ec",
   "metadata": {},
   "outputs": [],
   "source": []
  }
 ],
 "metadata": {
  "kernelspec": {
   "display_name": "Python 3 (ipykernel)",
   "language": "python",
   "name": "python3"
  },
  "language_info": {
   "codemirror_mode": {
    "name": "ipython",
    "version": 3
   },
   "file_extension": ".py",
   "mimetype": "text/x-python",
   "name": "python",
   "nbconvert_exporter": "python",
   "pygments_lexer": "ipython3",
   "version": "3.8.18"
  }
 },
 "nbformat": 4,
 "nbformat_minor": 5
}
