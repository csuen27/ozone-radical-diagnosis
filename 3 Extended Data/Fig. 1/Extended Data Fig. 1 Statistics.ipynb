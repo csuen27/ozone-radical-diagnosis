{
 "cells": [
  {
   "cell_type": "code",
   "execution_count": 1,
   "id": "4d938d7d-e016-4456-bacc-ead7d4777b73",
   "metadata": {},
   "outputs": [],
   "source": [
    "import warnings\n",
    "warnings.filterwarnings(\"ignore\")\n",
    "\n",
    "import pandas as pd\n",
    "import numpy as np\n",
    "import matplotlib.pyplot as plt"
   ]
  },
  {
   "cell_type": "code",
   "execution_count": 2,
   "id": "ac308680-6263-4bab-bd4a-080f2effbdc3",
   "metadata": {},
   "outputs": [],
   "source": [
    "data = pd.read_csv(\"C:/Users/Haitong/OneDrive - National University of Singapore/Documents/Manuscripts/Sun-NG-25/Analysis(win11)/UKESM1-0-LL_2010_2014(ver250113).csv\")"
   ]
  },
  {
   "cell_type": "code",
   "execution_count": 3,
   "id": "7ed93716-05db-46a8-9448-4f4229066390",
   "metadata": {},
   "outputs": [],
   "source": [
    "land = pd.read_csv(\"C:/Users/Haitong/OneDrive - National University of Singapore/Documents/Manuscripts/Sun-NG-25/global_grid_2x2_label_continent.csv\")\n",
    "dataset_land = data.merge(land, how='left', left_on=['longitude','latitude'], right_on=['longitude','latitude'])\n",
    "dataset_land = dataset_land[dataset_land['land_global']==1]"
   ]
  },
  {
   "cell_type": "markdown",
   "id": "eb3159d2-adac-4e88-92fb-94baef43cecc",
   "metadata": {},
   "source": [
    "### Extended Data Fig. 1a"
   ]
  },
  {
   "cell_type": "code",
   "execution_count": 4,
   "id": "2129a80d-be77-46ab-9998-bf14c2870ee6",
   "metadata": {},
   "outputs": [
    {
     "name": "stdout",
     "output_type": "stream",
     "text": [
      "Mean: 29.7\n",
      "Std: 13.6\n",
      "Median: 27.8\n",
      "Q1: 20.2\n",
      "Q3: 38.8\n",
      "5th%ile: 9.0\n",
      "95th%ile: 54.1\n"
     ]
    }
   ],
   "source": [
    "print(\"Mean: \" + str(np.round(dataset_land['o3'].mean()*10**9,1)))\n",
    "print(\"Std: \" + str(np.round(dataset_land['o3'].std()*10**9,1)))\n",
    "print(\"Median: \" + str(np.round(dataset_land['o3'].median()*10**9,1)))\n",
    "print(\"Q1: \" + str(np.round(np.nanpercentile(dataset_land['o3'],25)*10**9,1)))\n",
    "print(\"Q3: \" + str(np.round(np.nanpercentile(dataset_land['o3'],75)*10**9,1)))\n",
    "print(\"5th%ile: \" + str(np.round(np.nanpercentile(dataset_land['o3'],5)*10**9,1)))\n",
    "print(\"95th%ile: \" + str(np.round(np.nanpercentile(dataset_land['o3'],95)*10**9,1)))"
   ]
  },
  {
   "cell_type": "code",
   "execution_count": 5,
   "id": "408412a9-ffe7-4dda-afa2-220ec05f3680",
   "metadata": {},
   "outputs": [],
   "source": [
    "dataset_land['month'] = dataset_land['t']%12\n",
    "dataset_land_JJA = dataset_land[dataset_land['month']>5][dataset_land['month']<9]\n",
    "dataset_land_DJF = dataset_land[dataset_land['month']<3]"
   ]
  },
  {
   "cell_type": "markdown",
   "id": "61b939bf-eb2d-4681-a53e-20c6dbf9642a",
   "metadata": {},
   "source": [
    "### Extended Data Fig. 1e"
   ]
  },
  {
   "cell_type": "code",
   "execution_count": 6,
   "id": "083e66c0-fe6b-442e-a88d-dd4ea2e39810",
   "metadata": {},
   "outputs": [
    {
     "name": "stdout",
     "output_type": "stream",
     "text": [
      "Mean: 36.7\n",
      "Std: 13.2\n",
      "Median: 33.1\n",
      "Q1: 25.9\n",
      "Q3: 46.8\n",
      "5th%ile: 20.8\n",
      "95th%ile: 61.0\n"
     ]
    }
   ],
   "source": [
    "print(\"Mean: \" + str(np.round(dataset_land_JJA['o3'].mean()*10**9,1)))\n",
    "print(\"Std: \" + str(np.round(dataset_land_JJA['o3'].std()*10**9,1)))\n",
    "print(\"Median: \" + str(np.round(dataset_land_JJA['o3'].median()*10**9,1)))\n",
    "print(\"Q1: \" + str(np.round(np.nanpercentile(dataset_land_JJA['o3'],25)*10**9,1)))\n",
    "print(\"Q3: \" + str(np.round(np.nanpercentile(dataset_land_JJA['o3'],75)*10**9,1)))\n",
    "print(\"5th%ile: \" + str(np.round(np.nanpercentile(dataset_land_JJA['o3'],5)*10**9,1)))\n",
    "print(\"95th%ile: \" + str(np.round(np.nanpercentile(dataset_land_JJA['o3'],95)*10**9,1)))"
   ]
  },
  {
   "cell_type": "markdown",
   "id": "ae92875f-f0cc-4e57-a91e-413273f79cdc",
   "metadata": {},
   "source": [
    "### Extended Data Fig. 1g"
   ]
  },
  {
   "cell_type": "code",
   "execution_count": 7,
   "id": "2d30c0e1-a061-4285-9d13-6d63615206d5",
   "metadata": {},
   "outputs": [
    {
     "name": "stdout",
     "output_type": "stream",
     "text": [
      "Mean: 21.3\n",
      "Std: 12.2\n",
      "Median: 19.3\n",
      "Q1: 10.7\n",
      "Q3: 30.3\n",
      "5th%ile: 5.7\n",
      "95th%ile: 42.8\n"
     ]
    }
   ],
   "source": [
    "print(\"Mean: \" + str(np.round(dataset_land_DJF['o3'].mean()*10**9,1)))\n",
    "print(\"Std: \" + str(np.round(dataset_land_DJF['o3'].std()*10**9,1)))\n",
    "print(\"Median: \" + str(np.round(dataset_land_DJF['o3'].median()*10**9,1)))\n",
    "print(\"Q1: \" + str(np.round(np.nanpercentile(dataset_land_DJF['o3'],25)*10**9,1)))\n",
    "print(\"Q3: \" + str(np.round(np.nanpercentile(dataset_land_DJF['o3'],75)*10**9,1)))\n",
    "print(\"5th%ile: \" + str(np.round(np.nanpercentile(dataset_land_DJF['o3'],5)*10**9,1)))\n",
    "print(\"95th%ile: \" + str(np.round(np.nanpercentile(dataset_land_DJF['o3'],95)*10**9,1)))"
   ]
  },
  {
   "cell_type": "code",
   "execution_count": 8,
   "id": "90f67e40-8760-4ae0-a481-6b79f889d7dc",
   "metadata": {},
   "outputs": [
    {
     "data": {
      "text/html": [
       "<div>\n",
       "<style scoped>\n",
       "    .dataframe tbody tr th:only-of-type {\n",
       "        vertical-align: middle;\n",
       "    }\n",
       "\n",
       "    .dataframe tbody tr th {\n",
       "        vertical-align: top;\n",
       "    }\n",
       "\n",
       "    .dataframe thead th {\n",
       "        text-align: right;\n",
       "    }\n",
       "</style>\n",
       "<table border=\"1\" class=\"dataframe\">\n",
       "  <thead>\n",
       "    <tr style=\"text-align: right;\">\n",
       "      <th></th>\n",
       "      <th>longitude</th>\n",
       "      <th>latitude</th>\n",
       "      <th>corr</th>\n",
       "      <th>bias</th>\n",
       "      <th>nmb</th>\n",
       "      <th>obs_mean</th>\n",
       "      <th>obs_std</th>\n",
       "      <th>mod_mean</th>\n",
       "      <th>mod_std</th>\n",
       "      <th>bias2</th>\n",
       "      <th>variance</th>\n",
       "      <th>noise2</th>\n",
       "      <th>dev</th>\n",
       "      <th>noise</th>\n",
       "    </tr>\n",
       "  </thead>\n",
       "  <tbody>\n",
       "    <tr>\n",
       "      <th>0</th>\n",
       "      <td>-171.0</td>\n",
       "      <td>-15.0</td>\n",
       "      <td>0.894412</td>\n",
       "      <td>7.570</td>\n",
       "      <td>0.610345</td>\n",
       "      <td>13.117623</td>\n",
       "      <td>3.537783</td>\n",
       "      <td>20.938075</td>\n",
       "      <td>5.004750</td>\n",
       "      <td>57.304900</td>\n",
       "      <td>3.387500</td>\n",
       "      <td>2.503531</td>\n",
       "      <td>1.840516</td>\n",
       "      <td>1.582255</td>\n",
       "    </tr>\n",
       "    <tr>\n",
       "      <th>1</th>\n",
       "      <td>-159.0</td>\n",
       "      <td>21.0</td>\n",
       "      <td>0.801279</td>\n",
       "      <td>5.470</td>\n",
       "      <td>0.191788</td>\n",
       "      <td>26.177353</td>\n",
       "      <td>4.113360</td>\n",
       "      <td>31.169118</td>\n",
       "      <td>4.561905</td>\n",
       "      <td>29.920900</td>\n",
       "      <td>1.602646</td>\n",
       "      <td>6.056453</td>\n",
       "      <td>1.265957</td>\n",
       "      <td>2.460986</td>\n",
       "    </tr>\n",
       "    <tr>\n",
       "      <th>2</th>\n",
       "      <td>-157.0</td>\n",
       "      <td>21.0</td>\n",
       "      <td>0.774770</td>\n",
       "      <td>4.990</td>\n",
       "      <td>0.194274</td>\n",
       "      <td>25.488385</td>\n",
       "      <td>4.198515</td>\n",
       "      <td>30.882955</td>\n",
       "      <td>5.412230</td>\n",
       "      <td>24.900100</td>\n",
       "      <td>4.662777</td>\n",
       "      <td>7.046283</td>\n",
       "      <td>2.159347</td>\n",
       "      <td>2.654483</td>\n",
       "    </tr>\n",
       "    <tr>\n",
       "      <th>3</th>\n",
       "      <td>-157.0</td>\n",
       "      <td>71.0</td>\n",
       "      <td>0.584156</td>\n",
       "      <td>-10.890</td>\n",
       "      <td>-0.399470</td>\n",
       "      <td>23.799762</td>\n",
       "      <td>5.463113</td>\n",
       "      <td>17.235136</td>\n",
       "      <td>8.640885</td>\n",
       "      <td>118.592100</td>\n",
       "      <td>29.697844</td>\n",
       "      <td>19.661136</td>\n",
       "      <td>5.449573</td>\n",
       "      <td>4.434088</td>\n",
       "    </tr>\n",
       "    <tr>\n",
       "      <th>4</th>\n",
       "      <td>-155.0</td>\n",
       "      <td>19.0</td>\n",
       "      <td>0.678349</td>\n",
       "      <td>5.665</td>\n",
       "      <td>0.264997</td>\n",
       "      <td>23.394808</td>\n",
       "      <td>4.027479</td>\n",
       "      <td>29.137981</td>\n",
       "      <td>5.384449</td>\n",
       "      <td>32.092225</td>\n",
       "      <td>7.035285</td>\n",
       "      <td>8.756557</td>\n",
       "      <td>2.652411</td>\n",
       "      <td>2.959148</td>\n",
       "    </tr>\n",
       "    <tr>\n",
       "      <th>...</th>\n",
       "      <td>...</td>\n",
       "      <td>...</td>\n",
       "      <td>...</td>\n",
       "      <td>...</td>\n",
       "      <td>...</td>\n",
       "      <td>...</td>\n",
       "      <td>...</td>\n",
       "      <td>...</td>\n",
       "      <td>...</td>\n",
       "      <td>...</td>\n",
       "      <td>...</td>\n",
       "      <td>...</td>\n",
       "      <td>...</td>\n",
       "      <td>...</td>\n",
       "    </tr>\n",
       "    <tr>\n",
       "      <th>664</th>\n",
       "      <td>153.0</td>\n",
       "      <td>25.0</td>\n",
       "      <td>0.883260</td>\n",
       "      <td>3.820</td>\n",
       "      <td>0.164744</td>\n",
       "      <td>24.674249</td>\n",
       "      <td>7.534844</td>\n",
       "      <td>29.036867</td>\n",
       "      <td>8.083878</td>\n",
       "      <td>14.592400</td>\n",
       "      <td>2.041055</td>\n",
       "      <td>12.481878</td>\n",
       "      <td>1.428655</td>\n",
       "      <td>3.532970</td>\n",
       "    </tr>\n",
       "    <tr>\n",
       "      <th>665</th>\n",
       "      <td>167.0</td>\n",
       "      <td>-77.0</td>\n",
       "      <td>0.604097</td>\n",
       "      <td>-1.265</td>\n",
       "      <td>-0.068263</td>\n",
       "      <td>17.260354</td>\n",
       "      <td>3.343192</td>\n",
       "      <td>16.056681</td>\n",
       "      <td>1.722210</td>\n",
       "      <td>1.600225</td>\n",
       "      <td>0.088449</td>\n",
       "      <td>7.098092</td>\n",
       "      <td>-0.297404</td>\n",
       "      <td>2.664224</td>\n",
       "    </tr>\n",
       "    <tr>\n",
       "      <th>666</th>\n",
       "      <td>169.0</td>\n",
       "      <td>-45.0</td>\n",
       "      <td>0.653151</td>\n",
       "      <td>0.990</td>\n",
       "      <td>0.055212</td>\n",
       "      <td>17.060990</td>\n",
       "      <td>3.287132</td>\n",
       "      <td>17.594257</td>\n",
       "      <td>1.785214</td>\n",
       "      <td>0.980100</td>\n",
       "      <td>0.130884</td>\n",
       "      <td>6.195656</td>\n",
       "      <td>-0.361780</td>\n",
       "      <td>2.489107</td>\n",
       "    </tr>\n",
       "    <tr>\n",
       "      <th>667</th>\n",
       "      <td>175.0</td>\n",
       "      <td>-41.0</td>\n",
       "      <td>0.902158</td>\n",
       "      <td>5.530</td>\n",
       "      <td>0.316269</td>\n",
       "      <td>17.619224</td>\n",
       "      <td>3.017169</td>\n",
       "      <td>23.171644</td>\n",
       "      <td>2.901428</td>\n",
       "      <td>30.580900</td>\n",
       "      <td>0.032208</td>\n",
       "      <td>1.694227</td>\n",
       "      <td>0.179465</td>\n",
       "      <td>1.301625</td>\n",
       "    </tr>\n",
       "    <tr>\n",
       "      <th>668</th>\n",
       "      <td>175.0</td>\n",
       "      <td>-37.0</td>\n",
       "      <td>0.885003</td>\n",
       "      <td>7.640</td>\n",
       "      <td>0.421634</td>\n",
       "      <td>18.241529</td>\n",
       "      <td>2.989957</td>\n",
       "      <td>26.028280</td>\n",
       "      <td>3.114625</td>\n",
       "      <td>58.369600</td>\n",
       "      <td>0.219495</td>\n",
       "      <td>1.937880</td>\n",
       "      <td>0.468503</td>\n",
       "      <td>1.392078</td>\n",
       "    </tr>\n",
       "  </tbody>\n",
       "</table>\n",
       "<p>669 rows × 14 columns</p>\n",
       "</div>"
      ],
      "text/plain": [
       "     longitude  latitude      corr    bias       nmb   obs_mean   obs_std  \\\n",
       "0       -171.0     -15.0  0.894412   7.570  0.610345  13.117623  3.537783   \n",
       "1       -159.0      21.0  0.801279   5.470  0.191788  26.177353  4.113360   \n",
       "2       -157.0      21.0  0.774770   4.990  0.194274  25.488385  4.198515   \n",
       "3       -157.0      71.0  0.584156 -10.890 -0.399470  23.799762  5.463113   \n",
       "4       -155.0      19.0  0.678349   5.665  0.264997  23.394808  4.027479   \n",
       "..         ...       ...       ...     ...       ...        ...       ...   \n",
       "664      153.0      25.0  0.883260   3.820  0.164744  24.674249  7.534844   \n",
       "665      167.0     -77.0  0.604097  -1.265 -0.068263  17.260354  3.343192   \n",
       "666      169.0     -45.0  0.653151   0.990  0.055212  17.060990  3.287132   \n",
       "667      175.0     -41.0  0.902158   5.530  0.316269  17.619224  3.017169   \n",
       "668      175.0     -37.0  0.885003   7.640  0.421634  18.241529  2.989957   \n",
       "\n",
       "      mod_mean   mod_std       bias2   variance     noise2       dev     noise  \n",
       "0    20.938075  5.004750   57.304900   3.387500   2.503531  1.840516  1.582255  \n",
       "1    31.169118  4.561905   29.920900   1.602646   6.056453  1.265957  2.460986  \n",
       "2    30.882955  5.412230   24.900100   4.662777   7.046283  2.159347  2.654483  \n",
       "3    17.235136  8.640885  118.592100  29.697844  19.661136  5.449573  4.434088  \n",
       "4    29.137981  5.384449   32.092225   7.035285   8.756557  2.652411  2.959148  \n",
       "..         ...       ...         ...        ...        ...       ...       ...  \n",
       "664  29.036867  8.083878   14.592400   2.041055  12.481878  1.428655  3.532970  \n",
       "665  16.056681  1.722210    1.600225   0.088449   7.098092 -0.297404  2.664224  \n",
       "666  17.594257  1.785214    0.980100   0.130884   6.195656 -0.361780  2.489107  \n",
       "667  23.171644  2.901428   30.580900   0.032208   1.694227  0.179465  1.301625  \n",
       "668  26.028280  3.114625   58.369600   0.219495   1.937880  0.468503  1.392078  \n",
       "\n",
       "[669 rows x 14 columns]"
      ]
     },
     "execution_count": 8,
     "metadata": {},
     "output_type": "execute_result"
    }
   ],
   "source": [
    "eva = pd.read_csv('Extended Data Fig. 1 UKESM1-0-LL-TOAR-evaluation (v250310).csv')\n",
    "eva"
   ]
  },
  {
   "cell_type": "markdown",
   "id": "8a57a488-9915-4738-8d3c-e168e15a3d29",
   "metadata": {},
   "source": [
    "### Extended Data Fig. 1b"
   ]
  },
  {
   "cell_type": "code",
   "execution_count": 9,
   "id": "e4753ed8-24c6-40a7-aa00-9fdbdacd8484",
   "metadata": {},
   "outputs": [
    {
     "name": "stdout",
     "output_type": "stream",
     "text": [
      "Mean: 28.2\n",
      "Std: 4.8\n",
      "Median: 28.0\n",
      "Q1: 25.4\n",
      "Q3: 31.2\n",
      "5th%ile: 19.5\n",
      "95th%ile: 36.3\n"
     ]
    }
   ],
   "source": [
    "print(\"Mean: \" + str(np.round(eva['obs_mean'].mean(),1)))\n",
    "print(\"Std: \" + str(np.round(eva['obs_mean'].std(),1)))\n",
    "print(\"Median: \" + str(np.round(eva['obs_mean'].median(),1)))\n",
    "print(\"Q1: \" + str(np.round(np.nanpercentile(eva['obs_mean'],25),1)))\n",
    "print(\"Q3: \" + str(np.round(np.nanpercentile(eva['obs_mean'],75),1)))\n",
    "print(\"5th%ile: \" + str(np.round(np.nanpercentile(eva['obs_mean'],5),1)))\n",
    "print(\"95th%ile: \" + str(np.round(np.nanpercentile(eva['obs_mean'],95),1)))"
   ]
  },
  {
   "cell_type": "markdown",
   "id": "b961537c-5ea0-4fa7-adde-ff5992b97375",
   "metadata": {},
   "source": [
    "### Extended Data Fig. 1c"
   ]
  },
  {
   "cell_type": "code",
   "execution_count": 10,
   "id": "95a358b6-925f-4ed8-9e29-447263e1589a",
   "metadata": {},
   "outputs": [
    {
     "name": "stdout",
     "output_type": "stream",
     "text": [
      "Mean: 0.72\n",
      "Std: 0.28\n",
      "Median: 0.86\n",
      "Q1: 0.55\n",
      "Q3: 0.93\n",
      "5th%ile: 0.13\n",
      "95th%ile: 1.0\n"
     ]
    }
   ],
   "source": [
    "print(\"Mean: \" + str(np.round(eva['corr'].mean(),2)))\n",
    "print(\"Std: \" + str(np.round(eva['corr'].std(),2)))\n",
    "print(\"Median: \" + str(np.round(eva['corr'].median(),2)))\n",
    "print(\"Q1: \" + str(np.round(np.nanpercentile(eva['corr'],25),2)))\n",
    "print(\"Q3: \" + str(np.round(np.nanpercentile(eva['corr'],75),2)))\n",
    "print(\"5th%ile: \" + str(np.round(np.nanpercentile(eva['corr'],5),2)))\n",
    "print(\"95th%ile: \" + str(np.round(np.nanpercentile(eva['corr'],95),2)))"
   ]
  },
  {
   "cell_type": "markdown",
   "id": "8cb64288-31fa-4c3c-aa2e-2d6b56f45bee",
   "metadata": {},
   "source": [
    "### Extended Data Fig. 1d"
   ]
  },
  {
   "cell_type": "code",
   "execution_count": 11,
   "id": "5d0ea0be-a9db-44f3-b9f6-20998784ebc8",
   "metadata": {},
   "outputs": [
    {
     "name": "stdout",
     "output_type": "stream",
     "text": [
      "Mean: 0.5\n",
      "Std: 5.4\n",
      "Median: 0.4\n",
      "Q1: -3.3\n",
      "Q3: 4.4\n",
      "5th%ile: -8.1\n",
      "95th%ile: 9.5\n"
     ]
    }
   ],
   "source": [
    "print(\"Mean: \" + str(np.round(eva['bias'].mean(),1)))\n",
    "print(\"Std: \" + str(np.round(eva['bias'].std(),1)))\n",
    "print(\"Median: \" + str(np.round(eva['bias'].median(),1)))\n",
    "print(\"Q1: \" + str(np.round(np.nanpercentile(eva['bias'],25),1)))\n",
    "print(\"Q3: \" + str(np.round(np.nanpercentile(eva['bias'],75),1)))\n",
    "print(\"5th%ile: \" + str(np.round(np.nanpercentile(eva['bias'],5),1)))\n",
    "print(\"95th%ile: \" + str(np.round(np.nanpercentile(eva['bias'],95),1)))"
   ]
  },
  {
   "cell_type": "code",
   "execution_count": 12,
   "id": "89d42627-159f-448c-890a-74f05014d3c1",
   "metadata": {},
   "outputs": [],
   "source": [
    "JJA = pd.read_csv('Extended Data Fig. 1 ozone-obs-JJA.csv')\n",
    "DJF = pd.read_csv('Extended Data Fig. 1 ozone-obs-DJF.csv')"
   ]
  },
  {
   "cell_type": "markdown",
   "id": "bde7c298-ffba-4e7e-9dc8-e7183cffef03",
   "metadata": {},
   "source": [
    "### Extended Data Fig. 1f"
   ]
  },
  {
   "cell_type": "code",
   "execution_count": 13,
   "id": "d99c70e9-05b6-4f3a-982c-1afbe7ea3825",
   "metadata": {},
   "outputs": [
    {
     "name": "stdout",
     "output_type": "stream",
     "text": [
      "Mean: 30.2\n",
      "Std: 6.1\n",
      "Median: 30.1\n",
      "Q1: 26.1\n",
      "Q3: 34.2\n",
      "5th%ile: 20.0\n",
      "95th%ile: 40.8\n"
     ]
    }
   ],
   "source": [
    "print(\"Mean: \" + str(np.round(JJA['obs'].mean(),1)))\n",
    "print(\"Std: \" + str(np.round(JJA['obs'].std(),1)))\n",
    "print(\"Median: \" + str(np.round(JJA['obs'].median(),1)))\n",
    "print(\"Q1: \" + str(np.round(np.nanpercentile(JJA['obs'],25),1)))\n",
    "print(\"Q3: \" + str(np.round(np.nanpercentile(JJA['obs'],75),1)))\n",
    "print(\"5th%ile: \" + str(np.round(np.nanpercentile(JJA['obs'],5),1)))\n",
    "print(\"95th%ile: \" + str(np.round(np.nanpercentile(JJA['obs'],95),1)))"
   ]
  },
  {
   "cell_type": "markdown",
   "id": "2a48925a-72ee-4b73-b926-7ce1470c94fc",
   "metadata": {},
   "source": [
    "### Extended Data Fig. 1h"
   ]
  },
  {
   "cell_type": "code",
   "execution_count": 14,
   "id": "ea13a8b8-aa2f-45c5-b6ac-3b5912f73090",
   "metadata": {},
   "outputs": [
    {
     "name": "stdout",
     "output_type": "stream",
     "text": [
      "Mean: 24.5\n",
      "Std: 5.3\n",
      "Median: 25.2\n",
      "Q1: 20.5\n",
      "Q3: 28.8\n",
      "5th%ile: 16.1\n",
      "95th%ile: 32.2\n"
     ]
    }
   ],
   "source": [
    "print(\"Mean: \" + str(np.round(DJF['obs'].mean(),1)))\n",
    "print(\"Std: \" + str(np.round(DJF['obs'].std(),1)))\n",
    "print(\"Median: \" + str(np.round(DJF['obs'].median(),1)))\n",
    "print(\"Q1: \" + str(np.round(np.nanpercentile(DJF['obs'],25),1)))\n",
    "print(\"Q3: \" + str(np.round(np.nanpercentile(DJF['obs'],75),1)))\n",
    "print(\"5th%ile: \" + str(np.round(np.nanpercentile(DJF['obs'],5),1)))\n",
    "print(\"95th%ile: \" + str(np.round(np.nanpercentile(DJF['obs'],95),1)))"
   ]
  }
 ],
 "metadata": {
  "kernelspec": {
   "display_name": "Python 3 (ipykernel)",
   "language": "python",
   "name": "python3"
  },
  "language_info": {
   "codemirror_mode": {
    "name": "ipython",
    "version": 3
   },
   "file_extension": ".py",
   "mimetype": "text/x-python",
   "name": "python",
   "nbconvert_exporter": "python",
   "pygments_lexer": "ipython3",
   "version": "3.12.3"
  }
 },
 "nbformat": 4,
 "nbformat_minor": 5
}
